{
 "cells": [
  {
   "cell_type": "code",
   "execution_count": 1,
   "metadata": {},
   "outputs": [],
   "source": [
    "import warnings\n",
    "warnings.filterwarnings(\"ignore\")"
   ]
  },
  {
   "cell_type": "code",
   "execution_count": 2,
   "metadata": {},
   "outputs": [],
   "source": [
    "# import packages\n",
    "import os\n",
    "import shutil\n",
    "\n",
    "from tensorflow.keras.models import Sequential\n",
    "from tensorflow.keras.layers import Dense, Conv2D, MaxPooling2D, Flatten\n",
    "from tensorflow.keras.preprocessing.image import ImageDataGenerator\n",
    "\n",
    "from matplotlib import pyplot as plt\n",
    "from random import shuffle"
   ]
  },
  {
   "cell_type": "markdown",
   "metadata": {},
   "source": [
    "Separate cats and dogs images in separate folders"
   ]
  },
  {
   "cell_type": "code",
   "execution_count": 3,
   "metadata": {},
   "outputs": [],
   "source": [
    "# Separate cats and dogs images in separate folders\n",
    "\n",
    "\n",
    "src = \"F:\\\\rohan\\\\appliedaicourse\\\\Github\\\\Kaggle_cats_vs_dogs\\\\data\\\\train\\\\\"\n",
    "dst_cat = \"F:\\\\rohan\\\\appliedaicourse\\\\Github\\\\Kaggle_cats_vs_dogs\\\\data\\\\train\\\\cat\\\\\"\n",
    "dst_dog = \"F:\\\\rohan\\\\appliedaicourse\\\\Github\\\\Kaggle_cats_vs_dogs\\\\data\\\\train\\\\dog\\\\\"\n"
   ]
  },
  {
   "cell_type": "code",
   "execution_count": 4,
   "metadata": {},
   "outputs": [
    {
     "data": {
      "text/plain": [
       "'\\ndef move_files(src, dst, category):\\n    files = [f for f in os.listdir(src) if f.startswith(category) and os.path.isfile(os.path.join(src,f))]\\n    for f in files:\\n        shutil.move(os.path.join(src,f), dst)\\n\\nmove_files(src=src, dst=dst_dog, category=\"dog\")\\nmove_files(src=src, dst=dst_cat, category=\"cat\")\\n\\n'"
      ]
     },
     "execution_count": 4,
     "metadata": {},
     "output_type": "execute_result"
    }
   ],
   "source": [
    "'''\n",
    "def move_files(src, dst, category):\n",
    "    files = [f for f in os.listdir(src) if f.startswith(category) and os.path.isfile(os.path.join(src,f))]\n",
    "    for f in files:\n",
    "        shutil.move(os.path.join(src,f), dst)\n",
    "\n",
    "move_files(src=src, dst=dst_dog, category=\"dog\")\n",
    "move_files(src=src, dst=dst_cat, category=\"cat\")\n",
    "\n",
    "'''"
   ]
  },
  {
   "cell_type": "code",
   "execution_count": 5,
   "metadata": {},
   "outputs": [
    {
     "data": {
      "text/plain": [
       "'\\n\\n# split files\\ndef split_files(src, dst, val_split):\\n    files = [f for f in os.listdir(src) if os.path.isfile(os.path.join(src,f))]\\n    shuffle(files)\\n    val_count = val_split * len(files)\\n    for f in files:\\n        shutil.move(os.path.join(src,f), dst)\\n        val_count-=1\\n        if val_count <= 0:\\n            break\\n            \\n'"
      ]
     },
     "execution_count": 5,
     "metadata": {},
     "output_type": "execute_result"
    }
   ],
   "source": [
    "'''\n",
    "\n",
    "# split files\n",
    "def split_files(src, dst, val_split):\n",
    "    files = [f for f in os.listdir(src) if os.path.isfile(os.path.join(src,f))]\n",
    "    shuffle(files)\n",
    "    val_count = val_split * len(files)\n",
    "    for f in files:\n",
    "        shutil.move(os.path.join(src,f), dst)\n",
    "        val_count-=1\n",
    "        if val_count <= 0:\n",
    "            break\n",
    "            \n",
    "'''"
   ]
  },
  {
   "cell_type": "code",
   "execution_count": 6,
   "metadata": {},
   "outputs": [
    {
     "data": {
      "text/plain": [
       "'\\nsplit_files(src=\"F:\\\\rohan\\\\appliedaicourse\\\\Github\\\\Kaggle_cats_vs_dogs\\\\data\\\\train\\\\cat\\\\\", \\n            dst=\"F:\\\\rohan\\\\appliedaicourse\\\\Github\\\\Kaggle_cats_vs_dogs\\\\data\\\\validate\\\\cat\\\\\", \\n            val_split=0.2)\\n\\nsplit_files(src=\"F:\\\\rohan\\\\appliedaicourse\\\\Github\\\\Kaggle_cats_vs_dogs\\\\data\\\\train\\\\dog\\\\\", \\n            dst=\"F:\\\\rohan\\\\appliedaicourse\\\\Github\\\\Kaggle_cats_vs_dogs\\\\data\\\\validate\\\\dog\\\\\", \\n            val_split=0.2)\\n'"
      ]
     },
     "execution_count": 6,
     "metadata": {},
     "output_type": "execute_result"
    }
   ],
   "source": [
    "'''\n",
    "split_files(src=\"F:\\\\rohan\\\\appliedaicourse\\\\Github\\\\Kaggle_cats_vs_dogs\\\\data\\\\train\\\\cat\\\\\", \n",
    "            dst=\"F:\\\\rohan\\\\appliedaicourse\\\\Github\\\\Kaggle_cats_vs_dogs\\\\data\\\\validate\\\\cat\\\\\", \n",
    "            val_split=0.2)\n",
    "\n",
    "split_files(src=\"F:\\\\rohan\\\\appliedaicourse\\\\Github\\\\Kaggle_cats_vs_dogs\\\\data\\\\train\\\\dog\\\\\", \n",
    "            dst=\"F:\\\\rohan\\\\appliedaicourse\\\\Github\\\\Kaggle_cats_vs_dogs\\\\data\\\\validate\\\\dog\\\\\", \n",
    "            val_split=0.2)\n",
    "'''"
   ]
  },
  {
   "cell_type": "code",
   "execution_count": 7,
   "metadata": {},
   "outputs": [
    {
     "name": "stdout",
     "output_type": "stream",
     "text": [
      "WARNING:tensorflow:From F:\\rohan\\anaconda\\envs\\rohan_env\\lib\\site-packages\\tensorflow\\python\\ops\\init_ops.py:1251: calling VarianceScaling.__init__ (from tensorflow.python.ops.init_ops) with dtype is deprecated and will be removed in a future version.\n",
      "Instructions for updating:\n",
      "Call initializer instance with the dtype argument instead of passing it to the constructor\n"
     ]
    }
   ],
   "source": [
    "# prepare the model\n",
    "\n",
    "model1 = Sequential([\n",
    "    Conv2D(16, (3,3), activation=\"relu\", input_shape=(150, 150, 3)),\n",
    "    MaxPooling2D(2, 2),\n",
    "    Conv2D(32, (3,3), activation='relu'),\n",
    "    MaxPooling2D(2,2),\n",
    "    Conv2D(64, (3,3), activation='relu'),\n",
    "    MaxPooling2D(2,2),\n",
    "    Conv2D(64, (3,3), activation='relu'),\n",
    "    MaxPooling2D(2,2),\n",
    "    Conv2D(64, (3,3), activation='relu'),\n",
    "    MaxPooling2D(2,2),\n",
    "#     Conv2D(128, (3,3), activation='relu'),\n",
    "#     MaxPooling2D(2,2),\n",
    "    Flatten(),\n",
    "    Dense(256, activation='relu'),\n",
    "    Dense(1, activation='sigmoid')\n",
    "]\n",
    ")"
   ]
  },
  {
   "cell_type": "code",
   "execution_count": 8,
   "metadata": {},
   "outputs": [
    {
     "name": "stdout",
     "output_type": "stream",
     "text": [
      "WARNING:tensorflow:From F:\\rohan\\anaconda\\envs\\rohan_env\\lib\\site-packages\\tensorflow\\python\\ops\\nn_impl.py:180: add_dispatch_support.<locals>.wrapper (from tensorflow.python.ops.array_ops) is deprecated and will be removed in a future version.\n",
      "Instructions for updating:\n",
      "Use tf.where in 2.0, which has the same broadcast rule as np.where\n"
     ]
    }
   ],
   "source": [
    "model1.compile(loss='binary_crossentropy',\n",
    "             optimizer='adam',\n",
    "             metrics=['accuracy'])"
   ]
  },
  {
   "cell_type": "code",
   "execution_count": 9,
   "metadata": {},
   "outputs": [
    {
     "name": "stdout",
     "output_type": "stream",
     "text": [
      "Found 20000 images belonging to 2 classes.\n",
      "Found 5000 images belonging to 2 classes.\n"
     ]
    }
   ],
   "source": [
    "train_dir = \"F:\\\\rohan\\\\appliedaicourse\\\\Github\\\\Kaggle_cats_vs_dogs\\\\data\\\\train\\\\\"\n",
    "val_dir = \"F:\\\\rohan\\\\appliedaicourse\\\\Github\\\\Kaggle_cats_vs_dogs\\\\data\\\\validate\\\\\"\n",
    "\n",
    "train_datagen = ImageDataGenerator(\n",
    "    rescale=1.0/255.0,\n",
    "    rotation_range=40,\n",
    "    width_shift_range=0.2,\n",
    "    height_shift_range=0.2,\n",
    "    shear_range=0.2,\n",
    "    zoom_range=0.2,\n",
    "    horizontal_flip=True,\n",
    "    fill_mode='nearest'\n",
    ")\n",
    "\n",
    "validate_datagen = ImageDataGenerator(\n",
    "    rescale=1.0/255.0,\n",
    ")\n",
    "\n",
    "# housing.com, nobroker, flat and flatmates-facebook\n",
    "train_generator = train_datagen.flow_from_directory(\n",
    "    train_dir,\n",
    "    target_size=(150,150),\n",
    "    batch_size=128,\n",
    "    class_mode='binary'\n",
    ")\n",
    "\n",
    "validate_generator = validate_datagen.flow_from_directory(\n",
    "    val_dir,\n",
    "    target_size=(150,150),\n",
    "    batch_size=128,\n",
    "    class_mode='binary'\n",
    ")"
   ]
  },
  {
   "cell_type": "code",
   "execution_count": 10,
   "metadata": {},
   "outputs": [],
   "source": [
    "EPOCHS = 100"
   ]
  },
  {
   "cell_type": "code",
   "execution_count": 11,
   "metadata": {},
   "outputs": [
    {
     "name": "stdout",
     "output_type": "stream",
     "text": [
      "Epoch 1/100\n",
      "8/8 [==============================] - 88s 11s/step - loss: 0.6985 - acc: 0.5010 - val_loss: 0.6938 - val_acc: 0.4727\n",
      "Epoch 2/100\n",
      "8/8 [==============================] - 51s 6s/step - loss: 0.6926 - acc: 0.5156 - val_loss: 0.6923 - val_acc: 0.5264\n",
      "Epoch 3/100\n",
      "8/8 [==============================] - 31s 4s/step - loss: 0.6927 - acc: 0.5078 - val_loss: 0.6914 - val_acc: 0.5264\n",
      "Epoch 4/100\n",
      "8/8 [==============================] - 51s 6s/step - loss: 0.6930 - acc: 0.5049 - val_loss: 0.6929 - val_acc: 0.4893\n",
      "Epoch 5/100\n",
      "8/8 [==============================] - 63s 8s/step - loss: 0.6914 - acc: 0.5205 - val_loss: 0.6910 - val_acc: 0.5400\n",
      "Epoch 6/100\n",
      "8/8 [==============================] - 57s 7s/step - loss: 0.6974 - acc: 0.5293 - val_loss: 0.6920 - val_acc: 0.5264\n",
      "Epoch 7/100\n",
      "8/8 [==============================] - 52s 6s/step - loss: 0.6930 - acc: 0.4961 - val_loss: 0.6923 - val_acc: 0.5498\n",
      "Epoch 8/100\n",
      "8/8 [==============================] - 49s 6s/step - loss: 0.6913 - acc: 0.5117 - val_loss: 0.6888 - val_acc: 0.5352\n",
      "Epoch 9/100\n",
      "8/8 [==============================] - 46s 6s/step - loss: 0.6899 - acc: 0.5400 - val_loss: 0.6936 - val_acc: 0.4922\n",
      "Epoch 10/100\n",
      "8/8 [==============================] - 45s 6s/step - loss: 0.6866 - acc: 0.5371 - val_loss: 0.6817 - val_acc: 0.5537\n",
      "Epoch 11/100\n",
      "8/8 [==============================] - 56s 7s/step - loss: 0.6741 - acc: 0.5859 - val_loss: 0.6676 - val_acc: 0.6016\n",
      "Epoch 12/100\n",
      "8/8 [==============================] - 51s 6s/step - loss: 0.6892 - acc: 0.5674 - val_loss: 0.7010 - val_acc: 0.4814\n",
      "Epoch 13/100\n",
      "8/8 [==============================] - 53s 7s/step - loss: 0.6890 - acc: 0.5430 - val_loss: 0.6820 - val_acc: 0.5508\n",
      "Epoch 14/100\n",
      "8/8 [==============================] - 53s 7s/step - loss: 0.6842 - acc: 0.5625 - val_loss: 0.6991 - val_acc: 0.4990\n",
      "Epoch 15/100\n",
      "8/8 [==============================] - 54s 7s/step - loss: 0.6843 - acc: 0.5352 - val_loss: 0.6754 - val_acc: 0.6074\n",
      "Epoch 16/100\n",
      "8/8 [==============================] - 48s 6s/step - loss: 0.6667 - acc: 0.6034 - val_loss: 0.6625 - val_acc: 0.6113\n",
      "Epoch 17/100\n",
      "8/8 [==============================] - 54s 7s/step - loss: 0.6703 - acc: 0.5986 - val_loss: 0.7185 - val_acc: 0.5156\n",
      "Epoch 18/100\n",
      "8/8 [==============================] - 51s 6s/step - loss: 0.6732 - acc: 0.5713 - val_loss: 0.7334 - val_acc: 0.4834\n",
      "Epoch 19/100\n",
      "8/8 [==============================] - 51s 6s/step - loss: 0.6820 - acc: 0.5459 - val_loss: 0.6733 - val_acc: 0.5781\n",
      "Epoch 20/100\n",
      "8/8 [==============================] - 45s 6s/step - loss: 0.6641 - acc: 0.6025 - val_loss: 0.6734 - val_acc: 0.5840\n",
      "Epoch 21/100\n",
      "8/8 [==============================] - 30s 4s/step - loss: 0.6687 - acc: 0.5615 - val_loss: 0.6747 - val_acc: 0.5840\n",
      "Epoch 22/100\n",
      "8/8 [==============================] - 29s 4s/step - loss: 0.6480 - acc: 0.6207 - val_loss: 0.6587 - val_acc: 0.6436\n",
      "Epoch 23/100\n",
      "8/8 [==============================] - 29s 4s/step - loss: 0.6694 - acc: 0.5791 - val_loss: 0.6783 - val_acc: 0.5283\n",
      "Epoch 24/100\n",
      "8/8 [==============================] - 29s 4s/step - loss: 0.6585 - acc: 0.6045 - val_loss: 0.6444 - val_acc: 0.6289\n",
      "Epoch 25/100\n",
      "8/8 [==============================] - 30s 4s/step - loss: 0.6457 - acc: 0.6318 - val_loss: 0.6630 - val_acc: 0.6094\n",
      "Epoch 26/100\n",
      "8/8 [==============================] - 31s 4s/step - loss: 0.6438 - acc: 0.6377 - val_loss: 0.6326 - val_acc: 0.6670\n",
      "Epoch 27/100\n",
      "8/8 [==============================] - 29s 4s/step - loss: 0.6420 - acc: 0.6260 - val_loss: 0.6273 - val_acc: 0.6699\n",
      "Epoch 28/100\n",
      "8/8 [==============================] - 29s 4s/step - loss: 0.6668 - acc: 0.5967 - val_loss: 0.6355 - val_acc: 0.6797\n",
      "Epoch 29/100\n",
      "8/8 [==============================] - 34s 4s/step - loss: 0.6396 - acc: 0.6309 - val_loss: 0.6334 - val_acc: 0.6465\n",
      "Epoch 30/100\n",
      "8/8 [==============================] - 31s 4s/step - loss: 0.6384 - acc: 0.6270 - val_loss: 0.6230 - val_acc: 0.6611\n",
      "Epoch 31/100\n",
      "8/8 [==============================] - 32s 4s/step - loss: 0.6546 - acc: 0.6045 - val_loss: 0.6348 - val_acc: 0.6465\n",
      "Epoch 32/100\n",
      "8/8 [==============================] - 28s 4s/step - loss: 0.6286 - acc: 0.6348 - val_loss: 0.6730 - val_acc: 0.5850\n",
      "Epoch 33/100\n",
      "8/8 [==============================] - 27s 3s/step - loss: 0.6443 - acc: 0.6172 - val_loss: 0.6183 - val_acc: 0.6855\n",
      "Epoch 34/100\n",
      "8/8 [==============================] - 27s 3s/step - loss: 0.6248 - acc: 0.6553 - val_loss: 0.6025 - val_acc: 0.7031\n",
      "Epoch 35/100\n",
      "8/8 [==============================] - 27s 3s/step - loss: 0.6094 - acc: 0.6680 - val_loss: 0.5950 - val_acc: 0.6943\n",
      "Epoch 36/100\n",
      "8/8 [==============================] - 27s 3s/step - loss: 0.6217 - acc: 0.6357 - val_loss: 0.6000 - val_acc: 0.6953\n",
      "Epoch 37/100\n",
      "8/8 [==============================] - 27s 3s/step - loss: 0.6426 - acc: 0.6367 - val_loss: 0.6117 - val_acc: 0.6719\n",
      "Epoch 38/100\n",
      "8/8 [==============================] - 28s 4s/step - loss: 0.6172 - acc: 0.6621 - val_loss: 0.5903 - val_acc: 0.7051\n",
      "Epoch 39/100\n",
      "8/8 [==============================] - 27s 3s/step - loss: 0.6123 - acc: 0.6494 - val_loss: 0.6102 - val_acc: 0.6709\n",
      "Epoch 40/100\n",
      "8/8 [==============================] - 30s 4s/step - loss: 0.6299 - acc: 0.6387 - val_loss: 0.6411 - val_acc: 0.6143\n",
      "Epoch 41/100\n",
      "8/8 [==============================] - 26s 3s/step - loss: 0.6117 - acc: 0.6494 - val_loss: 0.5933 - val_acc: 0.6826\n",
      "Epoch 42/100\n",
      "8/8 [==============================] - 25s 3s/step - loss: 0.6155 - acc: 0.6621 - val_loss: 0.5951 - val_acc: 0.6982\n",
      "Epoch 43/100\n",
      "8/8 [==============================] - 25s 3s/step - loss: 0.5960 - acc: 0.6885 - val_loss: 0.6159 - val_acc: 0.6465\n",
      "Epoch 44/100\n",
      "8/8 [==============================] - 26s 3s/step - loss: 0.6098 - acc: 0.6689 - val_loss: 0.6111 - val_acc: 0.6592\n",
      "Epoch 45/100\n",
      "8/8 [==============================] - 29s 4s/step - loss: 0.6271 - acc: 0.6514 - val_loss: 0.6062 - val_acc: 0.6592\n",
      "Epoch 46/100\n",
      "8/8 [==============================] - 29s 4s/step - loss: 0.5917 - acc: 0.6914 - val_loss: 0.5716 - val_acc: 0.7168\n",
      "Epoch 47/100\n",
      "8/8 [==============================] - 29s 4s/step - loss: 0.6134 - acc: 0.6670 - val_loss: 0.5993 - val_acc: 0.6885\n",
      "Epoch 48/100\n",
      "8/8 [==============================] - 32s 4s/step - loss: 0.6186 - acc: 0.6494 - val_loss: 0.5848 - val_acc: 0.7236\n",
      "Epoch 49/100\n",
      "8/8 [==============================] - 30s 4s/step - loss: 0.5986 - acc: 0.6914 - val_loss: 0.5773 - val_acc: 0.6982\n",
      "Epoch 50/100\n",
      "8/8 [==============================] - 29s 4s/step - loss: 0.6057 - acc: 0.6631 - val_loss: 0.5620 - val_acc: 0.7266\n",
      "Epoch 51/100\n",
      "8/8 [==============================] - 29s 4s/step - loss: 0.6138 - acc: 0.6553 - val_loss: 0.5854 - val_acc: 0.6992\n",
      "Epoch 52/100\n",
      "8/8 [==============================] - 28s 3s/step - loss: 0.5988 - acc: 0.6885 - val_loss: 0.5832 - val_acc: 0.7021\n",
      "Epoch 53/100\n",
      "8/8 [==============================] - 29s 4s/step - loss: 0.6381 - acc: 0.6396 - val_loss: 0.5890 - val_acc: 0.7041\n",
      "Epoch 54/100\n",
      "8/8 [==============================] - 28s 4s/step - loss: 0.6031 - acc: 0.6807 - val_loss: 0.5870 - val_acc: 0.7061\n",
      "Epoch 55/100\n",
      "8/8 [==============================] - 27s 3s/step - loss: 0.6032 - acc: 0.6670 - val_loss: 0.5876 - val_acc: 0.6953\n",
      "Epoch 56/100\n",
      "8/8 [==============================] - 28s 4s/step - loss: 0.6061 - acc: 0.6836 - val_loss: 0.5674 - val_acc: 0.7314\n",
      "Epoch 57/100\n",
      "8/8 [==============================] - 30s 4s/step - loss: 0.6046 - acc: 0.6670 - val_loss: 0.5886 - val_acc: 0.6992\n",
      "Epoch 58/100\n",
      "8/8 [==============================] - 33s 4s/step - loss: 0.5932 - acc: 0.6943 - val_loss: 0.5637 - val_acc: 0.7324\n",
      "Epoch 59/100\n",
      "8/8 [==============================] - 32s 4s/step - loss: 0.5870 - acc: 0.6953 - val_loss: 0.5698 - val_acc: 0.7021\n",
      "Epoch 60/100\n",
      "8/8 [==============================] - 33s 4s/step - loss: 0.6105 - acc: 0.6602 - val_loss: 0.5581 - val_acc: 0.7217\n",
      "Epoch 61/100\n",
      "8/8 [==============================] - 34s 4s/step - loss: 0.5807 - acc: 0.7090 - val_loss: 0.5450 - val_acc: 0.7314\n",
      "Epoch 62/100\n",
      "8/8 [==============================] - 29s 4s/step - loss: 0.5744 - acc: 0.7041 - val_loss: 0.5566 - val_acc: 0.7188\n",
      "Epoch 63/100\n",
      "8/8 [==============================] - 28s 3s/step - loss: 0.5898 - acc: 0.6826 - val_loss: 0.5613 - val_acc: 0.7227\n",
      "Epoch 64/100\n"
     ]
    },
    {
     "name": "stdout",
     "output_type": "stream",
     "text": [
      "8/8 [==============================] - 29s 4s/step - loss: 0.5884 - acc: 0.6934 - val_loss: 0.5740 - val_acc: 0.7227\n",
      "Epoch 65/100\n",
      "8/8 [==============================] - 31s 4s/step - loss: 0.5790 - acc: 0.7080 - val_loss: 0.5702 - val_acc: 0.7295\n",
      "Epoch 66/100\n",
      "8/8 [==============================] - 34s 4s/step - loss: 0.5914 - acc: 0.6777 - val_loss: 0.5437 - val_acc: 0.7373\n",
      "Epoch 67/100\n",
      "8/8 [==============================] - 32s 4s/step - loss: 0.5549 - acc: 0.7061 - val_loss: 0.5482 - val_acc: 0.7305\n",
      "Epoch 68/100\n",
      "8/8 [==============================] - 32s 4s/step - loss: 0.5725 - acc: 0.7021 - val_loss: 0.5474 - val_acc: 0.7363\n",
      "Epoch 69/100\n",
      "8/8 [==============================] - 31s 4s/step - loss: 0.5717 - acc: 0.7197 - val_loss: 0.5373 - val_acc: 0.7480\n",
      "Epoch 70/100\n",
      "8/8 [==============================] - 29s 4s/step - loss: 0.5591 - acc: 0.7188 - val_loss: 0.5333 - val_acc: 0.7334\n",
      "Epoch 71/100\n",
      "8/8 [==============================] - 28s 3s/step - loss: 0.5802 - acc: 0.6875 - val_loss: 0.5256 - val_acc: 0.7422\n",
      "Epoch 72/100\n",
      "8/8 [==============================] - 30s 4s/step - loss: 0.5449 - acc: 0.7305 - val_loss: 0.5345 - val_acc: 0.7363\n",
      "Epoch 73/100\n",
      "8/8 [==============================] - 31s 4s/step - loss: 0.5620 - acc: 0.7061 - val_loss: 0.5157 - val_acc: 0.7500\n",
      "Epoch 74/100\n",
      "8/8 [==============================] - 32s 4s/step - loss: 0.5463 - acc: 0.7334 - val_loss: 0.5243 - val_acc: 0.7480\n",
      "Epoch 75/100\n",
      "8/8 [==============================] - 25s 3s/step - loss: 0.5476 - acc: 0.7177 - val_loss: 0.5590 - val_acc: 0.7236\n",
      "Epoch 76/100\n",
      "8/8 [==============================] - 27s 3s/step - loss: 0.5792 - acc: 0.6895 - val_loss: 0.5639 - val_acc: 0.7031\n",
      "Epoch 77/100\n",
      "8/8 [==============================] - 27s 3s/step - loss: 0.5947 - acc: 0.6836 - val_loss: 0.5321 - val_acc: 0.7471\n",
      "Epoch 78/100\n",
      "8/8 [==============================] - 27s 3s/step - loss: 0.5642 - acc: 0.6992 - val_loss: 0.5297 - val_acc: 0.7490\n",
      "Epoch 79/100\n",
      "8/8 [==============================] - 31s 4s/step - loss: 0.5697 - acc: 0.7041 - val_loss: 0.5367 - val_acc: 0.7275\n",
      "Epoch 80/100\n",
      "8/8 [==============================] - 28s 3s/step - loss: 0.5682 - acc: 0.6963 - val_loss: 0.5346 - val_acc: 0.7451\n",
      "Epoch 81/100\n",
      "8/8 [==============================] - 29s 4s/step - loss: 0.5526 - acc: 0.7363 - val_loss: 0.5169 - val_acc: 0.7637\n",
      "Epoch 82/100\n",
      "8/8 [==============================] - 30s 4s/step - loss: 0.5428 - acc: 0.7148 - val_loss: 0.5193 - val_acc: 0.7471\n",
      "Epoch 83/100\n",
      "8/8 [==============================] - 27s 3s/step - loss: 0.5602 - acc: 0.7220 - val_loss: 0.5373 - val_acc: 0.7344\n",
      "Epoch 84/100\n",
      "8/8 [==============================] - 27s 3s/step - loss: 0.5628 - acc: 0.7178 - val_loss: 0.5397 - val_acc: 0.7227\n",
      "Epoch 85/100\n",
      "8/8 [==============================] - 28s 3s/step - loss: 0.5418 - acc: 0.7314 - val_loss: 0.5208 - val_acc: 0.7471\n",
      "Epoch 86/100\n",
      "8/8 [==============================] - 27s 3s/step - loss: 0.5517 - acc: 0.7168 - val_loss: 0.5780 - val_acc: 0.6992\n",
      "Epoch 87/100\n",
      "8/8 [==============================] - 32s 4s/step - loss: 0.5777 - acc: 0.6914 - val_loss: 0.5293 - val_acc: 0.7422\n",
      "Epoch 88/100\n",
      "8/8 [==============================] - 32s 4s/step - loss: 0.5547 - acc: 0.7275 - val_loss: 0.5045 - val_acc: 0.7656\n",
      "Epoch 89/100\n",
      "8/8 [==============================] - 26s 3s/step - loss: 0.5482 - acc: 0.7139 - val_loss: 0.5058 - val_acc: 0.7705\n",
      "Epoch 90/100\n",
      "8/8 [==============================] - 26s 3s/step - loss: 0.5674 - acc: 0.6992 - val_loss: 0.5124 - val_acc: 0.7637\n",
      "Epoch 91/100\n",
      "8/8 [==============================] - 30s 4s/step - loss: 0.5560 - acc: 0.7314 - val_loss: 0.5058 - val_acc: 0.7549\n",
      "Epoch 92/100\n",
      "8/8 [==============================] - 31s 4s/step - loss: 0.5360 - acc: 0.7363 - val_loss: 0.5012 - val_acc: 0.7480\n",
      "Epoch 93/100\n",
      "8/8 [==============================] - 31s 4s/step - loss: 0.5505 - acc: 0.7275 - val_loss: 0.4889 - val_acc: 0.7725\n",
      "Epoch 94/100\n",
      "8/8 [==============================] - 34s 4s/step - loss: 0.5157 - acc: 0.7490 - val_loss: 0.4975 - val_acc: 0.7656\n",
      "Epoch 95/100\n",
      "8/8 [==============================] - 32s 4s/step - loss: 0.5593 - acc: 0.7148 - val_loss: 0.4952 - val_acc: 0.7578\n",
      "Epoch 96/100\n",
      "8/8 [==============================] - 32s 4s/step - loss: 0.5480 - acc: 0.7295 - val_loss: 0.4917 - val_acc: 0.7695\n",
      "Epoch 97/100\n",
      "8/8 [==============================] - 31s 4s/step - loss: 0.5475 - acc: 0.7109 - val_loss: 0.5121 - val_acc: 0.7539\n",
      "Epoch 98/100\n",
      "8/8 [==============================] - 31s 4s/step - loss: 0.5350 - acc: 0.7227 - val_loss: 0.4823 - val_acc: 0.7744\n",
      "Epoch 99/100\n",
      "8/8 [==============================] - 36s 4s/step - loss: 0.4985 - acc: 0.7617 - val_loss: 0.4911 - val_acc: 0.7773\n",
      "Epoch 100/100\n",
      "8/8 [==============================] - 32s 4s/step - loss: 0.5531 - acc: 0.7178 - val_loss: 0.4706 - val_acc: 0.7783\n"
     ]
    }
   ],
   "source": [
    "history = model1.fit(\n",
    "    train_generator,\n",
    "    steps_per_epoch=8,\n",
    "    epochs=EPOCHS,\n",
    "    verbose=1,\n",
    "    validation_data=validate_generator,\n",
    "    validation_steps=8\n",
    ")"
   ]
  },
  {
   "cell_type": "code",
   "execution_count": 12,
   "metadata": {},
   "outputs": [
    {
     "data": {
      "image/png": "[encoded data removed]",
      "text/plain": [
       "<Figure size 432x288 with 1 Axes>"
      ]
     },
     "metadata": {
      "needs_background": "light"
     },
     "output_type": "display_data"
    }
   ],
   "source": [
    "# plot loss and accuracy\n",
    "\n",
    "acc = history.history['acc']\n",
    "loss = history.history['loss']\n",
    "\n",
    "epochs = range(EPOCHS)\n",
    "\n",
    "plt.plot(epochs, acc)\n",
    "plt.title(\"Accuracy\")\n",
    "plt.show()"
   ]
  },
  {
   "cell_type": "code",
   "execution_count": 13,
   "metadata": {},
   "outputs": [
    {
     "data": {
      "image/png": "[encoded data removed]",
      "text/plain": [
       "<Figure size 432x288 with 1 Axes>"
      ]
     },
     "metadata": {
      "needs_background": "light"
     },
     "output_type": "display_data"
    }
   ],
   "source": [
    "plt.plot(epochs, loss)\n",
    "plt.title(\"Loss\")\n",
    "plt.show()"
   ]
  },
  {
   "cell_type": "code",
   "execution_count": null,
   "metadata": {},
   "outputs": [],
   "source": []
  }
 ],
 "metadata": {
  "kernelspec": {
   "display_name": "Python 3",
   "language": "python",
   "name": "python3"
  },
  "language_info": {
   "codemirror_mode": {
    "name": "ipython",
    "version": 3
   },
   "file_extension": ".py",
   "mimetype": "text/x-python",
   "name": "python",
   "nbconvert_exporter": "python",
   "pygments_lexer": "ipython3",
   "version": "3.7.11"
  }
 },
 "nbformat": 4,
 "nbformat_minor": 2
}
