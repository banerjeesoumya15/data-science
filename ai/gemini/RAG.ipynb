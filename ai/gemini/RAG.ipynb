{
  "nbformat": 4,
  "nbformat_minor": 0,
  "metadata": {
    "colab": {
      "provenance": [],
      "toc_visible": true,
      "mount_file_id": "https://github.com/banerjeesoumya15/data-science/blob/gemini/ai/gemini/RAG.ipynb",
      "authorship_tag": "ABX9TyN6sEEEGLNxkDpO0kcbEHu/",
      "include_colab_link": true
    },
    "kernelspec": {
      "name": "python3",
      "display_name": "Python 3"
    },
    "language_info": {
      "name": "python"
    },
    "widgets": {
      "application/vnd.jupyter.widget-state+json": {
        "6e1590da7ba349c3bf1c7c3860ebaf1b": {
          "model_module": "@jupyter-widgets/controls",
          "model_name": "HBoxModel",
          "model_module_version": "1.5.0",
          "state": {
            "_dom_classes": [],
            "_model_module": "@jupyter-widgets/controls",
            "_model_module_version": "1.5.0",
            "_model_name": "HBoxModel",
            "_view_count": null,
            "_view_module": "@jupyter-widgets/controls",
            "_view_module_version": "1.5.0",
            "_view_name": "HBoxView",
            "box_style": "",
            "children": [
              "IPY_MODEL_6131835cac544ff98069f650310aeba7",
              "IPY_MODEL_95b0e5ab1e0746df982347494621b0e7",
              "IPY_MODEL_c52e6b1592c3477a94d696e589f10aee"
            ],
            "layout": "IPY_MODEL_3bf6aac5cb14486eb28ec5d8b36f333c"
          }
        },
        "6131835cac544ff98069f650310aeba7": {
          "model_module": "@jupyter-widgets/controls",
          "model_name": "HTMLModel",
          "model_module_version": "1.5.0",
          "state": {
            "_dom_classes": [],
            "_model_module": "@jupyter-widgets/controls",
            "_model_module_version": "1.5.0",
            "_model_name": "HTMLModel",
            "_view_count": null,
            "_view_module": "@jupyter-widgets/controls",
            "_view_module_version": "1.5.0",
            "_view_name": "HTMLView",
            "description": "",
            "description_tooltip": null,
            "layout": "IPY_MODEL_21468e6c9cc44abe88e8bac54b933e0b",
            "placeholder": "​",
            "style": "IPY_MODEL_74a8b57776f74367a3187620868749db",
            "value": "modules.json: 100%"
          }
        },
        "95b0e5ab1e0746df982347494621b0e7": {
          "model_module": "@jupyter-widgets/controls",
          "model_name": "FloatProgressModel",
          "model_module_version": "1.5.0",
          "state": {
            "_dom_classes": [],
            "_model_module": "@jupyter-widgets/controls",
            "_model_module_version": "1.5.0",
            "_model_name": "FloatProgressModel",
            "_view_count": null,
            "_view_module": "@jupyter-widgets/controls",
            "_view_module_version": "1.5.0",
            "_view_name": "ProgressView",
            "bar_style": "success",
            "description": "",
            "description_tooltip": null,
            "layout": "IPY_MODEL_c9050d3383c04707b6fe6d2cbe3f5cbf",
            "max": 349,
            "min": 0,
            "orientation": "horizontal",
            "style": "IPY_MODEL_8e2b0a51d9524275b4d254cfb1b45f2f",
            "value": 349
          }
        },
        "c52e6b1592c3477a94d696e589f10aee": {
          "model_module": "@jupyter-widgets/controls",
          "model_name": "HTMLModel",
          "model_module_version": "1.5.0",
          "state": {
            "_dom_classes": [],
            "_model_module": "@jupyter-widgets/controls",
            "_model_module_version": "1.5.0",
            "_model_name": "HTMLModel",
            "_view_count": null,
            "_view_module": "@jupyter-widgets/controls",
            "_view_module_version": "1.5.0",
            "_view_name": "HTMLView",
            "description": "",
            "description_tooltip": null,
            "layout": "IPY_MODEL_daaf4cade57d4c04abaed15838a24219",
            "placeholder": "​",
            "style": "IPY_MODEL_2341ab650ccb40c4a3b103bddb9690a5",
            "value": " 349/349 [00:00&lt;00:00, 15.2kB/s]"
          }
        },
        "3bf6aac5cb14486eb28ec5d8b36f333c": {
          "model_module": "@jupyter-widgets/base",
          "model_name": "LayoutModel",
          "model_module_version": "1.2.0",
          "state": {
            "_model_module": "@jupyter-widgets/base",
            "_model_module_version": "1.2.0",
            "_model_name": "LayoutModel",
            "_view_count": null,
            "_view_module": "@jupyter-widgets/base",
            "_view_module_version": "1.2.0",
            "_view_name": "LayoutView",
            "align_content": null,
            "align_items": null,
            "align_self": null,
            "border": null,
            "bottom": null,
            "display": null,
            "flex": null,
            "flex_flow": null,
            "grid_area": null,
            "grid_auto_columns": null,
            "grid_auto_flow": null,
            "grid_auto_rows": null,
            "grid_column": null,
            "grid_gap": null,
            "grid_row": null,
            "grid_template_areas": null,
            "grid_template_columns": null,
            "grid_template_rows": null,
            "height": null,
            "justify_content": null,
            "justify_items": null,
            "left": null,
            "margin": null,
            "max_height": null,
            "max_width": null,
            "min_height": null,
            "min_width": null,
            "object_fit": null,
            "object_position": null,
            "order": null,
            "overflow": null,
            "overflow_x": null,
            "overflow_y": null,
            "padding": null,
            "right": null,
            "top": null,
            "visibility": null,
            "width": null
          }
        },
        "21468e6c9cc44abe88e8bac54b933e0b": {
          "model_module": "@jupyter-widgets/base",
          "model_name": "LayoutModel",
          "model_module_version": "1.2.0",
          "state": {
            "_model_module": "@jupyter-widgets/base",
            "_model_module_version": "1.2.0",
            "_model_name": "LayoutModel",
            "_view_count": null,
            "_view_module": "@jupyter-widgets/base",
            "_view_module_version": "1.2.0",
            "_view_name": "LayoutView",
            "align_content": null,
            "align_items": null,
            "align_self": null,
            "border": null,
            "bottom": null,
            "display": null,
            "flex": null,
            "flex_flow": null,
            "grid_area": null,
            "grid_auto_columns": null,
            "grid_auto_flow": null,
            "grid_auto_rows": null,
            "grid_column": null,
            "grid_gap": null,
            "grid_row": null,
            "grid_template_areas": null,
            "grid_template_columns": null,
            "grid_template_rows": null,
            "height": null,
            "justify_content": null,
            "justify_items": null,
            "left": null,
            "margin": null,
            "max_height": null,
            "max_width": null,
            "min_height": null,
            "min_width": null,
            "object_fit": null,
            "object_position": null,
            "order": null,
            "overflow": null,
            "overflow_x": null,
            "overflow_y": null,
            "padding": null,
            "right": null,
            "top": null,
            "visibility": null,
            "width": null
          }
        },
        "74a8b57776f74367a3187620868749db": {
          "model_module": "@jupyter-widgets/controls",
          "model_name": "DescriptionStyleModel",
          "model_module_version": "1.5.0",
          "state": {
            "_model_module": "@jupyter-widgets/controls",
            "_model_module_version": "1.5.0",
            "_model_name": "DescriptionStyleModel",
            "_view_count": null,
            "_view_module": "@jupyter-widgets/base",
            "_view_module_version": "1.2.0",
            "_view_name": "StyleView",
            "description_width": ""
          }
        },
        "c9050d3383c04707b6fe6d2cbe3f5cbf": {
          "model_module": "@jupyter-widgets/base",
          "model_name": "LayoutModel",
          "model_module_version": "1.2.0",
          "state": {
            "_model_module": "@jupyter-widgets/base",
            "_model_module_version": "1.2.0",
            "_model_name": "LayoutModel",
            "_view_count": null,
            "_view_module": "@jupyter-widgets/base",
            "_view_module_version": "1.2.0",
            "_view_name": "LayoutView",
            "align_content": null,
            "align_items": null,
            "align_self": null,
            "border": null,
            "bottom": null,
            "display": null,
            "flex": null,
            "flex_flow": null,
            "grid_area": null,
            "grid_auto_columns": null,
            "grid_auto_flow": null,
            "grid_auto_rows": null,
            "grid_column": null,
            "grid_gap": null,
            "grid_row": null,
            "grid_template_areas": null,
            "grid_template_columns": null,
            "grid_template_rows": null,
            "height": null,
            "justify_content": null,
            "justify_items": null,
            "left": null,
            "margin": null,
            "max_height": null,
            "max_width": null,
            "min_height": null,
            "min_width": null,
            "object_fit": null,
            "object_position": null,
            "order": null,
            "overflow": null,
            "overflow_x": null,
            "overflow_y": null,
            "padding": null,
            "right": null,
            "top": null,
            "visibility": null,
            "width": null
          }
        },
        "8e2b0a51d9524275b4d254cfb1b45f2f": {
          "model_module": "@jupyter-widgets/controls",
          "model_name": "ProgressStyleModel",
          "model_module_version": "1.5.0",
          "state": {
            "_model_module": "@jupyter-widgets/controls",
            "_model_module_version": "1.5.0",
            "_model_name": "ProgressStyleModel",
            "_view_count": null,
            "_view_module": "@jupyter-widgets/base",
            "_view_module_version": "1.2.0",
            "_view_name": "StyleView",
            "bar_color": null,
            "description_width": ""
          }
        },
        "daaf4cade57d4c04abaed15838a24219": {
          "model_module": "@jupyter-widgets/base",
          "model_name": "LayoutModel",
          "model_module_version": "1.2.0",
          "state": {
            "_model_module": "@jupyter-widgets/base",
            "_model_module_version": "1.2.0",
            "_model_name": "LayoutModel",
            "_view_count": null,
            "_view_module": "@jupyter-widgets/base",
            "_view_module_version": "1.2.0",
            "_view_name": "LayoutView",
            "align_content": null,
            "align_items": null,
            "align_self": null,
            "border": null,
            "bottom": null,
            "display": null,
            "flex": null,
            "flex_flow": null,
            "grid_area": null,
            "grid_auto_columns": null,
            "grid_auto_flow": null,
            "grid_auto_rows": null,
            "grid_column": null,
            "grid_gap": null,
            "grid_row": null,
            "grid_template_areas": null,
            "grid_template_columns": null,
            "grid_template_rows": null,
            "height": null,
            "justify_content": null,
            "justify_items": null,
            "left": null,
            "margin": null,
            "max_height": null,
            "max_width": null,
            "min_height": null,
            "min_width": null,
            "object_fit": null,
            "object_position": null,
            "order": null,
            "overflow": null,
            "overflow_x": null,
            "overflow_y": null,
            "padding": null,
            "right": null,
            "top": null,
            "visibility": null,
            "width": null
          }
        },
        "2341ab650ccb40c4a3b103bddb9690a5": {
          "model_module": "@jupyter-widgets/controls",
          "model_name": "DescriptionStyleModel",
          "model_module_version": "1.5.0",
          "state": {
            "_model_module": "@jupyter-widgets/controls",
            "_model_module_version": "1.5.0",
            "_model_name": "DescriptionStyleModel",
            "_view_count": null,
            "_view_module": "@jupyter-widgets/base",
            "_view_module_version": "1.2.0",
            "_view_name": "StyleView",
            "description_width": ""
          }
        },
        "33751feaf96a43e2a3a461b838bf5d26": {
          "model_module": "@jupyter-widgets/controls",
          "model_name": "HBoxModel",
          "model_module_version": "1.5.0",
          "state": {
            "_dom_classes": [],
            "_model_module": "@jupyter-widgets/controls",
            "_model_module_version": "1.5.0",
            "_model_name": "HBoxModel",
            "_view_count": null,
            "_view_module": "@jupyter-widgets/controls",
            "_view_module_version": "1.5.0",
            "_view_name": "HBoxView",
            "box_style": "",
            "children": [
              "IPY_MODEL_58e050a6d3c9485da6a3395bc0180de8",
              "IPY_MODEL_00b5656a96bb43258d31e33eafaf840a",
              "IPY_MODEL_20d4de43b5b248af94f656b94b84e417"
            ],
            "layout": "IPY_MODEL_4da3172de58c4101a825ad5f9f09448c"
          }
        },
        "58e050a6d3c9485da6a3395bc0180de8": {
          "model_module": "@jupyter-widgets/controls",
          "model_name": "HTMLModel",
          "model_module_version": "1.5.0",
          "state": {
            "_dom_classes": [],
            "_model_module": "@jupyter-widgets/controls",
            "_model_module_version": "1.5.0",
            "_model_name": "HTMLModel",
            "_view_count": null,
            "_view_module": "@jupyter-widgets/controls",
            "_view_module_version": "1.5.0",
            "_view_name": "HTMLView",
            "description": "",
            "description_tooltip": null,
            "layout": "IPY_MODEL_3a6259290c4a445898ab71b7e4f85e55",
            "placeholder": "​",
            "style": "IPY_MODEL_5ae7b7f91767480488b2fccdea58de13",
            "value": "config_sentence_transformers.json: 100%"
          }
        },
        "00b5656a96bb43258d31e33eafaf840a": {
          "model_module": "@jupyter-widgets/controls",
          "model_name": "FloatProgressModel",
          "model_module_version": "1.5.0",
          "state": {
            "_dom_classes": [],
            "_model_module": "@jupyter-widgets/controls",
            "_model_module_version": "1.5.0",
            "_model_name": "FloatProgressModel",
            "_view_count": null,
            "_view_module": "@jupyter-widgets/controls",
            "_view_module_version": "1.5.0",
            "_view_name": "ProgressView",
            "bar_style": "success",
            "description": "",
            "description_tooltip": null,
            "layout": "IPY_MODEL_22d804661a4f40ac9e5de3eef6925a88",
            "max": 116,
            "min": 0,
            "orientation": "horizontal",
            "style": "IPY_MODEL_a8bf5caf79a849ad90ab1ca4af25265a",
            "value": 116
          }
        },
        "20d4de43b5b248af94f656b94b84e417": {
          "model_module": "@jupyter-widgets/controls",
          "model_name": "HTMLModel",
          "model_module_version": "1.5.0",
          "state": {
            "_dom_classes": [],
            "_model_module": "@jupyter-widgets/controls",
            "_model_module_version": "1.5.0",
            "_model_name": "HTMLModel",
            "_view_count": null,
            "_view_module": "@jupyter-widgets/controls",
            "_view_module_version": "1.5.0",
            "_view_name": "HTMLView",
            "description": "",
            "description_tooltip": null,
            "layout": "IPY_MODEL_bd95583b6c254edab7d3d63714a4c31b",
            "placeholder": "​",
            "style": "IPY_MODEL_ddaec781328f4063a95e8563b272466b",
            "value": " 116/116 [00:00&lt;00:00, 3.79kB/s]"
          }
        },
        "4da3172de58c4101a825ad5f9f09448c": {
          "model_module": "@jupyter-widgets/base",
          "model_name": "LayoutModel",
          "model_module_version": "1.2.0",
          "state": {
            "_model_module": "@jupyter-widgets/base",
            "_model_module_version": "1.2.0",
            "_model_name": "LayoutModel",
            "_view_count": null,
            "_view_module": "@jupyter-widgets/base",
            "_view_module_version": "1.2.0",
            "_view_name": "LayoutView",
            "align_content": null,
            "align_items": null,
            "align_self": null,
            "border": null,
            "bottom": null,
            "display": null,
            "flex": null,
            "flex_flow": null,
            "grid_area": null,
            "grid_auto_columns": null,
            "grid_auto_flow": null,
            "grid_auto_rows": null,
            "grid_column": null,
            "grid_gap": null,
            "grid_row": null,
            "grid_template_areas": null,
            "grid_template_columns": null,
            "grid_template_rows": null,
            "height": null,
            "justify_content": null,
            "justify_items": null,
            "left": null,
            "margin": null,
            "max_height": null,
            "max_width": null,
            "min_height": null,
            "min_width": null,
            "object_fit": null,
            "object_position": null,
            "order": null,
            "overflow": null,
            "overflow_x": null,
            "overflow_y": null,
            "padding": null,
            "right": null,
            "top": null,
            "visibility": null,
            "width": null
          }
        },
        "3a6259290c4a445898ab71b7e4f85e55": {
          "model_module": "@jupyter-widgets/base",
          "model_name": "LayoutModel",
          "model_module_version": "1.2.0",
          "state": {
            "_model_module": "@jupyter-widgets/base",
            "_model_module_version": "1.2.0",
            "_model_name": "LayoutModel",
            "_view_count": null,
            "_view_module": "@jupyter-widgets/base",
            "_view_module_version": "1.2.0",
            "_view_name": "LayoutView",
            "align_content": null,
            "align_items": null,
            "align_self": null,
            "border": null,
            "bottom": null,
            "display": null,
            "flex": null,
            "flex_flow": null,
            "grid_area": null,
            "grid_auto_columns": null,
            "grid_auto_flow": null,
            "grid_auto_rows": null,
            "grid_column": null,
            "grid_gap": null,
            "grid_row": null,
            "grid_template_areas": null,
            "grid_template_columns": null,
            "grid_template_rows": null,
            "height": null,
            "justify_content": null,
            "justify_items": null,
            "left": null,
            "margin": null,
            "max_height": null,
            "max_width": null,
            "min_height": null,
            "min_width": null,
            "object_fit": null,
            "object_position": null,
            "order": null,
            "overflow": null,
            "overflow_x": null,
            "overflow_y": null,
            "padding": null,
            "right": null,
            "top": null,
            "visibility": null,
            "width": null
          }
        },
        "5ae7b7f91767480488b2fccdea58de13": {
          "model_module": "@jupyter-widgets/controls",
          "model_name": "DescriptionStyleModel",
          "model_module_version": "1.5.0",
          "state": {
            "_model_module": "@jupyter-widgets/controls",
            "_model_module_version": "1.5.0",
            "_model_name": "DescriptionStyleModel",
            "_view_count": null,
            "_view_module": "@jupyter-widgets/base",
            "_view_module_version": "1.2.0",
            "_view_name": "StyleView",
            "description_width": ""
          }
        },
        "22d804661a4f40ac9e5de3eef6925a88": {
          "model_module": "@jupyter-widgets/base",
          "model_name": "LayoutModel",
          "model_module_version": "1.2.0",
          "state": {
            "_model_module": "@jupyter-widgets/base",
            "_model_module_version": "1.2.0",
            "_model_name": "LayoutModel",
            "_view_count": null,
            "_view_module": "@jupyter-widgets/base",
            "_view_module_version": "1.2.0",
            "_view_name": "LayoutView",
            "align_content": null,
            "align_items": null,
            "align_self": null,
            "border": null,
            "bottom": null,
            "display": null,
            "flex": null,
            "flex_flow": null,
            "grid_area": null,
            "grid_auto_columns": null,
            "grid_auto_flow": null,
            "grid_auto_rows": null,
            "grid_column": null,
            "grid_gap": null,
            "grid_row": null,
            "grid_template_areas": null,
            "grid_template_columns": null,
            "grid_template_rows": null,
            "height": null,
            "justify_content": null,
            "justify_items": null,
            "left": null,
            "margin": null,
            "max_height": null,
            "max_width": null,
            "min_height": null,
            "min_width": null,
            "object_fit": null,
            "object_position": null,
            "order": null,
            "overflow": null,
            "overflow_x": null,
            "overflow_y": null,
            "padding": null,
            "right": null,
            "top": null,
            "visibility": null,
            "width": null
          }
        },
        "a8bf5caf79a849ad90ab1ca4af25265a": {
          "model_module": "@jupyter-widgets/controls",
          "model_name": "ProgressStyleModel",
          "model_module_version": "1.5.0",
          "state": {
            "_model_module": "@jupyter-widgets/controls",
            "_model_module_version": "1.5.0",
            "_model_name": "ProgressStyleModel",
            "_view_count": null,
            "_view_module": "@jupyter-widgets/base",
            "_view_module_version": "1.2.0",
            "_view_name": "StyleView",
            "bar_color": null,
            "description_width": ""
          }
        },
        "bd95583b6c254edab7d3d63714a4c31b": {
          "model_module": "@jupyter-widgets/base",
          "model_name": "LayoutModel",
          "model_module_version": "1.2.0",
          "state": {
            "_model_module": "@jupyter-widgets/base",
            "_model_module_version": "1.2.0",
            "_model_name": "LayoutModel",
            "_view_count": null,
            "_view_module": "@jupyter-widgets/base",
            "_view_module_version": "1.2.0",
            "_view_name": "LayoutView",
            "align_content": null,
            "align_items": null,
            "align_self": null,
            "border": null,
            "bottom": null,
            "display": null,
            "flex": null,
            "flex_flow": null,
            "grid_area": null,
            "grid_auto_columns": null,
            "grid_auto_flow": null,
            "grid_auto_rows": null,
            "grid_column": null,
            "grid_gap": null,
            "grid_row": null,
            "grid_template_areas": null,
            "grid_template_columns": null,
            "grid_template_rows": null,
            "height": null,
            "justify_content": null,
            "justify_items": null,
            "left": null,
            "margin": null,
            "max_height": null,
            "max_width": null,
            "min_height": null,
            "min_width": null,
            "object_fit": null,
            "object_position": null,
            "order": null,
            "overflow": null,
            "overflow_x": null,
            "overflow_y": null,
            "padding": null,
            "right": null,
            "top": null,
            "visibility": null,
            "width": null
          }
        },
        "ddaec781328f4063a95e8563b272466b": {
          "model_module": "@jupyter-widgets/controls",
          "model_name": "DescriptionStyleModel",
          "model_module_version": "1.5.0",
          "state": {
            "_model_module": "@jupyter-widgets/controls",
            "_model_module_version": "1.5.0",
            "_model_name": "DescriptionStyleModel",
            "_view_count": null,
            "_view_module": "@jupyter-widgets/base",
            "_view_module_version": "1.2.0",
            "_view_name": "StyleView",
            "description_width": ""
          }
        },
        "179ad61e471d4f008a5a110e065f9a4d": {
          "model_module": "@jupyter-widgets/controls",
          "model_name": "HBoxModel",
          "model_module_version": "1.5.0",
          "state": {
            "_dom_classes": [],
            "_model_module": "@jupyter-widgets/controls",
            "_model_module_version": "1.5.0",
            "_model_name": "HBoxModel",
            "_view_count": null,
            "_view_module": "@jupyter-widgets/controls",
            "_view_module_version": "1.5.0",
            "_view_name": "HBoxView",
            "box_style": "",
            "children": [
              "IPY_MODEL_882a7090a81746878b8fac33aff29a26",
              "IPY_MODEL_04a5608c678a47f6b541997fff239803",
              "IPY_MODEL_769a6c59664245c7a312a23a3e78e98a"
            ],
            "layout": "IPY_MODEL_6f6a98b2ccfe418d95ced8ccf522117a"
          }
        },
        "882a7090a81746878b8fac33aff29a26": {
          "model_module": "@jupyter-widgets/controls",
          "model_name": "HTMLModel",
          "model_module_version": "1.5.0",
          "state": {
            "_dom_classes": [],
            "_model_module": "@jupyter-widgets/controls",
            "_model_module_version": "1.5.0",
            "_model_name": "HTMLModel",
            "_view_count": null,
            "_view_module": "@jupyter-widgets/controls",
            "_view_module_version": "1.5.0",
            "_view_name": "HTMLView",
            "description": "",
            "description_tooltip": null,
            "layout": "IPY_MODEL_4a17bf32a332463a8ac599becb788db2",
            "placeholder": "​",
            "style": "IPY_MODEL_e7a914f0f86b41da9af6862c97c76098",
            "value": "README.md: 100%"
          }
        },
        "04a5608c678a47f6b541997fff239803": {
          "model_module": "@jupyter-widgets/controls",
          "model_name": "FloatProgressModel",
          "model_module_version": "1.5.0",
          "state": {
            "_dom_classes": [],
            "_model_module": "@jupyter-widgets/controls",
            "_model_module_version": "1.5.0",
            "_model_name": "FloatProgressModel",
            "_view_count": null,
            "_view_module": "@jupyter-widgets/controls",
            "_view_module_version": "1.5.0",
            "_view_name": "ProgressView",
            "bar_style": "success",
            "description": "",
            "description_tooltip": null,
            "layout": "IPY_MODEL_16cbe7e139d642c8bf82ce30e3a3c1c1",
            "max": 10621,
            "min": 0,
            "orientation": "horizontal",
            "style": "IPY_MODEL_4561d2fb7b7243e483592b40c51db718",
            "value": 10621
          }
        },
        "769a6c59664245c7a312a23a3e78e98a": {
          "model_module": "@jupyter-widgets/controls",
          "model_name": "HTMLModel",
          "model_module_version": "1.5.0",
          "state": {
            "_dom_classes": [],
            "_model_module": "@jupyter-widgets/controls",
            "_model_module_version": "1.5.0",
            "_model_name": "HTMLModel",
            "_view_count": null,
            "_view_module": "@jupyter-widgets/controls",
            "_view_module_version": "1.5.0",
            "_view_name": "HTMLView",
            "description": "",
            "description_tooltip": null,
            "layout": "IPY_MODEL_cb3a727c97484b3c8e053f92b5bc9e27",
            "placeholder": "​",
            "style": "IPY_MODEL_16047ce2408a49f2ba6f99047aa0da6f",
            "value": " 10.6k/10.6k [00:00&lt;00:00, 523kB/s]"
          }
        },
        "6f6a98b2ccfe418d95ced8ccf522117a": {
          "model_module": "@jupyter-widgets/base",
          "model_name": "LayoutModel",
          "model_module_version": "1.2.0",
          "state": {
            "_model_module": "@jupyter-widgets/base",
            "_model_module_version": "1.2.0",
            "_model_name": "LayoutModel",
            "_view_count": null,
            "_view_module": "@jupyter-widgets/base",
            "_view_module_version": "1.2.0",
            "_view_name": "LayoutView",
            "align_content": null,
            "align_items": null,
            "align_self": null,
            "border": null,
            "bottom": null,
            "display": null,
            "flex": null,
            "flex_flow": null,
            "grid_area": null,
            "grid_auto_columns": null,
            "grid_auto_flow": null,
            "grid_auto_rows": null,
            "grid_column": null,
            "grid_gap": null,
            "grid_row": null,
            "grid_template_areas": null,
            "grid_template_columns": null,
            "grid_template_rows": null,
            "height": null,
            "justify_content": null,
            "justify_items": null,
            "left": null,
            "margin": null,
            "max_height": null,
            "max_width": null,
            "min_height": null,
            "min_width": null,
            "object_fit": null,
            "object_position": null,
            "order": null,
            "overflow": null,
            "overflow_x": null,
            "overflow_y": null,
            "padding": null,
            "right": null,
            "top": null,
            "visibility": null,
            "width": null
          }
        },
        "4a17bf32a332463a8ac599becb788db2": {
          "model_module": "@jupyter-widgets/base",
          "model_name": "LayoutModel",
          "model_module_version": "1.2.0",
          "state": {
            "_model_module": "@jupyter-widgets/base",
            "_model_module_version": "1.2.0",
            "_model_name": "LayoutModel",
            "_view_count": null,
            "_view_module": "@jupyter-widgets/base",
            "_view_module_version": "1.2.0",
            "_view_name": "LayoutView",
            "align_content": null,
            "align_items": null,
            "align_self": null,
            "border": null,
            "bottom": null,
            "display": null,
            "flex": null,
            "flex_flow": null,
            "grid_area": null,
            "grid_auto_columns": null,
            "grid_auto_flow": null,
            "grid_auto_rows": null,
            "grid_column": null,
            "grid_gap": null,
            "grid_row": null,
            "grid_template_areas": null,
            "grid_template_columns": null,
            "grid_template_rows": null,
            "height": null,
            "justify_content": null,
            "justify_items": null,
            "left": null,
            "margin": null,
            "max_height": null,
            "max_width": null,
            "min_height": null,
            "min_width": null,
            "object_fit": null,
            "object_position": null,
            "order": null,
            "overflow": null,
            "overflow_x": null,
            "overflow_y": null,
            "padding": null,
            "right": null,
            "top": null,
            "visibility": null,
            "width": null
          }
        },
        "e7a914f0f86b41da9af6862c97c76098": {
          "model_module": "@jupyter-widgets/controls",
          "model_name": "DescriptionStyleModel",
          "model_module_version": "1.5.0",
          "state": {
            "_model_module": "@jupyter-widgets/controls",
            "_model_module_version": "1.5.0",
            "_model_name": "DescriptionStyleModel",
            "_view_count": null,
            "_view_module": "@jupyter-widgets/base",
            "_view_module_version": "1.2.0",
            "_view_name": "StyleView",
            "description_width": ""
          }
        },
        "16cbe7e139d642c8bf82ce30e3a3c1c1": {
          "model_module": "@jupyter-widgets/base",
          "model_name": "LayoutModel",
          "model_module_version": "1.2.0",
          "state": {
            "_model_module": "@jupyter-widgets/base",
            "_model_module_version": "1.2.0",
            "_model_name": "LayoutModel",
            "_view_count": null,
            "_view_module": "@jupyter-widgets/base",
            "_view_module_version": "1.2.0",
            "_view_name": "LayoutView",
            "align_content": null,
            "align_items": null,
            "align_self": null,
            "border": null,
            "bottom": null,
            "display": null,
            "flex": null,
            "flex_flow": null,
            "grid_area": null,
            "grid_auto_columns": null,
            "grid_auto_flow": null,
            "grid_auto_rows": null,
            "grid_column": null,
            "grid_gap": null,
            "grid_row": null,
            "grid_template_areas": null,
            "grid_template_columns": null,
            "grid_template_rows": null,
            "height": null,
            "justify_content": null,
            "justify_items": null,
            "left": null,
            "margin": null,
            "max_height": null,
            "max_width": null,
            "min_height": null,
            "min_width": null,
            "object_fit": null,
            "object_position": null,
            "order": null,
            "overflow": null,
            "overflow_x": null,
            "overflow_y": null,
            "padding": null,
            "right": null,
            "top": null,
            "visibility": null,
            "width": null
          }
        },
        "4561d2fb7b7243e483592b40c51db718": {
          "model_module": "@jupyter-widgets/controls",
          "model_name": "ProgressStyleModel",
          "model_module_version": "1.5.0",
          "state": {
            "_model_module": "@jupyter-widgets/controls",
            "_model_module_version": "1.5.0",
            "_model_name": "ProgressStyleModel",
            "_view_count": null,
            "_view_module": "@jupyter-widgets/base",
            "_view_module_version": "1.2.0",
            "_view_name": "StyleView",
            "bar_color": null,
            "description_width": ""
          }
        },
        "cb3a727c97484b3c8e053f92b5bc9e27": {
          "model_module": "@jupyter-widgets/base",
          "model_name": "LayoutModel",
          "model_module_version": "1.2.0",
          "state": {
            "_model_module": "@jupyter-widgets/base",
            "_model_module_version": "1.2.0",
            "_model_name": "LayoutModel",
            "_view_count": null,
            "_view_module": "@jupyter-widgets/base",
            "_view_module_version": "1.2.0",
            "_view_name": "LayoutView",
            "align_content": null,
            "align_items": null,
            "align_self": null,
            "border": null,
            "bottom": null,
            "display": null,
            "flex": null,
            "flex_flow": null,
            "grid_area": null,
            "grid_auto_columns": null,
            "grid_auto_flow": null,
            "grid_auto_rows": null,
            "grid_column": null,
            "grid_gap": null,
            "grid_row": null,
            "grid_template_areas": null,
            "grid_template_columns": null,
            "grid_template_rows": null,
            "height": null,
            "justify_content": null,
            "justify_items": null,
            "left": null,
            "margin": null,
            "max_height": null,
            "max_width": null,
            "min_height": null,
            "min_width": null,
            "object_fit": null,
            "object_position": null,
            "order": null,
            "overflow": null,
            "overflow_x": null,
            "overflow_y": null,
            "padding": null,
            "right": null,
            "top": null,
            "visibility": null,
            "width": null
          }
        },
        "16047ce2408a49f2ba6f99047aa0da6f": {
          "model_module": "@jupyter-widgets/controls",
          "model_name": "DescriptionStyleModel",
          "model_module_version": "1.5.0",
          "state": {
            "_model_module": "@jupyter-widgets/controls",
            "_model_module_version": "1.5.0",
            "_model_name": "DescriptionStyleModel",
            "_view_count": null,
            "_view_module": "@jupyter-widgets/base",
            "_view_module_version": "1.2.0",
            "_view_name": "StyleView",
            "description_width": ""
          }
        },
        "9080a407552e48f08ecb4fd66933499c": {
          "model_module": "@jupyter-widgets/controls",
          "model_name": "HBoxModel",
          "model_module_version": "1.5.0",
          "state": {
            "_dom_classes": [],
            "_model_module": "@jupyter-widgets/controls",
            "_model_module_version": "1.5.0",
            "_model_name": "HBoxModel",
            "_view_count": null,
            "_view_module": "@jupyter-widgets/controls",
            "_view_module_version": "1.5.0",
            "_view_name": "HBoxView",
            "box_style": "",
            "children": [
              "IPY_MODEL_c625224d67e649749626c3f2f75aa07a",
              "IPY_MODEL_4210aea2365e43b4bd2d5894cf2e7eef",
              "IPY_MODEL_09f10e3eb6854c59a695221aa5adb794"
            ],
            "layout": "IPY_MODEL_23986fad078b4fbd886085f7df9de1df"
          }
        },
        "c625224d67e649749626c3f2f75aa07a": {
          "model_module": "@jupyter-widgets/controls",
          "model_name": "HTMLModel",
          "model_module_version": "1.5.0",
          "state": {
            "_dom_classes": [],
            "_model_module": "@jupyter-widgets/controls",
            "_model_module_version": "1.5.0",
            "_model_name": "HTMLModel",
            "_view_count": null,
            "_view_module": "@jupyter-widgets/controls",
            "_view_module_version": "1.5.0",
            "_view_name": "HTMLView",
            "description": "",
            "description_tooltip": null,
            "layout": "IPY_MODEL_90bb2daaed4c4405878b6faa865bc1d5",
            "placeholder": "​",
            "style": "IPY_MODEL_9d0fa8251342452b85fa166b8ede4968",
            "value": "sentence_bert_config.json: 100%"
          }
        },
        "4210aea2365e43b4bd2d5894cf2e7eef": {
          "model_module": "@jupyter-widgets/controls",
          "model_name": "FloatProgressModel",
          "model_module_version": "1.5.0",
          "state": {
            "_dom_classes": [],
            "_model_module": "@jupyter-widgets/controls",
            "_model_module_version": "1.5.0",
            "_model_name": "FloatProgressModel",
            "_view_count": null,
            "_view_module": "@jupyter-widgets/controls",
            "_view_module_version": "1.5.0",
            "_view_name": "ProgressView",
            "bar_style": "success",
            "description": "",
            "description_tooltip": null,
            "layout": "IPY_MODEL_3399c0c627ac4c5eba9b42bca4b19745",
            "max": 53,
            "min": 0,
            "orientation": "horizontal",
            "style": "IPY_MODEL_5398b72ac8d74c21b6350a6d61de6300",
            "value": 53
          }
        },
        "09f10e3eb6854c59a695221aa5adb794": {
          "model_module": "@jupyter-widgets/controls",
          "model_name": "HTMLModel",
          "model_module_version": "1.5.0",
          "state": {
            "_dom_classes": [],
            "_model_module": "@jupyter-widgets/controls",
            "_model_module_version": "1.5.0",
            "_model_name": "HTMLModel",
            "_view_count": null,
            "_view_module": "@jupyter-widgets/controls",
            "_view_module_version": "1.5.0",
            "_view_name": "HTMLView",
            "description": "",
            "description_tooltip": null,
            "layout": "IPY_MODEL_581c454e8e444a6296e3cc18ac70eb96",
            "placeholder": "​",
            "style": "IPY_MODEL_74255edcad3d43a590d0e1c6abc3a88b",
            "value": " 53.0/53.0 [00:00&lt;00:00, 3.74kB/s]"
          }
        },
        "23986fad078b4fbd886085f7df9de1df": {
          "model_module": "@jupyter-widgets/base",
          "model_name": "LayoutModel",
          "model_module_version": "1.2.0",
          "state": {
            "_model_module": "@jupyter-widgets/base",
            "_model_module_version": "1.2.0",
            "_model_name": "LayoutModel",
            "_view_count": null,
            "_view_module": "@jupyter-widgets/base",
            "_view_module_version": "1.2.0",
            "_view_name": "LayoutView",
            "align_content": null,
            "align_items": null,
            "align_self": null,
            "border": null,
            "bottom": null,
            "display": null,
            "flex": null,
            "flex_flow": null,
            "grid_area": null,
            "grid_auto_columns": null,
            "grid_auto_flow": null,
            "grid_auto_rows": null,
            "grid_column": null,
            "grid_gap": null,
            "grid_row": null,
            "grid_template_areas": null,
            "grid_template_columns": null,
            "grid_template_rows": null,
            "height": null,
            "justify_content": null,
            "justify_items": null,
            "left": null,
            "margin": null,
            "max_height": null,
            "max_width": null,
            "min_height": null,
            "min_width": null,
            "object_fit": null,
            "object_position": null,
            "order": null,
            "overflow": null,
            "overflow_x": null,
            "overflow_y": null,
            "padding": null,
            "right": null,
            "top": null,
            "visibility": null,
            "width": null
          }
        },
        "90bb2daaed4c4405878b6faa865bc1d5": {
          "model_module": "@jupyter-widgets/base",
          "model_name": "LayoutModel",
          "model_module_version": "1.2.0",
          "state": {
            "_model_module": "@jupyter-widgets/base",
            "_model_module_version": "1.2.0",
            "_model_name": "LayoutModel",
            "_view_count": null,
            "_view_module": "@jupyter-widgets/base",
            "_view_module_version": "1.2.0",
            "_view_name": "LayoutView",
            "align_content": null,
            "align_items": null,
            "align_self": null,
            "border": null,
            "bottom": null,
            "display": null,
            "flex": null,
            "flex_flow": null,
            "grid_area": null,
            "grid_auto_columns": null,
            "grid_auto_flow": null,
            "grid_auto_rows": null,
            "grid_column": null,
            "grid_gap": null,
            "grid_row": null,
            "grid_template_areas": null,
            "grid_template_columns": null,
            "grid_template_rows": null,
            "height": null,
            "justify_content": null,
            "justify_items": null,
            "left": null,
            "margin": null,
            "max_height": null,
            "max_width": null,
            "min_height": null,
            "min_width": null,
            "object_fit": null,
            "object_position": null,
            "order": null,
            "overflow": null,
            "overflow_x": null,
            "overflow_y": null,
            "padding": null,
            "right": null,
            "top": null,
            "visibility": null,
            "width": null
          }
        },
        "9d0fa8251342452b85fa166b8ede4968": {
          "model_module": "@jupyter-widgets/controls",
          "model_name": "DescriptionStyleModel",
          "model_module_version": "1.5.0",
          "state": {
            "_model_module": "@jupyter-widgets/controls",
            "_model_module_version": "1.5.0",
            "_model_name": "DescriptionStyleModel",
            "_view_count": null,
            "_view_module": "@jupyter-widgets/base",
            "_view_module_version": "1.2.0",
            "_view_name": "StyleView",
            "description_width": ""
          }
        },
        "3399c0c627ac4c5eba9b42bca4b19745": {
          "model_module": "@jupyter-widgets/base",
          "model_name": "LayoutModel",
          "model_module_version": "1.2.0",
          "state": {
            "_model_module": "@jupyter-widgets/base",
            "_model_module_version": "1.2.0",
            "_model_name": "LayoutModel",
            "_view_count": null,
            "_view_module": "@jupyter-widgets/base",
            "_view_module_version": "1.2.0",
            "_view_name": "LayoutView",
            "align_content": null,
            "align_items": null,
            "align_self": null,
            "border": null,
            "bottom": null,
            "display": null,
            "flex": null,
            "flex_flow": null,
            "grid_area": null,
            "grid_auto_columns": null,
            "grid_auto_flow": null,
            "grid_auto_rows": null,
            "grid_column": null,
            "grid_gap": null,
            "grid_row": null,
            "grid_template_areas": null,
            "grid_template_columns": null,
            "grid_template_rows": null,
            "height": null,
            "justify_content": null,
            "justify_items": null,
            "left": null,
            "margin": null,
            "max_height": null,
            "max_width": null,
            "min_height": null,
            "min_width": null,
            "object_fit": null,
            "object_position": null,
            "order": null,
            "overflow": null,
            "overflow_x": null,
            "overflow_y": null,
            "padding": null,
            "right": null,
            "top": null,
            "visibility": null,
            "width": null
          }
        },
        "5398b72ac8d74c21b6350a6d61de6300": {
          "model_module": "@jupyter-widgets/controls",
          "model_name": "ProgressStyleModel",
          "model_module_version": "1.5.0",
          "state": {
            "_model_module": "@jupyter-widgets/controls",
            "_model_module_version": "1.5.0",
            "_model_name": "ProgressStyleModel",
            "_view_count": null,
            "_view_module": "@jupyter-widgets/base",
            "_view_module_version": "1.2.0",
            "_view_name": "StyleView",
            "bar_color": null,
            "description_width": ""
          }
        },
        "581c454e8e444a6296e3cc18ac70eb96": {
          "model_module": "@jupyter-widgets/base",
          "model_name": "LayoutModel",
          "model_module_version": "1.2.0",
          "state": {
            "_model_module": "@jupyter-widgets/base",
            "_model_module_version": "1.2.0",
            "_model_name": "LayoutModel",
            "_view_count": null,
            "_view_module": "@jupyter-widgets/base",
            "_view_module_version": "1.2.0",
            "_view_name": "LayoutView",
            "align_content": null,
            "align_items": null,
            "align_self": null,
            "border": null,
            "bottom": null,
            "display": null,
            "flex": null,
            "flex_flow": null,
            "grid_area": null,
            "grid_auto_columns": null,
            "grid_auto_flow": null,
            "grid_auto_rows": null,
            "grid_column": null,
            "grid_gap": null,
            "grid_row": null,
            "grid_template_areas": null,
            "grid_template_columns": null,
            "grid_template_rows": null,
            "height": null,
            "justify_content": null,
            "justify_items": null,
            "left": null,
            "margin": null,
            "max_height": null,
            "max_width": null,
            "min_height": null,
            "min_width": null,
            "object_fit": null,
            "object_position": null,
            "order": null,
            "overflow": null,
            "overflow_x": null,
            "overflow_y": null,
            "padding": null,
            "right": null,
            "top": null,
            "visibility": null,
            "width": null
          }
        },
        "74255edcad3d43a590d0e1c6abc3a88b": {
          "model_module": "@jupyter-widgets/controls",
          "model_name": "DescriptionStyleModel",
          "model_module_version": "1.5.0",
          "state": {
            "_model_module": "@jupyter-widgets/controls",
            "_model_module_version": "1.5.0",
            "_model_name": "DescriptionStyleModel",
            "_view_count": null,
            "_view_module": "@jupyter-widgets/base",
            "_view_module_version": "1.2.0",
            "_view_name": "StyleView",
            "description_width": ""
          }
        },
        "2d4a09f159d4411788ae25ca5df18eb4": {
          "model_module": "@jupyter-widgets/controls",
          "model_name": "HBoxModel",
          "model_module_version": "1.5.0",
          "state": {
            "_dom_classes": [],
            "_model_module": "@jupyter-widgets/controls",
            "_model_module_version": "1.5.0",
            "_model_name": "HBoxModel",
            "_view_count": null,
            "_view_module": "@jupyter-widgets/controls",
            "_view_module_version": "1.5.0",
            "_view_name": "HBoxView",
            "box_style": "",
            "children": [
              "IPY_MODEL_76e0ef67256a4e26beb7a37e751584b1",
              "IPY_MODEL_5aee8191ca7d476ea4788fd5e0d154ba",
              "IPY_MODEL_a05c2177a82a48a4b952b384c6ffb177"
            ],
            "layout": "IPY_MODEL_1dfcf08f8ae142619c2a536410c1d671"
          }
        },
        "76e0ef67256a4e26beb7a37e751584b1": {
          "model_module": "@jupyter-widgets/controls",
          "model_name": "HTMLModel",
          "model_module_version": "1.5.0",
          "state": {
            "_dom_classes": [],
            "_model_module": "@jupyter-widgets/controls",
            "_model_module_version": "1.5.0",
            "_model_name": "HTMLModel",
            "_view_count": null,
            "_view_module": "@jupyter-widgets/controls",
            "_view_module_version": "1.5.0",
            "_view_name": "HTMLView",
            "description": "",
            "description_tooltip": null,
            "layout": "IPY_MODEL_95b5d89acb15462fa82ed53d9eea9ccc",
            "placeholder": "​",
            "style": "IPY_MODEL_dc3f30d58b7a4222bd8a3ea6c1f8360d",
            "value": "config.json: 100%"
          }
        },
        "5aee8191ca7d476ea4788fd5e0d154ba": {
          "model_module": "@jupyter-widgets/controls",
          "model_name": "FloatProgressModel",
          "model_module_version": "1.5.0",
          "state": {
            "_dom_classes": [],
            "_model_module": "@jupyter-widgets/controls",
            "_model_module_version": "1.5.0",
            "_model_name": "FloatProgressModel",
            "_view_count": null,
            "_view_module": "@jupyter-widgets/controls",
            "_view_module_version": "1.5.0",
            "_view_name": "ProgressView",
            "bar_style": "success",
            "description": "",
            "description_tooltip": null,
            "layout": "IPY_MODEL_365ff246ae9f41d89e93ba9e17d2dfab",
            "max": 571,
            "min": 0,
            "orientation": "horizontal",
            "style": "IPY_MODEL_e38da23089dd4e138a6bdfb86168f2e5",
            "value": 571
          }
        },
        "a05c2177a82a48a4b952b384c6ffb177": {
          "model_module": "@jupyter-widgets/controls",
          "model_name": "HTMLModel",
          "model_module_version": "1.5.0",
          "state": {
            "_dom_classes": [],
            "_model_module": "@jupyter-widgets/controls",
            "_model_module_version": "1.5.0",
            "_model_name": "HTMLModel",
            "_view_count": null,
            "_view_module": "@jupyter-widgets/controls",
            "_view_module_version": "1.5.0",
            "_view_name": "HTMLView",
            "description": "",
            "description_tooltip": null,
            "layout": "IPY_MODEL_b94f606150454792a2c2531b3badd843",
            "placeholder": "​",
            "style": "IPY_MODEL_5ffc218d40214934939c493284389f4d",
            "value": " 571/571 [00:00&lt;00:00, 34.6kB/s]"
          }
        },
        "1dfcf08f8ae142619c2a536410c1d671": {
          "model_module": "@jupyter-widgets/base",
          "model_name": "LayoutModel",
          "model_module_version": "1.2.0",
          "state": {
            "_model_module": "@jupyter-widgets/base",
            "_model_module_version": "1.2.0",
            "_model_name": "LayoutModel",
            "_view_count": null,
            "_view_module": "@jupyter-widgets/base",
            "_view_module_version": "1.2.0",
            "_view_name": "LayoutView",
            "align_content": null,
            "align_items": null,
            "align_self": null,
            "border": null,
            "bottom": null,
            "display": null,
            "flex": null,
            "flex_flow": null,
            "grid_area": null,
            "grid_auto_columns": null,
            "grid_auto_flow": null,
            "grid_auto_rows": null,
            "grid_column": null,
            "grid_gap": null,
            "grid_row": null,
            "grid_template_areas": null,
            "grid_template_columns": null,
            "grid_template_rows": null,
            "height": null,
            "justify_content": null,
            "justify_items": null,
            "left": null,
            "margin": null,
            "max_height": null,
            "max_width": null,
            "min_height": null,
            "min_width": null,
            "object_fit": null,
            "object_position": null,
            "order": null,
            "overflow": null,
            "overflow_x": null,
            "overflow_y": null,
            "padding": null,
            "right": null,
            "top": null,
            "visibility": null,
            "width": null
          }
        },
        "95b5d89acb15462fa82ed53d9eea9ccc": {
          "model_module": "@jupyter-widgets/base",
          "model_name": "LayoutModel",
          "model_module_version": "1.2.0",
          "state": {
            "_model_module": "@jupyter-widgets/base",
            "_model_module_version": "1.2.0",
            "_model_name": "LayoutModel",
            "_view_count": null,
            "_view_module": "@jupyter-widgets/base",
            "_view_module_version": "1.2.0",
            "_view_name": "LayoutView",
            "align_content": null,
            "align_items": null,
            "align_self": null,
            "border": null,
            "bottom": null,
            "display": null,
            "flex": null,
            "flex_flow": null,
            "grid_area": null,
            "grid_auto_columns": null,
            "grid_auto_flow": null,
            "grid_auto_rows": null,
            "grid_column": null,
            "grid_gap": null,
            "grid_row": null,
            "grid_template_areas": null,
            "grid_template_columns": null,
            "grid_template_rows": null,
            "height": null,
            "justify_content": null,
            "justify_items": null,
            "left": null,
            "margin": null,
            "max_height": null,
            "max_width": null,
            "min_height": null,
            "min_width": null,
            "object_fit": null,
            "object_position": null,
            "order": null,
            "overflow": null,
            "overflow_x": null,
            "overflow_y": null,
            "padding": null,
            "right": null,
            "top": null,
            "visibility": null,
            "width": null
          }
        },
        "dc3f30d58b7a4222bd8a3ea6c1f8360d": {
          "model_module": "@jupyter-widgets/controls",
          "model_name": "DescriptionStyleModel",
          "model_module_version": "1.5.0",
          "state": {
            "_model_module": "@jupyter-widgets/controls",
            "_model_module_version": "1.5.0",
            "_model_name": "DescriptionStyleModel",
            "_view_count": null,
            "_view_module": "@jupyter-widgets/base",
            "_view_module_version": "1.2.0",
            "_view_name": "StyleView",
            "description_width": ""
          }
        },
        "365ff246ae9f41d89e93ba9e17d2dfab": {
          "model_module": "@jupyter-widgets/base",
          "model_name": "LayoutModel",
          "model_module_version": "1.2.0",
          "state": {
            "_model_module": "@jupyter-widgets/base",
            "_model_module_version": "1.2.0",
            "_model_name": "LayoutModel",
            "_view_count": null,
            "_view_module": "@jupyter-widgets/base",
            "_view_module_version": "1.2.0",
            "_view_name": "LayoutView",
            "align_content": null,
            "align_items": null,
            "align_self": null,
            "border": null,
            "bottom": null,
            "display": null,
            "flex": null,
            "flex_flow": null,
            "grid_area": null,
            "grid_auto_columns": null,
            "grid_auto_flow": null,
            "grid_auto_rows": null,
            "grid_column": null,
            "grid_gap": null,
            "grid_row": null,
            "grid_template_areas": null,
            "grid_template_columns": null,
            "grid_template_rows": null,
            "height": null,
            "justify_content": null,
            "justify_items": null,
            "left": null,
            "margin": null,
            "max_height": null,
            "max_width": null,
            "min_height": null,
            "min_width": null,
            "object_fit": null,
            "object_position": null,
            "order": null,
            "overflow": null,
            "overflow_x": null,
            "overflow_y": null,
            "padding": null,
            "right": null,
            "top": null,
            "visibility": null,
            "width": null
          }
        },
        "e38da23089dd4e138a6bdfb86168f2e5": {
          "model_module": "@jupyter-widgets/controls",
          "model_name": "ProgressStyleModel",
          "model_module_version": "1.5.0",
          "state": {
            "_model_module": "@jupyter-widgets/controls",
            "_model_module_version": "1.5.0",
            "_model_name": "ProgressStyleModel",
            "_view_count": null,
            "_view_module": "@jupyter-widgets/base",
            "_view_module_version": "1.2.0",
            "_view_name": "StyleView",
            "bar_color": null,
            "description_width": ""
          }
        },
        "b94f606150454792a2c2531b3badd843": {
          "model_module": "@jupyter-widgets/base",
          "model_name": "LayoutModel",
          "model_module_version": "1.2.0",
          "state": {
            "_model_module": "@jupyter-widgets/base",
            "_model_module_version": "1.2.0",
            "_model_name": "LayoutModel",
            "_view_count": null,
            "_view_module": "@jupyter-widgets/base",
            "_view_module_version": "1.2.0",
            "_view_name": "LayoutView",
            "align_content": null,
            "align_items": null,
            "align_self": null,
            "border": null,
            "bottom": null,
            "display": null,
            "flex": null,
            "flex_flow": null,
            "grid_area": null,
            "grid_auto_columns": null,
            "grid_auto_flow": null,
            "grid_auto_rows": null,
            "grid_column": null,
            "grid_gap": null,
            "grid_row": null,
            "grid_template_areas": null,
            "grid_template_columns": null,
            "grid_template_rows": null,
            "height": null,
            "justify_content": null,
            "justify_items": null,
            "left": null,
            "margin": null,
            "max_height": null,
            "max_width": null,
            "min_height": null,
            "min_width": null,
            "object_fit": null,
            "object_position": null,
            "order": null,
            "overflow": null,
            "overflow_x": null,
            "overflow_y": null,
            "padding": null,
            "right": null,
            "top": null,
            "visibility": null,
            "width": null
          }
        },
        "5ffc218d40214934939c493284389f4d": {
          "model_module": "@jupyter-widgets/controls",
          "model_name": "DescriptionStyleModel",
          "model_module_version": "1.5.0",
          "state": {
            "_model_module": "@jupyter-widgets/controls",
            "_model_module_version": "1.5.0",
            "_model_name": "DescriptionStyleModel",
            "_view_count": null,
            "_view_module": "@jupyter-widgets/base",
            "_view_module_version": "1.2.0",
            "_view_name": "StyleView",
            "description_width": ""
          }
        },
        "cf703a0b44154ef3921d6155b67a3891": {
          "model_module": "@jupyter-widgets/controls",
          "model_name": "HBoxModel",
          "model_module_version": "1.5.0",
          "state": {
            "_dom_classes": [],
            "_model_module": "@jupyter-widgets/controls",
            "_model_module_version": "1.5.0",
            "_model_name": "HBoxModel",
            "_view_count": null,
            "_view_module": "@jupyter-widgets/controls",
            "_view_module_version": "1.5.0",
            "_view_name": "HBoxView",
            "box_style": "",
            "children": [
              "IPY_MODEL_91ad87eca92942758451e0993dbf9e0e",
              "IPY_MODEL_d5b8742260624757887e3eef3a0cfa51",
              "IPY_MODEL_86fcdbc59941464cbdadb39ae5187bd8"
            ],
            "layout": "IPY_MODEL_18884a8a2e68475785c77ad6a993da01"
          }
        },
        "91ad87eca92942758451e0993dbf9e0e": {
          "model_module": "@jupyter-widgets/controls",
          "model_name": "HTMLModel",
          "model_module_version": "1.5.0",
          "state": {
            "_dom_classes": [],
            "_model_module": "@jupyter-widgets/controls",
            "_model_module_version": "1.5.0",
            "_model_name": "HTMLModel",
            "_view_count": null,
            "_view_module": "@jupyter-widgets/controls",
            "_view_module_version": "1.5.0",
            "_view_name": "HTMLView",
            "description": "",
            "description_tooltip": null,
            "layout": "IPY_MODEL_59d7ea8f4dab4bf69a5f6ea3f67a0ad4",
            "placeholder": "​",
            "style": "IPY_MODEL_e814915450a144868f7dc5d83c8c9a24",
            "value": "model.safetensors: 100%"
          }
        },
        "d5b8742260624757887e3eef3a0cfa51": {
          "model_module": "@jupyter-widgets/controls",
          "model_name": "FloatProgressModel",
          "model_module_version": "1.5.0",
          "state": {
            "_dom_classes": [],
            "_model_module": "@jupyter-widgets/controls",
            "_model_module_version": "1.5.0",
            "_model_name": "FloatProgressModel",
            "_view_count": null,
            "_view_module": "@jupyter-widgets/controls",
            "_view_module_version": "1.5.0",
            "_view_name": "ProgressView",
            "bar_style": "success",
            "description": "",
            "description_tooltip": null,
            "layout": "IPY_MODEL_8d29cae35ecd4861bda62d7851526abe",
            "max": 437971872,
            "min": 0,
            "orientation": "horizontal",
            "style": "IPY_MODEL_ed42d2d68671470f9467b3f8bf257388",
            "value": 437971872
          }
        },
        "86fcdbc59941464cbdadb39ae5187bd8": {
          "model_module": "@jupyter-widgets/controls",
          "model_name": "HTMLModel",
          "model_module_version": "1.5.0",
          "state": {
            "_dom_classes": [],
            "_model_module": "@jupyter-widgets/controls",
            "_model_module_version": "1.5.0",
            "_model_name": "HTMLModel",
            "_view_count": null,
            "_view_module": "@jupyter-widgets/controls",
            "_view_module_version": "1.5.0",
            "_view_name": "HTMLView",
            "description": "",
            "description_tooltip": null,
            "layout": "IPY_MODEL_8d34678ccc96443fa385dc58d9998f57",
            "placeholder": "​",
            "style": "IPY_MODEL_e9d0a20e7bd945b190fa2a13885e2d4a",
            "value": " 438M/438M [00:04&lt;00:00, 97.3MB/s]"
          }
        },
        "18884a8a2e68475785c77ad6a993da01": {
          "model_module": "@jupyter-widgets/base",
          "model_name": "LayoutModel",
          "model_module_version": "1.2.0",
          "state": {
            "_model_module": "@jupyter-widgets/base",
            "_model_module_version": "1.2.0",
            "_model_name": "LayoutModel",
            "_view_count": null,
            "_view_module": "@jupyter-widgets/base",
            "_view_module_version": "1.2.0",
            "_view_name": "LayoutView",
            "align_content": null,
            "align_items": null,
            "align_self": null,
            "border": null,
            "bottom": null,
            "display": null,
            "flex": null,
            "flex_flow": null,
            "grid_area": null,
            "grid_auto_columns": null,
            "grid_auto_flow": null,
            "grid_auto_rows": null,
            "grid_column": null,
            "grid_gap": null,
            "grid_row": null,
            "grid_template_areas": null,
            "grid_template_columns": null,
            "grid_template_rows": null,
            "height": null,
            "justify_content": null,
            "justify_items": null,
            "left": null,
            "margin": null,
            "max_height": null,
            "max_width": null,
            "min_height": null,
            "min_width": null,
            "object_fit": null,
            "object_position": null,
            "order": null,
            "overflow": null,
            "overflow_x": null,
            "overflow_y": null,
            "padding": null,
            "right": null,
            "top": null,
            "visibility": null,
            "width": null
          }
        },
        "59d7ea8f4dab4bf69a5f6ea3f67a0ad4": {
          "model_module": "@jupyter-widgets/base",
          "model_name": "LayoutModel",
          "model_module_version": "1.2.0",
          "state": {
            "_model_module": "@jupyter-widgets/base",
            "_model_module_version": "1.2.0",
            "_model_name": "LayoutModel",
            "_view_count": null,
            "_view_module": "@jupyter-widgets/base",
            "_view_module_version": "1.2.0",
            "_view_name": "LayoutView",
            "align_content": null,
            "align_items": null,
            "align_self": null,
            "border": null,
            "bottom": null,
            "display": null,
            "flex": null,
            "flex_flow": null,
            "grid_area": null,
            "grid_auto_columns": null,
            "grid_auto_flow": null,
            "grid_auto_rows": null,
            "grid_column": null,
            "grid_gap": null,
            "grid_row": null,
            "grid_template_areas": null,
            "grid_template_columns": null,
            "grid_template_rows": null,
            "height": null,
            "justify_content": null,
            "justify_items": null,
            "left": null,
            "margin": null,
            "max_height": null,
            "max_width": null,
            "min_height": null,
            "min_width": null,
            "object_fit": null,
            "object_position": null,
            "order": null,
            "overflow": null,
            "overflow_x": null,
            "overflow_y": null,
            "padding": null,
            "right": null,
            "top": null,
            "visibility": null,
            "width": null
          }
        },
        "e814915450a144868f7dc5d83c8c9a24": {
          "model_module": "@jupyter-widgets/controls",
          "model_name": "DescriptionStyleModel",
          "model_module_version": "1.5.0",
          "state": {
            "_model_module": "@jupyter-widgets/controls",
            "_model_module_version": "1.5.0",
            "_model_name": "DescriptionStyleModel",
            "_view_count": null,
            "_view_module": "@jupyter-widgets/base",
            "_view_module_version": "1.2.0",
            "_view_name": "StyleView",
            "description_width": ""
          }
        },
        "8d29cae35ecd4861bda62d7851526abe": {
          "model_module": "@jupyter-widgets/base",
          "model_name": "LayoutModel",
          "model_module_version": "1.2.0",
          "state": {
            "_model_module": "@jupyter-widgets/base",
            "_model_module_version": "1.2.0",
            "_model_name": "LayoutModel",
            "_view_count": null,
            "_view_module": "@jupyter-widgets/base",
            "_view_module_version": "1.2.0",
            "_view_name": "LayoutView",
            "align_content": null,
            "align_items": null,
            "align_self": null,
            "border": null,
            "bottom": null,
            "display": null,
            "flex": null,
            "flex_flow": null,
            "grid_area": null,
            "grid_auto_columns": null,
            "grid_auto_flow": null,
            "grid_auto_rows": null,
            "grid_column": null,
            "grid_gap": null,
            "grid_row": null,
            "grid_template_areas": null,
            "grid_template_columns": null,
            "grid_template_rows": null,
            "height": null,
            "justify_content": null,
            "justify_items": null,
            "left": null,
            "margin": null,
            "max_height": null,
            "max_width": null,
            "min_height": null,
            "min_width": null,
            "object_fit": null,
            "object_position": null,
            "order": null,
            "overflow": null,
            "overflow_x": null,
            "overflow_y": null,
            "padding": null,
            "right": null,
            "top": null,
            "visibility": null,
            "width": null
          }
        },
        "ed42d2d68671470f9467b3f8bf257388": {
          "model_module": "@jupyter-widgets/controls",
          "model_name": "ProgressStyleModel",
          "model_module_version": "1.5.0",
          "state": {
            "_model_module": "@jupyter-widgets/controls",
            "_model_module_version": "1.5.0",
            "_model_name": "ProgressStyleModel",
            "_view_count": null,
            "_view_module": "@jupyter-widgets/base",
            "_view_module_version": "1.2.0",
            "_view_name": "StyleView",
            "bar_color": null,
            "description_width": ""
          }
        },
        "8d34678ccc96443fa385dc58d9998f57": {
          "model_module": "@jupyter-widgets/base",
          "model_name": "LayoutModel",
          "model_module_version": "1.2.0",
          "state": {
            "_model_module": "@jupyter-widgets/base",
            "_model_module_version": "1.2.0",
            "_model_name": "LayoutModel",
            "_view_count": null,
            "_view_module": "@jupyter-widgets/base",
            "_view_module_version": "1.2.0",
            "_view_name": "LayoutView",
            "align_content": null,
            "align_items": null,
            "align_self": null,
            "border": null,
            "bottom": null,
            "display": null,
            "flex": null,
            "flex_flow": null,
            "grid_area": null,
            "grid_auto_columns": null,
            "grid_auto_flow": null,
            "grid_auto_rows": null,
            "grid_column": null,
            "grid_gap": null,
            "grid_row": null,
            "grid_template_areas": null,
            "grid_template_columns": null,
            "grid_template_rows": null,
            "height": null,
            "justify_content": null,
            "justify_items": null,
            "left": null,
            "margin": null,
            "max_height": null,
            "max_width": null,
            "min_height": null,
            "min_width": null,
            "object_fit": null,
            "object_position": null,
            "order": null,
            "overflow": null,
            "overflow_x": null,
            "overflow_y": null,
            "padding": null,
            "right": null,
            "top": null,
            "visibility": null,
            "width": null
          }
        },
        "e9d0a20e7bd945b190fa2a13885e2d4a": {
          "model_module": "@jupyter-widgets/controls",
          "model_name": "DescriptionStyleModel",
          "model_module_version": "1.5.0",
          "state": {
            "_model_module": "@jupyter-widgets/controls",
            "_model_module_version": "1.5.0",
            "_model_name": "DescriptionStyleModel",
            "_view_count": null,
            "_view_module": "@jupyter-widgets/base",
            "_view_module_version": "1.2.0",
            "_view_name": "StyleView",
            "description_width": ""
          }
        },
        "2b027c9153ae4aac95e2e6f0dfa31d27": {
          "model_module": "@jupyter-widgets/controls",
          "model_name": "HBoxModel",
          "model_module_version": "1.5.0",
          "state": {
            "_dom_classes": [],
            "_model_module": "@jupyter-widgets/controls",
            "_model_module_version": "1.5.0",
            "_model_name": "HBoxModel",
            "_view_count": null,
            "_view_module": "@jupyter-widgets/controls",
            "_view_module_version": "1.5.0",
            "_view_name": "HBoxView",
            "box_style": "",
            "children": [
              "IPY_MODEL_edd5c2b3fd98451696a0e79b2eb839d3",
              "IPY_MODEL_e991adeee8864a76af0febdea714104a",
              "IPY_MODEL_a6faafd7914c491a8c27eb86956ec95f"
            ],
            "layout": "IPY_MODEL_53f7c9bf710e46c2b7c5aca7601a2d49"
          }
        },
        "edd5c2b3fd98451696a0e79b2eb839d3": {
          "model_module": "@jupyter-widgets/controls",
          "model_name": "HTMLModel",
          "model_module_version": "1.5.0",
          "state": {
            "_dom_classes": [],
            "_model_module": "@jupyter-widgets/controls",
            "_model_module_version": "1.5.0",
            "_model_name": "HTMLModel",
            "_view_count": null,
            "_view_module": "@jupyter-widgets/controls",
            "_view_module_version": "1.5.0",
            "_view_name": "HTMLView",
            "description": "",
            "description_tooltip": null,
            "layout": "IPY_MODEL_6738f8c4dbe54ca4943000bc53a738d1",
            "placeholder": "​",
            "style": "IPY_MODEL_0be69fb5aa4e4cd99c04a1d14dc338ca",
            "value": "tokenizer_config.json: 100%"
          }
        },
        "e991adeee8864a76af0febdea714104a": {
          "model_module": "@jupyter-widgets/controls",
          "model_name": "FloatProgressModel",
          "model_module_version": "1.5.0",
          "state": {
            "_dom_classes": [],
            "_model_module": "@jupyter-widgets/controls",
            "_model_module_version": "1.5.0",
            "_model_name": "FloatProgressModel",
            "_view_count": null,
            "_view_module": "@jupyter-widgets/controls",
            "_view_module_version": "1.5.0",
            "_view_name": "ProgressView",
            "bar_style": "success",
            "description": "",
            "description_tooltip": null,
            "layout": "IPY_MODEL_3f9508f9fae24f21959c665e622a5c7a",
            "max": 363,
            "min": 0,
            "orientation": "horizontal",
            "style": "IPY_MODEL_d8bd90d2ee6a4db19880d831e9370396",
            "value": 363
          }
        },
        "a6faafd7914c491a8c27eb86956ec95f": {
          "model_module": "@jupyter-widgets/controls",
          "model_name": "HTMLModel",
          "model_module_version": "1.5.0",
          "state": {
            "_dom_classes": [],
            "_model_module": "@jupyter-widgets/controls",
            "_model_module_version": "1.5.0",
            "_model_name": "HTMLModel",
            "_view_count": null,
            "_view_module": "@jupyter-widgets/controls",
            "_view_module_version": "1.5.0",
            "_view_name": "HTMLView",
            "description": "",
            "description_tooltip": null,
            "layout": "IPY_MODEL_ea1aa598856940359374ff77ff2500fb",
            "placeholder": "​",
            "style": "IPY_MODEL_561a1c7805ca481f9d3727b7ff5c003a",
            "value": " 363/363 [00:00&lt;00:00, 10.1kB/s]"
          }
        },
        "53f7c9bf710e46c2b7c5aca7601a2d49": {
          "model_module": "@jupyter-widgets/base",
          "model_name": "LayoutModel",
          "model_module_version": "1.2.0",
          "state": {
            "_model_module": "@jupyter-widgets/base",
            "_model_module_version": "1.2.0",
            "_model_name": "LayoutModel",
            "_view_count": null,
            "_view_module": "@jupyter-widgets/base",
            "_view_module_version": "1.2.0",
            "_view_name": "LayoutView",
            "align_content": null,
            "align_items": null,
            "align_self": null,
            "border": null,
            "bottom": null,
            "display": null,
            "flex": null,
            "flex_flow": null,
            "grid_area": null,
            "grid_auto_columns": null,
            "grid_auto_flow": null,
            "grid_auto_rows": null,
            "grid_column": null,
            "grid_gap": null,
            "grid_row": null,
            "grid_template_areas": null,
            "grid_template_columns": null,
            "grid_template_rows": null,
            "height": null,
            "justify_content": null,
            "justify_items": null,
            "left": null,
            "margin": null,
            "max_height": null,
            "max_width": null,
            "min_height": null,
            "min_width": null,
            "object_fit": null,
            "object_position": null,
            "order": null,
            "overflow": null,
            "overflow_x": null,
            "overflow_y": null,
            "padding": null,
            "right": null,
            "top": null,
            "visibility": null,
            "width": null
          }
        },
        "6738f8c4dbe54ca4943000bc53a738d1": {
          "model_module": "@jupyter-widgets/base",
          "model_name": "LayoutModel",
          "model_module_version": "1.2.0",
          "state": {
            "_model_module": "@jupyter-widgets/base",
            "_model_module_version": "1.2.0",
            "_model_name": "LayoutModel",
            "_view_count": null,
            "_view_module": "@jupyter-widgets/base",
            "_view_module_version": "1.2.0",
            "_view_name": "LayoutView",
            "align_content": null,
            "align_items": null,
            "align_self": null,
            "border": null,
            "bottom": null,
            "display": null,
            "flex": null,
            "flex_flow": null,
            "grid_area": null,
            "grid_auto_columns": null,
            "grid_auto_flow": null,
            "grid_auto_rows": null,
            "grid_column": null,
            "grid_gap": null,
            "grid_row": null,
            "grid_template_areas": null,
            "grid_template_columns": null,
            "grid_template_rows": null,
            "height": null,
            "justify_content": null,
            "justify_items": null,
            "left": null,
            "margin": null,
            "max_height": null,
            "max_width": null,
            "min_height": null,
            "min_width": null,
            "object_fit": null,
            "object_position": null,
            "order": null,
            "overflow": null,
            "overflow_x": null,
            "overflow_y": null,
            "padding": null,
            "right": null,
            "top": null,
            "visibility": null,
            "width": null
          }
        },
        "0be69fb5aa4e4cd99c04a1d14dc338ca": {
          "model_module": "@jupyter-widgets/controls",
          "model_name": "DescriptionStyleModel",
          "model_module_version": "1.5.0",
          "state": {
            "_model_module": "@jupyter-widgets/controls",
            "_model_module_version": "1.5.0",
            "_model_name": "DescriptionStyleModel",
            "_view_count": null,
            "_view_module": "@jupyter-widgets/base",
            "_view_module_version": "1.2.0",
            "_view_name": "StyleView",
            "description_width": ""
          }
        },
        "3f9508f9fae24f21959c665e622a5c7a": {
          "model_module": "@jupyter-widgets/base",
          "model_name": "LayoutModel",
          "model_module_version": "1.2.0",
          "state": {
            "_model_module": "@jupyter-widgets/base",
            "_model_module_version": "1.2.0",
            "_model_name": "LayoutModel",
            "_view_count": null,
            "_view_module": "@jupyter-widgets/base",
            "_view_module_version": "1.2.0",
            "_view_name": "LayoutView",
            "align_content": null,
            "align_items": null,
            "align_self": null,
            "border": null,
            "bottom": null,
            "display": null,
            "flex": null,
            "flex_flow": null,
            "grid_area": null,
            "grid_auto_columns": null,
            "grid_auto_flow": null,
            "grid_auto_rows": null,
            "grid_column": null,
            "grid_gap": null,
            "grid_row": null,
            "grid_template_areas": null,
            "grid_template_columns": null,
            "grid_template_rows": null,
            "height": null,
            "justify_content": null,
            "justify_items": null,
            "left": null,
            "margin": null,
            "max_height": null,
            "max_width": null,
            "min_height": null,
            "min_width": null,
            "object_fit": null,
            "object_position": null,
            "order": null,
            "overflow": null,
            "overflow_x": null,
            "overflow_y": null,
            "padding": null,
            "right": null,
            "top": null,
            "visibility": null,
            "width": null
          }
        },
        "d8bd90d2ee6a4db19880d831e9370396": {
          "model_module": "@jupyter-widgets/controls",
          "model_name": "ProgressStyleModel",
          "model_module_version": "1.5.0",
          "state": {
            "_model_module": "@jupyter-widgets/controls",
            "_model_module_version": "1.5.0",
            "_model_name": "ProgressStyleModel",
            "_view_count": null,
            "_view_module": "@jupyter-widgets/base",
            "_view_module_version": "1.2.0",
            "_view_name": "StyleView",
            "bar_color": null,
            "description_width": ""
          }
        },
        "ea1aa598856940359374ff77ff2500fb": {
          "model_module": "@jupyter-widgets/base",
          "model_name": "LayoutModel",
          "model_module_version": "1.2.0",
          "state": {
            "_model_module": "@jupyter-widgets/base",
            "_model_module_version": "1.2.0",
            "_model_name": "LayoutModel",
            "_view_count": null,
            "_view_module": "@jupyter-widgets/base",
            "_view_module_version": "1.2.0",
            "_view_name": "LayoutView",
            "align_content": null,
            "align_items": null,
            "align_self": null,
            "border": null,
            "bottom": null,
            "display": null,
            "flex": null,
            "flex_flow": null,
            "grid_area": null,
            "grid_auto_columns": null,
            "grid_auto_flow": null,
            "grid_auto_rows": null,
            "grid_column": null,
            "grid_gap": null,
            "grid_row": null,
            "grid_template_areas": null,
            "grid_template_columns": null,
            "grid_template_rows": null,
            "height": null,
            "justify_content": null,
            "justify_items": null,
            "left": null,
            "margin": null,
            "max_height": null,
            "max_width": null,
            "min_height": null,
            "min_width": null,
            "object_fit": null,
            "object_position": null,
            "order": null,
            "overflow": null,
            "overflow_x": null,
            "overflow_y": null,
            "padding": null,
            "right": null,
            "top": null,
            "visibility": null,
            "width": null
          }
        },
        "561a1c7805ca481f9d3727b7ff5c003a": {
          "model_module": "@jupyter-widgets/controls",
          "model_name": "DescriptionStyleModel",
          "model_module_version": "1.5.0",
          "state": {
            "_model_module": "@jupyter-widgets/controls",
            "_model_module_version": "1.5.0",
            "_model_name": "DescriptionStyleModel",
            "_view_count": null,
            "_view_module": "@jupyter-widgets/base",
            "_view_module_version": "1.2.0",
            "_view_name": "StyleView",
            "description_width": ""
          }
        },
        "6c3273abe3a04c1ab436ad9c7b1b213b": {
          "model_module": "@jupyter-widgets/controls",
          "model_name": "HBoxModel",
          "model_module_version": "1.5.0",
          "state": {
            "_dom_classes": [],
            "_model_module": "@jupyter-widgets/controls",
            "_model_module_version": "1.5.0",
            "_model_name": "HBoxModel",
            "_view_count": null,
            "_view_module": "@jupyter-widgets/controls",
            "_view_module_version": "1.5.0",
            "_view_name": "HBoxView",
            "box_style": "",
            "children": [
              "IPY_MODEL_dcb65f84d1c940018494960860b7d061",
              "IPY_MODEL_769c37e5dd9d413e9304959a59e50384",
              "IPY_MODEL_21d896b5264b4c16be94f49003ff1b98"
            ],
            "layout": "IPY_MODEL_8c366b9f47094d699e8e76fcf48b6128"
          }
        },
        "dcb65f84d1c940018494960860b7d061": {
          "model_module": "@jupyter-widgets/controls",
          "model_name": "HTMLModel",
          "model_module_version": "1.5.0",
          "state": {
            "_dom_classes": [],
            "_model_module": "@jupyter-widgets/controls",
            "_model_module_version": "1.5.0",
            "_model_name": "HTMLModel",
            "_view_count": null,
            "_view_module": "@jupyter-widgets/controls",
            "_view_module_version": "1.5.0",
            "_view_name": "HTMLView",
            "description": "",
            "description_tooltip": null,
            "layout": "IPY_MODEL_40f8103c7f074a808abbc50cc18ae510",
            "placeholder": "​",
            "style": "IPY_MODEL_b3c94fc3b016478783689d17ded1f8ba",
            "value": "vocab.txt: 100%"
          }
        },
        "769c37e5dd9d413e9304959a59e50384": {
          "model_module": "@jupyter-widgets/controls",
          "model_name": "FloatProgressModel",
          "model_module_version": "1.5.0",
          "state": {
            "_dom_classes": [],
            "_model_module": "@jupyter-widgets/controls",
            "_model_module_version": "1.5.0",
            "_model_name": "FloatProgressModel",
            "_view_count": null,
            "_view_module": "@jupyter-widgets/controls",
            "_view_module_version": "1.5.0",
            "_view_name": "ProgressView",
            "bar_style": "success",
            "description": "",
            "description_tooltip": null,
            "layout": "IPY_MODEL_e65447faeadb4fb3a185afb257394ea7",
            "max": 231536,
            "min": 0,
            "orientation": "horizontal",
            "style": "IPY_MODEL_74349b7356534539adb30f799f94d28b",
            "value": 231536
          }
        },
        "21d896b5264b4c16be94f49003ff1b98": {
          "model_module": "@jupyter-widgets/controls",
          "model_name": "HTMLModel",
          "model_module_version": "1.5.0",
          "state": {
            "_dom_classes": [],
            "_model_module": "@jupyter-widgets/controls",
            "_model_module_version": "1.5.0",
            "_model_name": "HTMLModel",
            "_view_count": null,
            "_view_module": "@jupyter-widgets/controls",
            "_view_module_version": "1.5.0",
            "_view_name": "HTMLView",
            "description": "",
            "description_tooltip": null,
            "layout": "IPY_MODEL_044f78ad53114b5c81f859685328ab83",
            "placeholder": "​",
            "style": "IPY_MODEL_a81e0d2e0cb24b8ebbe5d53c505a1865",
            "value": " 232k/232k [00:00&lt;00:00, 1.41MB/s]"
          }
        },
        "8c366b9f47094d699e8e76fcf48b6128": {
          "model_module": "@jupyter-widgets/base",
          "model_name": "LayoutModel",
          "model_module_version": "1.2.0",
          "state": {
            "_model_module": "@jupyter-widgets/base",
            "_model_module_version": "1.2.0",
            "_model_name": "LayoutModel",
            "_view_count": null,
            "_view_module": "@jupyter-widgets/base",
            "_view_module_version": "1.2.0",
            "_view_name": "LayoutView",
            "align_content": null,
            "align_items": null,
            "align_self": null,
            "border": null,
            "bottom": null,
            "display": null,
            "flex": null,
            "flex_flow": null,
            "grid_area": null,
            "grid_auto_columns": null,
            "grid_auto_flow": null,
            "grid_auto_rows": null,
            "grid_column": null,
            "grid_gap": null,
            "grid_row": null,
            "grid_template_areas": null,
            "grid_template_columns": null,
            "grid_template_rows": null,
            "height": null,
            "justify_content": null,
            "justify_items": null,
            "left": null,
            "margin": null,
            "max_height": null,
            "max_width": null,
            "min_height": null,
            "min_width": null,
            "object_fit": null,
            "object_position": null,
            "order": null,
            "overflow": null,
            "overflow_x": null,
            "overflow_y": null,
            "padding": null,
            "right": null,
            "top": null,
            "visibility": null,
            "width": null
          }
        },
        "40f8103c7f074a808abbc50cc18ae510": {
          "model_module": "@jupyter-widgets/base",
          "model_name": "LayoutModel",
          "model_module_version": "1.2.0",
          "state": {
            "_model_module": "@jupyter-widgets/base",
            "_model_module_version": "1.2.0",
            "_model_name": "LayoutModel",
            "_view_count": null,
            "_view_module": "@jupyter-widgets/base",
            "_view_module_version": "1.2.0",
            "_view_name": "LayoutView",
            "align_content": null,
            "align_items": null,
            "align_self": null,
            "border": null,
            "bottom": null,
            "display": null,
            "flex": null,
            "flex_flow": null,
            "grid_area": null,
            "grid_auto_columns": null,
            "grid_auto_flow": null,
            "grid_auto_rows": null,
            "grid_column": null,
            "grid_gap": null,
            "grid_row": null,
            "grid_template_areas": null,
            "grid_template_columns": null,
            "grid_template_rows": null,
            "height": null,
            "justify_content": null,
            "justify_items": null,
            "left": null,
            "margin": null,
            "max_height": null,
            "max_width": null,
            "min_height": null,
            "min_width": null,
            "object_fit": null,
            "object_position": null,
            "order": null,
            "overflow": null,
            "overflow_x": null,
            "overflow_y": null,
            "padding": null,
            "right": null,
            "top": null,
            "visibility": null,
            "width": null
          }
        },
        "b3c94fc3b016478783689d17ded1f8ba": {
          "model_module": "@jupyter-widgets/controls",
          "model_name": "DescriptionStyleModel",
          "model_module_version": "1.5.0",
          "state": {
            "_model_module": "@jupyter-widgets/controls",
            "_model_module_version": "1.5.0",
            "_model_name": "DescriptionStyleModel",
            "_view_count": null,
            "_view_module": "@jupyter-widgets/base",
            "_view_module_version": "1.2.0",
            "_view_name": "StyleView",
            "description_width": ""
          }
        },
        "e65447faeadb4fb3a185afb257394ea7": {
          "model_module": "@jupyter-widgets/base",
          "model_name": "LayoutModel",
          "model_module_version": "1.2.0",
          "state": {
            "_model_module": "@jupyter-widgets/base",
            "_model_module_version": "1.2.0",
            "_model_name": "LayoutModel",
            "_view_count": null,
            "_view_module": "@jupyter-widgets/base",
            "_view_module_version": "1.2.0",
            "_view_name": "LayoutView",
            "align_content": null,
            "align_items": null,
            "align_self": null,
            "border": null,
            "bottom": null,
            "display": null,
            "flex": null,
            "flex_flow": null,
            "grid_area": null,
            "grid_auto_columns": null,
            "grid_auto_flow": null,
            "grid_auto_rows": null,
            "grid_column": null,
            "grid_gap": null,
            "grid_row": null,
            "grid_template_areas": null,
            "grid_template_columns": null,
            "grid_template_rows": null,
            "height": null,
            "justify_content": null,
            "justify_items": null,
            "left": null,
            "margin": null,
            "max_height": null,
            "max_width": null,
            "min_height": null,
            "min_width": null,
            "object_fit": null,
            "object_position": null,
            "order": null,
            "overflow": null,
            "overflow_x": null,
            "overflow_y": null,
            "padding": null,
            "right": null,
            "top": null,
            "visibility": null,
            "width": null
          }
        },
        "74349b7356534539adb30f799f94d28b": {
          "model_module": "@jupyter-widgets/controls",
          "model_name": "ProgressStyleModel",
          "model_module_version": "1.5.0",
          "state": {
            "_model_module": "@jupyter-widgets/controls",
            "_model_module_version": "1.5.0",
            "_model_name": "ProgressStyleModel",
            "_view_count": null,
            "_view_module": "@jupyter-widgets/base",
            "_view_module_version": "1.2.0",
            "_view_name": "StyleView",
            "bar_color": null,
            "description_width": ""
          }
        },
        "044f78ad53114b5c81f859685328ab83": {
          "model_module": "@jupyter-widgets/base",
          "model_name": "LayoutModel",
          "model_module_version": "1.2.0",
          "state": {
            "_model_module": "@jupyter-widgets/base",
            "_model_module_version": "1.2.0",
            "_model_name": "LayoutModel",
            "_view_count": null,
            "_view_module": "@jupyter-widgets/base",
            "_view_module_version": "1.2.0",
            "_view_name": "LayoutView",
            "align_content": null,
            "align_items": null,
            "align_self": null,
            "border": null,
            "bottom": null,
            "display": null,
            "flex": null,
            "flex_flow": null,
            "grid_area": null,
            "grid_auto_columns": null,
            "grid_auto_flow": null,
            "grid_auto_rows": null,
            "grid_column": null,
            "grid_gap": null,
            "grid_row": null,
            "grid_template_areas": null,
            "grid_template_columns": null,
            "grid_template_rows": null,
            "height": null,
            "justify_content": null,
            "justify_items": null,
            "left": null,
            "margin": null,
            "max_height": null,
            "max_width": null,
            "min_height": null,
            "min_width": null,
            "object_fit": null,
            "object_position": null,
            "order": null,
            "overflow": null,
            "overflow_x": null,
            "overflow_y": null,
            "padding": null,
            "right": null,
            "top": null,
            "visibility": null,
            "width": null
          }
        },
        "a81e0d2e0cb24b8ebbe5d53c505a1865": {
          "model_module": "@jupyter-widgets/controls",
          "model_name": "DescriptionStyleModel",
          "model_module_version": "1.5.0",
          "state": {
            "_model_module": "@jupyter-widgets/controls",
            "_model_module_version": "1.5.0",
            "_model_name": "DescriptionStyleModel",
            "_view_count": null,
            "_view_module": "@jupyter-widgets/base",
            "_view_module_version": "1.2.0",
            "_view_name": "StyleView",
            "description_width": ""
          }
        },
        "803e216d25b0417d9ceebfa364f1c6f7": {
          "model_module": "@jupyter-widgets/controls",
          "model_name": "HBoxModel",
          "model_module_version": "1.5.0",
          "state": {
            "_dom_classes": [],
            "_model_module": "@jupyter-widgets/controls",
            "_model_module_version": "1.5.0",
            "_model_name": "HBoxModel",
            "_view_count": null,
            "_view_module": "@jupyter-widgets/controls",
            "_view_module_version": "1.5.0",
            "_view_name": "HBoxView",
            "box_style": "",
            "children": [
              "IPY_MODEL_7fb9f6a5d27847b8b523acc6cccdc3fc",
              "IPY_MODEL_132ff9b3c51b415c8f8a958b9b486214",
              "IPY_MODEL_5752ae2d2bb54154b438d1a0871760eb"
            ],
            "layout": "IPY_MODEL_d8116a48a2e94ea0b05dd14595b9c5da"
          }
        },
        "7fb9f6a5d27847b8b523acc6cccdc3fc": {
          "model_module": "@jupyter-widgets/controls",
          "model_name": "HTMLModel",
          "model_module_version": "1.5.0",
          "state": {
            "_dom_classes": [],
            "_model_module": "@jupyter-widgets/controls",
            "_model_module_version": "1.5.0",
            "_model_name": "HTMLModel",
            "_view_count": null,
            "_view_module": "@jupyter-widgets/controls",
            "_view_module_version": "1.5.0",
            "_view_name": "HTMLView",
            "description": "",
            "description_tooltip": null,
            "layout": "IPY_MODEL_83c28173b2064f81816598a006964eea",
            "placeholder": "​",
            "style": "IPY_MODEL_6aa7a40bd3504e3abd360aae34bc3627",
            "value": "tokenizer.json: 100%"
          }
        },
        "132ff9b3c51b415c8f8a958b9b486214": {
          "model_module": "@jupyter-widgets/controls",
          "model_name": "FloatProgressModel",
          "model_module_version": "1.5.0",
          "state": {
            "_dom_classes": [],
            "_model_module": "@jupyter-widgets/controls",
            "_model_module_version": "1.5.0",
            "_model_name": "FloatProgressModel",
            "_view_count": null,
            "_view_module": "@jupyter-widgets/controls",
            "_view_module_version": "1.5.0",
            "_view_name": "ProgressView",
            "bar_style": "success",
            "description": "",
            "description_tooltip": null,
            "layout": "IPY_MODEL_8dbed8a319914a1fbfe3d0b4c386a4cc",
            "max": 466021,
            "min": 0,
            "orientation": "horizontal",
            "style": "IPY_MODEL_ac4c3dd4340d487192a856b30bad03bd",
            "value": 466021
          }
        },
        "5752ae2d2bb54154b438d1a0871760eb": {
          "model_module": "@jupyter-widgets/controls",
          "model_name": "HTMLModel",
          "model_module_version": "1.5.0",
          "state": {
            "_dom_classes": [],
            "_model_module": "@jupyter-widgets/controls",
            "_model_module_version": "1.5.0",
            "_model_name": "HTMLModel",
            "_view_count": null,
            "_view_module": "@jupyter-widgets/controls",
            "_view_module_version": "1.5.0",
            "_view_name": "HTMLView",
            "description": "",
            "description_tooltip": null,
            "layout": "IPY_MODEL_1f5ed9e2c9b240ac9925efc8ecf3f5f2",
            "placeholder": "​",
            "style": "IPY_MODEL_fe09d424101f466496a89405e5faa089",
            "value": " 466k/466k [00:00&lt;00:00, 1.91MB/s]"
          }
        },
        "d8116a48a2e94ea0b05dd14595b9c5da": {
          "model_module": "@jupyter-widgets/base",
          "model_name": "LayoutModel",
          "model_module_version": "1.2.0",
          "state": {
            "_model_module": "@jupyter-widgets/base",
            "_model_module_version": "1.2.0",
            "_model_name": "LayoutModel",
            "_view_count": null,
            "_view_module": "@jupyter-widgets/base",
            "_view_module_version": "1.2.0",
            "_view_name": "LayoutView",
            "align_content": null,
            "align_items": null,
            "align_self": null,
            "border": null,
            "bottom": null,
            "display": null,
            "flex": null,
            "flex_flow": null,
            "grid_area": null,
            "grid_auto_columns": null,
            "grid_auto_flow": null,
            "grid_auto_rows": null,
            "grid_column": null,
            "grid_gap": null,
            "grid_row": null,
            "grid_template_areas": null,
            "grid_template_columns": null,
            "grid_template_rows": null,
            "height": null,
            "justify_content": null,
            "justify_items": null,
            "left": null,
            "margin": null,
            "max_height": null,
            "max_width": null,
            "min_height": null,
            "min_width": null,
            "object_fit": null,
            "object_position": null,
            "order": null,
            "overflow": null,
            "overflow_x": null,
            "overflow_y": null,
            "padding": null,
            "right": null,
            "top": null,
            "visibility": null,
            "width": null
          }
        },
        "83c28173b2064f81816598a006964eea": {
          "model_module": "@jupyter-widgets/base",
          "model_name": "LayoutModel",
          "model_module_version": "1.2.0",
          "state": {
            "_model_module": "@jupyter-widgets/base",
            "_model_module_version": "1.2.0",
            "_model_name": "LayoutModel",
            "_view_count": null,
            "_view_module": "@jupyter-widgets/base",
            "_view_module_version": "1.2.0",
            "_view_name": "LayoutView",
            "align_content": null,
            "align_items": null,
            "align_self": null,
            "border": null,
            "bottom": null,
            "display": null,
            "flex": null,
            "flex_flow": null,
            "grid_area": null,
            "grid_auto_columns": null,
            "grid_auto_flow": null,
            "grid_auto_rows": null,
            "grid_column": null,
            "grid_gap": null,
            "grid_row": null,
            "grid_template_areas": null,
            "grid_template_columns": null,
            "grid_template_rows": null,
            "height": null,
            "justify_content": null,
            "justify_items": null,
            "left": null,
            "margin": null,
            "max_height": null,
            "max_width": null,
            "min_height": null,
            "min_width": null,
            "object_fit": null,
            "object_position": null,
            "order": null,
            "overflow": null,
            "overflow_x": null,
            "overflow_y": null,
            "padding": null,
            "right": null,
            "top": null,
            "visibility": null,
            "width": null
          }
        },
        "6aa7a40bd3504e3abd360aae34bc3627": {
          "model_module": "@jupyter-widgets/controls",
          "model_name": "DescriptionStyleModel",
          "model_module_version": "1.5.0",
          "state": {
            "_model_module": "@jupyter-widgets/controls",
            "_model_module_version": "1.5.0",
            "_model_name": "DescriptionStyleModel",
            "_view_count": null,
            "_view_module": "@jupyter-widgets/base",
            "_view_module_version": "1.2.0",
            "_view_name": "StyleView",
            "description_width": ""
          }
        },
        "8dbed8a319914a1fbfe3d0b4c386a4cc": {
          "model_module": "@jupyter-widgets/base",
          "model_name": "LayoutModel",
          "model_module_version": "1.2.0",
          "state": {
            "_model_module": "@jupyter-widgets/base",
            "_model_module_version": "1.2.0",
            "_model_name": "LayoutModel",
            "_view_count": null,
            "_view_module": "@jupyter-widgets/base",
            "_view_module_version": "1.2.0",
            "_view_name": "LayoutView",
            "align_content": null,
            "align_items": null,
            "align_self": null,
            "border": null,
            "bottom": null,
            "display": null,
            "flex": null,
            "flex_flow": null,
            "grid_area": null,
            "grid_auto_columns": null,
            "grid_auto_flow": null,
            "grid_auto_rows": null,
            "grid_column": null,
            "grid_gap": null,
            "grid_row": null,
            "grid_template_areas": null,
            "grid_template_columns": null,
            "grid_template_rows": null,
            "height": null,
            "justify_content": null,
            "justify_items": null,
            "left": null,
            "margin": null,
            "max_height": null,
            "max_width": null,
            "min_height": null,
            "min_width": null,
            "object_fit": null,
            "object_position": null,
            "order": null,
            "overflow": null,
            "overflow_x": null,
            "overflow_y": null,
            "padding": null,
            "right": null,
            "top": null,
            "visibility": null,
            "width": null
          }
        },
        "ac4c3dd4340d487192a856b30bad03bd": {
          "model_module": "@jupyter-widgets/controls",
          "model_name": "ProgressStyleModel",
          "model_module_version": "1.5.0",
          "state": {
            "_model_module": "@jupyter-widgets/controls",
            "_model_module_version": "1.5.0",
            "_model_name": "ProgressStyleModel",
            "_view_count": null,
            "_view_module": "@jupyter-widgets/base",
            "_view_module_version": "1.2.0",
            "_view_name": "StyleView",
            "bar_color": null,
            "description_width": ""
          }
        },
        "1f5ed9e2c9b240ac9925efc8ecf3f5f2": {
          "model_module": "@jupyter-widgets/base",
          "model_name": "LayoutModel",
          "model_module_version": "1.2.0",
          "state": {
            "_model_module": "@jupyter-widgets/base",
            "_model_module_version": "1.2.0",
            "_model_name": "LayoutModel",
            "_view_count": null,
            "_view_module": "@jupyter-widgets/base",
            "_view_module_version": "1.2.0",
            "_view_name": "LayoutView",
            "align_content": null,
            "align_items": null,
            "align_self": null,
            "border": null,
            "bottom": null,
            "display": null,
            "flex": null,
            "flex_flow": null,
            "grid_area": null,
            "grid_auto_columns": null,
            "grid_auto_flow": null,
            "grid_auto_rows": null,
            "grid_column": null,
            "grid_gap": null,
            "grid_row": null,
            "grid_template_areas": null,
            "grid_template_columns": null,
            "grid_template_rows": null,
            "height": null,
            "justify_content": null,
            "justify_items": null,
            "left": null,
            "margin": null,
            "max_height": null,
            "max_width": null,
            "min_height": null,
            "min_width": null,
            "object_fit": null,
            "object_position": null,
            "order": null,
            "overflow": null,
            "overflow_x": null,
            "overflow_y": null,
            "padding": null,
            "right": null,
            "top": null,
            "visibility": null,
            "width": null
          }
        },
        "fe09d424101f466496a89405e5faa089": {
          "model_module": "@jupyter-widgets/controls",
          "model_name": "DescriptionStyleModel",
          "model_module_version": "1.5.0",
          "state": {
            "_model_module": "@jupyter-widgets/controls",
            "_model_module_version": "1.5.0",
            "_model_name": "DescriptionStyleModel",
            "_view_count": null,
            "_view_module": "@jupyter-widgets/base",
            "_view_module_version": "1.2.0",
            "_view_name": "StyleView",
            "description_width": ""
          }
        },
        "3b5a25662d464dde9e730c0bfc51473c": {
          "model_module": "@jupyter-widgets/controls",
          "model_name": "HBoxModel",
          "model_module_version": "1.5.0",
          "state": {
            "_dom_classes": [],
            "_model_module": "@jupyter-widgets/controls",
            "_model_module_version": "1.5.0",
            "_model_name": "HBoxModel",
            "_view_count": null,
            "_view_module": "@jupyter-widgets/controls",
            "_view_module_version": "1.5.0",
            "_view_name": "HBoxView",
            "box_style": "",
            "children": [
              "IPY_MODEL_53830014df74443ea226c9f51d943d4c",
              "IPY_MODEL_795bb62daaf449e2910b9ee0c0d43c1a",
              "IPY_MODEL_3361e54bcb624268a847fd2995c0eb2d"
            ],
            "layout": "IPY_MODEL_f7d7bf85d7174e3c835224cabf053023"
          }
        },
        "53830014df74443ea226c9f51d943d4c": {
          "model_module": "@jupyter-widgets/controls",
          "model_name": "HTMLModel",
          "model_module_version": "1.5.0",
          "state": {
            "_dom_classes": [],
            "_model_module": "@jupyter-widgets/controls",
            "_model_module_version": "1.5.0",
            "_model_name": "HTMLModel",
            "_view_count": null,
            "_view_module": "@jupyter-widgets/controls",
            "_view_module_version": "1.5.0",
            "_view_name": "HTMLView",
            "description": "",
            "description_tooltip": null,
            "layout": "IPY_MODEL_860affeaa2e6475595867a8138032a0b",
            "placeholder": "​",
            "style": "IPY_MODEL_9b97a3ab64e34aeab3ed594fffd7b19c",
            "value": "special_tokens_map.json: 100%"
          }
        },
        "795bb62daaf449e2910b9ee0c0d43c1a": {
          "model_module": "@jupyter-widgets/controls",
          "model_name": "FloatProgressModel",
          "model_module_version": "1.5.0",
          "state": {
            "_dom_classes": [],
            "_model_module": "@jupyter-widgets/controls",
            "_model_module_version": "1.5.0",
            "_model_name": "FloatProgressModel",
            "_view_count": null,
            "_view_module": "@jupyter-widgets/controls",
            "_view_module_version": "1.5.0",
            "_view_name": "ProgressView",
            "bar_style": "success",
            "description": "",
            "description_tooltip": null,
            "layout": "IPY_MODEL_a408b97d2b204b49ab8941297641e6af",
            "max": 239,
            "min": 0,
            "orientation": "horizontal",
            "style": "IPY_MODEL_cb56547587d74005896353ebd722f0b2",
            "value": 239
          }
        },
        "3361e54bcb624268a847fd2995c0eb2d": {
          "model_module": "@jupyter-widgets/controls",
          "model_name": "HTMLModel",
          "model_module_version": "1.5.0",
          "state": {
            "_dom_classes": [],
            "_model_module": "@jupyter-widgets/controls",
            "_model_module_version": "1.5.0",
            "_model_name": "HTMLModel",
            "_view_count": null,
            "_view_module": "@jupyter-widgets/controls",
            "_view_module_version": "1.5.0",
            "_view_name": "HTMLView",
            "description": "",
            "description_tooltip": null,
            "layout": "IPY_MODEL_a7fe369f1d76441ab53875a5215b0d88",
            "placeholder": "​",
            "style": "IPY_MODEL_47fd461641b3437aa80ed2610add16db",
            "value": " 239/239 [00:00&lt;00:00, 9.27kB/s]"
          }
        },
        "f7d7bf85d7174e3c835224cabf053023": {
          "model_module": "@jupyter-widgets/base",
          "model_name": "LayoutModel",
          "model_module_version": "1.2.0",
          "state": {
            "_model_module": "@jupyter-widgets/base",
            "_model_module_version": "1.2.0",
            "_model_name": "LayoutModel",
            "_view_count": null,
            "_view_module": "@jupyter-widgets/base",
            "_view_module_version": "1.2.0",
            "_view_name": "LayoutView",
            "align_content": null,
            "align_items": null,
            "align_self": null,
            "border": null,
            "bottom": null,
            "display": null,
            "flex": null,
            "flex_flow": null,
            "grid_area": null,
            "grid_auto_columns": null,
            "grid_auto_flow": null,
            "grid_auto_rows": null,
            "grid_column": null,
            "grid_gap": null,
            "grid_row": null,
            "grid_template_areas": null,
            "grid_template_columns": null,
            "grid_template_rows": null,
            "height": null,
            "justify_content": null,
            "justify_items": null,
            "left": null,
            "margin": null,
            "max_height": null,
            "max_width": null,
            "min_height": null,
            "min_width": null,
            "object_fit": null,
            "object_position": null,
            "order": null,
            "overflow": null,
            "overflow_x": null,
            "overflow_y": null,
            "padding": null,
            "right": null,
            "top": null,
            "visibility": null,
            "width": null
          }
        },
        "860affeaa2e6475595867a8138032a0b": {
          "model_module": "@jupyter-widgets/base",
          "model_name": "LayoutModel",
          "model_module_version": "1.2.0",
          "state": {
            "_model_module": "@jupyter-widgets/base",
            "_model_module_version": "1.2.0",
            "_model_name": "LayoutModel",
            "_view_count": null,
            "_view_module": "@jupyter-widgets/base",
            "_view_module_version": "1.2.0",
            "_view_name": "LayoutView",
            "align_content": null,
            "align_items": null,
            "align_self": null,
            "border": null,
            "bottom": null,
            "display": null,
            "flex": null,
            "flex_flow": null,
            "grid_area": null,
            "grid_auto_columns": null,
            "grid_auto_flow": null,
            "grid_auto_rows": null,
            "grid_column": null,
            "grid_gap": null,
            "grid_row": null,
            "grid_template_areas": null,
            "grid_template_columns": null,
            "grid_template_rows": null,
            "height": null,
            "justify_content": null,
            "justify_items": null,
            "left": null,
            "margin": null,
            "max_height": null,
            "max_width": null,
            "min_height": null,
            "min_width": null,
            "object_fit": null,
            "object_position": null,
            "order": null,
            "overflow": null,
            "overflow_x": null,
            "overflow_y": null,
            "padding": null,
            "right": null,
            "top": null,
            "visibility": null,
            "width": null
          }
        },
        "9b97a3ab64e34aeab3ed594fffd7b19c": {
          "model_module": "@jupyter-widgets/controls",
          "model_name": "DescriptionStyleModel",
          "model_module_version": "1.5.0",
          "state": {
            "_model_module": "@jupyter-widgets/controls",
            "_model_module_version": "1.5.0",
            "_model_name": "DescriptionStyleModel",
            "_view_count": null,
            "_view_module": "@jupyter-widgets/base",
            "_view_module_version": "1.2.0",
            "_view_name": "StyleView",
            "description_width": ""
          }
        },
        "a408b97d2b204b49ab8941297641e6af": {
          "model_module": "@jupyter-widgets/base",
          "model_name": "LayoutModel",
          "model_module_version": "1.2.0",
          "state": {
            "_model_module": "@jupyter-widgets/base",
            "_model_module_version": "1.2.0",
            "_model_name": "LayoutModel",
            "_view_count": null,
            "_view_module": "@jupyter-widgets/base",
            "_view_module_version": "1.2.0",
            "_view_name": "LayoutView",
            "align_content": null,
            "align_items": null,
            "align_self": null,
            "border": null,
            "bottom": null,
            "display": null,
            "flex": null,
            "flex_flow": null,
            "grid_area": null,
            "grid_auto_columns": null,
            "grid_auto_flow": null,
            "grid_auto_rows": null,
            "grid_column": null,
            "grid_gap": null,
            "grid_row": null,
            "grid_template_areas": null,
            "grid_template_columns": null,
            "grid_template_rows": null,
            "height": null,
            "justify_content": null,
            "justify_items": null,
            "left": null,
            "margin": null,
            "max_height": null,
            "max_width": null,
            "min_height": null,
            "min_width": null,
            "object_fit": null,
            "object_position": null,
            "order": null,
            "overflow": null,
            "overflow_x": null,
            "overflow_y": null,
            "padding": null,
            "right": null,
            "top": null,
            "visibility": null,
            "width": null
          }
        },
        "cb56547587d74005896353ebd722f0b2": {
          "model_module": "@jupyter-widgets/controls",
          "model_name": "ProgressStyleModel",
          "model_module_version": "1.5.0",
          "state": {
            "_model_module": "@jupyter-widgets/controls",
            "_model_module_version": "1.5.0",
            "_model_name": "ProgressStyleModel",
            "_view_count": null,
            "_view_module": "@jupyter-widgets/base",
            "_view_module_version": "1.2.0",
            "_view_name": "StyleView",
            "bar_color": null,
            "description_width": ""
          }
        },
        "a7fe369f1d76441ab53875a5215b0d88": {
          "model_module": "@jupyter-widgets/base",
          "model_name": "LayoutModel",
          "model_module_version": "1.2.0",
          "state": {
            "_model_module": "@jupyter-widgets/base",
            "_model_module_version": "1.2.0",
            "_model_name": "LayoutModel",
            "_view_count": null,
            "_view_module": "@jupyter-widgets/base",
            "_view_module_version": "1.2.0",
            "_view_name": "LayoutView",
            "align_content": null,
            "align_items": null,
            "align_self": null,
            "border": null,
            "bottom": null,
            "display": null,
            "flex": null,
            "flex_flow": null,
            "grid_area": null,
            "grid_auto_columns": null,
            "grid_auto_flow": null,
            "grid_auto_rows": null,
            "grid_column": null,
            "grid_gap": null,
            "grid_row": null,
            "grid_template_areas": null,
            "grid_template_columns": null,
            "grid_template_rows": null,
            "height": null,
            "justify_content": null,
            "justify_items": null,
            "left": null,
            "margin": null,
            "max_height": null,
            "max_width": null,
            "min_height": null,
            "min_width": null,
            "object_fit": null,
            "object_position": null,
            "order": null,
            "overflow": null,
            "overflow_x": null,
            "overflow_y": null,
            "padding": null,
            "right": null,
            "top": null,
            "visibility": null,
            "width": null
          }
        },
        "47fd461641b3437aa80ed2610add16db": {
          "model_module": "@jupyter-widgets/controls",
          "model_name": "DescriptionStyleModel",
          "model_module_version": "1.5.0",
          "state": {
            "_model_module": "@jupyter-widgets/controls",
            "_model_module_version": "1.5.0",
            "_model_name": "DescriptionStyleModel",
            "_view_count": null,
            "_view_module": "@jupyter-widgets/base",
            "_view_module_version": "1.2.0",
            "_view_name": "StyleView",
            "description_width": ""
          }
        },
        "56c0eda9f0eb4d79921230d4a0fd5392": {
          "model_module": "@jupyter-widgets/controls",
          "model_name": "HBoxModel",
          "model_module_version": "1.5.0",
          "state": {
            "_dom_classes": [],
            "_model_module": "@jupyter-widgets/controls",
            "_model_module_version": "1.5.0",
            "_model_name": "HBoxModel",
            "_view_count": null,
            "_view_module": "@jupyter-widgets/controls",
            "_view_module_version": "1.5.0",
            "_view_name": "HBoxView",
            "box_style": "",
            "children": [
              "IPY_MODEL_6405513ea572429a9cf37c5376eb151f",
              "IPY_MODEL_5c75e0c90f29416e9143895b6c746164",
              "IPY_MODEL_d37f8c3e118c4c48894e72205d14c5d3"
            ],
            "layout": "IPY_MODEL_c663015e6a7b4b1c8080945eb8e47b2c"
          }
        },
        "6405513ea572429a9cf37c5376eb151f": {
          "model_module": "@jupyter-widgets/controls",
          "model_name": "HTMLModel",
          "model_module_version": "1.5.0",
          "state": {
            "_dom_classes": [],
            "_model_module": "@jupyter-widgets/controls",
            "_model_module_version": "1.5.0",
            "_model_name": "HTMLModel",
            "_view_count": null,
            "_view_module": "@jupyter-widgets/controls",
            "_view_module_version": "1.5.0",
            "_view_name": "HTMLView",
            "description": "",
            "description_tooltip": null,
            "layout": "IPY_MODEL_6f70f9058b2844c5be0e582f908e59c8",
            "placeholder": "​",
            "style": "IPY_MODEL_171e18666a2347eeae03a4c243e7db97",
            "value": "1_Pooling/config.json: 100%"
          }
        },
        "5c75e0c90f29416e9143895b6c746164": {
          "model_module": "@jupyter-widgets/controls",
          "model_name": "FloatProgressModel",
          "model_module_version": "1.5.0",
          "state": {
            "_dom_classes": [],
            "_model_module": "@jupyter-widgets/controls",
            "_model_module_version": "1.5.0",
            "_model_name": "FloatProgressModel",
            "_view_count": null,
            "_view_module": "@jupyter-widgets/controls",
            "_view_module_version": "1.5.0",
            "_view_name": "ProgressView",
            "bar_style": "success",
            "description": "",
            "description_tooltip": null,
            "layout": "IPY_MODEL_8c74632384664c82b7a090691c5482eb",
            "max": 190,
            "min": 0,
            "orientation": "horizontal",
            "style": "IPY_MODEL_b2ef766a1e754cd084aa8f5c2d254a1b",
            "value": 190
          }
        },
        "d37f8c3e118c4c48894e72205d14c5d3": {
          "model_module": "@jupyter-widgets/controls",
          "model_name": "HTMLModel",
          "model_module_version": "1.5.0",
          "state": {
            "_dom_classes": [],
            "_model_module": "@jupyter-widgets/controls",
            "_model_module_version": "1.5.0",
            "_model_name": "HTMLModel",
            "_view_count": null,
            "_view_module": "@jupyter-widgets/controls",
            "_view_module_version": "1.5.0",
            "_view_name": "HTMLView",
            "description": "",
            "description_tooltip": null,
            "layout": "IPY_MODEL_2791e71b7e194990aa12c5b4a6842789",
            "placeholder": "​",
            "style": "IPY_MODEL_d739252f90844fdeb5619ce2527bd0d2",
            "value": " 190/190 [00:00&lt;00:00, 4.91kB/s]"
          }
        },
        "c663015e6a7b4b1c8080945eb8e47b2c": {
          "model_module": "@jupyter-widgets/base",
          "model_name": "LayoutModel",
          "model_module_version": "1.2.0",
          "state": {
            "_model_module": "@jupyter-widgets/base",
            "_model_module_version": "1.2.0",
            "_model_name": "LayoutModel",
            "_view_count": null,
            "_view_module": "@jupyter-widgets/base",
            "_view_module_version": "1.2.0",
            "_view_name": "LayoutView",
            "align_content": null,
            "align_items": null,
            "align_self": null,
            "border": null,
            "bottom": null,
            "display": null,
            "flex": null,
            "flex_flow": null,
            "grid_area": null,
            "grid_auto_columns": null,
            "grid_auto_flow": null,
            "grid_auto_rows": null,
            "grid_column": null,
            "grid_gap": null,
            "grid_row": null,
            "grid_template_areas": null,
            "grid_template_columns": null,
            "grid_template_rows": null,
            "height": null,
            "justify_content": null,
            "justify_items": null,
            "left": null,
            "margin": null,
            "max_height": null,
            "max_width": null,
            "min_height": null,
            "min_width": null,
            "object_fit": null,
            "object_position": null,
            "order": null,
            "overflow": null,
            "overflow_x": null,
            "overflow_y": null,
            "padding": null,
            "right": null,
            "top": null,
            "visibility": null,
            "width": null
          }
        },
        "6f70f9058b2844c5be0e582f908e59c8": {
          "model_module": "@jupyter-widgets/base",
          "model_name": "LayoutModel",
          "model_module_version": "1.2.0",
          "state": {
            "_model_module": "@jupyter-widgets/base",
            "_model_module_version": "1.2.0",
            "_model_name": "LayoutModel",
            "_view_count": null,
            "_view_module": "@jupyter-widgets/base",
            "_view_module_version": "1.2.0",
            "_view_name": "LayoutView",
            "align_content": null,
            "align_items": null,
            "align_self": null,
            "border": null,
            "bottom": null,
            "display": null,
            "flex": null,
            "flex_flow": null,
            "grid_area": null,
            "grid_auto_columns": null,
            "grid_auto_flow": null,
            "grid_auto_rows": null,
            "grid_column": null,
            "grid_gap": null,
            "grid_row": null,
            "grid_template_areas": null,
            "grid_template_columns": null,
            "grid_template_rows": null,
            "height": null,
            "justify_content": null,
            "justify_items": null,
            "left": null,
            "margin": null,
            "max_height": null,
            "max_width": null,
            "min_height": null,
            "min_width": null,
            "object_fit": null,
            "object_position": null,
            "order": null,
            "overflow": null,
            "overflow_x": null,
            "overflow_y": null,
            "padding": null,
            "right": null,
            "top": null,
            "visibility": null,
            "width": null
          }
        },
        "171e18666a2347eeae03a4c243e7db97": {
          "model_module": "@jupyter-widgets/controls",
          "model_name": "DescriptionStyleModel",
          "model_module_version": "1.5.0",
          "state": {
            "_model_module": "@jupyter-widgets/controls",
            "_model_module_version": "1.5.0",
            "_model_name": "DescriptionStyleModel",
            "_view_count": null,
            "_view_module": "@jupyter-widgets/base",
            "_view_module_version": "1.2.0",
            "_view_name": "StyleView",
            "description_width": ""
          }
        },
        "8c74632384664c82b7a090691c5482eb": {
          "model_module": "@jupyter-widgets/base",
          "model_name": "LayoutModel",
          "model_module_version": "1.2.0",
          "state": {
            "_model_module": "@jupyter-widgets/base",
            "_model_module_version": "1.2.0",
            "_model_name": "LayoutModel",
            "_view_count": null,
            "_view_module": "@jupyter-widgets/base",
            "_view_module_version": "1.2.0",
            "_view_name": "LayoutView",
            "align_content": null,
            "align_items": null,
            "align_self": null,
            "border": null,
            "bottom": null,
            "display": null,
            "flex": null,
            "flex_flow": null,
            "grid_area": null,
            "grid_auto_columns": null,
            "grid_auto_flow": null,
            "grid_auto_rows": null,
            "grid_column": null,
            "grid_gap": null,
            "grid_row": null,
            "grid_template_areas": null,
            "grid_template_columns": null,
            "grid_template_rows": null,
            "height": null,
            "justify_content": null,
            "justify_items": null,
            "left": null,
            "margin": null,
            "max_height": null,
            "max_width": null,
            "min_height": null,
            "min_width": null,
            "object_fit": null,
            "object_position": null,
            "order": null,
            "overflow": null,
            "overflow_x": null,
            "overflow_y": null,
            "padding": null,
            "right": null,
            "top": null,
            "visibility": null,
            "width": null
          }
        },
        "b2ef766a1e754cd084aa8f5c2d254a1b": {
          "model_module": "@jupyter-widgets/controls",
          "model_name": "ProgressStyleModel",
          "model_module_version": "1.5.0",
          "state": {
            "_model_module": "@jupyter-widgets/controls",
            "_model_module_version": "1.5.0",
            "_model_name": "ProgressStyleModel",
            "_view_count": null,
            "_view_module": "@jupyter-widgets/base",
            "_view_module_version": "1.2.0",
            "_view_name": "StyleView",
            "bar_color": null,
            "description_width": ""
          }
        },
        "2791e71b7e194990aa12c5b4a6842789": {
          "model_module": "@jupyter-widgets/base",
          "model_name": "LayoutModel",
          "model_module_version": "1.2.0",
          "state": {
            "_model_module": "@jupyter-widgets/base",
            "_model_module_version": "1.2.0",
            "_model_name": "LayoutModel",
            "_view_count": null,
            "_view_module": "@jupyter-widgets/base",
            "_view_module_version": "1.2.0",
            "_view_name": "LayoutView",
            "align_content": null,
            "align_items": null,
            "align_self": null,
            "border": null,
            "bottom": null,
            "display": null,
            "flex": null,
            "flex_flow": null,
            "grid_area": null,
            "grid_auto_columns": null,
            "grid_auto_flow": null,
            "grid_auto_rows": null,
            "grid_column": null,
            "grid_gap": null,
            "grid_row": null,
            "grid_template_areas": null,
            "grid_template_columns": null,
            "grid_template_rows": null,
            "height": null,
            "justify_content": null,
            "justify_items": null,
            "left": null,
            "margin": null,
            "max_height": null,
            "max_width": null,
            "min_height": null,
            "min_width": null,
            "object_fit": null,
            "object_position": null,
            "order": null,
            "overflow": null,
            "overflow_x": null,
            "overflow_y": null,
            "padding": null,
            "right": null,
            "top": null,
            "visibility": null,
            "width": null
          }
        },
        "d739252f90844fdeb5619ce2527bd0d2": {
          "model_module": "@jupyter-widgets/controls",
          "model_name": "DescriptionStyleModel",
          "model_module_version": "1.5.0",
          "state": {
            "_model_module": "@jupyter-widgets/controls",
            "_model_module_version": "1.5.0",
            "_model_name": "DescriptionStyleModel",
            "_view_count": null,
            "_view_module": "@jupyter-widgets/base",
            "_view_module_version": "1.2.0",
            "_view_name": "StyleView",
            "description_width": ""
          }
        }
      }
    }
  },
  "cells": [
    {
      "cell_type": "markdown",
      "metadata": {
        "id": "view-in-github",
        "colab_type": "text"
      },
      "source": [
        "<a href=\"https://colab.research.google.com/github/banerjeesoumya15/data-science/blob/gemini/ai/gemini/RAG.ipynb\" target=\"_parent\"><img src=\"https://colab.research.google.com/assets/colab-badge.svg\" alt=\"Open In Colab\"/></a>"
      ]
    },
    {
      "cell_type": "code",
      "execution_count": 1,
      "metadata": {
        "id": "nM05k25BOIqF"
      },
      "outputs": [],
      "source": [
        "!pip install -q -U google-generativeai"
      ]
    },
    {
      "cell_type": "code",
      "source": [
        "!pip install langchain"
      ],
      "metadata": {
        "colab": {
          "base_uri": "https://localhost:8080/"
        },
        "id": "_tgCYKt9Z6sS",
        "outputId": "e4ca8420-7629-4200-e24b-b0af337aea5c"
      },
      "execution_count": 2,
      "outputs": [
        {
          "output_type": "stream",
          "name": "stdout",
          "text": [
            "Collecting langchain\n",
            "  Downloading langchain-0.2.1-py3-none-any.whl (973 kB)\n",
            "\u001b[2K     \u001b[90m━━━━━━━━━━━━━━━━━━━━━━━━━━━━━━━━━━━━━━━━\u001b[0m \u001b[32m973.5/973.5 kB\u001b[0m \u001b[31m9.2 MB/s\u001b[0m eta \u001b[36m0:00:00\u001b[0m\n",
            "\u001b[?25hRequirement already satisfied: PyYAML>=5.3 in /usr/local/lib/python3.10/dist-packages (from langchain) (6.0.1)\n",
            "Requirement already satisfied: SQLAlchemy<3,>=1.4 in /usr/local/lib/python3.10/dist-packages (from langchain) (2.0.30)\n",
            "Requirement already satisfied: aiohttp<4.0.0,>=3.8.3 in /usr/local/lib/python3.10/dist-packages (from langchain) (3.9.5)\n",
            "Requirement already satisfied: async-timeout<5.0.0,>=4.0.0 in /usr/local/lib/python3.10/dist-packages (from langchain) (4.0.3)\n",
            "Collecting langchain-core<0.3.0,>=0.2.0 (from langchain)\n",
            "  Downloading langchain_core-0.2.3-py3-none-any.whl (310 kB)\n",
            "\u001b[2K     \u001b[90m━━━━━━━━━━━━━━━━━━━━━━━━━━━━━━━━━━━━━━━━\u001b[0m \u001b[32m310.2/310.2 kB\u001b[0m \u001b[31m10.3 MB/s\u001b[0m eta \u001b[36m0:00:00\u001b[0m\n",
            "\u001b[?25hCollecting langchain-text-splitters<0.3.0,>=0.2.0 (from langchain)\n",
            "  Downloading langchain_text_splitters-0.2.0-py3-none-any.whl (23 kB)\n",
            "Collecting langsmith<0.2.0,>=0.1.17 (from langchain)\n",
            "  Downloading langsmith-0.1.67-py3-none-any.whl (124 kB)\n",
            "\u001b[2K     \u001b[90m━━━━━━━━━━━━━━━━━━━━━━━━━━━━━━━━━━━━━━━━\u001b[0m \u001b[32m124.4/124.4 kB\u001b[0m \u001b[31m12.0 MB/s\u001b[0m eta \u001b[36m0:00:00\u001b[0m\n",
            "\u001b[?25hRequirement already satisfied: numpy<2,>=1 in /usr/local/lib/python3.10/dist-packages (from langchain) (1.25.2)\n",
            "Requirement already satisfied: pydantic<3,>=1 in /usr/local/lib/python3.10/dist-packages (from langchain) (2.7.1)\n",
            "Requirement already satisfied: requests<3,>=2 in /usr/local/lib/python3.10/dist-packages (from langchain) (2.31.0)\n",
            "Requirement already satisfied: tenacity<9.0.0,>=8.1.0 in /usr/local/lib/python3.10/dist-packages (from langchain) (8.3.0)\n",
            "Requirement already satisfied: aiosignal>=1.1.2 in /usr/local/lib/python3.10/dist-packages (from aiohttp<4.0.0,>=3.8.3->langchain) (1.3.1)\n",
            "Requirement already satisfied: attrs>=17.3.0 in /usr/local/lib/python3.10/dist-packages (from aiohttp<4.0.0,>=3.8.3->langchain) (23.2.0)\n",
            "Requirement already satisfied: frozenlist>=1.1.1 in /usr/local/lib/python3.10/dist-packages (from aiohttp<4.0.0,>=3.8.3->langchain) (1.4.1)\n",
            "Requirement already satisfied: multidict<7.0,>=4.5 in /usr/local/lib/python3.10/dist-packages (from aiohttp<4.0.0,>=3.8.3->langchain) (6.0.5)\n",
            "Requirement already satisfied: yarl<2.0,>=1.0 in /usr/local/lib/python3.10/dist-packages (from aiohttp<4.0.0,>=3.8.3->langchain) (1.9.4)\n",
            "Collecting jsonpatch<2.0,>=1.33 (from langchain-core<0.3.0,>=0.2.0->langchain)\n",
            "  Downloading jsonpatch-1.33-py2.py3-none-any.whl (12 kB)\n",
            "Collecting packaging<24.0,>=23.2 (from langchain-core<0.3.0,>=0.2.0->langchain)\n",
            "  Downloading packaging-23.2-py3-none-any.whl (53 kB)\n",
            "\u001b[2K     \u001b[90m━━━━━━━━━━━━━━━━━━━━━━━━━━━━━━━━━━━━━━━━\u001b[0m \u001b[32m53.0/53.0 kB\u001b[0m \u001b[31m4.6 MB/s\u001b[0m eta \u001b[36m0:00:00\u001b[0m\n",
            "\u001b[?25hCollecting orjson<4.0.0,>=3.9.14 (from langsmith<0.2.0,>=0.1.17->langchain)\n",
            "  Downloading orjson-3.10.3-cp310-cp310-manylinux_2_17_x86_64.manylinux2014_x86_64.whl (142 kB)\n",
            "\u001b[2K     \u001b[90m━━━━━━━━━━━━━━━━━━━━━━━━━━━━━━━━━━━━━━━━\u001b[0m \u001b[32m142.5/142.5 kB\u001b[0m \u001b[31m8.6 MB/s\u001b[0m eta \u001b[36m0:00:00\u001b[0m\n",
            "\u001b[?25hRequirement already satisfied: annotated-types>=0.4.0 in /usr/local/lib/python3.10/dist-packages (from pydantic<3,>=1->langchain) (0.7.0)\n",
            "Requirement already satisfied: pydantic-core==2.18.2 in /usr/local/lib/python3.10/dist-packages (from pydantic<3,>=1->langchain) (2.18.2)\n",
            "Requirement already satisfied: typing-extensions>=4.6.1 in /usr/local/lib/python3.10/dist-packages (from pydantic<3,>=1->langchain) (4.11.0)\n",
            "Requirement already satisfied: charset-normalizer<4,>=2 in /usr/local/lib/python3.10/dist-packages (from requests<3,>=2->langchain) (3.3.2)\n",
            "Requirement already satisfied: idna<4,>=2.5 in /usr/local/lib/python3.10/dist-packages (from requests<3,>=2->langchain) (3.7)\n",
            "Requirement already satisfied: urllib3<3,>=1.21.1 in /usr/local/lib/python3.10/dist-packages (from requests<3,>=2->langchain) (2.0.7)\n",
            "Requirement already satisfied: certifi>=2017.4.17 in /usr/local/lib/python3.10/dist-packages (from requests<3,>=2->langchain) (2024.2.2)\n",
            "Requirement already satisfied: greenlet!=0.4.17 in /usr/local/lib/python3.10/dist-packages (from SQLAlchemy<3,>=1.4->langchain) (3.0.3)\n",
            "Collecting jsonpointer>=1.9 (from jsonpatch<2.0,>=1.33->langchain-core<0.3.0,>=0.2.0->langchain)\n",
            "  Downloading jsonpointer-2.4-py2.py3-none-any.whl (7.8 kB)\n",
            "Installing collected packages: packaging, orjson, jsonpointer, jsonpatch, langsmith, langchain-core, langchain-text-splitters, langchain\n",
            "  Attempting uninstall: packaging\n",
            "    Found existing installation: packaging 24.0\n",
            "    Uninstalling packaging-24.0:\n",
            "      Successfully uninstalled packaging-24.0\n",
            "Successfully installed jsonpatch-1.33 jsonpointer-2.4 langchain-0.2.1 langchain-core-0.2.3 langchain-text-splitters-0.2.0 langsmith-0.1.67 orjson-3.10.3 packaging-23.2\n"
          ]
        }
      ]
    },
    {
      "cell_type": "code",
      "source": [
        "!pip install -U langchain-community"
      ],
      "metadata": {
        "colab": {
          "base_uri": "https://localhost:8080/"
        },
        "id": "H4nsLXZQCtPk",
        "outputId": "3985e25a-fbef-4e2e-d6e8-3b74129bb56d"
      },
      "execution_count": 8,
      "outputs": [
        {
          "output_type": "stream",
          "name": "stdout",
          "text": [
            "Collecting langchain-community\n",
            "  Downloading langchain_community-0.2.1-py3-none-any.whl (2.1 MB)\n",
            "\u001b[?25l     \u001b[90m━━━━━━━━━━━━━━━━━━━━━━━━━━━━━━━━━━━━━━━━\u001b[0m \u001b[32m0.0/2.1 MB\u001b[0m \u001b[31m?\u001b[0m eta \u001b[36m-:--:--\u001b[0m\r\u001b[2K     \u001b[91m━━━━\u001b[0m\u001b[90m╺\u001b[0m\u001b[90m━━━━━━━━━━━━━━━━━━━━━━━━━━━━━━━━━━━\u001b[0m \u001b[32m0.2/2.1 MB\u001b[0m \u001b[31m7.2 MB/s\u001b[0m eta \u001b[36m0:00:01\u001b[0m\r\u001b[2K     \u001b[91m━━━━━━━━━━━━━━\u001b[0m\u001b[90m╺\u001b[0m\u001b[90m━━━━━━━━━━━━━━━━━━━━━━━━━\u001b[0m \u001b[32m0.8/2.1 MB\u001b[0m \u001b[31m11.0 MB/s\u001b[0m eta \u001b[36m0:00:01\u001b[0m\r\u001b[2K     \u001b[91m━━━━━━━━━━━━━━━━━━━━━━━━━━━━\u001b[0m\u001b[91m╸\u001b[0m\u001b[90m━━━━━━━━━━━\u001b[0m \u001b[32m1.5/2.1 MB\u001b[0m \u001b[31m14.4 MB/s\u001b[0m eta \u001b[36m0:00:01\u001b[0m\r\u001b[2K     \u001b[91m━━━━━━━━━━━━━━━━━━━━━━━━━━━━━━━━━━━━━━━\u001b[0m\u001b[91m╸\u001b[0m \u001b[32m2.1/2.1 MB\u001b[0m \u001b[31m16.7 MB/s\u001b[0m eta \u001b[36m0:00:01\u001b[0m\r\u001b[2K     \u001b[90m━━━━━━━━━━━━━━━━━━━━━━━━━━━━━━━━━━━━━━━━\u001b[0m \u001b[32m2.1/2.1 MB\u001b[0m \u001b[31m14.3 MB/s\u001b[0m eta \u001b[36m0:00:00\u001b[0m\n",
            "\u001b[?25hRequirement already satisfied: PyYAML>=5.3 in /usr/local/lib/python3.10/dist-packages (from langchain-community) (6.0.1)\n",
            "Requirement already satisfied: SQLAlchemy<3,>=1.4 in /usr/local/lib/python3.10/dist-packages (from langchain-community) (2.0.30)\n",
            "Requirement already satisfied: aiohttp<4.0.0,>=3.8.3 in /usr/local/lib/python3.10/dist-packages (from langchain-community) (3.9.5)\n",
            "Collecting dataclasses-json<0.7,>=0.5.7 (from langchain-community)\n",
            "  Downloading dataclasses_json-0.6.6-py3-none-any.whl (28 kB)\n",
            "Requirement already satisfied: langchain<0.3.0,>=0.2.0 in /usr/local/lib/python3.10/dist-packages (from langchain-community) (0.2.1)\n",
            "Requirement already satisfied: langchain-core<0.3.0,>=0.2.0 in /usr/local/lib/python3.10/dist-packages (from langchain-community) (0.2.3)\n",
            "Requirement already satisfied: langsmith<0.2.0,>=0.1.0 in /usr/local/lib/python3.10/dist-packages (from langchain-community) (0.1.67)\n",
            "Requirement already satisfied: numpy<2,>=1 in /usr/local/lib/python3.10/dist-packages (from langchain-community) (1.25.2)\n",
            "Requirement already satisfied: requests<3,>=2 in /usr/local/lib/python3.10/dist-packages (from langchain-community) (2.31.0)\n",
            "Requirement already satisfied: tenacity<9.0.0,>=8.1.0 in /usr/local/lib/python3.10/dist-packages (from langchain-community) (8.3.0)\n",
            "Requirement already satisfied: aiosignal>=1.1.2 in /usr/local/lib/python3.10/dist-packages (from aiohttp<4.0.0,>=3.8.3->langchain-community) (1.3.1)\n",
            "Requirement already satisfied: attrs>=17.3.0 in /usr/local/lib/python3.10/dist-packages (from aiohttp<4.0.0,>=3.8.3->langchain-community) (23.2.0)\n",
            "Requirement already satisfied: frozenlist>=1.1.1 in /usr/local/lib/python3.10/dist-packages (from aiohttp<4.0.0,>=3.8.3->langchain-community) (1.4.1)\n",
            "Requirement already satisfied: multidict<7.0,>=4.5 in /usr/local/lib/python3.10/dist-packages (from aiohttp<4.0.0,>=3.8.3->langchain-community) (6.0.5)\n",
            "Requirement already satisfied: yarl<2.0,>=1.0 in /usr/local/lib/python3.10/dist-packages (from aiohttp<4.0.0,>=3.8.3->langchain-community) (1.9.4)\n",
            "Requirement already satisfied: async-timeout<5.0,>=4.0 in /usr/local/lib/python3.10/dist-packages (from aiohttp<4.0.0,>=3.8.3->langchain-community) (4.0.3)\n",
            "Collecting marshmallow<4.0.0,>=3.18.0 (from dataclasses-json<0.7,>=0.5.7->langchain-community)\n",
            "  Downloading marshmallow-3.21.2-py3-none-any.whl (49 kB)\n",
            "\u001b[2K     \u001b[90m━━━━━━━━━━━━━━━━━━━━━━━━━━━━━━━━━━━━━━━━\u001b[0m \u001b[32m49.3/49.3 kB\u001b[0m \u001b[31m3.9 MB/s\u001b[0m eta \u001b[36m0:00:00\u001b[0m\n",
            "\u001b[?25hCollecting typing-inspect<1,>=0.4.0 (from dataclasses-json<0.7,>=0.5.7->langchain-community)\n",
            "  Downloading typing_inspect-0.9.0-py3-none-any.whl (8.8 kB)\n",
            "Requirement already satisfied: langchain-text-splitters<0.3.0,>=0.2.0 in /usr/local/lib/python3.10/dist-packages (from langchain<0.3.0,>=0.2.0->langchain-community) (0.2.0)\n",
            "Requirement already satisfied: pydantic<3,>=1 in /usr/local/lib/python3.10/dist-packages (from langchain<0.3.0,>=0.2.0->langchain-community) (2.7.1)\n",
            "Requirement already satisfied: jsonpatch<2.0,>=1.33 in /usr/local/lib/python3.10/dist-packages (from langchain-core<0.3.0,>=0.2.0->langchain-community) (1.33)\n",
            "Requirement already satisfied: packaging<24.0,>=23.2 in /usr/local/lib/python3.10/dist-packages (from langchain-core<0.3.0,>=0.2.0->langchain-community) (23.2)\n",
            "Requirement already satisfied: orjson<4.0.0,>=3.9.14 in /usr/local/lib/python3.10/dist-packages (from langsmith<0.2.0,>=0.1.0->langchain-community) (3.10.3)\n",
            "Requirement already satisfied: charset-normalizer<4,>=2 in /usr/local/lib/python3.10/dist-packages (from requests<3,>=2->langchain-community) (3.3.2)\n",
            "Requirement already satisfied: idna<4,>=2.5 in /usr/local/lib/python3.10/dist-packages (from requests<3,>=2->langchain-community) (3.7)\n",
            "Requirement already satisfied: urllib3<3,>=1.21.1 in /usr/local/lib/python3.10/dist-packages (from requests<3,>=2->langchain-community) (2.0.7)\n",
            "Requirement already satisfied: certifi>=2017.4.17 in /usr/local/lib/python3.10/dist-packages (from requests<3,>=2->langchain-community) (2024.2.2)\n",
            "Requirement already satisfied: typing-extensions>=4.6.0 in /usr/local/lib/python3.10/dist-packages (from SQLAlchemy<3,>=1.4->langchain-community) (4.11.0)\n",
            "Requirement already satisfied: greenlet!=0.4.17 in /usr/local/lib/python3.10/dist-packages (from SQLAlchemy<3,>=1.4->langchain-community) (3.0.3)\n",
            "Requirement already satisfied: jsonpointer>=1.9 in /usr/local/lib/python3.10/dist-packages (from jsonpatch<2.0,>=1.33->langchain-core<0.3.0,>=0.2.0->langchain-community) (2.4)\n",
            "Requirement already satisfied: annotated-types>=0.4.0 in /usr/local/lib/python3.10/dist-packages (from pydantic<3,>=1->langchain<0.3.0,>=0.2.0->langchain-community) (0.7.0)\n",
            "Requirement already satisfied: pydantic-core==2.18.2 in /usr/local/lib/python3.10/dist-packages (from pydantic<3,>=1->langchain<0.3.0,>=0.2.0->langchain-community) (2.18.2)\n",
            "Collecting mypy-extensions>=0.3.0 (from typing-inspect<1,>=0.4.0->dataclasses-json<0.7,>=0.5.7->langchain-community)\n",
            "  Downloading mypy_extensions-1.0.0-py3-none-any.whl (4.7 kB)\n",
            "Installing collected packages: mypy-extensions, marshmallow, typing-inspect, dataclasses-json, langchain-community\n",
            "Successfully installed dataclasses-json-0.6.6 langchain-community-0.2.1 marshmallow-3.21.2 mypy-extensions-1.0.0 typing-inspect-0.9.0\n"
          ]
        }
      ]
    },
    {
      "cell_type": "code",
      "source": [
        "!pip install pypdf"
      ],
      "metadata": {
        "colab": {
          "base_uri": "https://localhost:8080/"
        },
        "id": "Zwt8uSrYcFWy",
        "outputId": "761e8d0e-1d42-410d-c29a-24feeb55664b"
      },
      "execution_count": 3,
      "outputs": [
        {
          "output_type": "stream",
          "name": "stdout",
          "text": [
            "Collecting pypdf\n",
            "  Downloading pypdf-4.2.0-py3-none-any.whl (290 kB)\n",
            "\u001b[2K     \u001b[90m━━━━━━━━━━━━━━━━━━━━━━━━━━━━━━━━━━━━━━━━\u001b[0m \u001b[32m290.4/290.4 kB\u001b[0m \u001b[31m6.1 MB/s\u001b[0m eta \u001b[36m0:00:00\u001b[0m\n",
            "\u001b[?25hRequirement already satisfied: typing_extensions>=4.0 in /usr/local/lib/python3.10/dist-packages (from pypdf) (4.11.0)\n",
            "Installing collected packages: pypdf\n",
            "Successfully installed pypdf-4.2.0\n"
          ]
        }
      ]
    },
    {
      "cell_type": "code",
      "source": [
        "# loading Hugging Face embeddings\n",
        "!pip install sentence_transformers"
      ],
      "metadata": {
        "id": "bdhkxHLHsr91",
        "outputId": "07561b39-e4e4-4ef8-853d-19032c48930a",
        "colab": {
          "base_uri": "https://localhost:8080/"
        }
      },
      "execution_count": 4,
      "outputs": [
        {
          "output_type": "stream",
          "name": "stdout",
          "text": [
            "Collecting sentence_transformers\n",
            "  Downloading sentence_transformers-3.0.0-py3-none-any.whl (224 kB)\n",
            "\u001b[?25l     \u001b[90m━━━━━━━━━━━━━━━━━━━━━━━━━━━━━━━━━━━━━━━━\u001b[0m \u001b[32m0.0/224.7 kB\u001b[0m \u001b[31m?\u001b[0m eta \u001b[36m-:--:--\u001b[0m\r\u001b[2K     \u001b[91m━━━━━━━━━━━━━━━━━━━━━━━━━━━━━━━━━━━━━━\u001b[0m\u001b[90m╺\u001b[0m\u001b[90m━\u001b[0m \u001b[32m215.0/224.7 kB\u001b[0m \u001b[31m6.8 MB/s\u001b[0m eta \u001b[36m0:00:01\u001b[0m\r\u001b[2K     \u001b[90m━━━━━━━━━━━━━━━━━━━━━━━━━━━━━━━━━━━━━━━━\u001b[0m \u001b[32m224.7/224.7 kB\u001b[0m \u001b[31m5.4 MB/s\u001b[0m eta \u001b[36m0:00:00\u001b[0m\n",
            "\u001b[?25hRequirement already satisfied: transformers<5.0.0,>=4.34.0 in /usr/local/lib/python3.10/dist-packages (from sentence_transformers) (4.41.1)\n",
            "Requirement already satisfied: tqdm in /usr/local/lib/python3.10/dist-packages (from sentence_transformers) (4.66.4)\n",
            "Requirement already satisfied: torch>=1.11.0 in /usr/local/lib/python3.10/dist-packages (from sentence_transformers) (2.3.0+cu121)\n",
            "Requirement already satisfied: numpy in /usr/local/lib/python3.10/dist-packages (from sentence_transformers) (1.25.2)\n",
            "Requirement already satisfied: scikit-learn in /usr/local/lib/python3.10/dist-packages (from sentence_transformers) (1.2.2)\n",
            "Requirement already satisfied: scipy in /usr/local/lib/python3.10/dist-packages (from sentence_transformers) (1.11.4)\n",
            "Requirement already satisfied: huggingface-hub>=0.15.1 in /usr/local/lib/python3.10/dist-packages (from sentence_transformers) (0.23.1)\n",
            "Requirement already satisfied: Pillow in /usr/local/lib/python3.10/dist-packages (from sentence_transformers) (9.4.0)\n",
            "Requirement already satisfied: filelock in /usr/local/lib/python3.10/dist-packages (from huggingface-hub>=0.15.1->sentence_transformers) (3.14.0)\n",
            "Requirement already satisfied: fsspec>=2023.5.0 in /usr/local/lib/python3.10/dist-packages (from huggingface-hub>=0.15.1->sentence_transformers) (2023.6.0)\n",
            "Requirement already satisfied: packaging>=20.9 in /usr/local/lib/python3.10/dist-packages (from huggingface-hub>=0.15.1->sentence_transformers) (23.2)\n",
            "Requirement already satisfied: pyyaml>=5.1 in /usr/local/lib/python3.10/dist-packages (from huggingface-hub>=0.15.1->sentence_transformers) (6.0.1)\n",
            "Requirement already satisfied: requests in /usr/local/lib/python3.10/dist-packages (from huggingface-hub>=0.15.1->sentence_transformers) (2.31.0)\n",
            "Requirement already satisfied: typing-extensions>=3.7.4.3 in /usr/local/lib/python3.10/dist-packages (from huggingface-hub>=0.15.1->sentence_transformers) (4.11.0)\n",
            "Requirement already satisfied: sympy in /usr/local/lib/python3.10/dist-packages (from torch>=1.11.0->sentence_transformers) (1.12)\n",
            "Requirement already satisfied: networkx in /usr/local/lib/python3.10/dist-packages (from torch>=1.11.0->sentence_transformers) (3.3)\n",
            "Requirement already satisfied: jinja2 in /usr/local/lib/python3.10/dist-packages (from torch>=1.11.0->sentence_transformers) (3.1.4)\n",
            "Collecting nvidia-cuda-nvrtc-cu12==12.1.105 (from torch>=1.11.0->sentence_transformers)\n",
            "  Using cached nvidia_cuda_nvrtc_cu12-12.1.105-py3-none-manylinux1_x86_64.whl (23.7 MB)\n",
            "Collecting nvidia-cuda-runtime-cu12==12.1.105 (from torch>=1.11.0->sentence_transformers)\n",
            "  Using cached nvidia_cuda_runtime_cu12-12.1.105-py3-none-manylinux1_x86_64.whl (823 kB)\n",
            "Collecting nvidia-cuda-cupti-cu12==12.1.105 (from torch>=1.11.0->sentence_transformers)\n",
            "  Using cached nvidia_cuda_cupti_cu12-12.1.105-py3-none-manylinux1_x86_64.whl (14.1 MB)\n",
            "Collecting nvidia-cudnn-cu12==8.9.2.26 (from torch>=1.11.0->sentence_transformers)\n",
            "  Using cached nvidia_cudnn_cu12-8.9.2.26-py3-none-manylinux1_x86_64.whl (731.7 MB)\n",
            "Collecting nvidia-cublas-cu12==12.1.3.1 (from torch>=1.11.0->sentence_transformers)\n",
            "  Using cached nvidia_cublas_cu12-12.1.3.1-py3-none-manylinux1_x86_64.whl (410.6 MB)\n",
            "Collecting nvidia-cufft-cu12==11.0.2.54 (from torch>=1.11.0->sentence_transformers)\n",
            "  Using cached nvidia_cufft_cu12-11.0.2.54-py3-none-manylinux1_x86_64.whl (121.6 MB)\n",
            "Collecting nvidia-curand-cu12==10.3.2.106 (from torch>=1.11.0->sentence_transformers)\n",
            "  Using cached nvidia_curand_cu12-10.3.2.106-py3-none-manylinux1_x86_64.whl (56.5 MB)\n",
            "Collecting nvidia-cusolver-cu12==11.4.5.107 (from torch>=1.11.0->sentence_transformers)\n",
            "  Using cached nvidia_cusolver_cu12-11.4.5.107-py3-none-manylinux1_x86_64.whl (124.2 MB)\n",
            "Collecting nvidia-cusparse-cu12==12.1.0.106 (from torch>=1.11.0->sentence_transformers)\n",
            "  Using cached nvidia_cusparse_cu12-12.1.0.106-py3-none-manylinux1_x86_64.whl (196.0 MB)\n",
            "Collecting nvidia-nccl-cu12==2.20.5 (from torch>=1.11.0->sentence_transformers)\n",
            "  Using cached nvidia_nccl_cu12-2.20.5-py3-none-manylinux2014_x86_64.whl (176.2 MB)\n",
            "Collecting nvidia-nvtx-cu12==12.1.105 (from torch>=1.11.0->sentence_transformers)\n",
            "  Using cached nvidia_nvtx_cu12-12.1.105-py3-none-manylinux1_x86_64.whl (99 kB)\n",
            "Requirement already satisfied: triton==2.3.0 in /usr/local/lib/python3.10/dist-packages (from torch>=1.11.0->sentence_transformers) (2.3.0)\n",
            "Collecting nvidia-nvjitlink-cu12 (from nvidia-cusolver-cu12==11.4.5.107->torch>=1.11.0->sentence_transformers)\n",
            "  Downloading nvidia_nvjitlink_cu12-12.5.40-py3-none-manylinux2014_x86_64.whl (21.3 MB)\n",
            "\u001b[2K     \u001b[90m━━━━━━━━━━━━━━━━━━━━━━━━━━━━━━━━━━━━━━━━\u001b[0m \u001b[32m21.3/21.3 MB\u001b[0m \u001b[31m51.8 MB/s\u001b[0m eta \u001b[36m0:00:00\u001b[0m\n",
            "\u001b[?25hRequirement already satisfied: regex!=2019.12.17 in /usr/local/lib/python3.10/dist-packages (from transformers<5.0.0,>=4.34.0->sentence_transformers) (2024.5.15)\n",
            "Requirement already satisfied: tokenizers<0.20,>=0.19 in /usr/local/lib/python3.10/dist-packages (from transformers<5.0.0,>=4.34.0->sentence_transformers) (0.19.1)\n",
            "Requirement already satisfied: safetensors>=0.4.1 in /usr/local/lib/python3.10/dist-packages (from transformers<5.0.0,>=4.34.0->sentence_transformers) (0.4.3)\n",
            "Requirement already satisfied: joblib>=1.1.1 in /usr/local/lib/python3.10/dist-packages (from scikit-learn->sentence_transformers) (1.4.2)\n",
            "Requirement already satisfied: threadpoolctl>=2.0.0 in /usr/local/lib/python3.10/dist-packages (from scikit-learn->sentence_transformers) (3.5.0)\n",
            "Requirement already satisfied: MarkupSafe>=2.0 in /usr/local/lib/python3.10/dist-packages (from jinja2->torch>=1.11.0->sentence_transformers) (2.1.5)\n",
            "Requirement already satisfied: charset-normalizer<4,>=2 in /usr/local/lib/python3.10/dist-packages (from requests->huggingface-hub>=0.15.1->sentence_transformers) (3.3.2)\n",
            "Requirement already satisfied: idna<4,>=2.5 in /usr/local/lib/python3.10/dist-packages (from requests->huggingface-hub>=0.15.1->sentence_transformers) (3.7)\n",
            "Requirement already satisfied: urllib3<3,>=1.21.1 in /usr/local/lib/python3.10/dist-packages (from requests->huggingface-hub>=0.15.1->sentence_transformers) (2.0.7)\n",
            "Requirement already satisfied: certifi>=2017.4.17 in /usr/local/lib/python3.10/dist-packages (from requests->huggingface-hub>=0.15.1->sentence_transformers) (2024.2.2)\n",
            "Requirement already satisfied: mpmath>=0.19 in /usr/local/lib/python3.10/dist-packages (from sympy->torch>=1.11.0->sentence_transformers) (1.3.0)\n",
            "Installing collected packages: nvidia-nvtx-cu12, nvidia-nvjitlink-cu12, nvidia-nccl-cu12, nvidia-curand-cu12, nvidia-cufft-cu12, nvidia-cuda-runtime-cu12, nvidia-cuda-nvrtc-cu12, nvidia-cuda-cupti-cu12, nvidia-cublas-cu12, nvidia-cusparse-cu12, nvidia-cudnn-cu12, nvidia-cusolver-cu12, sentence_transformers\n",
            "Successfully installed nvidia-cublas-cu12-12.1.3.1 nvidia-cuda-cupti-cu12-12.1.105 nvidia-cuda-nvrtc-cu12-12.1.105 nvidia-cuda-runtime-cu12-12.1.105 nvidia-cudnn-cu12-8.9.2.26 nvidia-cufft-cu12-11.0.2.54 nvidia-curand-cu12-10.3.2.106 nvidia-cusolver-cu12-11.4.5.107 nvidia-cusparse-cu12-12.1.0.106 nvidia-nccl-cu12-2.20.5 nvidia-nvjitlink-cu12-12.5.40 nvidia-nvtx-cu12-12.1.105 sentence_transformers-3.0.0\n"
          ]
        }
      ]
    },
    {
      "cell_type": "code",
      "source": [
        "# needed for SelfQueryRetriever\n",
        "!pip install lark"
      ],
      "metadata": {
        "colab": {
          "base_uri": "https://localhost:8080/"
        },
        "id": "_xt0PpxUOcA5",
        "outputId": "907d4a9a-a979-4c25-de54-79b613ca2acb"
      },
      "execution_count": null,
      "outputs": [
        {
          "output_type": "stream",
          "name": "stdout",
          "text": [
            "Requirement already satisfied: lark in /usr/local/lib/python3.10/dist-packages (1.1.9)\n"
          ]
        }
      ]
    },
    {
      "cell_type": "markdown",
      "source": [
        "### Import packages"
      ],
      "metadata": {
        "id": "8rIojTa3TQdu"
      }
    },
    {
      "cell_type": "code",
      "source": [
        "import pathlib\n",
        "import textwrap\n",
        "\n",
        "import google.generativeai as genai\n",
        "\n",
        "# Used to securely store your API key\n",
        "from google.colab import userdata\n",
        "\n",
        "from IPython.display import display\n",
        "from IPython.display import Markdown\n",
        "\n",
        "\n",
        "def to_markdown(text):\n",
        "  text = text.replace('•', '  *')\n",
        "  return Markdown(textwrap.indent(text, '> ', predicate=lambda _: True))"
      ],
      "metadata": {
        "id": "dPAtaPTYTD6J"
      },
      "execution_count": 5,
      "outputs": []
    },
    {
      "cell_type": "markdown",
      "source": [
        "### Setup API key"
      ],
      "metadata": {
        "id": "7aBj9iL6TZ0V"
      }
    },
    {
      "cell_type": "code",
      "source": [
        "# Or use `os.getenv('GOOGLE_API_KEY')` to fetch an environment variable.\n",
        "GOOGLE_API_KEY=userdata.get('GOOGLE_API_KEY')\n",
        "\n",
        "genai.configure(api_key=GOOGLE_API_KEY)"
      ],
      "metadata": {
        "id": "kbPSbwXwTUSa"
      },
      "execution_count": 6,
      "outputs": []
    },
    {
      "cell_type": "markdown",
      "source": [
        "### Load documents from drive"
      ],
      "metadata": {
        "id": "rHaOOe-2Wjbd"
      }
    },
    {
      "cell_type": "markdown",
      "source": [
        "Mount Google drive from Colab environment"
      ],
      "metadata": {
        "id": "T8B1bBYAZht8"
      }
    },
    {
      "cell_type": "code",
      "source": [
        "# Uncomment and run the below code to see changes\n",
        "#!ls /content/drive/MyDrive"
      ],
      "metadata": {
        "id": "vrMOeHA-UJ8M"
      },
      "execution_count": null,
      "outputs": []
    },
    {
      "cell_type": "code",
      "source": [
        "# from langchain.document_loaders import PyPDFLoader\n",
        "# loader = PyPDFLoader(\"/content/drive/MyDrive/MachineLearning-Lecture01.pdf\")\n",
        "# pages = loader.load()\n",
        "# print(len(pages))"
      ],
      "metadata": {
        "id": "_2KxBm_0aQEx",
        "colab": {
          "base_uri": "https://localhost:8080/"
        },
        "outputId": "6231e7f4-3ea4-49ec-fe53-7de2f8eb3041"
      },
      "execution_count": null,
      "outputs": [
        {
          "output_type": "stream",
          "name": "stdout",
          "text": [
            "22\n"
          ]
        }
      ]
    },
    {
      "cell_type": "code",
      "source": [
        "# from langchain.document_loaders import PyPDFLoader\n",
        "from langchain_community.document_loaders import PyPDFLoader\n",
        "# Load PDF\n",
        "loaders = [\n",
        "    # Duplicate documents on purpose - messy data\n",
        "    PyPDFLoader(\"/content/drive/MyDrive/MachineLearning-Lecture01.pdf\"),\n",
        "    PyPDFLoader(\"/content/drive/MyDrive/MachineLearning-Lecture01.pdf\"),\n",
        "    PyPDFLoader(\"/content/drive/MyDrive/MachineLearning-Lecture02.pdf\"),\n",
        "    PyPDFLoader(\"/content/drive/MyDrive/MachineLearning-Lecture03.pdf\")\n",
        "]\n",
        "pages = []\n",
        "for loader in loaders:\n",
        "    pages.extend(loader.load())\n",
        "print(len(pages))"
      ],
      "metadata": {
        "id": "QKu8xlDarYkx",
        "outputId": "8b247e35-5d3b-446c-c852-5969b63d3f8d",
        "colab": {
          "base_uri": "https://localhost:8080/"
        }
      },
      "execution_count": 9,
      "outputs": [
        {
          "output_type": "stream",
          "name": "stdout",
          "text": [
            "78\n"
          ]
        }
      ]
    },
    {
      "cell_type": "markdown",
      "source": [
        "Each page is a `Document`.\n",
        "\n",
        "A `Document` contains text (`page_content`) and `metadata`."
      ],
      "metadata": {
        "id": "wkNZwNnBcWYZ"
      }
    },
    {
      "cell_type": "code",
      "source": [
        "# access page 0\n",
        "page = pages[0]\n",
        "print(page.page_content[:500])"
      ],
      "metadata": {
        "colab": {
          "base_uri": "https://localhost:8080/"
        },
        "id": "YOL0-moScZhl",
        "outputId": "d5a0e717-8b5b-4b7e-e940-0aa40c9a53a3"
      },
      "execution_count": 10,
      "outputs": [
        {
          "output_type": "stream",
          "name": "stdout",
          "text": [
            "MachineLearning-Lecture01  \n",
            "Instructor (Andrew Ng):  Okay. Good morning. Welcome to CS229, the machine \n",
            "learning class. So what I wanna do today is ju st spend a little time going over the logistics \n",
            "of the class, and then we'll start to  talk a bit about machine learning.  \n",
            "By way of introduction, my name's  Andrew Ng and I'll be instru ctor for this class. And so \n",
            "I personally work in machine learning, and I' ve worked on it for about 15 years now, and \n",
            "I actually think that machine learning i\n"
          ]
        }
      ]
    },
    {
      "cell_type": "code",
      "source": [
        "page.metadata"
      ],
      "metadata": {
        "colab": {
          "base_uri": "https://localhost:8080/"
        },
        "id": "H0O2jTc4c5PE",
        "outputId": "4093831e-fb9e-4a26-a287-4735bf367a2c"
      },
      "execution_count": 11,
      "outputs": [
        {
          "output_type": "execute_result",
          "data": {
            "text/plain": [
              "{'source': '/content/drive/MyDrive/MachineLearning-Lecture01.pdf', 'page': 0}"
            ]
          },
          "metadata": {},
          "execution_count": 11
        }
      ]
    },
    {
      "cell_type": "code",
      "source": [
        "type(page)"
      ],
      "metadata": {
        "colab": {
          "base_uri": "https://localhost:8080/",
          "height": 121
        },
        "id": "vLvQVgvWdKCw",
        "outputId": "95cc1025-db6b-46b1-d21f-d67876a1b7ac"
      },
      "execution_count": 12,
      "outputs": [
        {
          "output_type": "execute_result",
          "data": {
            "text/plain": [
              "langchain_core.documents.base.Document"
            ],
            "text/html": [
              "<div style=\"max-width:800px; border: 1px solid var(--colab-border-color);\"><style>\n",
              "      pre.function-repr-contents {\n",
              "        overflow-x: auto;\n",
              "        padding: 8px 12px;\n",
              "        max-height: 500px;\n",
              "      }\n",
              "\n",
              "      pre.function-repr-contents.function-repr-contents-collapsed {\n",
              "        cursor: pointer;\n",
              "        max-height: 100px;\n",
              "      }\n",
              "    </style>\n",
              "    <pre style=\"white-space: initial; background:\n",
              "         var(--colab-secondary-surface-color); padding: 8px 12px;\n",
              "         border-bottom: 1px solid var(--colab-border-color);\"><b>langchain_core.documents.base.Document</b><br/>def __init__(page_content: str, **kwargs: Any) -&gt; None</pre><pre class=\"function-repr-contents function-repr-contents-collapsed\" style=\"\"><a class=\"filepath\" style=\"display:none\" href=\"#\">/usr/local/lib/python3.10/dist-packages/langchain_core/documents/base.py</a>Class for storing a piece of text and associated metadata.</pre>\n",
              "      <script>\n",
              "      if (google.colab.kernel.accessAllowed && google.colab.files && google.colab.files.view) {\n",
              "        for (const element of document.querySelectorAll('.filepath')) {\n",
              "          element.style.display = 'block'\n",
              "          element.onclick = (event) => {\n",
              "            event.preventDefault();\n",
              "            event.stopPropagation();\n",
              "            google.colab.files.view(element.textContent, 9);\n",
              "          };\n",
              "        }\n",
              "      }\n",
              "      for (const element of document.querySelectorAll('.function-repr-contents')) {\n",
              "        element.onclick = (event) => {\n",
              "          event.preventDefault();\n",
              "          event.stopPropagation();\n",
              "          element.classList.toggle('function-repr-contents-collapsed');\n",
              "        };\n",
              "      }\n",
              "      </script>\n",
              "      </div>"
            ]
          },
          "metadata": {},
          "execution_count": 12
        }
      ]
    },
    {
      "cell_type": "markdown",
      "source": [
        "### Document Splitting"
      ],
      "metadata": {
        "id": "t8SbXt5whlfV"
      }
    },
    {
      "cell_type": "code",
      "source": [
        "from langchain.text_splitter import RecursiveCharacterTextSplitter"
      ],
      "metadata": {
        "id": "XMuRJNUjhoK4"
      },
      "execution_count": 13,
      "outputs": []
    },
    {
      "cell_type": "code",
      "source": [
        "chunk_size =5000\n",
        "chunk_overlap = 50"
      ],
      "metadata": {
        "id": "2Ws3pXG1qbrz"
      },
      "execution_count": 14,
      "outputs": []
    },
    {
      "cell_type": "code",
      "source": [
        "text_splitter = RecursiveCharacterTextSplitter(\n",
        "    chunk_size=chunk_size,\n",
        "    chunk_overlap=chunk_overlap,\n",
        "    separators=[\"\\n\\n\", \"\\n\", \"(?<=\\. )\", \" \", \"\"],\n",
        "    length_function=len\n",
        ")\n",
        "docs = text_splitter.split_documents(pages)"
      ],
      "metadata": {
        "id": "ltpNvN4_qpcR"
      },
      "execution_count": 15,
      "outputs": []
    },
    {
      "cell_type": "code",
      "source": [
        "print(docs)"
      ],
      "metadata": {
        "id": "WkrmClhC3o6f",
        "outputId": "4431d2d3-3ca5-4606-fcd6-76379c81781e",
        "colab": {
          "base_uri": "https://localhost:8080/"
        }
      },
      "execution_count": 16,
      "outputs": [
        {
          "output_type": "stream",
          "name": "stdout",
          "text": [
            "[Document(page_content='MachineLearning-Lecture01  \\nInstructor (Andrew Ng):  Okay. Good morning. Welcome to CS229, the machine \\nlearning class. So what I wanna do today is ju st spend a little time going over the logistics \\nof the class, and then we\\'ll start to  talk a bit about machine learning.  \\nBy way of introduction, my name\\'s  Andrew Ng and I\\'ll be instru ctor for this class. And so \\nI personally work in machine learning, and I\\' ve worked on it for about 15 years now, and \\nI actually think that machine learning is th e most exciting field of all the computer \\nsciences. So I\\'m actually always excited about  teaching this class. Sometimes I actually \\nthink that machine learning is not only the most exciting thin g in computer science, but \\nthe most exciting thing in all of human e ndeavor, so maybe a little bias there.  \\nI also want to introduce the TAs, who are all graduate students doing research in or \\nrelated to the machine learni ng and all aspects of machin e learning. Paul Baumstarck \\nworks in machine learning and computer vision.  Catie Chang is actually a neuroscientist \\nwho applies machine learning algorithms to try to understand the human brain. Tom Do \\nis another PhD student, works in computa tional biology and in sort of the basic \\nfundamentals of human learning. Zico Kolter is  the head TA — he\\'s head TA two years \\nin a row now — works in machine learning a nd applies them to a bunch of robots. And \\nDaniel Ramage is — I guess he\\'s not here  — Daniel applies l earning algorithms to \\nproblems in natural language processing.  \\nSo you\\'ll get to know the TAs and me much be tter throughout this quarter, but just from \\nthe sorts of things the TA\\'s do, I hope you can  already tell that machine learning is a \\nhighly interdisciplinary topic in which just the TAs find l earning algorithms to problems \\nin computer vision and biology and robots a nd language. And machine learning is one of \\nthose things that has and is having a large impact on many applications.  \\nSo just in my own daily work, I actually frequently end up talking to people like \\nhelicopter pilots to biologists to people in  computer systems or databases to economists \\nand sort of also an unending stream of  people from industry coming to Stanford \\ninterested in applying machine learni ng methods to their own problems.  \\nSo yeah, this is fun. A couple of weeks ago, a student actually forwar ded to me an article \\nin \"Computer World\" about the 12 IT skills th at employers can\\'t say no to. So it\\'s about \\nsort of the 12 most desirabl e skills in all of IT and all of information technology, and \\ntopping the list was actually machine lear ning. So I think this is a good time to be \\nlearning this stuff and learning algorithms and having a large impact on many segments \\nof science and industry.  \\nI\\'m actually curious about something. Learni ng algorithms is one of the things that \\ntouches many areas of science and industrie s, and I\\'m just kind of curious. How many \\npeople here are computer science majors, are in the computer science department? Okay. \\nAbout half of you. How many people are from  EE? Oh, okay, maybe about a fifth. How', metadata={'source': '/content/drive/MyDrive/MachineLearning-Lecture01.pdf', 'page': 0}), Document(page_content=\"many biologers are there here? Wow, just a few, not many. I'm surprised. Anyone from \\nstatistics? Okay, a few. So where are the rest of you from?  \\nStudent : iCME.  \\nInstructor (Andrew Ng) : Say again?  \\nStudent : iCME.  \\nInstructor (Andrew Ng) : iCME. Cool.  \\nStudent : [Inaudible].  \\nInstructor (Andrew Ng) : Civi and what else?  \\nStudent : [Inaudible]  \\nInstructor (Andrew Ng) : Synthesis, [inaudible] systems. Yeah, cool.  \\nStudent : Chemi.  \\nInstructor (Andrew Ng) : Chemi. Cool.  \\nStudent : [Inaudible].  \\nInstructor (Andrew Ng) : Aero/astro. Yes, right. Yeah, okay, cool. Anyone else?  \\nStudent : [Inaudible].  \\nInstructor (Andrew Ng) : Pardon? MSNE. All ri ght. Cool. Yeah.  \\nStudent : [Inaudible].  \\nInstructor (Andrew Ng) : Pardon?  \\nStudent : [Inaudible].  \\nInstructor (Andrew Ng) : Endo —  \\nStudent : [Inaudible].  \\nInstructor (Andrew Ng) : Oh, I see, industry. Okay. Cool. Great, great. So as you can \\ntell from a cross-section of th is class, I think we're a very diverse audience in this room, \\nand that's one of the things that makes this class fun to teach and fun to be in, I think.\", metadata={'source': '/content/drive/MyDrive/MachineLearning-Lecture01.pdf', 'page': 1}), Document(page_content=\"So in this class, we've tried to convey to you a broad set of principl es and tools that will \\nbe useful for doing many, many things. And ev ery time I teach this class, I can actually \\nvery confidently say that af ter December, no matter what yo u're going to do after this \\nDecember when you've sort of completed this  class, you'll find the things you learn in \\nthis class very useful, and these things will be useful pretty much no matter what you end \\nup doing later in your life.  \\nSo I have more logistics to go over later, but let's say a few more words about machine \\nlearning. I feel that machine learning grew out of  early work in AI, early work in artificial \\nintelligence. And over the last — I wanna say last 15 or last 20 years or so, it's been viewed as a sort of growing new capability for computers. And in particular, it turns out \\nthat there are many programs or there are many applications that you can't program by \\nhand.  \\nFor example, if you want to get a computer to read handwritten characters, to read sort of \\nhandwritten digits, that actual ly turns out to be amazingly difficult to write a piece of \\nsoftware to take this input, an image of some thing that I wrote and to  figure out just what \\nit is, to translate my cursive handwriting into — to extract the characters I wrote out in \\nlonghand. And other things: One thing that my students and I do is autonomous flight. It \\nturns out to be extremely difficult to sit dow n and write a program to  fly a helicopter.  \\nBut in contrast, if you want to do things like to get software to fl y a helicopter or have \\nsoftware recognize handwritten digits, one very  successful approach is to use a learning \\nalgorithm and have a computer learn by its elf how to, say, recognize your handwriting. \\nAnd in fact, handwritten digit recognition, this is pretty much the only approach that \\nworks well. It uses applications that are hard to program by hand.  \\nLearning algorithms has also made I guess sign ificant inroads in what's sometimes called \\ndatabase mining. So, for example, with the growth of IT and computers, increasingly \\nmany hospitals are keeping around medical reco rds of what sort of patients, what \\nproblems they had, what their prognoses was,  what the outcome was. And taking all of \\nthese medical records, which started to be digitized only about maybe 15 years, applying \\nlearning algorithms to them can turn raw medi cal records into what I might loosely call \\nmedical knowledge in which we start to detect trends in medical practice and even start to \\nalter medical practice as a result of me dical knowledge that's derived by applying \\nlearning algorithms to the sorts of medical r ecords that hospitals have just been building \\nover the last 15, 20 years in an electronic format.  \\nTurns out that most of you probably use learning algorithms — I don't know — I think \\nhalf a dozen times a day or maybe a dozen  times a day or more, and often without \\nknowing it. So, for example, every time you se nd mail via the US Postal System, turns \\nout there's an algorithm that tries to automa tically read the zip code you wrote on your \\nenvelope, and that's done by a learning al gorithm. So every time you send US mail, you \\nare using a learning algorithm, perhap s without even being aware of it.\", metadata={'source': '/content/drive/MyDrive/MachineLearning-Lecture01.pdf', 'page': 2}), Document(page_content=\"Similarly, every time you write a check, I ac tually don't know the number for this, but a \\nsignificant fraction of checks that you write are processed by a learning algorithm that's \\nlearned to read the digits, so the dolla r amount that you wrote down on your check. So \\nevery time you write a check, there's anot her learning algorithm that you're probably \\nusing without even being aware of it.  \\nIf you use a credit card, or I know at least one phone compan y was doing this, and lots of \\ncompanies like eBay as well that do electr onic transactions, there's a good chance that \\nthere's a learning algorithm in the backgr ound trying to figure out if, say, your credit \\ncard's been stolen or if someone's engaging in a fraudulent transaction.  \\nIf you use a website like Amazon or Netflix that will often recommend books for you to \\nbuy or movies for you to rent or whatever , these are other examples of learning \\nalgorithms that have learned what sorts of th ings you like to buy or what sorts of movies \\nyou like to watch and can therefore give  customized recommendations to you.  \\nJust about a week ago, I had my car serviced, and even there, my car mechanic was trying \\nto explain to me some learning algorithm in th e innards of my car th at's sort of doing its \\nbest to optimize my driving performan ce for fuel efficiency or something.  \\nSo, see, most of us use learning algorithms half a dozen, a dozen, maybe dozens of times \\nwithout even knowing it.  \\nAnd of course, learning algorithms are also  doing things like giving us a growing \\nunderstanding of the human genome. So if so meday we ever find a cure for cancer, I bet \\nlearning algorithms will have had a large role in that. That's sort of the thing that Tom \\nworks on, yes?  \\nSo in teaching this class, I sort of have thre e goals. One of them is just to I hope convey \\nsome of my own excitement a bout machine learning to you.  \\nThe second goal is by the end of this class, I hope all of you will be ab le to apply state-of-\\nthe-art machine learning algorithms to whatev er problems you're interested in. And if you \\never need to build a system for reading zi p codes, you'll know how to do that by the end \\nof this class.  \\nAnd lastly, by the end of this class, I reali ze that only a subset of  you are interested in \\ndoing research in machine learning, but by the c onclusion of this class,  I hope that all of \\nyou will actually be well qualified to star t doing research in machine learning, okay?  \\nSo let's say a few words about logistics. The prerequisites of this class are written on one \\nof the handouts, are as follows: In this class, I'm going to assume that all of you have sort \\nof basic knowledge of computer science and kn owledge of the basic computer skills and \\nprinciples. So I assume all of you know what big?O notation, that all of you know about \\nsort of data structures like  queues, stacks, binary trees , and that all of you know enough \\nprogramming skills to, like, write a simple co mputer program. And it turns out that most\", metadata={'source': '/content/drive/MyDrive/MachineLearning-Lecture01.pdf', 'page': 3}), Document(page_content=\"of this class will not be very program ming intensive, although we will do some \\nprogramming, mostly in either MATLAB or Octa ve. I'll say a bit more about that later.  \\nI also assume familiarity with basic proba bility and statistics. So most undergraduate \\nstatistics class, like Stat 116 taught here at Stanford, will be more than enough. I'm gonna \\nassume all of you know what ra ndom variables are, that all of you know what expectation \\nis, what a variance or a random variable is. And in case of some of you, it's been a while \\nsince you've seen some of this material. At some of the discussion sections, we'll actually \\ngo over some of the prerequisites, sort of as  a refresher course under prerequisite class. \\nI'll say a bit more about that later as well.  \\nLastly, I also assume familiarity with basi c linear algebra. And again, most undergraduate \\nlinear algebra courses are more than enough. So if you've taken courses like Math 51, \\n103, Math 113 or CS205 at Stanford, that would be more than enough. Basically, I'm \\ngonna assume that all of you know what matrix es and vectors are, that you know how to \\nmultiply matrices and vectors and multiply matrix and matrices, that you know what a matrix inverse is. If you know what an eigenvect or of a matrix is, that'd be even better. \\nBut if you don't quite know or if you're not qu ite sure, that's fine, too. We'll go over it in \\nthe review sections.  \\nSo there are a couple more logisti cal things I should deal with in  this class. One is that, as \\nmost of you know, CS229 is a televised cla ss. And in fact, I guess many of you are \\nprobably watching this at home on TV, so I' m gonna say hi to our home viewers.  \\nSo earlier this year, I appro ached SCPD, which televises th ese classes, about trying to \\nmake a small number of Stanford classes publ icly available or posting the videos on the \\nweb. And so this year, Stanford is actually starting a small pilot program in which we'll \\npost videos of a small number of classes onlin e, so on the Internet in a way that makes it \\npublicly accessible to everyone. I'm very exc ited about that because machine learning in \\nschool, let's get the word out there.  \\nOne of the consequences of this is that — let's see — so videos  or pictures of the students \\nin this classroom will not be posted online, so your images — so don't worry about being \\nby seeing your own face appear on YouTube one day. But the microphones may pick up your voices, so I guess the consequence of that is that because microphones may pick up your voices, no matter how irritated you are at  me, don't yell out swear words in the \\nmiddle of class, but because there won't be video you can safely sit there and make faces \\nat me, and that won't show, okay?  \\nLet's see. I also handed out this — ther e were two handouts I hope most of you have, \\ncourse information handout. So let me just sa y a few words about parts of these. On the \\nthird page, there's a section that says Online Resources.  \\nOh, okay. Louder? Actually, could you turn up the volume? Testing. Is this better? \\nTesting, testing. Okay, cool. Thanks.\", metadata={'source': '/content/drive/MyDrive/MachineLearning-Lecture01.pdf', 'page': 4}), Document(page_content=\"So all right, online resources. The class has a home page, so it's in on the handouts. I \\nwon't write on the chalkboard — http:// cs229.stanford.edu. And so when there are \\nhomework assignments or things like that, we  usually won't sort of — in the mission of \\nsaving trees, we will usually not give out many handouts in class. So homework \\nassignments, homework solutions will be posted online at the course home page.  \\nAs far as this class, I've also written, a nd I guess I've also revised every year a set of \\nfairly detailed lecture notes that cover the te chnical content of this  class. And so if you \\nvisit the course homepage, you'll also find the detailed lecture notes that go over in detail \\nall the math and equations and so on  that I'll be doing in class.  \\nThere's also a newsgroup, su.class.cs229, also written on the handout. This is a \\nnewsgroup that's sort of a forum for people in  the class to get to  know each other and \\nhave whatever discussions you want to ha ve amongst yourselves. So the class newsgroup \\nwill not be monitored by the TAs and me. But this is a place for you to form study groups \\nor find project partners or discuss homework problems and so on, and it's not monitored \\nby the TAs and me. So feel free to ta lk trash about this class there.  \\nIf you want to contact the teaching staff, pl ease use the email address written down here, \\ncs229-qa@cs.stanford.edu. This goes to an acc ount that's read by all the TAs and me. So \\nrather than sending us email individually, if you send email to this account, it will \\nactually let us get back to you maximally quickly with answers to your questions.  \\nIf you're asking questions about homework probl ems, please say in the subject line which \\nassignment and which question the email refers to, since that will also help us to route \\nyour question to the appropriate TA or to me  appropriately and get the response back to \\nyou quickly.  \\nLet's see. Skipping ahead — let's see — for homework, one midterm, one open and term \\nproject. Notice on the honor code. So one thi ng that I think will help you to succeed and \\ndo well in this class and even help you to enjoy this cla ss more is if you form a study \\ngroup.  \\nSo start looking around where you' re sitting now or at the end of class today, mingle a \\nlittle bit and get to know your classmates. I strongly encourage you to form study groups \\nand sort of have a group of people to study with and have a group of your fellow students \\nto talk over these concepts with. You can also  post on the class news group if you want to \\nuse that to try to form a study group.  \\nBut some of the problems sets in this cla ss are reasonably difficult.  People that have \\ntaken the class before may tell you they were very difficult. And just I bet it would be \\nmore fun for you, and you'd probably have a be tter learning experience if you form a \\nstudy group of people to work with. So I definitely encourage you to do that.  \\nAnd just to say a word on the honor code, whic h is I definitely en courage you to form a \\nstudy group and work together, discuss homew ork problems together. But if you discuss\", metadata={'source': '/content/drive/MyDrive/MachineLearning-Lecture01.pdf', 'page': 5}), Document(page_content=\"homework problems with other students, then  I'll ask you to sort of go home and write \\ndown your own solutions independe ntly without referring to note s that were taken in any \\nof your joint study sessions.  \\nSo in other words, when you turn in a hom ework problem, what you turn in should be \\nsomething that was reconstructed independe ntly by yourself and w ithout referring to \\nnotes that you took during your  study sessions with other people, okay? And obviously, \\nshowing your solutions to othe rs or copying other solutions  directly is right out.  \\nWe occasionally also reuse problem set questions from previous years so that the \\nproblems are a bit more debugged and work more  smoothly. And as a result of that, I also \\nask you not to look at solutions from previous ye ars, and this includes both sort of official \\nsolutions that we've given out to previous gene rations of this class and previous solutions \\nthat people that have taken this class in previous years may have written out by \\nthemselves, okay?  \\nSadly, in this class, there are usually — sadly, in previous y ears, there have often been a \\nfew honor code violations in this class. And last year, I think I pr osecuted five honor code \\nviolations, which I think is a ridiculously large number. And so just don't work without \\nsolutions, and hopefully there'll be zero honor code  violations this year. I'd love for that \\nto happen.  \\nThe section here on the late homework polic y if you ever want to hand in a homework \\nlate, I'll leave you to r ead that yourself.  \\nWe also have a midterm, which is scheduled for Thursday, 8th of November at 6:00 p.m., \\nso please keep that evening free.  \\nAnd let's see. And one more administrative thing I wanted to sa y is about the class \\nproject. So part of the goal of this cla ss is to leave you well eq uipped to apply machine \\nlearning algorithms to a problem or to do rese arch in machine learning. And so as part of \\nthis class, I'll ask you to execute a small resear ch project sort of as a small term project.  \\nAnd what most students do for this is either  apply machine learning to a problem that you \\nfind interesting or investigate some aspect of  machine learning. So to those of you that \\nare either already doing research or to those of you who are in industry, you're taking this \\nfrom a company, one fantastic sort of way to do a class project would be if you apply \\nmachine learning algorithms to a problem that  you're interested in, to a problem that \\nyou're already working on, whether it be a scien ce research problem or sort of a problem \\nin industry where you're trying to get a syst em to work using a learning algorithm.  \\nTo those of you that are not currently doing re search, one great way to do a project would \\nbe if you apply learning algorithms to just pick a problem that you care about. Pick a \\nproblem that you find interesting, and apply lear ning algorithms to that  and play with the \\nideas and see what happens.\", metadata={'source': '/content/drive/MyDrive/MachineLearning-Lecture01.pdf', 'page': 6}), Document(page_content=\"And let's see. Oh, and the goal of the projec t should really be for you to do a publishable \\npiece of research in machine learning, okay?  \\nAnd if you go to the course website, you'll actuall y find a list of the projects that students \\nhad done last year. And so I'm holding the li st in my hand. You can  go home later and \\ntake a look at it online.  \\nBut reading down this list, I see that last year, there were st udents that ap plied learning \\nalgorithms to control a snake robot. Ther e was a few projects on improving learning \\nalgorithms. There's a project on flying autonomous  aircraft. There was a project actually \\ndone by our TA Paul on improvi ng computer vision algorithms  using machine learning.  \\nThere are a couple of project s on Netflix rankings using learning algorithms; a few \\nmedical robots; ones on segmenting [inaudibl e] to segmenting pieces of the body using \\nlearning algorithms; one on musical instrume nt detection; anot her on irony sequence \\nalignment; and a few algorithms on understandin g the brain neuroscience, actually quite a \\nfew projects on neuroscience; a couple of projects on unde scending fMRI data on brain \\nscans, and so on; another project on market makings, the financial trading. There was an \\ninteresting project on trying to use learning algorithms to decide what is it that makes a \\nperson's face physically attractive. There's a learning algorithm on op tical illusions, and \\nso on.  \\nAnd it goes on, so lots of fun projects. A nd take a look, then come up with your own \\nideas. But whatever you find cool and interest ing, I hope you'll be able to make machine \\nlearning a project out of it. Yeah, question?  \\nStudent : Are these gro up projects?  \\nInstructor (Andrew Ng): Oh, yes, thank you.  \\nStudent : So how many people can be in a group?  \\nInstructor (Andrew Ng): Right. So projects can be done in  groups of up to three people. \\nSo as part of forming study groups, later t oday as you get to know your classmates, I \\ndefinitely also encourage you to grab two ot her people and form a group of up to three \\npeople for your project, okay? And just start brainstorming ideas for now amongst \\nyourselves. You can also come and talk to me or the TAs if you want to brainstorm ideas \\nwith us.  \\nOkay. So one more organizational ques tion. I'm curious, how many of you know \\nMATLAB? Wow, cool, quite a lot. Okay. So as part of the — act ually how many of you \\nknow Octave or have used Octave ? Oh, okay, much smaller number.  \\nSo as part of this class, especially in the homeworks, we'll ask you to implement a few \\nprograms, a few machine learning algorithms as  part of the homeworks. And most of\", metadata={'source': '/content/drive/MyDrive/MachineLearning-Lecture01.pdf', 'page': 7}), Document(page_content='those homeworks will be done in either MATLA B or in Octave, which is sort of — I \\nknow some people call it a free ve rsion of MATLAB, which it sort  of is, sort of isn\\'t.  \\nSo I guess for those of you that haven\\'t s een MATLAB before, and I know most of you \\nhave, MATLAB is I guess part of the programming language that makes it very easy to write codes using matrices, to write code for numerical routines, to move data around, to \\nplot data. And it\\'s sort of an extremely easy to  learn tool to use for implementing a lot of \\nlearning algorithms.  \\nAnd in case some of you want to work on your  own home computer or something if you \\ndon\\'t have a MATLAB license, for the purposes of  this class, there\\'s also — [inaudible] \\nwrite that down [inaudible] MATLAB — there\\' s also a software package called Octave \\nthat you can download for free off the Internet. And it has somewhat fewer features than MATLAB, but it\\'s free, and for the purposes of  this class, it will work for just about \\neverything.  \\nSo actually I, well, so yeah, just a side comment for those of you that haven\\'t seen \\nMATLAB before I guess, once a colleague of mine at a different university, not at \\nStanford, actually teaches another machine l earning course. He\\'s taught it for many years. \\nSo one day, he was in his office, and an old student of his from, lik e, ten years ago came \\ninto his office and he said, \"Oh, professo r, professor, thank you so much for your \\nmachine learning class. I learned so much from it. There\\'s this stuff that I learned in your \\nclass, and I now use every day. And it\\'s help ed me make lots of money, and here\\'s a \\npicture of my big house.\"  \\nSo my friend was very excited. He said, \"W ow. That\\'s great. I\\'m glad to hear this \\nmachine learning stuff was actually useful. So what was it that you learned? Was it \\nlogistic regression? Was it the PCA? Was it the data ne tworks? What was it that you \\nlearned that was so helpful?\" And the student said, \"Oh, it was the MATLAB.\"  \\nSo for those of you that don\\'t know MATLAB yet, I hope you do learn it. It\\'s not hard, \\nand we\\'ll actually have a short MATLAB tutori al in one of the discussion sections for \\nthose of you that don\\'t know it.  \\nOkay. The very last piece of logistical th ing is the discussion s ections. So discussion \\nsections will be taught by the TAs, and atte ndance at discussion sections is optional, \\nalthough they\\'ll also be recorded and televi sed. And we\\'ll use the discussion sections \\nmainly for two things. For the next two or th ree weeks, we\\'ll use the discussion sections \\nto go over the prerequisites to this class or if some of you haven\\'t seen probability or \\nstatistics for a while or maybe algebra, we\\'ll go over those in the discussion sections as a \\nrefresher for those of you that want one.  \\nLater in this quarter, we\\'ll also use the disc ussion sections to go over extensions for the \\nmaterial that I\\'m teaching in the main lectur es. So machine learning is a huge field, and \\nthere are a few extensions that we really want  to teach but didn\\'t have time in the main \\nlectures for.', metadata={'source': '/content/drive/MyDrive/MachineLearning-Lecture01.pdf', 'page': 8}), Document(page_content=\"So later this quarter, we'll use the discussion sections to talk about things like convex \\noptimization, to talk a little bit about hidde n Markov models, which is a type of machine \\nlearning algorithm for modeling time series and a few other things, so  extensions to the \\nmaterials that I'll be covering in the main  lectures. And attend ance at the discussion \\nsections is optional, okay?  \\nSo that was all I had from l ogistics. Before we move on to start talking a bit about \\nmachine learning, let me check what questions you have. Yeah?  \\nStudent : [Inaudible] R or something like that?  \\nInstructor (Andrew Ng) : Oh, yeah, let's see, right. So our policy has been that you're \\nwelcome to use R, but I would strongly advi se against it, mainly because in the last \\nproblem set, we actually supply some code th at will run in Octave  but that would be \\nsomewhat painful for you to translate into R yourself. So for your other assignments, if \\nyou wanna submit a solution in R, that's fi ne. But I think MATLAB is actually totally \\nworth learning. I know R and MATLAB, and I personally end up using MATLAB quite a \\nbit more often for various reasons. Yeah?  \\nStudent : For the [inaudible] pr oject [inaudible]?  \\nInstructor (Andrew Ng) : So for the term project, you're welcome to do it in smaller \\ngroups of three, or you're welcome to do it by yo urself or in groups of two. Grading is the \\nsame regardless of the group size, so with  a larger group, you probably — I recommend \\ntrying to form a team, but it's actually totally fine to do it in a sma ller group if you want.  \\nStudent : [Inaudible] what language [inaudible]?  \\nInstructor (Andrew Ng): So let's see. There is no C programming in this class other \\nthan any that you may choose to do yourself in your project. So all the homeworks can be \\ndone in MATLAB or Octave, and let's see. A nd I guess the program prerequisites is more \\nthe ability to understand big?O notation and know ledge of what a data structure, like a \\nlinked list or a queue or bina ry treatments, more so than  your knowledge of C or Java \\nspecifically. Yeah?  \\nStudent : Looking at the end semester project, I mean, what exactly will you be testing \\nover there? [Inaudible]?  \\nInstructor (Andrew Ng) : Of the project?  \\nStudent : Yeah.  \\nInstructor (Andrew Ng) : Yeah, let me answer that later.  In a couple of weeks, I shall \\ngive out a handout with guidelines for the pr oject. But for now, we should think of the \\ngoal as being to do a cool piec e of machine learning work that  will let you experience the\", metadata={'source': '/content/drive/MyDrive/MachineLearning-Lecture01.pdf', 'page': 9}), Document(page_content='joys of machine learning firs thand and really try to think about doing a publishable piece \\nof work.  \\nSo many students will try to build a cool machine learning application. That\\'s probably \\nthe most common project. Some students will try to improve state-of-the-art machine \\nlearning. Some of those projects are also very  successful. It\\'s a littl e bit harder to do. And \\nthere\\'s also a smaller minority of students th at will sometimes try to prove — develop the \\ntheory of machine learning further or try to  prove theorems about machine learning. So \\nthey\\'re usually great projects of all of those types with applications and machine learning \\nbeing the most common. Anything else? Okay, cool.  \\nSo that was it for logistics. Let\\'s talk about  learning algorithms. So can I have the laptop \\ndisplay, please, or the projector? Actually, co uld you lower the big sc reen? Cool. This is \\namazing customer service. Thank you. I see. Okay, cool. Okay. No, that\\'s fine. I see. \\nOkay. That\\'s cool. Thanks. Okay.  \\nBig screen isn\\'t working toda y, but I hope you can read things  on the smaller screens out \\nthere. Actually, [inaudible] I think this room just got a new projector that — someone \\nsent you an excited email — was it just on Frid ay? — saying we just got a new projector \\nand they said 4,000-to-1 something or othe r brightness ratio. I don\\'t know. Someone was \\nvery excited about the new projector in this room, but I guess we\\'ll see that in operation \\non Wednesday.  \\nSo start by talking about what machine learni ng is. What is machine learning? Actually, \\ncan you read the text out there? Raise your hand if the text on the small screens is legible. \\nOh, okay, cool, mostly legible. Okay. So I\\'ll just read it out.  \\nSo what is machine learning? Way back in  about 1959, Arthur Samuel defined machine \\nlearning informally as the [inaudible] that gives computers to learn — [inaudible] that \\ngives computers the ability to learn without  being explicitly programmed. So Arthur \\nSamuel, so way back in the history of m achine learning, actually did something very \\ncool, which was he wrote a checkers progr am, which would play games of checkers \\nagainst itself.  \\nAnd so because a computer can play thousands  of games against itself relatively quickly, \\nArthur Samuel had his program play thousands  of games against itself, and over time it \\nwould start to learn to rec ognize patterns which led to wi ns and patterns which led to \\nlosses. So over time it learned things like that , \"Gee, if I get a lot of pieces taken by the \\nopponent, then I\\'m more likely to lose than win,\" or, \"Gee, if I get my pieces into a \\ncertain position, then I\\'m especially li kely to win rather than lose.\"  \\nAnd so over time, Arthur Samuel had a check ers program that woul d actually learn to \\nplay checkers by learning what are the sort of  board positions that tend to be associated \\nwith wins and what are the boa rd positions that tend to be associated with losses. And \\nway back around 1959, the amazing thing about this was that his program actually \\nlearned to play checkers much better than Arthur Samuel  himself could.', metadata={'source': '/content/drive/MyDrive/MachineLearning-Lecture01.pdf', 'page': 10}), Document(page_content=\"So even today, there are some people that say, well, computers can't do anything that \\nthey're not explicitly programmed to. And Ar thur Samuel's checkers program was maybe \\nthe first I think really convi ncing refutation of this clai m. Namely, Arthur Samuel \\nmanaged to write a checkers program that could play checkers much better than he \\npersonally could, and this is an instance of maybe computers learning to do things that \\nthey were not programmed explicitly to do.  \\nHere's a more recent, a more modern, more formal definition of machine learning due to \\nTom Mitchell, who says that a well-posed le arning problem is defined as follows: He \\nsays that a computer program is set to lear n from an experience E with respect to some \\ntask T and some performance measure P if  its performance on T as measured by P \\nimproves with experience E. Okay. So not  only is it a definition, it even rhymes.  \\nSo, for example, in the case of checkers, th e experience E that a program has would be \\nthe experience of playing lots of games of checkers against itself, say. The task T is the \\ntask of playing checkers, a nd the performance measure P will be something like the \\nfraction of games it wins against a cert ain set of human opponents. And by this \\ndefinition, we'll say that Arthur Samuel's ch eckers program has learned to play checkers, \\nokay?  \\nSo as an overview of what we're going to do in this class, this class is sort of organized \\ninto four major sections. We're gonna talk about four major topics in this class, the first \\nof which is supervised learning. So le t me give you an example of that.  \\nSo suppose you collect a data set of housing prices. And one of the TAs, Dan Ramage, \\nactually collected a data set for me last week to use in the example later. But suppose that \\nyou go to collect statistics about how much hous es cost in a certain geographic area. And \\nDan, the TA, collected data from housing pr ices in Portland, Oregon. So what you can do \\nis let's say plot the square footage of the house against the list price of  the house, right, so \\nyou collect data on a bunch of houses. And let' s say you get a data set like this with \\nhouses of different sizes that are li sted for different amounts of money.  \\nNow, let's say that I'm trying to sell a hous e in the same area as Portland, Oregon as \\nwhere the data comes from. Let's say I have a hou se that's this size in square footage, and \\nI want an algorithm to tell me about how much should I expect my house to sell for. So there are lots of ways to do this, and some of you may have seen elements of what I'm \\nabout to say before.  \\nSo one thing you could do is look at this data and maybe put a straight  line to it. And then \\nif this is my house, you may then look at th e straight line and predict that my house is \\ngonna go for about that much money, right? Ther e are other decisions that we can make, \\nwhich we'll talk about later, which is, well, what if I don' t wanna put a straight line? \\nMaybe I should put a quadratic function to it. Ma ybe that fits the data a little bit better. \\nYou notice if you do that, the price of my house goes up a bit, so that'd be nice.\", metadata={'source': '/content/drive/MyDrive/MachineLearning-Lecture01.pdf', 'page': 11}), Document(page_content='And this sort of learning pr oblem of learning to predict hous ing prices is an example of \\nwhat\\'s called a supervised learning problem. And the reason that it\\'s called supervised \\nlearning is because we\\'re providing the al gorithm a data set of a bunch of square \\nfootages, a bunch of housing sizes, and as well as sort of the right answer of what the \\nactual prices of a number  of houses were, right?  \\nSo we call this supervised learning because we\\'re supervising the algorithm or, in other \\nwords, we\\'re giving the algorithm the, quote,  right answer for a number of houses. And \\nthen we want the algorithm to learn the a ssociation between the inputs and the outputs \\nand to sort of give us more of the right answers, okay?  \\nIt turns out this specific exam ple that I drew here is an example of something called a \\nregression problem. And the term regression sort of refers to the fact that the variable \\nyou\\'re trying to predict is a continuous value and price.  \\nThere\\'s another class of supervised learning problems which we\\'ll talk about, which are \\nclassification problems. And so, in a classifi cation problem, the variab le you\\'re trying to \\npredict is discreet rather than continuous . So as one specific example — so actually a \\nstandard data set you can download online [i naudible] that lots of machine learning \\npeople have played with. Let\\'s say you collect  a data set on breast cancer tumors, and you \\nwant to learn the algorithm to predict wh ether or not a certai n tumor is malignant. \\nMalignant is the opposite of benign, right, so ma lignancy is a sort of harmful, bad tumor. \\nSo we collect some number of features, some  number of properties of these tumors, and \\nfor the sake of sort of having a simple [inaudi ble] explanation, let\\'s just say that we\\'re \\ngoing to look at the size of the tumor and depe nding on the size of the tumor, we\\'ll try to \\nfigure out whether or not the tu mor is malignant or benign.  \\nSo the tumor is either malignant or benign, and so  the variable in the Y axis is either zero \\nor 1, and so your data set ma y look something like that, righ t? And that\\'s 1 and that\\'s \\nzero, okay? And so this is an example of a classification problem where the variable \\nyou\\'re trying to predict is a discreet value. It \\'s either zero or 1.  \\nAnd in fact, more generally, there will be many learning problems where we\\'ll have more \\nthan one input variable, more than one input f eature and use more than one variable to try \\nto predict, say, whether a tumor is malignant  or benign. So, for example, continuing with \\nthis, you may instead have a data  set that looks like this. I\\'m gonna part this data set in a \\nslightly different way now. And I\\'m making this  data set look much cleaner than it really \\nis in reality for illustration, okay?  \\nFor example, maybe the crosses indicate ma lignant tumors and the \"O\"s may indicate \\nbenign tumors. And so you may have a data se t comprising patients of  different ages and \\nwho have different tumor sizes and where a cross indicates a mali gnant tumor, and an \\n\"O\" indicates a benign tumor. And you may want  an algorithm to learn to predict, given a \\nnew patient, whether their tumo r is malignant or benign.', metadata={'source': '/content/drive/MyDrive/MachineLearning-Lecture01.pdf', 'page': 12}), Document(page_content=\"So, for example, what a learning algorithm ma y do is maybe come in and decide that a \\nstraight line like that separates the two classes of tumors really well, and so if you have a \\nnew patient who's age and tumor size fall over there, then the algorithm may predict that \\nthe tumor is benign rather than malignant, oka y? So this is just another example of \\nanother supervised learning problem and another classification problem.  \\nAnd so it turns out that one of the issues we' ll talk about later in this class is in this \\nspecific example, we're going to try to predic t whether a tumor is malignant or benign \\nbased on two features or based on two inputs, namely the age of the patient and the tumor \\nsize. It turns out that when you look at a real  data set, you find th at learning algorithms \\noften use other sets of features . In the breast cancer data ex ample, you also use properties \\nof the tumors, like clump thic kness, uniformity of cell size, uniformity of cell shape, \\n[inaudible] adhesion and so on, so va rious other medical properties.  \\nAnd one of the most interesting things we'll ta lk about later this quarter is what if your \\ndata doesn't lie in a two-dimensional or th ree-dimensional or sort of even a finite \\ndimensional space, but is it possible — what if your data actually lies in an infinite \\ndimensional space? Our plots here are two-dime nsional space. I can't plot you an infinite \\ndimensional space, right? And so it turns out that one of the most successful classes of \\nmachine learning algorithms — some may call support vector machines — actually takes \\ndata and maps data to an infinite dimensi onal space and then does classification using not \\ntwo features like I've done  here, but an infinite number of features.  \\nAnd that will actually be one of the most fa scinating things we talk about when we go \\ndeeply into classification al gorithms. And it's actually an in teresting question, right, so \\nthink about how do you even represent an in finite dimensional vector in computer \\nmemory? You don't have an infinite amount of computers. How do you even represent a \\npoint that lies in an infinite dimensional sp ace? We'll talk about that when we get to \\nsupport vector machines, okay?  \\nSo let's see. So that was supervised learning. The second of the four major topics of this \\nclass will be learning theory. So I have a friend who teaches math at a different \\nuniversity, not at Stanford, and when you talk to  him about his work and what he's really \\nout to do, this friend of mine will — he's a ma th professor, right? — this friend of mine \\nwill sort of get the look of wonder in his eyes, and he'll tell you about how in his \\nmathematical work, he feels like he's disc overing truth and beauty in the universe. And \\nhe says it in sort of a real ly touching, sincere way, and then  he has this — you can see it \\nin his eyes — he has this deep appreciation of the truth and beauty  in the universe as \\nrevealed to him by the math he does.  \\nIn this class, I'm not gonna do any truth and beauty. In this class,  I'm gonna talk about \\nlearning theory to try to convey to y ou an understanding of how and why learning \\nalgorithms work so that we can apply these lear ning algorithms as effectively as possible.  \\nSo, for example, it turns out you can prove su rprisingly deep theorems on when you can \\nguarantee that a learning algorithm will wo rk, all right? So think about a learning\", metadata={'source': '/content/drive/MyDrive/MachineLearning-Lecture01.pdf', 'page': 13}), Document(page_content=\"algorithm for reading zip codes. When can  you prove a theorem guaranteeing that a \\nlearning algorithm will be at least 99.9 per cent accurate on reading zip codes? This is \\nactually somewhat surprising. We actually prove theorems showing when you can expect \\nthat to hold.  \\nWe'll also sort of delve into learning theo ry to try to understand what algorithms can \\napproximate different functions well and also  try to understand things like how much \\ntraining data do you need? So how many exampl es of houses do I need in order for your \\nlearning algorithm to recognize the pattern be tween the square footage of a house and its \\nhousing price? And this will help  us answer questions like if you're trying to design a \\nlearning algorithm, should you be spending more time collecting more data or is it a case \\nthat you already have enough data; it would be  a waste of time to try to collect more. \\nOkay?  \\nSo I think learning algorithms are a very powerful tool that  as I walk around sort of \\nindustry in Silicon Valley or as I work with  various businesses in CS and outside CS, I \\nfind that there's often a huge differen ce between how well so meone who really \\nunderstands this stuff can appl y a learning algorithm versus so meone who sort of gets it \\nbut sort of doesn't.  \\nThe analogy I like to think of  is imagine you were going to a carpentry school instead of \\na machine learning class, right? If you go to a carpentry school, they can give you the \\ntools of carpentry. They'll give you a hamme r, a bunch of nails, a screwdriver or \\nwhatever. But a master carpenter will be able to  use those tools far better than most of us \\nin this room. I know a carpen ter can do things with a hammer and nail that I couldn't \\npossibly. And it's actually a littl e bit like that in machine learning, too. One thing that's \\nsadly not taught in many courses on machine l earning is how to take the tools of machine \\nlearning and really, really apply them well.  \\nSo in the same way, so the tools of machin e learning are I wanna say quite a bit more \\nadvanced than the tools of carpentry. Maybe a carpenter will disagree . But a large part of \\nthis class will be just givi ng you the raw tools of machine learning, just the algorithms \\nand so on. But what I plan to do throughout this entire quarter, not just in the segment of \\nlearning theory, but actually as a theme r unning through everything I do this quarter, will \\nbe to try to convey to you the skills to real ly take the learning al gorithm ideas and really \\nto get them to work on a problem.  \\nIt's sort of hard for me to stand here and say how big a deal that is, but when I walk \\naround companies in Silicon Valley, it's co mpletely not uncommon for me to see \\nsomeone using some machine learning algorith m and then explain to me what they've \\nbeen doing for the last six months, and I go, oh, gee, it should have been obvious from \\nthe start that the last six months, you've been wa sting your time, right?  \\nAnd so my goal in this class, running th rough the entire quarter , not just on learning \\ntheory, is actually not only to give you the tools of m achine learning, but to teach you \\nhow to use them well. And I've noticed this  is something that really not many other\", metadata={'source': '/content/drive/MyDrive/MachineLearning-Lecture01.pdf', 'page': 14}), Document(page_content='classes teach. And this is something I\\'m rea lly convinced is a huge deal, and so by the \\nend of this class, I hope all of you will be master carpenters. I hope all of you will be \\nreally good at applying these learning algor ithms and getting them to work amazingly \\nwell in many problems. Okay?  \\nLet\\'s see. So [inaudible] the board. After lear ning theory, there\\'s a nother class of learning \\nalgorithms that I then want to teach you a bout, and that\\'s unsupervised learning. So you \\nrecall, right, a little ea rlier I drew an example like this , right, where you have a couple of \\nfeatures, a couple of input vari ables and sort of malignant tumors and benign tumors or \\nwhatever. And that was an example of a s upervised learning problem because the data \\nyou have gives you the right answer for each of your patients. The data tells you this \\npatient has a malignant tumor;  this patient has a benign tumor. So it had the right \\nanswers, and you wanted the algorithm to just produce more of the same.  \\nIn contrast, in an unsupervised learning problem , this is the sort of data you get, okay? \\nWhere speaking loosely, you\\'re given a data se t, and I\\'m not gonna tell you what the right \\nanswer is on any of your data. I\\'m just gonna give you a data set and I\\'m gonna say, \"Would you please find interesting structure in this data set?\" So that\\'s the unsupervised \\nlearning problem where you\\'re sort of not given the right answer for everything.  \\nSo, for example, an algorithm may find structure in the data in the form of the data being \\npartitioned into two clusters, or clustering is  sort of one example of an unsupervised \\nlearning problem.  \\nSo I hope you can see this. It turns out that th ese sort of unsupervised  learning algorithms \\nare also used in many problems. This is a scr een shot — this is a picture I got from Sue \\nEmvee, who\\'s a PhD student here, who is a pplying unsupervised learning algorithms to \\ntry to understand gene data, so is trying to  look at genes as individuals and group them \\ninto clusters based on properties of what ge nes they respond to — based on properties of \\nhow the genes respond to different experiments.  \\nAnother interesting application of [inaudible] sorts of clus tering algorithms is actually \\nimage processing, this which I got from Steve Gules, who\\'s another PhD student. It turns \\nout what you can do is if you give this sort of  data, say an image, to certain unsupervised \\nlearning algorithms, they will then learn to group pixels together and say, gee, this sort of \\npixel seems to belong together , and that sort of pixel seems to belong together.  \\nAnd so the images you see on the bottom — I guess you can just barely see them on there \\n— so the images you see on the bottom are groupings — are what the algorithm has done \\nto group certain pixels together. On a small di splay, it might be easier to just look at the \\nimage on the right. The two images on the botto m are two sort of identical visualizations \\nof the same grouping of the pixe ls into [inaudible] regions.  \\nAnd so it turns out that this sort of clustering algorithm or this sort of unsupervised \\nlearning algorithm, which learns  to group pixels together, it turns out to be useful for \\nmany applications in vision, in co mputer vision image processing.', metadata={'source': '/content/drive/MyDrive/MachineLearning-Lecture01.pdf', 'page': 15}), Document(page_content=\"I'll just show you one example, and this is a rather cool one that two students, Ashutosh \\nSaxena and Min Sun here did, wh ich is given an image like this, right? This is actually a \\npicture taken of the Stanford campus. You can apply that sort of cl ustering algorithm and \\ngroup the picture into regions. Let me actually blow that up so that you can see it more \\nclearly. Okay. So in the middle, you see the lines sort of groupi ng the image together, \\ngrouping the image into [inaudible] regions.  \\nAnd what Ashutosh and Min did was they then  applied the learning algorithm to say can \\nwe take this clustering and us e it to build a 3D model of the world? And so using the \\nclustering, they then had a lear ning algorithm try to learn what the 3D structure of the \\nworld looks like so that they could come up with a 3D model that you can sort of fly \\nthrough, okay? Although many people used to th ink it's not possible to take a single \\nimage and build a 3D model, but using a lear ning algorithm and that sort of clustering \\nalgorithm is the first step. They were able to.  \\nI'll just show you one more example. I like this  because it's a picture of Stanford with our \\nbeautiful Stanford campus. So again, taking th e same sort of clustering algorithms, taking \\nthe same sort of unsupervised learning algor ithm, you can group the pixels into different \\nregions. And using that as a pre-processing step, they eventually built this sort of 3D model of Stanford campus in a single picture.  You can sort of walk  into the ceiling, look \\naround the campus. Okay? This actually turned out to be a mix of supervised and \\nunsupervised learning, but the unsupervised lear ning, this sort of cl ustering was the first \\nstep.  \\nSo it turns out these sorts of unsupervised — clustering algorithms are actually routinely \\nused for many different problems, things like organizing computing clusters, social \\nnetwork analysis, market segmentation, so if you're a marketer and you want to divide your market into different segments or diffe rent groups of people to market to them \\nseparately; even for astronomical data an alysis and understanding how galaxies are \\nformed. These are just a sort of small sample  of the applications of unsupervised learning \\nalgorithms and clustering algorithms that we 'll talk about later in this class.  \\nJust one particularly cool example of an uns upervised learning algorithm that I want to \\ntell you about. And to motivate that, I'm gonna  tell you about what's called the cocktail \\nparty problem, which is imagine that you're at  some cocktail party a nd there are lots of \\npeople standing all over. And you know how it is, right, if you're at a large party, \\neveryone's talking, it can be sometimes very hard  to hear even the person in front of you. \\nSo imagine a large cocktail party with lots of people. So the problem is, is that all of these people talking, can you separate out the voice of just the person you're interested in \\ntalking to with all this  loud background noise?  \\nSo I'll show you a specific example in a second, but here's a cocktail party that's I guess \\nrather sparsely attended by just two people.  But what we're gonna do is we'll put two \\nmicrophones in the room, okay? And so becau se the microphones are just at slightly \\ndifferent distances to the two people, and th e two people may speak in slightly different \\nvolumes, each microphone will pick up an overl apping combination of these two people's\", metadata={'source': '/content/drive/MyDrive/MachineLearning-Lecture01.pdf', 'page': 16}), Document(page_content=\"voices, so slightly different overlapping voice s. So Speaker 1's voice may be more loud \\non Microphone 1, and Speaker 2's voice may be louder on Microphone 2, whatever.  \\nBut the question is, given these microphone reco rdings, can you separate out the original \\nspeaker's voices? So I'm gonna play some audi o clips that were collected by Tai Yuan \\nLee at UCSD. I'm gonna actually play for you the original raw microphone recordings \\nfrom this cocktail party. So this is the Microphone 1:  \\nMicrophone 1:  \\nOne, two, three, four, five, six, seven, eight, nine, ten.  \\nMicrophone 2:  \\nUno, dos, tres, cuatro, cinco, seis, siete, ocho, nueve, diez.  \\nInstructor (Andrew Ng) : So it's a fascinating cocktail party with people counting from \\none to ten. This is the second microphone:  \\nMicrophone 1:  \\nOne, two, three, four, five, six, seven, eight, nine, ten.  \\nMicrophone 2:  \\nUno, dos, tres, cuatro, cinco, seis, siete, ocho, nueve, diez.  \\nInstructor (Andrew Ng) : Okay. So in supervised learning, we don't know what the \\nright answer is, right? So what we're goi ng to do is take exactly the two microphone \\nrecordings you just heard and give it to an  unsupervised learning algorithm and tell the \\nalgorithm which of these discover structure in the data [inaudible] or  what structure is \\nthere in this data? And we actually don't know what the right answer is offhand.  \\nSo give this data to an unsupervised lear ning algorithm, and what the algorithm does in \\nthis case, it will discover that this data can actually be explained by two independent \\nspeakers speaking at the same time, and it can  further separate out the two speakers for \\nyou. So here's Output 1 of the algorithm:  \\nMicrophone 1:  \\nOne, two, three, four, five, six, seven, eight, nine, ten.  \\nInstructor (Andrew Ng) : And there's the second algorithm:  \\nMicrophone 2:\", metadata={'source': '/content/drive/MyDrive/MachineLearning-Lecture01.pdf', 'page': 17}), Document(page_content=\"Uno, dos, tres, cuatro, cinco, seis, siete, ocho, nueve, diez.  \\nInstructor (Andrew Ng): And so the algorithm discovers  that, gee, the structure \\nunderlying the data is really th at there are two sources of so und, and here they are. I'll \\nshow you one more example. This is a, well, th is is a second sort of different pair of \\nmicrophone recordings:  \\nMicrophone 1:  \\nOne, two, three, four, five, six, seven, eight, nine, ten.  \\nMicrophone 2:  \\n[Music playing.]  Instructor (Andrew Ng): So the poor guy is not at a cocktail party. He's talking to his \\nradio. There's the second recording:  \\nMicrophone 1:  \\nOne, two, three, four, five, six, seven, eight, nine, ten.  \\nMicrophone 2:  \\n[Music playing.]  \\nInstructor (Andrew Ng) : Right. And we get this data. It's the same unsupervised \\nlearning algorithm. The algorithm is actually called independent component analysis, and \\nlater in this quarter, you'll see why. And then output's the following:  \\nMicrophone 1:  \\nOne, two, three, four, five, six, seven, eight, nine, ten.  \\nInstructor (Andrew Ng): And that's the second one:  \\nMicrophone 2:  \\n[Music playing.]  \\nInstructor (Andrew Ng): Okay. So it turns out that be yond solving the cocktail party \\nalgorithm, this specific cla ss of unsupervised learning algor ithms are also applied to a \\nbunch of other problems, like in text proces sing or understanding f unctional grading and \\nmachine data, like the magneto-encephalogram would be an EEG data. We'll talk about \\nthat more when we go and describe ICA or independent component analysis algorithms, \\nwhich is what you just saw.\", metadata={'source': '/content/drive/MyDrive/MachineLearning-Lecture01.pdf', 'page': 18}), Document(page_content='And as an aside, this algorithm I just showed you, it seems like it must be a pretty \\ncomplicated algorithm, right, to take this overlapping audio streams and separate them \\nout. It sounds like a pretty complicated thi ng to do. So you\\'re gonna ask how complicated \\nis it really to implement an  algorithm like this? It turns out if you do it in MATLAB, you \\ncan do it in one line of code.  \\nSo I got this from Samuel Wyse at Toront o, U of Toronto, and the example I showed you \\nactually used a more complicated ICA algorithm than this. But nonetheless, I guess this is \\nwhy for this class I\\'m going to ask you to  do most of your programming in MATLAB and \\nOctave because if you try to implement the sa me algorithm in C or Java or something, I \\ncan tell you from personal, painful experien ce, you end up writing pages and pages of \\ncode rather than relatively few lines of code. I\\'ll also mention that it did take researchers \\nmany, many years to come up with that one line of code, so this is not easy.  \\nSo that was unsupervised learning, and then the last of the four major topics I wanna tell \\nyou about is reinforcement learning. And this  refers to problems where you don\\'t do one-\\nshot decision-making. So, for example, in  the supervised learning cancer prediction \\nproblem, you have a patient come in, you predict that the cancer is malignant or benign. \\nAnd then based on your prediction, maybe the pa tient lives or dies, and then that\\'s it, \\nright? So you make a decision and then there\\'s a consequence. You either got it right or \\nwrong. In reinforcement learning problems, you are usually asked to make a sequence of \\ndecisions over time.  \\nSo, for example, this is something that my students and I work on. If I give you the keys \\nto an autonomous helicopter — we actually ha ve this helicopter here at Stanford, — how \\ndo you write a program to make it fly, ri ght? You notice that if you make a wrong \\ndecision on a helicopter, the consequence of crashing it may not happen until much later. And in fact, usually you need to make a w hole sequence of bad decisions to crash a \\nhelicopter. But conversely, you al so need to make a whole sequence of good decisions in \\norder to fly a helic opter really well.  \\nSo I\\'m gonna show you some fun videos of lear ning algorithms flying helicopters. This is \\na video of our helicopter at Stanford flying using a contro ller that was learned using a \\nreinforcement learning algorithm. So this wa s done on the Stanford football field, and \\nwe\\'ll zoom out the camera in a second. You\\'ll sort of see th e trees planted in the sky. So \\nmaybe this is one of the most difficult aer obatic maneuvers flown on any helicopter under \\ncomputer control. And this controller, which is very, very hard for a human to sit down \\nand write out, was learned using one of these reinforcement learning algorithms.  \\nJust a word about that: The basic idea behi nd a reinforcement learning algorithm is this \\nidea of what\\'s called a reward  function. What we have to think about is imagine you\\'re \\ntrying to train a dog. So every time y our dog does something good, you say, \"Good dog,\" \\nand you reward the dog. Every time your dog does something bad, you go, \"Bad dog,\" right? And hopefully, over time, your dog will lear n to do the right things to get more of \\nthe positive rewards, to get mo re of the \"Good dogs\" and to ge t fewer of the \"Bad dogs.”', metadata={'source': '/content/drive/MyDrive/MachineLearning-Lecture01.pdf', 'page': 19}), Document(page_content='So the way we teach a helicopter to fly or any of these robots is sort of the same thing. \\nEvery time the helicopter crashes, we go, \"B ad helicopter,\" and every time it does the \\nright thing, we go, \"Good helicopter, \" and over time it learns how to control itself so as to \\nget more of these positive rewards.  \\nSo reinforcement learning is — I think of it as a way for you to specify what you want \\ndone, so you have to specify what is a \"good dog\" and what is a \"bad dog\" behavior. And \\nthen it\\'s up to the learning algorithm to  figure out how to maximize the \"good dog\" \\nreward signals and minimize the \"bad dog\" punishments.  \\nSo it turns out reinforcement learning is applie d to other problems in robotics. It\\'s applied \\nto things in web crawling and so on. But it\\'s just  cool to show videos, so let me just show \\na bunch of them. This learning algorithm was actually implemented by our head TA, Zico, of programming a four-legged dog. I guess Sam Shriver in this class also worked \\non the project and Peter Renfrew and Mike and a few others. But I guess this really is a \\ngood dog/bad dog since it\\'s a robot dog.  \\nThe second video on the right, some of the st udents, I guess Peter, Zico, Tonca working \\non a robotic snake, again using learning algorith ms to teach a snake robot to climb over \\nobstacles.  \\nBelow that, this is kind of a fun example.  Ashutosh Saxena and Jeff Michaels used \\nlearning algorithms to teach a car how to  drive at reasonably high speeds off roads \\navoiding obstacles.  \\nAnd on the lower right, that\\'s a robot program med by PhD student Eva Roshen to teach a \\nsort of somewhat strangely configured robot how to get on top of an obstacle, how to get \\nover an obstacle. Sorry. I know the video\\'s kind of small. I hope you can sort of see it. \\nOkay?  \\nSo I think all of these are robots that I thi nk are very difficult to hand-code a controller \\nfor by learning these sorts of l earning algorithms. You can in relatively short order get a \\nrobot to do often pretty amazing things.  \\nOkay. So that was most of what I wanted to say today. Just a couple more last things, but \\nlet me just check what questions you have righ t now. So if there are no questions, I\\'ll just \\nclose with two reminders, which are after class today or as you start to talk with other \\npeople in this class, I just encourage you again to start to form project partners, to try to \\nfind project partners to do your project with. And also, this is a good time to start forming \\nstudy groups, so either talk to your friends  or post in the newsgroup, but we just \\nencourage you to try to star t to do both of those today, okay? Form study groups, and try \\nto find two other project partners.  \\nSo thank you. I\\'m looking forward to teaching this class, and I\\'ll see you in a couple of \\ndays.', metadata={'source': '/content/drive/MyDrive/MachineLearning-Lecture01.pdf', 'page': 20}), Document(page_content='[End of Audio]  \\nDuration: 69 minutes', metadata={'source': '/content/drive/MyDrive/MachineLearning-Lecture01.pdf', 'page': 21}), Document(page_content='MachineLearning-Lecture01  \\nInstructor (Andrew Ng):  Okay. Good morning. Welcome to CS229, the machine \\nlearning class. So what I wanna do today is ju st spend a little time going over the logistics \\nof the class, and then we\\'ll start to  talk a bit about machine learning.  \\nBy way of introduction, my name\\'s  Andrew Ng and I\\'ll be instru ctor for this class. And so \\nI personally work in machine learning, and I\\' ve worked on it for about 15 years now, and \\nI actually think that machine learning is th e most exciting field of all the computer \\nsciences. So I\\'m actually always excited about  teaching this class. Sometimes I actually \\nthink that machine learning is not only the most exciting thin g in computer science, but \\nthe most exciting thing in all of human e ndeavor, so maybe a little bias there.  \\nI also want to introduce the TAs, who are all graduate students doing research in or \\nrelated to the machine learni ng and all aspects of machin e learning. Paul Baumstarck \\nworks in machine learning and computer vision.  Catie Chang is actually a neuroscientist \\nwho applies machine learning algorithms to try to understand the human brain. Tom Do \\nis another PhD student, works in computa tional biology and in sort of the basic \\nfundamentals of human learning. Zico Kolter is  the head TA — he\\'s head TA two years \\nin a row now — works in machine learning a nd applies them to a bunch of robots. And \\nDaniel Ramage is — I guess he\\'s not here  — Daniel applies l earning algorithms to \\nproblems in natural language processing.  \\nSo you\\'ll get to know the TAs and me much be tter throughout this quarter, but just from \\nthe sorts of things the TA\\'s do, I hope you can  already tell that machine learning is a \\nhighly interdisciplinary topic in which just the TAs find l earning algorithms to problems \\nin computer vision and biology and robots a nd language. And machine learning is one of \\nthose things that has and is having a large impact on many applications.  \\nSo just in my own daily work, I actually frequently end up talking to people like \\nhelicopter pilots to biologists to people in  computer systems or databases to economists \\nand sort of also an unending stream of  people from industry coming to Stanford \\ninterested in applying machine learni ng methods to their own problems.  \\nSo yeah, this is fun. A couple of weeks ago, a student actually forwar ded to me an article \\nin \"Computer World\" about the 12 IT skills th at employers can\\'t say no to. So it\\'s about \\nsort of the 12 most desirabl e skills in all of IT and all of information technology, and \\ntopping the list was actually machine lear ning. So I think this is a good time to be \\nlearning this stuff and learning algorithms and having a large impact on many segments \\nof science and industry.  \\nI\\'m actually curious about something. Learni ng algorithms is one of the things that \\ntouches many areas of science and industrie s, and I\\'m just kind of curious. How many \\npeople here are computer science majors, are in the computer science department? Okay. \\nAbout half of you. How many people are from  EE? Oh, okay, maybe about a fifth. How', metadata={'source': '/content/drive/MyDrive/MachineLearning-Lecture01.pdf', 'page': 0}), Document(page_content=\"many biologers are there here? Wow, just a few, not many. I'm surprised. Anyone from \\nstatistics? Okay, a few. So where are the rest of you from?  \\nStudent : iCME.  \\nInstructor (Andrew Ng) : Say again?  \\nStudent : iCME.  \\nInstructor (Andrew Ng) : iCME. Cool.  \\nStudent : [Inaudible].  \\nInstructor (Andrew Ng) : Civi and what else?  \\nStudent : [Inaudible]  \\nInstructor (Andrew Ng) : Synthesis, [inaudible] systems. Yeah, cool.  \\nStudent : Chemi.  \\nInstructor (Andrew Ng) : Chemi. Cool.  \\nStudent : [Inaudible].  \\nInstructor (Andrew Ng) : Aero/astro. Yes, right. Yeah, okay, cool. Anyone else?  \\nStudent : [Inaudible].  \\nInstructor (Andrew Ng) : Pardon? MSNE. All ri ght. Cool. Yeah.  \\nStudent : [Inaudible].  \\nInstructor (Andrew Ng) : Pardon?  \\nStudent : [Inaudible].  \\nInstructor (Andrew Ng) : Endo —  \\nStudent : [Inaudible].  \\nInstructor (Andrew Ng) : Oh, I see, industry. Okay. Cool. Great, great. So as you can \\ntell from a cross-section of th is class, I think we're a very diverse audience in this room, \\nand that's one of the things that makes this class fun to teach and fun to be in, I think.\", metadata={'source': '/content/drive/MyDrive/MachineLearning-Lecture01.pdf', 'page': 1}), Document(page_content=\"So in this class, we've tried to convey to you a broad set of principl es and tools that will \\nbe useful for doing many, many things. And ev ery time I teach this class, I can actually \\nvery confidently say that af ter December, no matter what yo u're going to do after this \\nDecember when you've sort of completed this  class, you'll find the things you learn in \\nthis class very useful, and these things will be useful pretty much no matter what you end \\nup doing later in your life.  \\nSo I have more logistics to go over later, but let's say a few more words about machine \\nlearning. I feel that machine learning grew out of  early work in AI, early work in artificial \\nintelligence. And over the last — I wanna say last 15 or last 20 years or so, it's been viewed as a sort of growing new capability for computers. And in particular, it turns out \\nthat there are many programs or there are many applications that you can't program by \\nhand.  \\nFor example, if you want to get a computer to read handwritten characters, to read sort of \\nhandwritten digits, that actual ly turns out to be amazingly difficult to write a piece of \\nsoftware to take this input, an image of some thing that I wrote and to  figure out just what \\nit is, to translate my cursive handwriting into — to extract the characters I wrote out in \\nlonghand. And other things: One thing that my students and I do is autonomous flight. It \\nturns out to be extremely difficult to sit dow n and write a program to  fly a helicopter.  \\nBut in contrast, if you want to do things like to get software to fl y a helicopter or have \\nsoftware recognize handwritten digits, one very  successful approach is to use a learning \\nalgorithm and have a computer learn by its elf how to, say, recognize your handwriting. \\nAnd in fact, handwritten digit recognition, this is pretty much the only approach that \\nworks well. It uses applications that are hard to program by hand.  \\nLearning algorithms has also made I guess sign ificant inroads in what's sometimes called \\ndatabase mining. So, for example, with the growth of IT and computers, increasingly \\nmany hospitals are keeping around medical reco rds of what sort of patients, what \\nproblems they had, what their prognoses was,  what the outcome was. And taking all of \\nthese medical records, which started to be digitized only about maybe 15 years, applying \\nlearning algorithms to them can turn raw medi cal records into what I might loosely call \\nmedical knowledge in which we start to detect trends in medical practice and even start to \\nalter medical practice as a result of me dical knowledge that's derived by applying \\nlearning algorithms to the sorts of medical r ecords that hospitals have just been building \\nover the last 15, 20 years in an electronic format.  \\nTurns out that most of you probably use learning algorithms — I don't know — I think \\nhalf a dozen times a day or maybe a dozen  times a day or more, and often without \\nknowing it. So, for example, every time you se nd mail via the US Postal System, turns \\nout there's an algorithm that tries to automa tically read the zip code you wrote on your \\nenvelope, and that's done by a learning al gorithm. So every time you send US mail, you \\nare using a learning algorithm, perhap s without even being aware of it.\", metadata={'source': '/content/drive/MyDrive/MachineLearning-Lecture01.pdf', 'page': 2}), Document(page_content=\"Similarly, every time you write a check, I ac tually don't know the number for this, but a \\nsignificant fraction of checks that you write are processed by a learning algorithm that's \\nlearned to read the digits, so the dolla r amount that you wrote down on your check. So \\nevery time you write a check, there's anot her learning algorithm that you're probably \\nusing without even being aware of it.  \\nIf you use a credit card, or I know at least one phone compan y was doing this, and lots of \\ncompanies like eBay as well that do electr onic transactions, there's a good chance that \\nthere's a learning algorithm in the backgr ound trying to figure out if, say, your credit \\ncard's been stolen or if someone's engaging in a fraudulent transaction.  \\nIf you use a website like Amazon or Netflix that will often recommend books for you to \\nbuy or movies for you to rent or whatever , these are other examples of learning \\nalgorithms that have learned what sorts of th ings you like to buy or what sorts of movies \\nyou like to watch and can therefore give  customized recommendations to you.  \\nJust about a week ago, I had my car serviced, and even there, my car mechanic was trying \\nto explain to me some learning algorithm in th e innards of my car th at's sort of doing its \\nbest to optimize my driving performan ce for fuel efficiency or something.  \\nSo, see, most of us use learning algorithms half a dozen, a dozen, maybe dozens of times \\nwithout even knowing it.  \\nAnd of course, learning algorithms are also  doing things like giving us a growing \\nunderstanding of the human genome. So if so meday we ever find a cure for cancer, I bet \\nlearning algorithms will have had a large role in that. That's sort of the thing that Tom \\nworks on, yes?  \\nSo in teaching this class, I sort of have thre e goals. One of them is just to I hope convey \\nsome of my own excitement a bout machine learning to you.  \\nThe second goal is by the end of this class, I hope all of you will be ab le to apply state-of-\\nthe-art machine learning algorithms to whatev er problems you're interested in. And if you \\never need to build a system for reading zi p codes, you'll know how to do that by the end \\nof this class.  \\nAnd lastly, by the end of this class, I reali ze that only a subset of  you are interested in \\ndoing research in machine learning, but by the c onclusion of this class,  I hope that all of \\nyou will actually be well qualified to star t doing research in machine learning, okay?  \\nSo let's say a few words about logistics. The prerequisites of this class are written on one \\nof the handouts, are as follows: In this class, I'm going to assume that all of you have sort \\nof basic knowledge of computer science and kn owledge of the basic computer skills and \\nprinciples. So I assume all of you know what big?O notation, that all of you know about \\nsort of data structures like  queues, stacks, binary trees , and that all of you know enough \\nprogramming skills to, like, write a simple co mputer program. And it turns out that most\", metadata={'source': '/content/drive/MyDrive/MachineLearning-Lecture01.pdf', 'page': 3}), Document(page_content=\"of this class will not be very program ming intensive, although we will do some \\nprogramming, mostly in either MATLAB or Octa ve. I'll say a bit more about that later.  \\nI also assume familiarity with basic proba bility and statistics. So most undergraduate \\nstatistics class, like Stat 116 taught here at Stanford, will be more than enough. I'm gonna \\nassume all of you know what ra ndom variables are, that all of you know what expectation \\nis, what a variance or a random variable is. And in case of some of you, it's been a while \\nsince you've seen some of this material. At some of the discussion sections, we'll actually \\ngo over some of the prerequisites, sort of as  a refresher course under prerequisite class. \\nI'll say a bit more about that later as well.  \\nLastly, I also assume familiarity with basi c linear algebra. And again, most undergraduate \\nlinear algebra courses are more than enough. So if you've taken courses like Math 51, \\n103, Math 113 or CS205 at Stanford, that would be more than enough. Basically, I'm \\ngonna assume that all of you know what matrix es and vectors are, that you know how to \\nmultiply matrices and vectors and multiply matrix and matrices, that you know what a matrix inverse is. If you know what an eigenvect or of a matrix is, that'd be even better. \\nBut if you don't quite know or if you're not qu ite sure, that's fine, too. We'll go over it in \\nthe review sections.  \\nSo there are a couple more logisti cal things I should deal with in  this class. One is that, as \\nmost of you know, CS229 is a televised cla ss. And in fact, I guess many of you are \\nprobably watching this at home on TV, so I' m gonna say hi to our home viewers.  \\nSo earlier this year, I appro ached SCPD, which televises th ese classes, about trying to \\nmake a small number of Stanford classes publ icly available or posting the videos on the \\nweb. And so this year, Stanford is actually starting a small pilot program in which we'll \\npost videos of a small number of classes onlin e, so on the Internet in a way that makes it \\npublicly accessible to everyone. I'm very exc ited about that because machine learning in \\nschool, let's get the word out there.  \\nOne of the consequences of this is that — let's see — so videos  or pictures of the students \\nin this classroom will not be posted online, so your images — so don't worry about being \\nby seeing your own face appear on YouTube one day. But the microphones may pick up your voices, so I guess the consequence of that is that because microphones may pick up your voices, no matter how irritated you are at  me, don't yell out swear words in the \\nmiddle of class, but because there won't be video you can safely sit there and make faces \\nat me, and that won't show, okay?  \\nLet's see. I also handed out this — ther e were two handouts I hope most of you have, \\ncourse information handout. So let me just sa y a few words about parts of these. On the \\nthird page, there's a section that says Online Resources.  \\nOh, okay. Louder? Actually, could you turn up the volume? Testing. Is this better? \\nTesting, testing. Okay, cool. Thanks.\", metadata={'source': '/content/drive/MyDrive/MachineLearning-Lecture01.pdf', 'page': 4}), Document(page_content=\"So all right, online resources. The class has a home page, so it's in on the handouts. I \\nwon't write on the chalkboard — http:// cs229.stanford.edu. And so when there are \\nhomework assignments or things like that, we  usually won't sort of — in the mission of \\nsaving trees, we will usually not give out many handouts in class. So homework \\nassignments, homework solutions will be posted online at the course home page.  \\nAs far as this class, I've also written, a nd I guess I've also revised every year a set of \\nfairly detailed lecture notes that cover the te chnical content of this  class. And so if you \\nvisit the course homepage, you'll also find the detailed lecture notes that go over in detail \\nall the math and equations and so on  that I'll be doing in class.  \\nThere's also a newsgroup, su.class.cs229, also written on the handout. This is a \\nnewsgroup that's sort of a forum for people in  the class to get to  know each other and \\nhave whatever discussions you want to ha ve amongst yourselves. So the class newsgroup \\nwill not be monitored by the TAs and me. But this is a place for you to form study groups \\nor find project partners or discuss homework problems and so on, and it's not monitored \\nby the TAs and me. So feel free to ta lk trash about this class there.  \\nIf you want to contact the teaching staff, pl ease use the email address written down here, \\ncs229-qa@cs.stanford.edu. This goes to an acc ount that's read by all the TAs and me. So \\nrather than sending us email individually, if you send email to this account, it will \\nactually let us get back to you maximally quickly with answers to your questions.  \\nIf you're asking questions about homework probl ems, please say in the subject line which \\nassignment and which question the email refers to, since that will also help us to route \\nyour question to the appropriate TA or to me  appropriately and get the response back to \\nyou quickly.  \\nLet's see. Skipping ahead — let's see — for homework, one midterm, one open and term \\nproject. Notice on the honor code. So one thi ng that I think will help you to succeed and \\ndo well in this class and even help you to enjoy this cla ss more is if you form a study \\ngroup.  \\nSo start looking around where you' re sitting now or at the end of class today, mingle a \\nlittle bit and get to know your classmates. I strongly encourage you to form study groups \\nand sort of have a group of people to study with and have a group of your fellow students \\nto talk over these concepts with. You can also  post on the class news group if you want to \\nuse that to try to form a study group.  \\nBut some of the problems sets in this cla ss are reasonably difficult.  People that have \\ntaken the class before may tell you they were very difficult. And just I bet it would be \\nmore fun for you, and you'd probably have a be tter learning experience if you form a \\nstudy group of people to work with. So I definitely encourage you to do that.  \\nAnd just to say a word on the honor code, whic h is I definitely en courage you to form a \\nstudy group and work together, discuss homew ork problems together. But if you discuss\", metadata={'source': '/content/drive/MyDrive/MachineLearning-Lecture01.pdf', 'page': 5}), Document(page_content=\"homework problems with other students, then  I'll ask you to sort of go home and write \\ndown your own solutions independe ntly without referring to note s that were taken in any \\nof your joint study sessions.  \\nSo in other words, when you turn in a hom ework problem, what you turn in should be \\nsomething that was reconstructed independe ntly by yourself and w ithout referring to \\nnotes that you took during your  study sessions with other people, okay? And obviously, \\nshowing your solutions to othe rs or copying other solutions  directly is right out.  \\nWe occasionally also reuse problem set questions from previous years so that the \\nproblems are a bit more debugged and work more  smoothly. And as a result of that, I also \\nask you not to look at solutions from previous ye ars, and this includes both sort of official \\nsolutions that we've given out to previous gene rations of this class and previous solutions \\nthat people that have taken this class in previous years may have written out by \\nthemselves, okay?  \\nSadly, in this class, there are usually — sadly, in previous y ears, there have often been a \\nfew honor code violations in this class. And last year, I think I pr osecuted five honor code \\nviolations, which I think is a ridiculously large number. And so just don't work without \\nsolutions, and hopefully there'll be zero honor code  violations this year. I'd love for that \\nto happen.  \\nThe section here on the late homework polic y if you ever want to hand in a homework \\nlate, I'll leave you to r ead that yourself.  \\nWe also have a midterm, which is scheduled for Thursday, 8th of November at 6:00 p.m., \\nso please keep that evening free.  \\nAnd let's see. And one more administrative thing I wanted to sa y is about the class \\nproject. So part of the goal of this cla ss is to leave you well eq uipped to apply machine \\nlearning algorithms to a problem or to do rese arch in machine learning. And so as part of \\nthis class, I'll ask you to execute a small resear ch project sort of as a small term project.  \\nAnd what most students do for this is either  apply machine learning to a problem that you \\nfind interesting or investigate some aspect of  machine learning. So to those of you that \\nare either already doing research or to those of you who are in industry, you're taking this \\nfrom a company, one fantastic sort of way to do a class project would be if you apply \\nmachine learning algorithms to a problem that  you're interested in, to a problem that \\nyou're already working on, whether it be a scien ce research problem or sort of a problem \\nin industry where you're trying to get a syst em to work using a learning algorithm.  \\nTo those of you that are not currently doing re search, one great way to do a project would \\nbe if you apply learning algorithms to just pick a problem that you care about. Pick a \\nproblem that you find interesting, and apply lear ning algorithms to that  and play with the \\nideas and see what happens.\", metadata={'source': '/content/drive/MyDrive/MachineLearning-Lecture01.pdf', 'page': 6}), Document(page_content=\"And let's see. Oh, and the goal of the projec t should really be for you to do a publishable \\npiece of research in machine learning, okay?  \\nAnd if you go to the course website, you'll actuall y find a list of the projects that students \\nhad done last year. And so I'm holding the li st in my hand. You can  go home later and \\ntake a look at it online.  \\nBut reading down this list, I see that last year, there were st udents that ap plied learning \\nalgorithms to control a snake robot. Ther e was a few projects on improving learning \\nalgorithms. There's a project on flying autonomous  aircraft. There was a project actually \\ndone by our TA Paul on improvi ng computer vision algorithms  using machine learning.  \\nThere are a couple of project s on Netflix rankings using learning algorithms; a few \\nmedical robots; ones on segmenting [inaudibl e] to segmenting pieces of the body using \\nlearning algorithms; one on musical instrume nt detection; anot her on irony sequence \\nalignment; and a few algorithms on understandin g the brain neuroscience, actually quite a \\nfew projects on neuroscience; a couple of projects on unde scending fMRI data on brain \\nscans, and so on; another project on market makings, the financial trading. There was an \\ninteresting project on trying to use learning algorithms to decide what is it that makes a \\nperson's face physically attractive. There's a learning algorithm on op tical illusions, and \\nso on.  \\nAnd it goes on, so lots of fun projects. A nd take a look, then come up with your own \\nideas. But whatever you find cool and interest ing, I hope you'll be able to make machine \\nlearning a project out of it. Yeah, question?  \\nStudent : Are these gro up projects?  \\nInstructor (Andrew Ng): Oh, yes, thank you.  \\nStudent : So how many people can be in a group?  \\nInstructor (Andrew Ng): Right. So projects can be done in  groups of up to three people. \\nSo as part of forming study groups, later t oday as you get to know your classmates, I \\ndefinitely also encourage you to grab two ot her people and form a group of up to three \\npeople for your project, okay? And just start brainstorming ideas for now amongst \\nyourselves. You can also come and talk to me or the TAs if you want to brainstorm ideas \\nwith us.  \\nOkay. So one more organizational ques tion. I'm curious, how many of you know \\nMATLAB? Wow, cool, quite a lot. Okay. So as part of the — act ually how many of you \\nknow Octave or have used Octave ? Oh, okay, much smaller number.  \\nSo as part of this class, especially in the homeworks, we'll ask you to implement a few \\nprograms, a few machine learning algorithms as  part of the homeworks. And most of\", metadata={'source': '/content/drive/MyDrive/MachineLearning-Lecture01.pdf', 'page': 7}), Document(page_content='those homeworks will be done in either MATLA B or in Octave, which is sort of — I \\nknow some people call it a free ve rsion of MATLAB, which it sort  of is, sort of isn\\'t.  \\nSo I guess for those of you that haven\\'t s een MATLAB before, and I know most of you \\nhave, MATLAB is I guess part of the programming language that makes it very easy to write codes using matrices, to write code for numerical routines, to move data around, to \\nplot data. And it\\'s sort of an extremely easy to  learn tool to use for implementing a lot of \\nlearning algorithms.  \\nAnd in case some of you want to work on your  own home computer or something if you \\ndon\\'t have a MATLAB license, for the purposes of  this class, there\\'s also — [inaudible] \\nwrite that down [inaudible] MATLAB — there\\' s also a software package called Octave \\nthat you can download for free off the Internet. And it has somewhat fewer features than MATLAB, but it\\'s free, and for the purposes of  this class, it will work for just about \\neverything.  \\nSo actually I, well, so yeah, just a side comment for those of you that haven\\'t seen \\nMATLAB before I guess, once a colleague of mine at a different university, not at \\nStanford, actually teaches another machine l earning course. He\\'s taught it for many years. \\nSo one day, he was in his office, and an old student of his from, lik e, ten years ago came \\ninto his office and he said, \"Oh, professo r, professor, thank you so much for your \\nmachine learning class. I learned so much from it. There\\'s this stuff that I learned in your \\nclass, and I now use every day. And it\\'s help ed me make lots of money, and here\\'s a \\npicture of my big house.\"  \\nSo my friend was very excited. He said, \"W ow. That\\'s great. I\\'m glad to hear this \\nmachine learning stuff was actually useful. So what was it that you learned? Was it \\nlogistic regression? Was it the PCA? Was it the data ne tworks? What was it that you \\nlearned that was so helpful?\" And the student said, \"Oh, it was the MATLAB.\"  \\nSo for those of you that don\\'t know MATLAB yet, I hope you do learn it. It\\'s not hard, \\nand we\\'ll actually have a short MATLAB tutori al in one of the discussion sections for \\nthose of you that don\\'t know it.  \\nOkay. The very last piece of logistical th ing is the discussion s ections. So discussion \\nsections will be taught by the TAs, and atte ndance at discussion sections is optional, \\nalthough they\\'ll also be recorded and televi sed. And we\\'ll use the discussion sections \\nmainly for two things. For the next two or th ree weeks, we\\'ll use the discussion sections \\nto go over the prerequisites to this class or if some of you haven\\'t seen probability or \\nstatistics for a while or maybe algebra, we\\'ll go over those in the discussion sections as a \\nrefresher for those of you that want one.  \\nLater in this quarter, we\\'ll also use the disc ussion sections to go over extensions for the \\nmaterial that I\\'m teaching in the main lectur es. So machine learning is a huge field, and \\nthere are a few extensions that we really want  to teach but didn\\'t have time in the main \\nlectures for.', metadata={'source': '/content/drive/MyDrive/MachineLearning-Lecture01.pdf', 'page': 8}), Document(page_content=\"So later this quarter, we'll use the discussion sections to talk about things like convex \\noptimization, to talk a little bit about hidde n Markov models, which is a type of machine \\nlearning algorithm for modeling time series and a few other things, so  extensions to the \\nmaterials that I'll be covering in the main  lectures. And attend ance at the discussion \\nsections is optional, okay?  \\nSo that was all I had from l ogistics. Before we move on to start talking a bit about \\nmachine learning, let me check what questions you have. Yeah?  \\nStudent : [Inaudible] R or something like that?  \\nInstructor (Andrew Ng) : Oh, yeah, let's see, right. So our policy has been that you're \\nwelcome to use R, but I would strongly advi se against it, mainly because in the last \\nproblem set, we actually supply some code th at will run in Octave  but that would be \\nsomewhat painful for you to translate into R yourself. So for your other assignments, if \\nyou wanna submit a solution in R, that's fi ne. But I think MATLAB is actually totally \\nworth learning. I know R and MATLAB, and I personally end up using MATLAB quite a \\nbit more often for various reasons. Yeah?  \\nStudent : For the [inaudible] pr oject [inaudible]?  \\nInstructor (Andrew Ng) : So for the term project, you're welcome to do it in smaller \\ngroups of three, or you're welcome to do it by yo urself or in groups of two. Grading is the \\nsame regardless of the group size, so with  a larger group, you probably — I recommend \\ntrying to form a team, but it's actually totally fine to do it in a sma ller group if you want.  \\nStudent : [Inaudible] what language [inaudible]?  \\nInstructor (Andrew Ng): So let's see. There is no C programming in this class other \\nthan any that you may choose to do yourself in your project. So all the homeworks can be \\ndone in MATLAB or Octave, and let's see. A nd I guess the program prerequisites is more \\nthe ability to understand big?O notation and know ledge of what a data structure, like a \\nlinked list or a queue or bina ry treatments, more so than  your knowledge of C or Java \\nspecifically. Yeah?  \\nStudent : Looking at the end semester project, I mean, what exactly will you be testing \\nover there? [Inaudible]?  \\nInstructor (Andrew Ng) : Of the project?  \\nStudent : Yeah.  \\nInstructor (Andrew Ng) : Yeah, let me answer that later.  In a couple of weeks, I shall \\ngive out a handout with guidelines for the pr oject. But for now, we should think of the \\ngoal as being to do a cool piec e of machine learning work that  will let you experience the\", metadata={'source': '/content/drive/MyDrive/MachineLearning-Lecture01.pdf', 'page': 9}), Document(page_content='joys of machine learning firs thand and really try to think about doing a publishable piece \\nof work.  \\nSo many students will try to build a cool machine learning application. That\\'s probably \\nthe most common project. Some students will try to improve state-of-the-art machine \\nlearning. Some of those projects are also very  successful. It\\'s a littl e bit harder to do. And \\nthere\\'s also a smaller minority of students th at will sometimes try to prove — develop the \\ntheory of machine learning further or try to  prove theorems about machine learning. So \\nthey\\'re usually great projects of all of those types with applications and machine learning \\nbeing the most common. Anything else? Okay, cool.  \\nSo that was it for logistics. Let\\'s talk about  learning algorithms. So can I have the laptop \\ndisplay, please, or the projector? Actually, co uld you lower the big sc reen? Cool. This is \\namazing customer service. Thank you. I see. Okay, cool. Okay. No, that\\'s fine. I see. \\nOkay. That\\'s cool. Thanks. Okay.  \\nBig screen isn\\'t working toda y, but I hope you can read things  on the smaller screens out \\nthere. Actually, [inaudible] I think this room just got a new projector that — someone \\nsent you an excited email — was it just on Frid ay? — saying we just got a new projector \\nand they said 4,000-to-1 something or othe r brightness ratio. I don\\'t know. Someone was \\nvery excited about the new projector in this room, but I guess we\\'ll see that in operation \\non Wednesday.  \\nSo start by talking about what machine learni ng is. What is machine learning? Actually, \\ncan you read the text out there? Raise your hand if the text on the small screens is legible. \\nOh, okay, cool, mostly legible. Okay. So I\\'ll just read it out.  \\nSo what is machine learning? Way back in  about 1959, Arthur Samuel defined machine \\nlearning informally as the [inaudible] that gives computers to learn — [inaudible] that \\ngives computers the ability to learn without  being explicitly programmed. So Arthur \\nSamuel, so way back in the history of m achine learning, actually did something very \\ncool, which was he wrote a checkers progr am, which would play games of checkers \\nagainst itself.  \\nAnd so because a computer can play thousands  of games against itself relatively quickly, \\nArthur Samuel had his program play thousands  of games against itself, and over time it \\nwould start to learn to rec ognize patterns which led to wi ns and patterns which led to \\nlosses. So over time it learned things like that , \"Gee, if I get a lot of pieces taken by the \\nopponent, then I\\'m more likely to lose than win,\" or, \"Gee, if I get my pieces into a \\ncertain position, then I\\'m especially li kely to win rather than lose.\"  \\nAnd so over time, Arthur Samuel had a check ers program that woul d actually learn to \\nplay checkers by learning what are the sort of  board positions that tend to be associated \\nwith wins and what are the boa rd positions that tend to be associated with losses. And \\nway back around 1959, the amazing thing about this was that his program actually \\nlearned to play checkers much better than Arthur Samuel  himself could.', metadata={'source': '/content/drive/MyDrive/MachineLearning-Lecture01.pdf', 'page': 10}), Document(page_content=\"So even today, there are some people that say, well, computers can't do anything that \\nthey're not explicitly programmed to. And Ar thur Samuel's checkers program was maybe \\nthe first I think really convi ncing refutation of this clai m. Namely, Arthur Samuel \\nmanaged to write a checkers program that could play checkers much better than he \\npersonally could, and this is an instance of maybe computers learning to do things that \\nthey were not programmed explicitly to do.  \\nHere's a more recent, a more modern, more formal definition of machine learning due to \\nTom Mitchell, who says that a well-posed le arning problem is defined as follows: He \\nsays that a computer program is set to lear n from an experience E with respect to some \\ntask T and some performance measure P if  its performance on T as measured by P \\nimproves with experience E. Okay. So not  only is it a definition, it even rhymes.  \\nSo, for example, in the case of checkers, th e experience E that a program has would be \\nthe experience of playing lots of games of checkers against itself, say. The task T is the \\ntask of playing checkers, a nd the performance measure P will be something like the \\nfraction of games it wins against a cert ain set of human opponents. And by this \\ndefinition, we'll say that Arthur Samuel's ch eckers program has learned to play checkers, \\nokay?  \\nSo as an overview of what we're going to do in this class, this class is sort of organized \\ninto four major sections. We're gonna talk about four major topics in this class, the first \\nof which is supervised learning. So le t me give you an example of that.  \\nSo suppose you collect a data set of housing prices. And one of the TAs, Dan Ramage, \\nactually collected a data set for me last week to use in the example later. But suppose that \\nyou go to collect statistics about how much hous es cost in a certain geographic area. And \\nDan, the TA, collected data from housing pr ices in Portland, Oregon. So what you can do \\nis let's say plot the square footage of the house against the list price of  the house, right, so \\nyou collect data on a bunch of houses. And let' s say you get a data set like this with \\nhouses of different sizes that are li sted for different amounts of money.  \\nNow, let's say that I'm trying to sell a hous e in the same area as Portland, Oregon as \\nwhere the data comes from. Let's say I have a hou se that's this size in square footage, and \\nI want an algorithm to tell me about how much should I expect my house to sell for. So there are lots of ways to do this, and some of you may have seen elements of what I'm \\nabout to say before.  \\nSo one thing you could do is look at this data and maybe put a straight  line to it. And then \\nif this is my house, you may then look at th e straight line and predict that my house is \\ngonna go for about that much money, right? Ther e are other decisions that we can make, \\nwhich we'll talk about later, which is, well, what if I don' t wanna put a straight line? \\nMaybe I should put a quadratic function to it. Ma ybe that fits the data a little bit better. \\nYou notice if you do that, the price of my house goes up a bit, so that'd be nice.\", metadata={'source': '/content/drive/MyDrive/MachineLearning-Lecture01.pdf', 'page': 11}), Document(page_content='And this sort of learning pr oblem of learning to predict hous ing prices is an example of \\nwhat\\'s called a supervised learning problem. And the reason that it\\'s called supervised \\nlearning is because we\\'re providing the al gorithm a data set of a bunch of square \\nfootages, a bunch of housing sizes, and as well as sort of the right answer of what the \\nactual prices of a number  of houses were, right?  \\nSo we call this supervised learning because we\\'re supervising the algorithm or, in other \\nwords, we\\'re giving the algorithm the, quote,  right answer for a number of houses. And \\nthen we want the algorithm to learn the a ssociation between the inputs and the outputs \\nand to sort of give us more of the right answers, okay?  \\nIt turns out this specific exam ple that I drew here is an example of something called a \\nregression problem. And the term regression sort of refers to the fact that the variable \\nyou\\'re trying to predict is a continuous value and price.  \\nThere\\'s another class of supervised learning problems which we\\'ll talk about, which are \\nclassification problems. And so, in a classifi cation problem, the variab le you\\'re trying to \\npredict is discreet rather than continuous . So as one specific example — so actually a \\nstandard data set you can download online [i naudible] that lots of machine learning \\npeople have played with. Let\\'s say you collect  a data set on breast cancer tumors, and you \\nwant to learn the algorithm to predict wh ether or not a certai n tumor is malignant. \\nMalignant is the opposite of benign, right, so ma lignancy is a sort of harmful, bad tumor. \\nSo we collect some number of features, some  number of properties of these tumors, and \\nfor the sake of sort of having a simple [inaudi ble] explanation, let\\'s just say that we\\'re \\ngoing to look at the size of the tumor and depe nding on the size of the tumor, we\\'ll try to \\nfigure out whether or not the tu mor is malignant or benign.  \\nSo the tumor is either malignant or benign, and so  the variable in the Y axis is either zero \\nor 1, and so your data set ma y look something like that, righ t? And that\\'s 1 and that\\'s \\nzero, okay? And so this is an example of a classification problem where the variable \\nyou\\'re trying to predict is a discreet value. It \\'s either zero or 1.  \\nAnd in fact, more generally, there will be many learning problems where we\\'ll have more \\nthan one input variable, more than one input f eature and use more than one variable to try \\nto predict, say, whether a tumor is malignant  or benign. So, for example, continuing with \\nthis, you may instead have a data  set that looks like this. I\\'m gonna part this data set in a \\nslightly different way now. And I\\'m making this  data set look much cleaner than it really \\nis in reality for illustration, okay?  \\nFor example, maybe the crosses indicate ma lignant tumors and the \"O\"s may indicate \\nbenign tumors. And so you may have a data se t comprising patients of  different ages and \\nwho have different tumor sizes and where a cross indicates a mali gnant tumor, and an \\n\"O\" indicates a benign tumor. And you may want  an algorithm to learn to predict, given a \\nnew patient, whether their tumo r is malignant or benign.', metadata={'source': '/content/drive/MyDrive/MachineLearning-Lecture01.pdf', 'page': 12}), Document(page_content=\"So, for example, what a learning algorithm ma y do is maybe come in and decide that a \\nstraight line like that separates the two classes of tumors really well, and so if you have a \\nnew patient who's age and tumor size fall over there, then the algorithm may predict that \\nthe tumor is benign rather than malignant, oka y? So this is just another example of \\nanother supervised learning problem and another classification problem.  \\nAnd so it turns out that one of the issues we' ll talk about later in this class is in this \\nspecific example, we're going to try to predic t whether a tumor is malignant or benign \\nbased on two features or based on two inputs, namely the age of the patient and the tumor \\nsize. It turns out that when you look at a real  data set, you find th at learning algorithms \\noften use other sets of features . In the breast cancer data ex ample, you also use properties \\nof the tumors, like clump thic kness, uniformity of cell size, uniformity of cell shape, \\n[inaudible] adhesion and so on, so va rious other medical properties.  \\nAnd one of the most interesting things we'll ta lk about later this quarter is what if your \\ndata doesn't lie in a two-dimensional or th ree-dimensional or sort of even a finite \\ndimensional space, but is it possible — what if your data actually lies in an infinite \\ndimensional space? Our plots here are two-dime nsional space. I can't plot you an infinite \\ndimensional space, right? And so it turns out that one of the most successful classes of \\nmachine learning algorithms — some may call support vector machines — actually takes \\ndata and maps data to an infinite dimensi onal space and then does classification using not \\ntwo features like I've done  here, but an infinite number of features.  \\nAnd that will actually be one of the most fa scinating things we talk about when we go \\ndeeply into classification al gorithms. And it's actually an in teresting question, right, so \\nthink about how do you even represent an in finite dimensional vector in computer \\nmemory? You don't have an infinite amount of computers. How do you even represent a \\npoint that lies in an infinite dimensional sp ace? We'll talk about that when we get to \\nsupport vector machines, okay?  \\nSo let's see. So that was supervised learning. The second of the four major topics of this \\nclass will be learning theory. So I have a friend who teaches math at a different \\nuniversity, not at Stanford, and when you talk to  him about his work and what he's really \\nout to do, this friend of mine will — he's a ma th professor, right? — this friend of mine \\nwill sort of get the look of wonder in his eyes, and he'll tell you about how in his \\nmathematical work, he feels like he's disc overing truth and beauty in the universe. And \\nhe says it in sort of a real ly touching, sincere way, and then  he has this — you can see it \\nin his eyes — he has this deep appreciation of the truth and beauty  in the universe as \\nrevealed to him by the math he does.  \\nIn this class, I'm not gonna do any truth and beauty. In this class,  I'm gonna talk about \\nlearning theory to try to convey to y ou an understanding of how and why learning \\nalgorithms work so that we can apply these lear ning algorithms as effectively as possible.  \\nSo, for example, it turns out you can prove su rprisingly deep theorems on when you can \\nguarantee that a learning algorithm will wo rk, all right? So think about a learning\", metadata={'source': '/content/drive/MyDrive/MachineLearning-Lecture01.pdf', 'page': 13}), Document(page_content=\"algorithm for reading zip codes. When can  you prove a theorem guaranteeing that a \\nlearning algorithm will be at least 99.9 per cent accurate on reading zip codes? This is \\nactually somewhat surprising. We actually prove theorems showing when you can expect \\nthat to hold.  \\nWe'll also sort of delve into learning theo ry to try to understand what algorithms can \\napproximate different functions well and also  try to understand things like how much \\ntraining data do you need? So how many exampl es of houses do I need in order for your \\nlearning algorithm to recognize the pattern be tween the square footage of a house and its \\nhousing price? And this will help  us answer questions like if you're trying to design a \\nlearning algorithm, should you be spending more time collecting more data or is it a case \\nthat you already have enough data; it would be  a waste of time to try to collect more. \\nOkay?  \\nSo I think learning algorithms are a very powerful tool that  as I walk around sort of \\nindustry in Silicon Valley or as I work with  various businesses in CS and outside CS, I \\nfind that there's often a huge differen ce between how well so meone who really \\nunderstands this stuff can appl y a learning algorithm versus so meone who sort of gets it \\nbut sort of doesn't.  \\nThe analogy I like to think of  is imagine you were going to a carpentry school instead of \\na machine learning class, right? If you go to a carpentry school, they can give you the \\ntools of carpentry. They'll give you a hamme r, a bunch of nails, a screwdriver or \\nwhatever. But a master carpenter will be able to  use those tools far better than most of us \\nin this room. I know a carpen ter can do things with a hammer and nail that I couldn't \\npossibly. And it's actually a littl e bit like that in machine learning, too. One thing that's \\nsadly not taught in many courses on machine l earning is how to take the tools of machine \\nlearning and really, really apply them well.  \\nSo in the same way, so the tools of machin e learning are I wanna say quite a bit more \\nadvanced than the tools of carpentry. Maybe a carpenter will disagree . But a large part of \\nthis class will be just givi ng you the raw tools of machine learning, just the algorithms \\nand so on. But what I plan to do throughout this entire quarter, not just in the segment of \\nlearning theory, but actually as a theme r unning through everything I do this quarter, will \\nbe to try to convey to you the skills to real ly take the learning al gorithm ideas and really \\nto get them to work on a problem.  \\nIt's sort of hard for me to stand here and say how big a deal that is, but when I walk \\naround companies in Silicon Valley, it's co mpletely not uncommon for me to see \\nsomeone using some machine learning algorith m and then explain to me what they've \\nbeen doing for the last six months, and I go, oh, gee, it should have been obvious from \\nthe start that the last six months, you've been wa sting your time, right?  \\nAnd so my goal in this class, running th rough the entire quarter , not just on learning \\ntheory, is actually not only to give you the tools of m achine learning, but to teach you \\nhow to use them well. And I've noticed this  is something that really not many other\", metadata={'source': '/content/drive/MyDrive/MachineLearning-Lecture01.pdf', 'page': 14}), Document(page_content='classes teach. And this is something I\\'m rea lly convinced is a huge deal, and so by the \\nend of this class, I hope all of you will be master carpenters. I hope all of you will be \\nreally good at applying these learning algor ithms and getting them to work amazingly \\nwell in many problems. Okay?  \\nLet\\'s see. So [inaudible] the board. After lear ning theory, there\\'s a nother class of learning \\nalgorithms that I then want to teach you a bout, and that\\'s unsupervised learning. So you \\nrecall, right, a little ea rlier I drew an example like this , right, where you have a couple of \\nfeatures, a couple of input vari ables and sort of malignant tumors and benign tumors or \\nwhatever. And that was an example of a s upervised learning problem because the data \\nyou have gives you the right answer for each of your patients. The data tells you this \\npatient has a malignant tumor;  this patient has a benign tumor. So it had the right \\nanswers, and you wanted the algorithm to just produce more of the same.  \\nIn contrast, in an unsupervised learning problem , this is the sort of data you get, okay? \\nWhere speaking loosely, you\\'re given a data se t, and I\\'m not gonna tell you what the right \\nanswer is on any of your data. I\\'m just gonna give you a data set and I\\'m gonna say, \"Would you please find interesting structure in this data set?\" So that\\'s the unsupervised \\nlearning problem where you\\'re sort of not given the right answer for everything.  \\nSo, for example, an algorithm may find structure in the data in the form of the data being \\npartitioned into two clusters, or clustering is  sort of one example of an unsupervised \\nlearning problem.  \\nSo I hope you can see this. It turns out that th ese sort of unsupervised  learning algorithms \\nare also used in many problems. This is a scr een shot — this is a picture I got from Sue \\nEmvee, who\\'s a PhD student here, who is a pplying unsupervised learning algorithms to \\ntry to understand gene data, so is trying to  look at genes as individuals and group them \\ninto clusters based on properties of what ge nes they respond to — based on properties of \\nhow the genes respond to different experiments.  \\nAnother interesting application of [inaudible] sorts of clus tering algorithms is actually \\nimage processing, this which I got from Steve Gules, who\\'s another PhD student. It turns \\nout what you can do is if you give this sort of  data, say an image, to certain unsupervised \\nlearning algorithms, they will then learn to group pixels together and say, gee, this sort of \\npixel seems to belong together , and that sort of pixel seems to belong together.  \\nAnd so the images you see on the bottom — I guess you can just barely see them on there \\n— so the images you see on the bottom are groupings — are what the algorithm has done \\nto group certain pixels together. On a small di splay, it might be easier to just look at the \\nimage on the right. The two images on the botto m are two sort of identical visualizations \\nof the same grouping of the pixe ls into [inaudible] regions.  \\nAnd so it turns out that this sort of clustering algorithm or this sort of unsupervised \\nlearning algorithm, which learns  to group pixels together, it turns out to be useful for \\nmany applications in vision, in co mputer vision image processing.', metadata={'source': '/content/drive/MyDrive/MachineLearning-Lecture01.pdf', 'page': 15}), Document(page_content=\"I'll just show you one example, and this is a rather cool one that two students, Ashutosh \\nSaxena and Min Sun here did, wh ich is given an image like this, right? This is actually a \\npicture taken of the Stanford campus. You can apply that sort of cl ustering algorithm and \\ngroup the picture into regions. Let me actually blow that up so that you can see it more \\nclearly. Okay. So in the middle, you see the lines sort of groupi ng the image together, \\ngrouping the image into [inaudible] regions.  \\nAnd what Ashutosh and Min did was they then  applied the learning algorithm to say can \\nwe take this clustering and us e it to build a 3D model of the world? And so using the \\nclustering, they then had a lear ning algorithm try to learn what the 3D structure of the \\nworld looks like so that they could come up with a 3D model that you can sort of fly \\nthrough, okay? Although many people used to th ink it's not possible to take a single \\nimage and build a 3D model, but using a lear ning algorithm and that sort of clustering \\nalgorithm is the first step. They were able to.  \\nI'll just show you one more example. I like this  because it's a picture of Stanford with our \\nbeautiful Stanford campus. So again, taking th e same sort of clustering algorithms, taking \\nthe same sort of unsupervised learning algor ithm, you can group the pixels into different \\nregions. And using that as a pre-processing step, they eventually built this sort of 3D model of Stanford campus in a single picture.  You can sort of walk  into the ceiling, look \\naround the campus. Okay? This actually turned out to be a mix of supervised and \\nunsupervised learning, but the unsupervised lear ning, this sort of cl ustering was the first \\nstep.  \\nSo it turns out these sorts of unsupervised — clustering algorithms are actually routinely \\nused for many different problems, things like organizing computing clusters, social \\nnetwork analysis, market segmentation, so if you're a marketer and you want to divide your market into different segments or diffe rent groups of people to market to them \\nseparately; even for astronomical data an alysis and understanding how galaxies are \\nformed. These are just a sort of small sample  of the applications of unsupervised learning \\nalgorithms and clustering algorithms that we 'll talk about later in this class.  \\nJust one particularly cool example of an uns upervised learning algorithm that I want to \\ntell you about. And to motivate that, I'm gonna  tell you about what's called the cocktail \\nparty problem, which is imagine that you're at  some cocktail party a nd there are lots of \\npeople standing all over. And you know how it is, right, if you're at a large party, \\neveryone's talking, it can be sometimes very hard  to hear even the person in front of you. \\nSo imagine a large cocktail party with lots of people. So the problem is, is that all of these people talking, can you separate out the voice of just the person you're interested in \\ntalking to with all this  loud background noise?  \\nSo I'll show you a specific example in a second, but here's a cocktail party that's I guess \\nrather sparsely attended by just two people.  But what we're gonna do is we'll put two \\nmicrophones in the room, okay? And so becau se the microphones are just at slightly \\ndifferent distances to the two people, and th e two people may speak in slightly different \\nvolumes, each microphone will pick up an overl apping combination of these two people's\", metadata={'source': '/content/drive/MyDrive/MachineLearning-Lecture01.pdf', 'page': 16}), Document(page_content=\"voices, so slightly different overlapping voice s. So Speaker 1's voice may be more loud \\non Microphone 1, and Speaker 2's voice may be louder on Microphone 2, whatever.  \\nBut the question is, given these microphone reco rdings, can you separate out the original \\nspeaker's voices? So I'm gonna play some audi o clips that were collected by Tai Yuan \\nLee at UCSD. I'm gonna actually play for you the original raw microphone recordings \\nfrom this cocktail party. So this is the Microphone 1:  \\nMicrophone 1:  \\nOne, two, three, four, five, six, seven, eight, nine, ten.  \\nMicrophone 2:  \\nUno, dos, tres, cuatro, cinco, seis, siete, ocho, nueve, diez.  \\nInstructor (Andrew Ng) : So it's a fascinating cocktail party with people counting from \\none to ten. This is the second microphone:  \\nMicrophone 1:  \\nOne, two, three, four, five, six, seven, eight, nine, ten.  \\nMicrophone 2:  \\nUno, dos, tres, cuatro, cinco, seis, siete, ocho, nueve, diez.  \\nInstructor (Andrew Ng) : Okay. So in supervised learning, we don't know what the \\nright answer is, right? So what we're goi ng to do is take exactly the two microphone \\nrecordings you just heard and give it to an  unsupervised learning algorithm and tell the \\nalgorithm which of these discover structure in the data [inaudible] or  what structure is \\nthere in this data? And we actually don't know what the right answer is offhand.  \\nSo give this data to an unsupervised lear ning algorithm, and what the algorithm does in \\nthis case, it will discover that this data can actually be explained by two independent \\nspeakers speaking at the same time, and it can  further separate out the two speakers for \\nyou. So here's Output 1 of the algorithm:  \\nMicrophone 1:  \\nOne, two, three, four, five, six, seven, eight, nine, ten.  \\nInstructor (Andrew Ng) : And there's the second algorithm:  \\nMicrophone 2:\", metadata={'source': '/content/drive/MyDrive/MachineLearning-Lecture01.pdf', 'page': 17}), Document(page_content=\"Uno, dos, tres, cuatro, cinco, seis, siete, ocho, nueve, diez.  \\nInstructor (Andrew Ng): And so the algorithm discovers  that, gee, the structure \\nunderlying the data is really th at there are two sources of so und, and here they are. I'll \\nshow you one more example. This is a, well, th is is a second sort of different pair of \\nmicrophone recordings:  \\nMicrophone 1:  \\nOne, two, three, four, five, six, seven, eight, nine, ten.  \\nMicrophone 2:  \\n[Music playing.]  Instructor (Andrew Ng): So the poor guy is not at a cocktail party. He's talking to his \\nradio. There's the second recording:  \\nMicrophone 1:  \\nOne, two, three, four, five, six, seven, eight, nine, ten.  \\nMicrophone 2:  \\n[Music playing.]  \\nInstructor (Andrew Ng) : Right. And we get this data. It's the same unsupervised \\nlearning algorithm. The algorithm is actually called independent component analysis, and \\nlater in this quarter, you'll see why. And then output's the following:  \\nMicrophone 1:  \\nOne, two, three, four, five, six, seven, eight, nine, ten.  \\nInstructor (Andrew Ng): And that's the second one:  \\nMicrophone 2:  \\n[Music playing.]  \\nInstructor (Andrew Ng): Okay. So it turns out that be yond solving the cocktail party \\nalgorithm, this specific cla ss of unsupervised learning algor ithms are also applied to a \\nbunch of other problems, like in text proces sing or understanding f unctional grading and \\nmachine data, like the magneto-encephalogram would be an EEG data. We'll talk about \\nthat more when we go and describe ICA or independent component analysis algorithms, \\nwhich is what you just saw.\", metadata={'source': '/content/drive/MyDrive/MachineLearning-Lecture01.pdf', 'page': 18}), Document(page_content='And as an aside, this algorithm I just showed you, it seems like it must be a pretty \\ncomplicated algorithm, right, to take this overlapping audio streams and separate them \\nout. It sounds like a pretty complicated thi ng to do. So you\\'re gonna ask how complicated \\nis it really to implement an  algorithm like this? It turns out if you do it in MATLAB, you \\ncan do it in one line of code.  \\nSo I got this from Samuel Wyse at Toront o, U of Toronto, and the example I showed you \\nactually used a more complicated ICA algorithm than this. But nonetheless, I guess this is \\nwhy for this class I\\'m going to ask you to  do most of your programming in MATLAB and \\nOctave because if you try to implement the sa me algorithm in C or Java or something, I \\ncan tell you from personal, painful experien ce, you end up writing pages and pages of \\ncode rather than relatively few lines of code. I\\'ll also mention that it did take researchers \\nmany, many years to come up with that one line of code, so this is not easy.  \\nSo that was unsupervised learning, and then the last of the four major topics I wanna tell \\nyou about is reinforcement learning. And this  refers to problems where you don\\'t do one-\\nshot decision-making. So, for example, in  the supervised learning cancer prediction \\nproblem, you have a patient come in, you predict that the cancer is malignant or benign. \\nAnd then based on your prediction, maybe the pa tient lives or dies, and then that\\'s it, \\nright? So you make a decision and then there\\'s a consequence. You either got it right or \\nwrong. In reinforcement learning problems, you are usually asked to make a sequence of \\ndecisions over time.  \\nSo, for example, this is something that my students and I work on. If I give you the keys \\nto an autonomous helicopter — we actually ha ve this helicopter here at Stanford, — how \\ndo you write a program to make it fly, ri ght? You notice that if you make a wrong \\ndecision on a helicopter, the consequence of crashing it may not happen until much later. And in fact, usually you need to make a w hole sequence of bad decisions to crash a \\nhelicopter. But conversely, you al so need to make a whole sequence of good decisions in \\norder to fly a helic opter really well.  \\nSo I\\'m gonna show you some fun videos of lear ning algorithms flying helicopters. This is \\na video of our helicopter at Stanford flying using a contro ller that was learned using a \\nreinforcement learning algorithm. So this wa s done on the Stanford football field, and \\nwe\\'ll zoom out the camera in a second. You\\'ll sort of see th e trees planted in the sky. So \\nmaybe this is one of the most difficult aer obatic maneuvers flown on any helicopter under \\ncomputer control. And this controller, which is very, very hard for a human to sit down \\nand write out, was learned using one of these reinforcement learning algorithms.  \\nJust a word about that: The basic idea behi nd a reinforcement learning algorithm is this \\nidea of what\\'s called a reward  function. What we have to think about is imagine you\\'re \\ntrying to train a dog. So every time y our dog does something good, you say, \"Good dog,\" \\nand you reward the dog. Every time your dog does something bad, you go, \"Bad dog,\" right? And hopefully, over time, your dog will lear n to do the right things to get more of \\nthe positive rewards, to get mo re of the \"Good dogs\" and to ge t fewer of the \"Bad dogs.”', metadata={'source': '/content/drive/MyDrive/MachineLearning-Lecture01.pdf', 'page': 19}), Document(page_content='So the way we teach a helicopter to fly or any of these robots is sort of the same thing. \\nEvery time the helicopter crashes, we go, \"B ad helicopter,\" and every time it does the \\nright thing, we go, \"Good helicopter, \" and over time it learns how to control itself so as to \\nget more of these positive rewards.  \\nSo reinforcement learning is — I think of it as a way for you to specify what you want \\ndone, so you have to specify what is a \"good dog\" and what is a \"bad dog\" behavior. And \\nthen it\\'s up to the learning algorithm to  figure out how to maximize the \"good dog\" \\nreward signals and minimize the \"bad dog\" punishments.  \\nSo it turns out reinforcement learning is applie d to other problems in robotics. It\\'s applied \\nto things in web crawling and so on. But it\\'s just  cool to show videos, so let me just show \\na bunch of them. This learning algorithm was actually implemented by our head TA, Zico, of programming a four-legged dog. I guess Sam Shriver in this class also worked \\non the project and Peter Renfrew and Mike and a few others. But I guess this really is a \\ngood dog/bad dog since it\\'s a robot dog.  \\nThe second video on the right, some of the st udents, I guess Peter, Zico, Tonca working \\non a robotic snake, again using learning algorith ms to teach a snake robot to climb over \\nobstacles.  \\nBelow that, this is kind of a fun example.  Ashutosh Saxena and Jeff Michaels used \\nlearning algorithms to teach a car how to  drive at reasonably high speeds off roads \\navoiding obstacles.  \\nAnd on the lower right, that\\'s a robot program med by PhD student Eva Roshen to teach a \\nsort of somewhat strangely configured robot how to get on top of an obstacle, how to get \\nover an obstacle. Sorry. I know the video\\'s kind of small. I hope you can sort of see it. \\nOkay?  \\nSo I think all of these are robots that I thi nk are very difficult to hand-code a controller \\nfor by learning these sorts of l earning algorithms. You can in relatively short order get a \\nrobot to do often pretty amazing things.  \\nOkay. So that was most of what I wanted to say today. Just a couple more last things, but \\nlet me just check what questions you have righ t now. So if there are no questions, I\\'ll just \\nclose with two reminders, which are after class today or as you start to talk with other \\npeople in this class, I just encourage you again to start to form project partners, to try to \\nfind project partners to do your project with. And also, this is a good time to start forming \\nstudy groups, so either talk to your friends  or post in the newsgroup, but we just \\nencourage you to try to star t to do both of those today, okay? Form study groups, and try \\nto find two other project partners.  \\nSo thank you. I\\'m looking forward to teaching this class, and I\\'ll see you in a couple of \\ndays.', metadata={'source': '/content/drive/MyDrive/MachineLearning-Lecture01.pdf', 'page': 20}), Document(page_content='[End of Audio]  \\nDuration: 69 minutes', metadata={'source': '/content/drive/MyDrive/MachineLearning-Lecture01.pdf', 'page': 21}), Document(page_content=\"MachineLearning-Lecture02  \\nInstructor (Andrew Ng) :All right, good morning, welcom e back. So before we jump \\ninto today's material, I just have one admini strative announcement, which is graders. So I \\nguess sometime next week, we'll hand out the fi rst homework assignment for this class.  \\nIs this loud enough, by the way? Can people in  the back hear me? No. Can you please \\nturn up the mic a bit louder? Is this bette r? Is this okay? This is okay? Great.  \\nSo sometime next week, we'll hand out the firs t problem sets and it'll be two weeks after \\nthat, and the way we grade homework problems in this class is by some combination of \\nTAs and graders, where graders are usually me mbers – students currently in the class.  \\nSo in maybe about a week or so, I'll email the class to solicit applica tions for those of you \\nthat might be interested in becoming graders fo r this class, and ther e's usually sort of a \\nfun thing to do. So four times this quarter, th e TAs, and the graders, and I will spend one \\nevening staying up late and grad ing all the homework problems.  \\nFor those of you who that have never taught a cla ss before, or sort of been a grader, it's an \\ninteresting way for you to see, you know, what  the other half of the teaching experience \\nis. So the students that grade for the first time sort of get to learn about what it is that \\nreally makes a difference between a good so lution and amazing solution. And to give \\neveryone to just how we do points assignments, or what is it that causes a solution to get \\nfull marks, or just how to write amazing so lutions. Becoming a grad er is usually a good \\nway to do that.  \\nGraders are paid positions and you also get free  food, and it's usually fun for us to sort of \\nhang out for an evening and grade all the a ssignments. Okay, so I will send email. So \\ndon't email me yet if you want to be a grader. I'll send email to the entire class later with \\nthe administrative details and to solicit app lications. So you can email us back then, to \\napply, if you'd be interested in being a grader.  \\nOkay, any questions about that? All right, okay, so let's get started with today's material. \\nSo welcome back to the second lecture. What  I want to do today is talk about linear \\nregression, gradient descent, and the norma l equations. And I should also say, lecture \\nnotes have been posted online and so if some  of the math I go over today, I go over rather \\nquickly, if you want to see every equation wr itten out and work through the details more \\nslowly yourself, go to the course homepage and download detailed lecture notes that \\npretty much describe all the mathematical, te chnical contents I'm going to go over today.  \\nToday, I'm also going to delve into a fair amount  – some amount of linear algebra, and so \\nif you would like to see a refres her on linear algebra, this w eek's discussion section will \\nbe taught by the TAs and will be a refresher on linear algebra. So if some of the linear \\nalgebra I talk about today sort of seems to be going by pretty quickl y, or if you just want \\nto see some of the things I'm claiming today with our proof, if you wa nt to just see some \\nof those things written out in  detail, you can come to this week's discussion section.\", metadata={'source': '/content/drive/MyDrive/MachineLearning-Lecture02.pdf', 'page': 0}), Document(page_content='So I just want to start by showing you a f un video. Remember at the last lecture, the \\ninitial lecture, I talk ed about supervised learning. And supervised learning was this \\nmachine-learning problem where I said we\\'r e going to tell the algorithm what the close \\nright answer is for a number of examples, a nd then we want the algorithm to replicate \\nmore of the same.  \\nSo the example I had at the first lecture was the problem of predicting housing prices, \\nwhere you may have a training set, and we tell the algorithm what the \"right\" housing \\nprice was for every house in the training set. And then you want the algorithm to learn the \\nrelationship between sizes of houses and the pr ices, and essentially produce more of the \\n\"right\" answer.  \\nSo let me show you a video now. Load the bi g screen, please. So I\\'ll show you a video \\nnow that was from Dean Pomerleau at some work he did at Carnegie Mellon on applied \\nsupervised learning to get a car to drive itself . This is work on a vehicle known as Alvin. \\nIt was done sort of about 15 years ago, and I think it was a very el egant example of the \\nsorts of things you can get supervised or any algorithms to do.  \\nOn the video, you hear Dean Pomerleau\\'s voice mention and algorithm called Neural \\nNetwork. I\\'ll say a little bit about that later, but the essential learni ng algorithm for this is \\nsomething called gradient descent, which I will  talk about later in today\\'s lecture. Let\\'s \\nwatch the video. [Video plays]  \\nInstructor (Andrew Ng) :So two comments, right. One is this is supervised learning \\nbecause it\\'s learning from a human driver, in  which a human driver shows that we\\'re on \\nthis segment of the road, I will steer at this angle. This segment of the road, I\\'ll steer at \\nthis angle. And so the human provides the num ber of \"correct\" steeri ng directions to the \\ncar, and then it\\'s the job of the car to try to learn to produce more of these \"correct\" \\nsteering directions that k eeps the car on the road.  \\nOn the monitor display up here, I just want to tell you a littl e bit about what this display \\nmeans. So on the upper left where the m ouse pointer is moving, this horizontal line \\nactually shows the human steering direction, and this white bar, or this white area right \\nhere shows the steering direction chosen by the human driver, by moving the steering \\nwheel.  \\nThe human is steering a little bit to the left here indicated  by the position of this white \\nregion. This second line here wh ere Mamos is pointing, the sec ond line here is the output \\nof the learning algorithm, and where the learni ng algorithm currently thinks is the right \\nsteering direction. And right now what you\\'re seeing is the learning algorithm just at the \\nvery beginning of training, and so there\\'s just  no idea of where to steer. And so its output, \\nthis little white smear over the en tire range of stee ring directions.  \\nAnd as the algorithm collects more examples a nd learns of a time, you see it start to more \\nconfidently choose a steering direction. So let\\' s keep watching the video. [Video plays]', metadata={'source': '/content/drive/MyDrive/MachineLearning-Lecture02.pdf', 'page': 1}), Document(page_content='Instructor (Andrew Ng) :All right, so who thought driving could be that dramatic, right? \\nSwitch back to the chalkboard, please. I s hould say, this work was done about 15 years \\nago and autonomous driving has come a long way. So many of you will have heard of the \\nDARPA Grand Challenge, where one of my colleagues, Sebastian Thrun, the winning \\nteam\\'s drive a car across a desert by itself.  \\nSo Alvin was, I think, absolutely amazing wo rk for its time, but autonomous driving has \\nobviously come a long way since then. So what  you just saw was an example, again, of \\nsupervised learning, and in particular it was an  example of what they  call the regression \\nproblem, because the vehicle is trying to predict a continuous value variables of a \\ncontinuous value steering directions , we call the regression problem.  \\nAnd what I want to do today is talk about our first supervised learning algorithm, and it \\nwill also be to a regression task. So for the running example that I\\'m going to use \\nthroughout today\\'s lecture, you\\'re going to retu rn to the example of  trying to predict \\nhousing prices. So here\\'s actually a data set collected by TA, Dan Ramage, on housing \\nprices in Portland, Oregon.  \\nSo here\\'s a dataset of a number of houses of different sizes, and here are their asking \\nprices in thousands of dollars, $200,000. And so we  can take this data and plot it, square \\nfeet, best price, and so you make your other dataset like that. And the question is, given a \\ndataset like this, or given what we call a tr aining set like this, how  do you learn to predict \\nthe relationship between th e size of the house and th e price of the house?  \\nSo I\\'m actually going to come back and modify th is task a little bit mo re later, but let me \\ngo ahead and introduce some notation, which I\\'ll be using, actually, th roughout the rest of \\nthis course. The first piece of notation is I\\'m going to let the lower case alphabet M \\ndenote the number of training examples, and that just means the number of rows, or the \\nnumber of examples, houses, and prices we have.  \\nAnd in this particular data set, we have, what actually happens, we have 47 training \\nexamples, although I wrote down only five. Oka y, so throughout this quarter, I\\'m going \\nto use the alphabet M to denot e the number of training examples. I\\'m going to use the \\nlower case alphabet X to denote the input variable s, which I\\'ll often also call the features. \\nAnd so in this case, X would denote the size of the house they were looking at.  \\nI\\'m going to use Y to denote the \"output\" va riable, which is sometimes also called a \\ntarget variable, and so one pair, x, y, is wh at comprises one training example. In other \\nwords, one row on the table I drew just now  what would be what I call one training \\nexample, and the Ith training example, in othe r words the Ith row in that table, I\\'m going \\nto write as XI, Y, I.  \\nOkay, and so in this notation they\\'re going to  use this superscript I is not exponentiation. \\nSo this is not X to the power of IY to the pow er of I. In this notation, the superscript I in \\nparentheses is just sort of an index into the Ith row of my list of training examples.', metadata={'source': '/content/drive/MyDrive/MachineLearning-Lecture02.pdf', 'page': 2}), Document(page_content=\"So in supervised learning, this is what we 're going to do. We're given a training set, and \\nwe're going to feed our training set, compri sing our M training example, so 47 training \\nexamples, into a learning algorithm. Okay, and our algorithm then has output function \\nthat is by tradition, and for hist orical reasons, is usually de noted lower case alphabet H, \\nand is called a hypothesis. Don't worry too mu ch about whether the term hypothesis has a \\ndeep meaning. It's more a term that's used for historical reasons.  \\nAnd the hypothesis's job is to take this i nput. There's some new [inaudible]. What the \\nhypothesis does is it takes this  input, a new living area in s quare feet saying and output \\nestimates the price of this house. So the hypothesis H maps from inputs X to outputs Y. \\nSo in order to design a learning algorithm, the first thing we have to decide is how we \\nwant to represent the hypothesis, right.  \\nAnd just for this purposes of th is lecture, for the purposes of  our first learning algorithm, \\nI'm going to use a linear representation for the hypothesis. So I'm going to represent my \\nhypothesis as H of X equals theta zero, plus th eta 1X, where X here is  an input feature, \\nand so that's the size of the house we're considering.  \\nAnd more generally, come back to this, mo re generally for many regression problems we \\nmay have more than one input feature. So for example, if instead of  just knowing the size \\nof the houses, if we know also the number of  bedrooms in these houses, let's say, then, so \\nif our training set also has a second feature,  the number of bedrooms in the house, then \\nyou may, let's say X1 denote the size and squa re feet. Let X have script two denote the \\nnumber of bedrooms, and then I would write the hypothesis, H of X,  as theta rho plus \\ntheta 1X1 plus theta 2X2.  \\nOkay, and sometimes when I went to take the hypothesis H, and when I went to make \\nthis dependent on the theta is explicit, I'll sometimes write this as H subscript theta of X. And so this is the price that my hypothesis predicts a house with features X costs. So \\ngiven the new house with features X, a certa in size and a certain number of bedrooms, \\nthis is going to be the price that my hypothe sis predicts this house is going to cost.  \\nOne final piece of notation, so for conciseness, just to write this a bit more compactly I'm \\ngoing to take the convention of defining X0 to be equal to one, and so I can now write H \\nof X to be equal to sum from I equals one to two of theta I, oh sorr y, zero to two, theta I, \\nX I. And if you think of theta as an X, as vect ors, then this is just theta transpose X.  \\nAnd the very final piece of notation is I'm al so going to let lower case N be the number of \\nfeatures in my learning problem . And so this actually becomes a sum from I equals zero \\nto N, where in this example if you have two features, N would be equal to two.  \\nAll right, I realize that was a fair amount of  notation, and as I proceed through the rest of \\nthe lecture today, or in future weeks as well,  if some day you're looking at me write a \\nsymbol and you're wondering, gee, what was th at simple lower case N again? Or what \\nwas that lower case X again, or whatever, pleas e raise hand and I'll answer. This is a fair\", metadata={'source': '/content/drive/MyDrive/MachineLearning-Lecture02.pdf', 'page': 3}), Document(page_content=\"amount of notation. We'll probably all get used  to it in a few days and we'll standardize \\nnotation and make a lot of our descripti ons of learning algorithms a lot easier.  \\nBut again, if you see me write some symbol and you don't quite remember what it means, \\nchances are there are others in  this class who've forgotten too. So please raise your hand \\nand ask if you're ever wondering what some  symbol means. Any questions you have \\nabout any of this?  \\nYeah?  \\nStudent: The variable can be anything? [Inaudible]?  \\nInstructor (Andrew Ng) :Say that again.  \\nStudent: [inaudible] zero theta one?  \\nInstructor (Andrew Ng) :Right, so, well let me – this was going to be next, but the theta \\nor the theta Is are called the parameters. Th e thetas are called the parameters of our \\nlearning algorithm and theta zero, theta one, th eta two are just real numbers. And then it \\nis the job of the learning algor ithm to use the training set to choose or to learn appropriate \\nparameters theta.  \\nOkay, is there other questions?  Student: What does [inaudible]?  \\nInstructor (Andrew Ng) :Oh, transpose. Oh yeah, sorr y. When [inaudible] theta and \\ntheta transpose X, theta [inaudible].  \\nStudent: Is this like a [inaudible] hypothesis [inaudible], or would you have higher \\norders? Or would th eta [inaudible]?  \\nInstructor (Andrew Ng) :All great questions. The answer – so the question was, is this a \\ntypical hypothesis or can theta be a function of other variables and so on. And the answer \\nis sort of yes. For now, just for this first learning algorithm we'll talk about using a linear \\nhypothesis class. A little bit ac tually later this quarter, we'll talk about much more \\ncomplicated hypothesis classes, and we'll actua lly talk about higher order functions as \\nwell, a little bit later today.  \\nOkay, so for the learning problem then. How do we chose the parameters theta so that our \\nhypothesis H will make accurate predictions ab out all the houses. All right, so one \\nreasonable thing to do seems to be, well, we have a training set. So – and just on the \\ntraining set, our hypothesis will make some prediction, predictions of the housing prices, \\nof the prices of the houses  in the training set.\", metadata={'source': '/content/drive/MyDrive/MachineLearning-Lecture02.pdf', 'page': 4}), Document(page_content=\"So one thing we could do is just try to ma ke the predictions of  a learning algorithm \\naccurate on a training set. So given some feat ures, X, and some correct prices, Y, we \\nmight want to make that thet a square difference between th e prediction of the algorithm \\nand the actual price [inaudible].  \\nSo to choose parameters theta, unless we wa nt to minimize over the parameters theta, so \\nthe squared area between the pred icted price and the actual pri ce. And so going to fill this \\nin. We have M training examples. So the sum from I equals one through M of my M \\ntraining examples, of price predicted on the It h house in my training set. Mine is the \\nactual target variable. Mi ne is actual price on the Ith training example.  \\nAnd by convention, instead of minimizing this sum of the squared differences, I'm just \\ngoing to put a one-half there, which will simplif y some of the math we do later. Okay, \\nand so let me go ahead and define J of theta to be equal to just the same, one-half sum \\nfrom I equals one through M on the number of  training examples, of the value predicted \\nby my hypothesis minus the actual value.  \\nAnd so what we'll do, let's say, is minimize as a function of the parame ters of theta, this \\nquantity J of theta. I should say, to those of you who have taken sort of linear algebra \\nclasses, or maybe basic statistics classes, some of you may have s een things like these \\nbefore and seen least [inaudible] re gression or [inaudible] squares.  \\nMany of you will not have seen this before. I think some of you may have seen it before, \\nbut either way, regardless of whether you've s een it before, let's keep going. Just for those \\nof you that have seen it before, I should say eventually, we'll actually show that this \\nalgorithm is a special case of a much broade r class of algorithms. But let's keep going. \\nWe'll get there eventually.  \\nSo I'm going to talk about a couple of different algorithms for performing that \\nminimization over theta of J of theta. The first algorithm I'm going to talk about is a \\nsearch algorithm, where the basic idea is we'll start with some value of my parameter vector theta. Maybe initialize my parameter vect or theta to be the vect or of all zeros, and \\nexcuse me, have to correct th at. I sort of write zero with  an arrow on top to denote the \\nvector of all zeros.  \\nAnd then I'm going to keep changing my para meter vector theta to reduce J of theta a \\nlittle bit, until we hopefully end up at the minimu m with respect to thet a of J of theta. So \\nswitch the laptops please, and lower the big screen. So let me go ahead and show you an \\nanimation of this first algorithm for minimizi ng J of theta, which is an algorithm called \\ngrading and descent.  \\nSo here's the idea. You see on the display a plot and the axes, th e horizontal axes are \\ntheta zero and theta one. That's usually – mini mize J of theta, which is represented by the \\nheight of this plot. So the surface represents the function J of theta and the axes of this \\nfunction, or the inputs of this function are the parameters theta zero and theta one, written \\ndown here below.\", metadata={'source': '/content/drive/MyDrive/MachineLearning-Lecture02.pdf', 'page': 5}), Document(page_content='So here\\'s the gradient descent algorithm. I\\'m going to choose some initial point. It could \\nbe vector of all zeros or some randomly chosen  point. Let\\'s say we start from that point \\ndenoted by the star, by the cross, and now I wa nt you to imagine that this display actually \\nshows a 3D landscape. Imagine you\\'re all in a hi lly park or something, and this is the 3D \\nshape of, like, a hill in some park.  \\nSo imagine you\\'re actually standing physically at the position of that star, of that cross, \\nand imagine you can stand on that hill, ri ght, and look all 360 degrees around you and \\nask, if I were to take a small step, what would allow me to go downhill the most? Okay, just imagine that this is physically a hill and you\\'re standing there, and would look around \\nask, \"If I take a small step, what is the direc tion of steepest descent, that would take me \\ndownhill as quickly as possible?\"  \\nSo the gradient descent algorith m does exactly that. I\\'m going to take a small step in this \\ndirection of steepest des cent, or the direction that the gr adient turns out to be. And then \\nyou take a small step and you end up at a ne w point shown there, and it would keep \\ngoing. You\\'re now at a new point on this hi ll, and again you\\'re going to look around you, \\nlook all 360 degrees around you, and ask, \"What is the direction that would take me \\ndownhill as quickly as possible?\"  \\nAnd we want to go downhill as quickly as possible, because we want to find the \\nminimum of J of theta. So you do that agai n. You can take another step, okay, and you \\nsort of keep going until you end up at a loca l minimum of this function, J of theta. One \\nproperty of gradient descent is  that where you end up – in this  case, we ended up at this \\npoint on the lower left hand corner of this plot.  \\nBut let\\'s try running gradient descent again fr om a different position. So that was where I \\nstarted gradient descent just now. Let\\'s rer un gradient descent, but using a slightly \\ndifferent initial starting point, so a point sli ghtly further up and furthe r to the right. So it \\nturns out if you run gradient de scent from that point, then if  you take a steepest descent \\ndirection again, that\\'s your first step.  \\nAnd if you keep going, it turns out that with a slightly different ini tial starting point, you \\ncan actually end up at a completely different lo cal optimum. Okay, so this is a property of \\ngradient descent, and we\\'ll come back to it in  a second. So be aware that gradient descent \\ncan sometimes depend on where you initialize yo ur parameters, theta zero and theta one.  \\nSwitch back to the chalkboard, please. Let\\' s go ahead and work out the math of the \\ngradient descent algorithm. Then we\\'ll come b ack and revisit this i ssue of local optimum. \\nSo here\\'s the gradient descent algorithm.  \\nWe\\'re going to take a repeatedly take a step  in the direction of steepest descent, and it \\nturns out that you can write that as [inaudi ble], which is we\\'re going to update the \\nparameters theta as theta I minus the partial de rivative with respect to theta I, J of Theta. \\nOkay, so this is how we\\'re going to update the I parameter, theta I, how we\\'re going to \\nupdate Theta I on each iterati on of gradient descent.', metadata={'source': '/content/drive/MyDrive/MachineLearning-Lecture02.pdf', 'page': 6}), Document(page_content=\"Just a point of notation, I use this colon equa ls notation to denote setting a variable on the \\nleft hand side equal to the variable on the ri ght hand side. All right, so if I write A colon \\nequals B, then what I'm saying is, this is part of a computer program, or this is part of an \\nalgorithm where we take the value of B, the value on the right hand side, and use that to \\noverwrite the value on the left hand side.  \\nIn contrast, if I write A equals B, then this is an assertion of truth. I'm claiming that the \\nvalue of A is equal to the value of B, wh ereas this is computer operation where we \\noverwrite the value of A. If I write A equals B then I'm asserting that the values of A and \\nB are equal.  \\nSo let's see, this algorithm sort of makes se nse – well, actually let's just move on. Let's \\njust go ahead and take this algorithm and apply it to our problem. And to work out \\ngradient descent, let's take gradient descent and just apply it to our problem, and this \\nbeing the first somewhat mathematical lect ure, I'm going to step through derivations \\nmuch more slowly and carefully than I will later in this quarter. We'll work through the \\nsteps of these in much more detail than I will later in this quarter.  \\nLet's actually work out what this gradient descen t rule is. So – and I'll do this just for the \\ncase of, if we had only one training example. Ok ay, so in this case we need to work out \\nwhat the partial derivative with respect to the parameter theta I of J of theta. If we have \\nonly one training example then J of theta is goi ng to be one-half of script theta, of X \\nminus Y, script. So if you have only one training example comprising one pair, X, Y, \\nthen this is what J of theta is going to be.  \\nAnd so taking derivatives, you have one-h alf something squared. So the two comes \\ndown. So you have two times one-half times  theta of X minus Y, and then by the \\n[inaudible] derivatives, we also  must apply this by the deri vative of what's inside the \\nsquare. Right, the two and the one-half cancel. So  this leaves [inaudible] times that, theta \\nzero, X zero plus [inaudible].  \\nOkay, and if you look inside this sum, we're ta king the partial derivative of this sum with \\nrespect to the parameter theta I. But all th e terms in the sum, except for one, do not \\ndepend on theta I. In this sum, the only term  that depends on theta I will be some term \\nhere of theta I, X I. And so we take the partia l derivative with respect to theta I, X I – take \\nthe partial derivative with respec t to theta I of this term thet a I, X I, and so you get that \\ntimes X I.  \\nOkay, and so this gives us our learning rule, ri ght, of theta I gets updated as theta I minus \\nalpha times that. Okay, and this Greek alphabet alpha here is a parameter of the algorithm \\ncalled the learning rate, and this parameter al pha controls how large a step you take. So \\nyou're standing on the hill. You decided what di rection to take a st ep in, and so this \\nparameter alpha controls how a ggressive – how large a step y ou take in this direction of \\nsteepest descent.\", metadata={'source': '/content/drive/MyDrive/MachineLearning-Lecture02.pdf', 'page': 7}), Document(page_content=\"And so if you – and this is a parameter of the algorithm that's often set by hand. If you \\nchoose alpha to be too small than your steep est descent algorithm will take very tiny \\nsteps and take a long time to converge. If alpha  is too large then the steepest descent may \\nactually end up overshooting the minimum, if  you're taking too a ggressive a step.  \\nYeah?  \\nStudent: [Inaudible].  \\nInstructor (Andrew Ng) :Say that again?  \\nStudent: Isn't there a one over two missing somewhere?  \\nInstructor (Andrew Ng) :Is there a one-half missing?  \\nStudent: I was [inaudible].  \\nInstructor (Andrew Ng) :Thanks. I do make lots of errors  in that. Any questions about \\nthis?  \\nAll right, so let me just wrap this property into an algorithm. So over there I derived the \\nalgorithm where you have just one training example, more generally for M training \\nexamples, gradient descent becomes the following. We're going to repeat until \\nconvergence the following step.  \\nOkay, theta I gets updated as theta I and I'm just writing out the appropriate equation for \\nM examples rather than one example. Theta I gets updated. Theta I minus alpha times the sum from I equals one to M. Okay, and I won't bother to show it, but you can go home \\nand sort of verify for yourself that this summation here, this is indeed the partial \\nderivative with respect to theta I of J of theta, where if you us e the original definition of J \\nof theta for when you have M training examples.  \\nOkay, so I'm just going to show – switch back to the laptop display. I'm going to show \\nyou what this looks like when you run the algor ithm. So it turns out that for the specific \\nproblem of linear regression, or ordinary release squares, which is what we're doing \\ntoday, the function J of theta actually does not lo ok like this nasty one that I'll show you \\njust now with a multiple local optima.  \\nIn particular, it turns out for ordi nary release squares, the functi on J of theta is – it's just a \\nquadratic function. And so we'll always ha ve a nice bow shape, like what you see up \\nhere, and only have one global mini mum with no other local optima.  \\nSo when you run gradient descent, here are actu ally the contours of the function J. So the \\ncontours of a bow shaped function like that  are going to be ellipses, and if you run \\ngradient descent on this algorithm, here's what  you might get. Let's see, so I initialize the\", metadata={'source': '/content/drive/MyDrive/MachineLearning-Lecture02.pdf', 'page': 8}), Document(page_content=\"parameters. So let's say randomly at the positi on of that cross over th ere, right, that cross \\non the upper right.  \\nAnd so after one iteration of gradient descen t, as you change the space of parameters, so \\nif that's the result of one step of gradient desc ent, two steps, three steps, four steps, five \\nsteps, and so on, and it, you know, converges easily, rapidly to the global minimum of \\nthis function J of theta.  \\nOkay, and this is a property of [inaudible] regression with a linear  hypothesis cost. The \\nfunction, J of theta has no local optima. Yes, question?  \\nStudent: Is the alpha changing every time? Becau se the step is not [inaudible].  \\nInstructor (Andrew Ng) :So it turns out that – yes, so it turns out – this was done with a \\n– this is with a fake value of alpha, and one of  the properties of gradie nt descent is that as \\nyou approach the local minimum, it actually ta kes smaller and smaller steps so they'll \\nconverge. And the reason is, the update is – you update theta by subtracting from alpha \\ntimes the gradient. And so as you approach th e local minimum, the gradient also goes to \\nzero.  \\nAs you approach the local minimum, at the lo cal minimum the gradient is zero, and as \\nyou approach the local minimum, the gradient  also gets smaller and smaller. And so \\ngradient descent will automatically take sm aller and smaller steps as you approach the \\nlocal minimum. Make sense?  \\nAnd here's the same plot – here's actually a pl ot of the housing prices data. So here, lets \\nyou initialize the parameters to the vector of all zeros, and so  this blue line  at the bottom \\nshows the hypothesis with the parameters of in itialization. So initiall y theta zero and theta \\none are both zero, and so your hypothesis predic ts that all prices are equal to zero.  \\nAfter one iteration of gradient descent, that's  the blue line you get. After two iterations, \\nthree, four, five, and after a few more itera tions, excuse me, it converges, and you've now \\nfound the least square fit for the data. Okay, le t's switch back to the chalkboard. Are there \\nquestions about this? Yeah?  \\nStudent: [Inaudible] iteration, do we mean that we  run each sample – all the sample cases \\n[inaudible] the new values?  \\nInstructor (Andrew Ng) :Yes, right.  \\nStudent: And converged means that the value will  be the same [inaudible] roughly the \\nsame?  \\nInstructor (Andrew Ng) :Yeah, so this is sort of a question of how do you test the \\nconvergence. And there's different ways of testing for convergence. One is you can look\", metadata={'source': '/content/drive/MyDrive/MachineLearning-Lecture02.pdf', 'page': 9}), Document(page_content=\"at two different iterations and see if theta ha s changed a lot, and if  theta hasn't changed \\nmuch within two iterations, you may say it's sort of more or less converged.  \\nSomething that's done maybe slightly more often is look at the value of J of theta, and if J \\nof theta – if the quantity you're  trying to minimize is not changing much anymore, then \\nyou might be inclined to believe it's converged. So  these are sort of standard heuristics, or \\nstandard rules of thumb that are often used to  decide if gradient descent has converged.  \\nYeah?  \\nStudent: I may have missed something, but especial ly in [inaudible] descent. So one \\nfeature [inaudible] curve and can either go this  way or that way. But the math at incline \\n[inaudible] where that co mes in. When do you choose whether you go left, whether \\nyou're going this way or that way?  \\nInstructor (Andrew Ng) :I see. It just turns out that – so the question is, how is gradient \\ndescent looking 360 around you and choosing the direction of steepest descent. So it \\nactually turns out – I'm not su re I'll answer the second part , but it turns out that if you \\nstand on the hill and if you – it turns out th at when you compute the gradient of the \\nfunction, when you compute the derivative of the function, then it just turns out that that \\nis indeed the direction of steepest descent.  \\nBy the way, I just want to point out, you woul d never want to go in the opposite direction \\nbecause the opposite direction woul d actually be the direction of  steepest ascent, right. So \\nas it turns out – maybe the TAs can talk a bit more about this at th e section if there's \\ninterest. It turns out, when you take the de rivative of a function, the derivative of a \\nfunction sort of turns out to just give  you the direction of steepest descent.  \\nAnd so you don't explicitly look all 360 degr ees around you. You sort of just compute the \\nderivative and that turns out to  be the direction of steepest descent. Yeah, maybe the TAs \\ncan talk a bit more about this on Friday.  \\nOkay, let's see, so let me go ahead and give this algorithm a specific name. So this \\nalgorithm here is actually called batch gradient  descent, and the term batch isn't a great \\nterm, but the term batch refers to the fact that on every step of gradient descent you're \\ngoing to look at your entire training set. You're going to perform a sum over your M \\ntraining examples.  \\nSo [inaudible] descent often works very well.  I use it very often, and it turns out that \\nsometimes if you have a really, really large tr aining set, imagine that instead of having 47 \\nhouses from Portland, Oregon in our training set, if you had, say, the U.S. Census Database or something, with U.S. census size databases you often have hundreds of \\nthousands or millions of training examples.  \\nSo if M is a few million then if you're running batch rate and descent,  this means that to \\nperform every step of gradient descent you need  to perform a sum from J equals one to a\", metadata={'source': '/content/drive/MyDrive/MachineLearning-Lecture02.pdf', 'page': 10}), Document(page_content=\"million. That's sort of a lot of training ex amples where your computer programs have to \\nlook at, before you can even take one st ep downhill on the func tion J of theta.  \\nSo it turns out that when you have very la rge training sets, you should write down an \\nalternative algorithm that is called [inaudible]  gradient descent. Sometimes I'll also call it \\nincremental gradient descent, but the algorith m is as follows. Again, it will repeat until \\nconvergence and will iterate for J equals one to  M, and will perform one of these sort of \\ngradient descent updates using just the J training example.  \\nOh, and as usual, this is really – you update  all the parameters data runs. You perform \\nthis update for all values of I. For I indexe s and the parameter vectors, you just perform \\nthis update, all of your parameters simultaneous ly. And the advantage of this algorithm is \\nthat in order to start learning, in order to start modifying the parameters, you only need to \\nlook at your first training examples.  \\nYou should look at your first training exampl e and perform an update using the derivative \\nof the error with resp ect to just your first training example, and then you look at your \\nsecond training example and perform another u pdate. And you sort of keep adapting your \\nparameters much more quickly without need ing to scan over your entire U.S. Census \\ndatabase before you can even start adapting parameters.  \\nSo let's see, for launch data sets, so constant ly gradient descent is often much faster, and \\nwhat happens is that constant gradient des cent is that it won't actually converge to the \\nglobal minimum exactly, but if these are the contours of your function, then after you run \\nthe constant gradient descent, you sort of tend to wander around.  \\nAnd you may actually end up going uphill occasionally, but your parameters will sort of \\ntender to wander to the region closest to the global minimum, but sort of keep wandering \\naround a little bit near the region of the global [inaudible]. And often th at's just fine to \\nhave a parameter that wanders around a littl e bit the global minimum. And in practice, \\nthis often works much faster than back gradie nt descent, especially  if you have a large \\ntraining set.  \\nOkay, I'm going to clean a couple of boards.  While I do that, why don't you take a look at \\nthe equations, and after I'm done cleaning the boards, I'll ask what questions you have.  \\nOkay, so what questions do you have about all of this?  \\nStudent: [Inaudible] is it true – are you just so rt of rearranging th e order that you do the \\ncomputation? So do you just use the first trai ning example and update all of the theta Is \\nand then step, and then update with the sec ond training example, a nd update all the theta \\nIs, and then step? And is that why you get sort of this really – ?  \\nInstructor (Andrew Ng) :Let's see, right. So I'm going to look at my first training \\nexample and then I'm going to take a ste p, and then I'm going to perform the second\", metadata={'source': '/content/drive/MyDrive/MachineLearning-Lecture02.pdf', 'page': 11}), Document(page_content=\"gradient descent updates using my new paramete r vector that has already been modified \\nusing my first training exampl e. And then I keep going.  \\nMake sense? Yeah?  \\nStudent: So in each update of all the theta Is, you're only using –  \\nInstructor (Andrew Ng) :One training example.  \\nStudent: One training example.  \\nStudent: [Inaudible]?  \\nInstructor (Andrew Ng) :Let's see, it's definitely a [ina udible]. I believe this theory that \\nsort of supports that as we ll. Yeah, the theory that suppor ts that, the [inaudible] of \\ntheorem is, I don't remember.  \\nOkay, cool. So in what I've done so far, I've talked about an iterative algorithm for \\nperforming this minimization in terms of J of theta. And it tu rns out that there's another \\nway for this specific problem of least square s regression, of ordinary  least squares. It \\nturns out there's another way to perform this mi nimization of J of thet a that allows you to \\nsolve for the parameters theta in close fo rm, without needing to run an iterative \\nalgorithm.  \\nAnd I know some of you may have seen some of what I'm about to do before, in like an \\nundergraduate linear algebra co urse, and the way it's typica lly done requires [inaudible] \\nprojections, or taking lots of de rivatives and writing lots of algebra. What I'd like to do is \\nshow you a way to derive the closed form solutio n of theta in just a few lines of algebra.  \\nBut to do that, I'll need to in troduce a new notation for matrix  derivatives, and it turns out \\nthat, sort of, the nota tion I'm about to define here ju st in my own personal work has \\nturned out to be one of the mo st useful things that I actually  use all the time, to have a \\nnotation of how to take derivatives with resp ect to matrixes, so that you can solve for the \\nminimum of J of theta with, like, a few lines of algebra rather than  writing out pages and \\npages of matrices and derivatives.  \\nSo then we're going to define this new notati on first and then we'll go ahead and work out \\nthe minimization. Given a function J, since J is a function of a vector of parameters theta, \\nright, I'm going to define the deri vative of the gradient of J with respect to theta, as self of \\nvector. Okay, and so this is going to be an N plus one dimensional vector. Theta is an n \\nplus one dimensional vector with indices ranging from zero to N. And so I'm going to \\ndefine this derivative to be equal to that.  \\nOkay, and so we can actually rewrite the grad ient descent algorithm as follows. This is \\nbatch gradient descent, and we  write gradient descent as updating the para meter vector\", metadata={'source': '/content/drive/MyDrive/MachineLearning-Lecture02.pdf', 'page': 12}), Document(page_content=\"theta – notice there's no subscript I now – updating the parameter vector theta as the \\nprevious parameter minus alpha times the gradient.  \\nOkay, and so in this equation all of these quanti ties, theta, and this gradient vector, all of \\nthese are n plus one dimensional vectors. I was using the boards out of order, wasn't I? So \\nmore generally, if you have a function F that maps from the space of matrices A, that \\nmaps from, say, the space of N by N matrices  to the space of real numbers. So if you \\nhave a function, F of A, wher e A is an N by N matrix.  \\nSo this function is matched from matrices to real numbers, the function that takes this \\ninput to matrix. Let me define the derivative w ith respect to F of the matrix A. Now, I'm \\njust taking the gradient of F with respect to  its input, which is the matrix. I'm going to \\ndefine this itself to be a matrix.  \\nOkay, so the derivative of F with respect to A is itself a matrix, and the matrix contains \\nall the partial derivatives of F with respect to the elements of  A. One more definition is if \\nA is a square matrix, so if A is an n by n matrix, number of rows  equals number of \\ncolumns, let me define the trace of A to be equal to the sum of A' s diagonal elements. So \\nthis is just sum over I of A, I, I.  \\nFor those of you that haven't seen this sort  of operator notation be fore, you can think of \\ntrace of A as the trace operator applied to the square matrix A, but it's more commonly \\nwritten without the parentheses. So I usually wr ite trace of A like this, and this just means \\nthe sum of diagonal elements.  \\nSo here are some facts about the trace operator and about derivatives, and I'm just going \\nto write these without proof. You can also have the TAs prove some of them in the \\ndiscussion section, or you can actually go home and verify the proofs of all of these.  \\nIt turns out that given two matr ices, A and B, the trace of the matrix A times B is equal to \\nthe trace of B, A. Okay, I'm not going to pr ove this, but you should be able to go home \\nand prove this yourself without too much di fficulty. And similarly, the trace of a product \\nof three matrices, so if you can take the matrix  at the end and cycli cally permeate it to the \\nfront.  \\nSo trace of A times B, times C, is equal to the trace of C, A, B. So take the matrix C at \\nthe back and move it to the front, and this is also equal to the trace of B, C. Take the \\nmatrix B and move it to the front.  \\nOkay, also, suppose you have a function F of A wh ich is defined as a trace of A, B. Okay, \\nso this is, right, the trace is a real number. So  the trace of A, B is a function that takes this \\ninput of matrix A and output a real number. So then the de rivative with respect to the \\nmatrix A of this function of trace A, B, is  going to be B transposed. And this is just \\nanother fact that you can prove  by yourself by going back and referring to the definitions \\nof traces and matrix derivatives. I'm not goi ng to prove it. You should work it out.\", metadata={'source': '/content/drive/MyDrive/MachineLearning-Lecture02.pdf', 'page': 13}), Document(page_content=\"Okay, and lastly a couple of easy ones. The trace of A is equal to the trace of A \\ntransposed because the trace is just the sum of diagonal elem ents. And so if you transpose \\nthe matrix, the diagonal, then there's no cha nge. And if lower case A is a real number, \\nthen the trace of a real number is just itsel f. So think of a real number as a one by one \\nmatrix. So the trace of a one by one matrix is just whatever that real number is.  \\nAnd lastly, this is a somewhat tricky one. Th e derivative with respect to the matrix A of \\nthe trace of A, B, A, transpose C is equal to C, A, B plus C transposed A, B transposed. \\nAnd I won't prove that either. This is sort  of just algebra. Work it out yourself.  \\nOkay, and so the key facts I'm going to use again about traces and matrix derivatives, I'll \\nuse five. Ten minutes. Okay, so armed with th ese things I'm going to figure out – let's try \\nto come up with a quick deriva tion for how to minimize J of theta as a function of theta in \\nclosed form, and without needing to use an iterative algorithm.  \\nSo work this out. Let me define the matrix X. This is called the design matrix. To be a \\nmatrix containing all the inputs from my traini ng set. So X 1 was the vector of inputs to \\nthe vector of features for my first training ex ample. So I'm going to set X 1 to be the first \\nrow of this matrix X, set my second training example is in place to be the second \\nvariable, and so on.  \\nAnd I have M training examples, and so that's going to be my design matrix X. Okay, this \\nis defined as matrix capital X as follows, and so now, let me take this matrix X and \\nmultiply it by my parameter vector theta. This derivation will just take two or three sets. \\nSo X times theta – remember how matrix vector multiplication goes. You take this vector \\nand you multiply it by each of the rows of the matrix.  \\nSo X times theta is just going to be X 1 tr ansposed theta, dot, dot, dot, down to X M, \\ntransposed theta. And this is, of course, ju st the predictions of your hypothesis on each of \\nyour M training examples. Then we also defined the Y vector to be the vector of all the \\ntarget values Y1 through YM in my training se t. Okay, so Y vector is an M dimensional \\nvector.  \\nSo X theta minus Y contained the math from th e previous board, this is going to be, right, \\nand now, X theta minus Y, this is a vector. Th is is an M dimensional vector in M training \\nexamples, and so I'm actually going to take th is vector and take th is inner product with \\nitself.  \\nOkay, so we call that if Z is a vector than Z transpose Z is just sum over I, ZI squared. \\nRight, that's how you take the inner product of a vector with a sum. So you want to take \\nthis vector, X theta minus Y, and take the inne r product of this vector with itself, and so \\nthat gives me sum from I equals one to M, H, F, X, I, minus Y squared. Okay, since it's \\njust the sum of the squares of the elements of this vector.  \\nAnd put a half there for the emphasis. This is our previous definition of J of theta. Okay, \\nyeah?\", metadata={'source': '/content/drive/MyDrive/MachineLearning-Lecture02.pdf', 'page': 14}), Document(page_content=\"Student: [Inaudible]?  \\nInstructor (Andrew Ng) :Yeah, I threw a lot of notations  at you today. So M is the \\nnumber of training examples a nd the number of training exam ples runs from one through \\nM, and then is the feature vector that runs from zero through N. Does that make sense?  \\nSo this is the sum from one through M. It's so rt of theta transpose X that's equal to sum \\nfrom J equals zero through N of theta J, X, J. Does that make sense? It's the feature vectors that index from ze ro through N where X, zero is equal to one, whereas the \\ntraining example is actually indexed from one through M.  \\nSo let me clean a few more boards and take an other look at this, make sure it all makes \\nsense. Okay, yeah?  \\nStudent: [Inaudible] the Y inside the parenthe ses, shouldn't that be [inaudible]?  \\nInstructor (Andrew Ng) :Oh, yes, thank you. Oh is that what you meant? Yes, thank \\nyou. Great, I training example. Anything else? Cool. So we're actually nearly done with \\nthis derivation. We wo uld like to minimize J of theta w ith respect to theta and we've \\nwritten J of theta fairly compactly using this matrix vector notation.  \\nSo in order to minimize J of theta with respec t to theta, what we're going to do is take the \\nderivative with respect to theta of J of theta, and set this to zero, and solve for theta. \\nOkay, so we have derivative with respect to theta of that is equa l to – I should mention \\nthere will be some steps here that I'm just  going to do fairly quickly without proof.  \\nSo is it really true that the derivative of half of that is half of the derivative, and I already \\nexchanged the derivative and the one-half. In terms of the answers, yes, but later on you \\nshould go home and look through the lecture notes and make sure you understand and \\nbelieve why every step is correct. I'm going to  do things relatively quickly here and you \\ncan work through every step yourself more sl owly by referring to the lecture notes.  \\nOkay, so that's equal to – I'm going to expa nd now this quadratic function. So this is \\ngoing to be, okay, and this is ju st sort of taking a quadratic  function and expanding it out \\nby multiplying the [inaudible]. And again, work  through the steps later yourself if you're \\nnot quite sure how I did that.  \\nSo this thing, this vector, vector product, ri ght, this quantity here, th is is just J of theta \\nand so it's just a real numb er, and the trace of a real  number is just itself.  \\nStudent: [Inaudible].  \\nInstructor (Andrew Ng) :Oh, thanks, Dan. Cool, great. So this quantity in parentheses, \\nthis is J of theta and it's just a real number . And so the trace of a real number is just the \\nsame real number. And so you can sort of take a trace operator without changing \\nanything. And this is equal to one-half derivativ e with respect to theta of the trace of – by\", metadata={'source': '/content/drive/MyDrive/MachineLearning-Lecture02.pdf', 'page': 15}), Document(page_content=\"the second permutation property of trace. You ca n take this theta at the end and move it \\nto the front.  \\nSo this is going to be trace of theta times theta transposed, X transpose X minus \\nderivative with respect to theta of the trace of – I'm going to take that and bring it to the – \\noh, sorry. Actually, this thing he re is also a real number and the transpose of a real \\nnumber is just itself. Right, so take the transpose of a real nu mber without changing \\nanything.  \\nSo let me go ahead and just take the transpose of this. A real number transposed itself is \\njust the same real number. So this is minus  the trace of, taking the transpose of that. \\nHere's Y transpose X theta, then minus [inaudible] theta. Okay, and this last quantity, Y \\ntranspose Y. It doesn't actually depend on theta.  So when I take the derivative of this last \\nterm with respect to theta, it's just zero. So just drop that term.  \\nAnd lastly, well, the derivative with respect to theta of the trace of theta, theta transposed, \\nX transpose X. I'm going to use one of the facts I wrote down earlier without proof, and \\nI'm going to let this be A. There's an identity matrix there, so this is A, B, A transpose C, and using a rule that I've written down previ ously that you'll find in lecture notes, because \\nit's still on one of the boards that you had prev iously, this is just equal to X transpose X \\ntheta.  \\nSo this is C, A, B, which is sort of just the identity matrix, whic h you can ignore, plus X \\ntranspose X theta where this is now C trans pose C, again times the identity which we're \\ngoing to ignore, times B transposed. And the matrix X transpose X is the metric, so C \\ntranspose is equal to C.  \\nSimilarly, the derivative with respect to theta of the trace of Y transpose theta X, this is \\nthe derivative with respect to matrix A of the trace of B, A and this is just X transpose Y. \\nThis is just B transposed, ag ain, by one of the rules that I wrote down earlier. And so if \\nyou plug this back in, we find, therefore, that  the derivative – wow, this board's really \\nbad.  \\nSo if you plug this back into our formula for the derivative of J, you find that the \\nderivative with respect to theta of J of theta is e qual to one-half X transpose theta, plus X \\ntranspose X theta, minus X transpose Y, minus  X transpose Y, which is just X transpose \\nX theta minus X [inaudible].  \\nOkay, so we set this to zero and we get that, which is called a normal equation, and we \\ncan now solve this equation for theta in closed  form. That's X transpose X theta, inverse \\ntimes X transpose Y. And so this gives us a wa y for solving for the least square fit to the \\nparameters in closed form, without need ing to use an [inaudible] descent.  \\nOkay, and using this matrix vector notati on, I think, I don't know, I think we did this \\nwhole thing in about ten minut es, which we couldn't have if I was writing out reams of\", metadata={'source': '/content/drive/MyDrive/MachineLearning-Lecture02.pdf', 'page': 16}), Document(page_content=\"algebra. Okay, some of you look a little bi t dazed, but this is our first learning hour. \\nAren't you excited? Any quick questions a bout this before we close for today?  \\nStudent: [Inaudible].  \\nInstructor (Andrew Ng) :Say that again.  \\nStudent: What you derived, wasn't that just [inaudible] of X?  \\nInstructor (Andrew Ng) :What inverse? \\nStudent: Pseudo inverse.  \\nInstructor (Andrew Ng) :Pseudo inverse?  \\nStudent: Pseudo inverse.  \\nInstructor (Andrew Ng) :Yeah, I turns out that in cases, if X transpose X is not \\ninvertible, than you use the pseudo inverse mi nimized to solve this. But it turns out X \\ntranspose X is not invertible. That usually m eans your features were dependent. It usually \\nmeans you did something like repeat the same feat ure twice in your training set. So if this \\nis not invertible, it turns out the minimu m is obtained by the pseudo inverses of the \\ninverse.  \\nIf you don't know what I just sa id, don't worry about it. It usually won't be a problem. \\nAnything else?  \\nStudent: On the second board [inaudible]?  \\nInstructor (Andrew Ng) :Let me take that off. We're running over. Let's close for today \\nand if they're other questions, I'll take them after.  \\n[End of Audio]  \\nDuration: 79 minutes\", metadata={'source': '/content/drive/MyDrive/MachineLearning-Lecture02.pdf', 'page': 17}), Document(page_content='MachineLearning-Lecture03  \\nInstructor (Andrew Ng) :Okay. Good morning and welcome b ack to the third lecture of \\nthis class. So here’s what I want to do t oday, and some of the topics I do today may seem \\na little bit like I’m jumping, sort  of, from topic to topic, but here’s, sort of, the outline for \\ntoday and the illogical flow of ideas. In the last lecture, we  talked about linear regression \\nand today I want to talk about sort of an  adaptation of that called locally weighted \\nregression. It’s very a popular  algorithm that’s actually one of my former mentors \\nprobably favorite machine learning algorithm.  \\nWe’ll then talk about a probabl e second interpretation of linear regression and use that to \\nmove onto our first classification algorithm, which is logistic regr ession; take a brief \\ndigression to tell you about something cal led the perceptron algorithm, which is \\nsomething we’ll come back to, again, later this  quarter; and time allowing I hope to get to \\nNewton’s method, which is an algorithm fo r fitting logistic regression models.  \\nSo this is recap where we’re talking about in the previous lecture, remember the notation \\nI defined was that I used this X superscrip t I, Y superscript I to denote the I training \\nexample. And when we’re talking about linear regression or linear l east squares, we use \\nthis to denote the predicted value of “by my hypothesis H” on the input XI. And my \\nhypothesis was franchised by the vector of gram s as theta and so we said that this was \\nequal to some from theta J, si J, and more  theta transpose X. And we had the convention \\nthat X subscript Z is equal to one so this accounts for the intercept term in our linear regression model. And lowercas e n here was the notation I was using for the number of \\nfeatures in my training set. Okay? So in  the example when trying to predict housing \\nprices, we had two features, the size of the house and the number of bedrooms. We had \\ntwo features and there was – li ttle n was equal to two. So just to finish recapping the \\nprevious lecture, we define d this quadratic cos function J of theta equals one-half, \\nsomething I equals one to m, theta of XI mi nus YI squared where this is the sum over our \\nm training examples and my training set. So lowercase m was the notation I’ve been \\nusing to denote the number of training exampl es I have and the size of my training set. \\nAnd at the end of the last lecture, we deri ve the value of theta that minimizes this \\nenclosed form, which was X transpose X inverse X transpose Y. Okay?  \\nSo as we move on in today’s lecture, I’ll cont inue to use this notation and, again, I realize \\nthis is a fair amount of notation to all reme mber, so if partway th rough this lecture you \\nforgot – if you’re having trouble remembering what lowercase m is or what lowercase n \\nis or something please raise your hand and ask. When we talked about linear regression \\nlast time we used two features. One of the f eatures was the size of the houses in square \\nfeet, so the living area of the house, and the other feature was the number of bedrooms in \\nthe house. In general, we apply a machine- learning algorithm to some problem that you \\ncare about. The choice of the features will very much be up to you, right? And the way \\nyou choose your features to give the learning algorithm will often have a large impact on \\nhow it actually does. So just for example, the choice we made last time was X1 equal this \\nsize, and let’s leave this idea of the feature of the number of bedrooms for now, let’s say \\nwe don’t have data that tells us how many bedrooms are in these houses. One thing you', metadata={'source': '/content/drive/MyDrive/MachineLearning-Lecture03.pdf', 'page': 0}), Document(page_content='could do is actually define – oh, let’s draw this out. And s o, right? So say that was the \\nsize of the house and that’s th e price of the house. So if you use this as a feature maybe \\nyou get theta zero plus theta 1, X1, this, sort of, linear model. If you choose – let me just copy the same data set over, right? You can de fine the set of features where X1 is equal \\nto the size of the house and X2 is the square of the size of the house. Okay? So X1 is the \\nsize of the house in say square footage and X2 is just take wh atever the square footage of \\nthe house is and just square that number, and this would be another way to come up with \\na feature, and if you do that then the sa me algorithm will end up fitting a quadratic \\nfunction for you. Theta 2, XM squared. Ok ay? Because this is actually X2. And \\ndepending on what the data looks like, maybe th is is a slightly better fit to the data.  \\nYou can actually take this even further, right?  Which is – let’s see. I have seven training \\nexamples here, so you can actually maybe fit up to six for the polynomial. You can \\nactually fill a model theta zero plus theta one , X1 plus theta two, X squared plus up to \\ntheta six. X to the power of six and theta six are the polynomial to  these seven data \\npoints. And if you do that you find that you co me up with a model that fits your data \\nexactly. This is where, I guess, in this exampl e I drew, we have seven data points, so if \\nyou fit a six model polynomial you can, sort of, fit a line that  passes through these seven \\npoints perfectly. And you probably find that the curve you get will look something like \\nthat. And on the one hand, this is a great m odel in a sense that it fits your training data \\nperfectly. On the other hand, this is probabl y not a very good model in the sense that \\nnone of us seriously think th at this is a very good predic tor of housing prices as a \\nfunction of the size of the house, right?  \\nSo we’ll actually come back to this later. It  turns out of the models  we have here; I feel \\nlike maybe the quadratic model fits the data  best. Whereas the linear model looks like \\nthere’s actually a bit of  a quadratic component in this data  that the linear function is not \\ncapturing. So we’ll actually come back to this a little bit later and talk about the problems \\nassociated with fitting models that are either  too simple, use two small a set of features, \\nor on the models that are too complex and maybe  use too large a set of features. Just to \\ngive these a name, we call this the problem of underfitting and, very informally, this \\nrefers to a setting where there are obvious patt erns that – where there are patterns in the \\ndata that the algorithm is just failing to f it. And this problem here we refer to as \\noverfitting and, again, very informally, this  is when the algorithm is fitting the \\nidiosyncrasies of this specific data set, right ? It just so happens th at of the seven houses \\nwe sampled in Portland, or wherever you collect  data from, that house happens to be a bit \\nmore expensive, that house happened on the less expensive, and by fitting six for the polynomial we’re, sort of, fitting the idiosyncratic properties of this data  set, rather than \\nthe true underlying tren ds of how housing prices vary as  the function of the size of house. \\nOkay?  \\nSo these are two very different problems. We’ ll define them more formally me later and \\ntalk about how to address each of these probl ems, but for now I hope you appreciate that \\nthere is this issue of selecting features. So  if you want to just teach us the learning \\nproblems there are a few ways to do so. We’ll talk about feature sele ction algorithms later \\nthis quarter as well. So automatic algorith ms for choosing what features you use in a', metadata={'source': '/content/drive/MyDrive/MachineLearning-Lecture03.pdf', 'page': 1}), Document(page_content='regression problem like this. What I want to do today is talk about a class of algorithms \\ncalled non-parametric learning algorithms that will help to alleviate the need somewhat \\nfor you to choose features very carefully. Okay ? And this leads us in to our discussion of \\nlocally weighted regression. And just to de fine the term, linear regression, as we’ve \\ndefined it so far, is an example of a parame tric learning algorithm. Parametric learning \\nalgorithm is one that’s defined as an algorithm that has a fixed number of parameters that \\nfit to the data. Okay? So in linear regression we  have a fix set of parameters theta, right? \\nThat must fit to the data. In contrast, what  I’m gonna talk about now is our first non-\\nparametric learning algorithm. The formal defi nition, which is not very  intuitive, so I’ve \\nreplaced it with a second, say, more intuitive. The, sort of, formal definition of the non-\\nparametric learning algorithm is that it’s an  algorithm where the number of parameters \\ngoes with M, with the size of the training se t. And usually it’s de fined as a number of \\nparameters grows linearly with the size of the training set. Th is is the formal definition. A \\nslightly less formal definition is that th e amount of stuff that your learning algorithm \\nneeds to keep around will grow linearly with th e training sets or, in another way of saying \\nit, is that this is an algorithm that we’ll n eed to keep around an entire training set, even \\nafter learning. Okay? So don’t worry too much about this de finition. But what I want to \\ndo now is describe a specific non-parametric  learning algorithm ca lled locally weighted \\nregression. Which also goes by a couple of other names – which also goes by the name of \\nLoess for self-hysterical reasons. Loess is us ually spelled L-O-E-S-S, sometimes spelled \\nlike that, too. I just call it local ly weighted regression. So here ’s the idea. This will be an \\nalgorithm that allows us to worry a little b it less about having to choose features very \\ncarefully. So for my motivating example, let’s say that I have  a training site  that looks \\nlike this, okay? So this is X and that’s Y.  If you run linear regre ssion on this and you fit \\nmaybe a linear function to this and you end up with a more or less flat, straight line, \\nwhich is not a very good fit to  this data. You can sit around a nd stare at this and try to \\ndecide whether the features are used right. So maybe you want to toss in a quadratic \\nfunction, but this isn’t really quadratic eith er. So maybe you want to model this as a X \\nplus X squared plus maybe some function of  sin of X or someth ing. You actually sit \\naround and fiddle with features. And after a wh ile you can probably come up with a set of \\nfeatures that the model is okay, but let’s talk  about an algorithm th at you can use without \\nneeding to do that.  \\nSo if – well, suppose you want to evaluate  your hypothesis H at a certain point with a \\ncertain query point low K is X. Okay? A nd let’s say you want to know what’s the \\npredicted value of Y at this position of X, right? So for lin ear regression, what we were \\ndoing was we would fit theta to minimize sum over I, YI minus theta, transpose XI \\nsquared, and return theta transpose X. Okay? So that was linear regres sion. In contrast, in \\nlocally weighted linear regression you’re goi ng to do things slightly different. You’re \\ngoing to look at this point X and then I’m going to look in my data set and take into \\naccount only the data points that are, sort of, in the little vicinity of X. Okay? So we’ll \\nlook at where I want to value my hypothesis. I’m  going to look only in the vicinity of this \\npoint where I want to value my hypothesis, and then I’m going to take, let’s say, just \\nthese few points, and I will apply linear regression  to fit a straight line just to this sub-set \\nof the data. Okay? I’m using this sub-term sub- set – well let’s come back to that later. So \\nwe take this data set and I fit a straight line to it and maybe I get a straight line like that.', metadata={'source': '/content/drive/MyDrive/MachineLearning-Lecture03.pdf', 'page': 2}), Document(page_content='And what I’ll do is then evaluate this particular  value of straig ht line and that will be the \\nvalue I return for my algorithm. I think this would be the predicted value for – this would \\nbe the value of then my hypothesis output s in locally weighted regression. Okay?  \\nSo we’re gonna fall one up. Let me go ahead and formalize that. In locally weighted \\nregression, we’re going to fit theta to minimi ze sum over I to minimize that where these \\nterms W superscript I are called weights. Th ere are many possible choice for ways, I’m \\njust gonna write one down. So this E’s and mi nus, XI minus X squared over two. So let’s \\nlook at what these weights really are, right ? So notice that – suppose you have a training \\nexample XI. So that XI is very close to X. So this is small, right? Then if XI minus X is \\nsmall, so if XI minus X is close to zero, th en this is E’s to the minus zero and E to the \\nzero is one. So if XI is close to X, then WI will be close to one. In other words, the \\nweight associated with the, I training exampl e be close to one if XI and X are close to \\neach other. Conversely if XI minus X is large then – I don’t know, what would WI be?  \\nStudent: Zero.  \\nInstructor (Andrew Ng) :Zero, right. Close to zero. Right. So if XI is very far from X \\nthen this is E to the minus of some large number and E to the minus some large number will be close to zero. Okay? So the picture is, if I’m quarrying at a certain point X, shown on the X axis, and if my data set, say, l ook like that, then I’m going to give the points \\nclose to this a large weight and give the points far away a small weight. So for the points \\nthat are far away, WI will be close to zero. A nd so as if for the points that are far away, \\nthey will not contribute much at all to this  summation, right? So I th ink this is sum over I \\nof one times this quadratic term for points by points plus zero times this quadratic term \\nfor faraway points. And so the effect of usi ng this weighting is that locally weighted \\nlinear regression fits a set of parameters thet a, paying much more a ttention to fitting the \\npoints close by accurately. Whereas ignoring the contribution from faraway points. \\nOkay? Yeah?  \\nStudent: Your Y is exponentially [inaudible]?  \\nInstructor (Andrew Ng) :Yeah. Let’s see. So it turns out  there are many other weighting \\nfunctions you can use. It turns out that th ere are definitely different communities of \\nresearchers that tend to choose different c hoices by default. There is somewhat of a \\nliterature on debating what point – exactly what function to us e. This, sort of, exponential \\ndecay function is – this happens to be a reas onably common one that seems to be a more \\nreasonable choice on many problems, but you ca n actually plug in other functions as \\nwell. Did I mention what [inaudible] is it at ? For those of you that are familiar with the \\nnormal distribution, or the Gaussi an distribution, say this – wh at this formula I’ve written \\nout here, it cosmetically looks a bit like a Ga ussian distribution. Okay? But this actually \\nhas absolutely nothing to  do with Gaussian distribution. So this is not that a problem with \\nXI is Gaussian or whatever. This is no su ch interpretation. This is just a convenient \\nfunction that happens to be a bell-shaped f unction, but don’t endow this of any Gaussian \\nsemantics. Okay?', metadata={'source': '/content/drive/MyDrive/MachineLearning-Lecture03.pdf', 'page': 3}), Document(page_content='So, in fact – well, if you remember the fam iliar bell-shaped Gaussia n, again, it’s just the \\nways of associating with these points is th at if you imagine putti ng this on a bell-shaped \\nbump, centered around the position of where you want to value your hypothesis H, then \\nthere’s a saying this point here I’ll give a wei ght that’s proportional to the height of the \\nGaussian – excuse me, to the height of the bell-shaped function eval uated at this point. \\nAnd the way to get to this point will be, to th is training example, wi ll be proportionate to \\nthat height and so on. Okay? And so training ex amples that are really far away get a very \\nsmall weight.  \\nOne last small generalization to this is that  normally there’s one other parameter to this \\nalgorithm, which I’ll denote as tow. Again, this  looks suspiciously lik e the variants of a \\nGaussian, but this is not a Gaussian. This  is a convenient form or function. This \\nparameter tow is called the bandwidth paramete r and informally it controls how fast the \\nweights fall of with distance. Okay? So just  copy my diagram from the other side, I \\nguess. So if tow is very small, if that’s  a query X, then you end up choosing a fairly \\nnarrow Gaussian – excuse me, a fairly narrow be ll shape, so that the weights of the points \\nare far away fall off rapidly. Whereas if tow is large then you’d end up choosing a \\nweighting function that falls of relatively sl owly with distance from your query. Okay?  \\nSo I hope you can, therefore, see that if you a pply locally weighted li near regression to a \\ndata set that looks like this, th en to ask what your hypothesis out put is at a point like this \\nyou end up having a straight line making that pr ediction. To ask what kind of class this \\n[inaudible] at that value you put  a straight line there and you pr edict that value. It turns \\nout that every time you try to vary your hypothesis, every time you ask your learning \\nalgorithm to make a prediction for how much a new house costs or whatever, you need to \\nrun a new fitting procedure and th en evaluate this line that yo u fit just at the position of \\nthe value of X. So the positi on of the query where you’re trying to make a prediction. \\nOkay? But if you do this for every point along the X-axis then you find that locally weighted regression is able to  trace on this, sort of, very non-linear curve for a data set \\nlike this. Okay?  \\nSo in the problem set we’re actually gonna let you play around more with this algorithm. \\nSo I won’t say too much more about it here. Bu t to finally move on to the next topic let \\nme check the questions you have. Yeah?  \\nStudent: It seems like you still have the same pr oblem of overfitting and underfitting, like \\nwhen you had a Q’s tow. Like you make it too small in your –  \\nInstructor (Andrew Ng) :Yes, absolutely. Yes. So local ly weighted regression can run \\ninto – locally weighted regression is not a penancier for the problem  of overfitting or \\nunderfitting. You can still run into the same problems with locally weighted regression. \\nWhat you just said about – and so some of these things I’ll leave you to discover for \\nyourself in the homework problem. You’ll actu ally see what you just mentioned. Yeah?  \\nStudent: It almost seems like you’re not even th oroughly [inaudible] w ith this locally \\nweighted, you had all the data th at you originally had anyway.', metadata={'source': '/content/drive/MyDrive/MachineLearning-Lecture03.pdf', 'page': 4}), Document(page_content='Instructor (Andrew Ng) :Yeah.  \\nStudent: I’m just trying to think of [inaudi ble] the original data points.  \\nInstructor (Andrew Ng) :Right. So the question is, sort of , this – it’s almost as if you’re \\nnot building a model, because you need the en tire data set. And th e other way of saying \\nthat is that this is a non-parametric learni ng algorithm. So this –I don’t know. I won’t \\ndebate whether, you know, are we really build ing a model or not. But this is a perfectly \\nfine – so if I think when you write a c ode implementing locally weighted linear \\nregression on the data set I think of that code  as a whole – as building your model. So it \\nactually uses – we’ve actually used this quite successfully to model,  sort of, the dynamics \\nof this autonomous helicopter this is. Yeah?  \\nStudent: I ask if this algorithm that lear n the weights based on the data?  \\nInstructor (Andrew Ng) :Learn what weights? Oh, the weights WI.  \\nStudent: Instead of using [inaudible].  \\nInstructor (Andrew Ng) :I see, yes. So it turns out th ere are a few things you can do. One \\nthing that is quite common is how to choos e this band with para meter tow, right? As \\nusing the data. We’ll actually talk about that a bit later when we talk about model \\nselection. Yes? One last question.  \\nStudent: I used [inaudible] Gaussian sometimes if  you [inaudible] Gaussian and then –  \\nInstructor (Andrew Ng) :Oh, I guess. Lt’s see. Boy. The weights are not random \\nvariables and it’s not, for the pur pose of this algorithm, it is  not useful to endow it with \\nprobable semantics. So you could choose to defi ne things as Gaussian, but it, sort of, \\ndoesn’t lead anywhere. In fact, it turns out th at I happened to choose this, sort of, bell-\\nshaped function to define my weights. It’s act ually fine to choose a function that doesn’t \\neven integrate to one, that integrates to in finity, say, as you’re we ighting function. So in \\nthat sense, I mean, you could force in the defi nition of a Gaussian, but  it’s, sort of, not \\nuseful. Especially since you us e other functions that inte grate to infinity and don’t \\nintegrate to one. Okay? It’s the last question and let’s move on  \\nStudent: Assume that we have a very huge [inaudi ble], for example. A very huge set of \\nhouses and want to predict the linear for each house and so should the end result for each \\ninput – I’m seeing this very constantly for –  \\nInstructor (Andrew Ng) :Yes, you’re right. So because lo cally weighted regression is a \\nnon-parametric algorithm every time you make a prediction you need to fit theta to your \\nentire training set again. So you’re actually  right. If you have a very large training set \\nthen this is a somewhat expensive algorith m to use. Because every time you want to \\nmake a prediction you need to fit a straight li ne to a huge data set again. Turns out there \\nare algorithms that – turns out there are ways to make this much more efficient for large', metadata={'source': '/content/drive/MyDrive/MachineLearning-Lecture03.pdf', 'page': 5}), Document(page_content='data sets as well. So don’t want to talk about  that. If you’re interested, look up the work \\nof Andrew Moore on KD-trees. He, sort of, fi gured out ways to fit these models much \\nmore efficiently. That’s not something I want  to go into today. Okay? Let me move one. \\nLet’s take more questions later.  \\nSo, okay. So that’s locally weighted regres sion. Remember the outline I had, I guess, at \\nthe beginning of this lecture. What I want to do now is talk about a probabilistic interpretation of linear regres sion, all right? And in partic ular of the – it’ll be this \\nprobabilistic interpretati on that let’s us move on to talk  about logistic regression, which \\nwill be our first classification algorithm. So le t’s put aside locally weighted regression for \\nnow. We’ll just talk about ordinary unwei ghted linear regression. Let’s ask the question \\nof why least squares, right? Of all the thi ngs we could optimize how do we come up with \\nthis criteria for minimizing the square of  the area between the predictions of the \\nhypotheses and the values Y predicted. So w hy not minimize the absolute value of the \\nareas or the areas to the power of four or something? What I’m going to do now is \\npresent one set of assumptions that will serve to “justify” why we’re minimizing the sum \\nof square zero. Okay?  \\nIt turns out that there are many assumptions th at are sufficient to justify why we do least \\nsquares and this is just one of them. So ju st because I present one set of assumptions \\nunder which least squares regression make se nse, but this is not the only set of \\nassumptions. So even if the assumptions I de scribe don’t hold, least squares actually still \\nmakes sense in many circumstances. But this sort of new help, you know, give one rationalization, like, one reason for doing le ast squares regression. And, in particular, \\nwhat I’m going to do is endow the least squa res model with probabi listic semantics. So \\nlet’s assume in our example of predicting hous ing prices, that the pr ice of the house it’s \\nsold four, and there’s going to be some linear  function of the features, plus some term \\nepsilon I. Okay? And epsilon I will be our erro r term. You can think of  the error term as \\ncapturing unmodeled effects, like,  that maybe there’s some othe r features of a house, like, \\nmaybe how many fireplaces it ha s or whether there’s a garden or whatever, that there are \\nadditional features that we jut fail to capture or you can th ink of epsilon as random noise. \\nEpsilon is our error term that captures both th ese unmodeled effects. Ju st things we forgot \\nto model. Maybe the function isn’t quite lin ear or something. As well as random noise, \\nlike maybe that day the seller was in a really bad mood and so he sold it, just refused to \\ngo for a reasonable price or something. And now  I will assume that the errors have a \\nprobabilistic – have a probabil ity distribution. I’ll assume th at the errors epsilon I are \\ndistributed just till they denote epsilon I is distributive according to a probability \\ndistribution. That’s a Gaussian  distribution with mean zer o and variance sigma squared. \\nOkay? So let me just scripts in here, n stands for normal, right? To denote a normal \\ndistribution, also known as the Gaussian di stribution, with mean zero and covariance \\nsigma squared.  \\nActually, just quickly raise your hand if you’ve seen a Gaussian distribution before. \\nOkay, cool. Most of you. Great. Almost everyon e. So, in other words, the density for \\nGaussian is what you’ve seen before. The de nsity for epsilon I would be one over root 2 \\npi sigma, E to the negative, epsilon I squared over 2 sigma squared, right? And the', metadata={'source': '/content/drive/MyDrive/MachineLearning-Lecture03.pdf', 'page': 6}), Document(page_content='density of our epsilon I will be  this bell-shaped curve with one standard deviation being \\na, sort of, sigma. Okay? This is form for that  bell-shaped curve. So, let’s see. I can erase \\nthat. Can I erase the board? So this implies that  the probability distri bution of a price of a \\nhouse given in si and the parameters theta, th at this is going to be  Gaussian with that \\ndensity. Okay? In other words, saying goes as that the price of a hous e given the features \\nof the house and my parameters theta, this  is going to be a random variable that’s \\ndistributed Gaussian with mean theta tran spose XI and variance sigma squared. Right? \\nBecause we imagine that the way the housing pr ices are generated is that the price of a \\nhouse is equal to theta transpose XI and th en plus some random Gaussian noise with \\nvariance sigma squared. So the price of a house is going to have mean theta transpose XI, \\nagain, and sigma squared, right? Does this make sense? Raise your hand if this makes \\nsense. Yeah, okay. Lots of you.  \\nIn point of notation – oh, yes?  \\nStudent: Assuming we don’t know anything about th e error, why do you assume here the \\nerror is a Gaussian?  \\nInstructor (Andrew Ng) :Right. So, boy. Why do I see the error as Gaussian? Two \\nreasons, right? One is that it turns out to be mathematically  convenient to do so and the \\nother is, I don’t know, I can also mumble about ju stifications, such as things to the central \\nlimit theorem. It turns out that if you, for th e vast majority of problems, if you apply a \\nlinear regression model like this and try to m easure the distribution of the errors, not all \\nthe time, but very often you find that the erro rs really are Gaussian. That this Gaussian \\nmodel is a good assumption for the error in regression proble ms like these. Some of you \\nmay have heard of the central limit theo rem, which says that the sum of many \\nindependent random variables will tend towards a Gaussian. So if the error is caused by many effects, like the mood of th e seller, the mood of the buyer,  some other features that \\nwe miss, whether the place has a garden or not, and if all of these e ffects are independent, \\nthen by the central limit theorem you might be inclined to believe that the sum of all \\nthese effects will be approximately Gaussian. If  in practice, I guess, the two real answers \\nare that, 1.) In practice this is actually a reasonably accurate assumption, and 2.) Is it \\nturns out to be mathematically c onvenient to do so. Okay? Yeah?  \\nStudent: It seems like we’re saying if we assu me that area around model has zero mean, \\nthen the area is centered ar ound our model. Which it seems al most like we’re trying to \\nassume what we’re trying to prove. Instructor? \\nThat’s the [inaudible] but, yes. You are assu ming that the error has zero mean. Which is, \\nyeah, right. I think later this quarter we get to some of the other things, but for now just \\nthink of this as a mathematically – it’s act ually not an unreasonabl e assumption. I guess, \\nin machine learning all the assumptions we ma ke are almost never true in the absence \\nsense, right? Because, for instance, housing pric es are priced to dollars and cents, so the \\nerror will be – errors in prices are not c ontinued as value random variables, because \\nhouses can only be priced at a certain number  of dollars and a certa in number of cents \\nand you never have fractions of cents in housing prices. Whereas a Gaussian random', metadata={'source': '/content/drive/MyDrive/MachineLearning-Lecture03.pdf', 'page': 7}), Document(page_content='variable would. So in that se nse, assumptions we make are never “absolutely true,” but \\nfor practical purposes this is a accurate enough assumption that  it’ll be useful to make. \\nOkay? I think in a week or two, we’ll actually come back to selected more about the \\nassumptions we make and when they help our  learning algorithms a nd when they hurt our \\nlearning algorithms. We’ll say a bit more about  it when we talk about generative and \\ndiscriminative learning algorithms, like, in a week or two. Okay?  \\nSo let’s point out one bit of notation, which is that when I wrote this down I actually \\nwrote P of YI given XI and then semicolon theta and I’m going to us e this notation when \\nwe are not thinking of theta as a random vari able. So in statistics, though, sometimes it’s \\ncalled the frequentist’s point of view, where you think of there as being some, sort of, \\ntrue value of theta that’s out there that’s generating the data say, but we don’t know what \\ntheta is, but theta is not a ra ndom vehicle, right? So it’s not like there’s some random \\nvalue of theta out there. It’s that theta is – th ere’s some true value of theta out there. It’s \\njust that we don’t know what the true value of theta is. So if theta is not a random \\nvariable, then I’m going to avoid writing P of  YI given XI comma theta, because this \\nwould mean that probably of YI conditio ned on X and theta and you can only condition \\non random variables. So at this part of the class where we’re taking sort of frequentist’s \\nviewpoint rather than the Dasi an viewpoint, in this part of  class we’re thinking of theta \\nnot as a random variable, but just as so mething we’re trying to estimate and use the \\nsemicolon notation. So the way to read this is this is the probability  of YI given XI and \\nparameterized by theta. Okay? So you read the semicolon as parameterized by. And in \\nthe same way here, I’ll say YI given XI pa rameterized by theta is distributed Gaussian \\nwith that.  \\nAll right. So we’re gonna make  one more assumption. Let’s assume that the error terms \\nare IID, okay? Which stands for Independently  and Identically Distributed. So it’s going \\nto assume that the error terms are indepe ndent of each other, right? The identically \\ndistributed part just means that I’m a ssuming the outcome for the same Gaussian \\ndistribution or the same varian ce, but the more important part  of is this is that I’m \\nassuming that the epsilon I’s are independent of  each other. Now, let’s talk about how to \\nfit a model. The probability of Y given X parameterized by theta – I’m actually going to give this another name. I’m going to write th is down and we’ll call this the lik elihood of \\ntheta as the probability of Y given X paramete rized by theta. And so this is going to be \\nthe product over my training set like that. Which is, in turn, going to be a product of those \\nGaussian densities that I wrot e down just now, right? Okay?  \\nThen in parts of notation, I guess, I define th is term here to be the likelihood of theta. \\nAnd the likely of theta is just the probability of the data Y, right? Given X and prioritized \\nby theta. To test the likeli hood and probability are often confused. So the likelihood of \\ntheta is the same thing as the probability of  the data you saw. So likely and probably are, \\nsort of, the same thing. Except that when  I use the term likelihood I’m trying to \\nemphasize that I’m taking this thing and view ing it as a function of  theta. Okay? So \\nlikelihood and for probability, th ey’re really the same thing except that when I want to \\nview this thing as a function of theta holding X and Y fix are then called likelihood. \\nOkay? So hopefully you hear me say the like lihood of the parameters and the probability', metadata={'source': '/content/drive/MyDrive/MachineLearning-Lecture03.pdf', 'page': 8}), Document(page_content='of the data, right? Rather than  the likelihood of the data or probability of parameters. So \\ntry to be consistent in that terminology.  \\nSo given that the probability of the data is this and this is also the likelihood of the \\nparameters, how do you estimate the parameters theta? So given a training set, what \\nparameters theta do you want to choose for your model? Well, the principle of maximum \\nlikelihood estimation says that, right? You can choose the valu e of theta that makes the \\ndata as probable as possible, right? So choose theta to maximize the likelihood. Or in \\nother words choose the parameters that make th e data as probable as possible, right? So \\nthis is massive likely your estimation from si x to six. So it’s choose the parameters that \\nmakes it as likely as probable as possible fo r me to have seen the data I just did.  \\nSo for mathematical convenience, let me defi ne lower case l of theta. This is called the \\nlog likelihood function a nd it’s just log of capital L of thet a. So this is log over product \\nover I to find sigma E to that. I won’t bother to write out what’s in the exponent for now. \\nIt’s just saying this from the previous board. Log and a product is the same as the sum of \\nover logs, right? So it’s a sum of the logs of – which simplifies to m times one over root \\ntwo pi sigma plus and then log of explanation ca ncel each other, right? So if log of E of \\nsomething is just whatever’s inside the e xponent. So, you know what, let me write this on \\nthe next board.  \\nOkay. So maximizing the likelihood or maxi mizing the log likelihood is the same as \\nminimizing that term over there. Well, you ge t it, right? Because th ere’s a minus sign. So \\nmaximizing this because of the minus sign is th e same as minimizing this as a function of \\ntheta. And this is, of course, just the same quadratic cos function that we had last time, J \\nof theta, right? So what we’v e just shown is that the ordina ry least squares algorithm, that \\nwe worked on the previous lecture, is  just maximum likelihood assuming this \\nprobabilistic model, assu ming IID Gaussian errors on our data. Okay?  \\nOne thing that we’ll actually leave is that, in the next lecture no tice that the value of \\nsigma squared doesn’t matter, right? That somehow no matter what the value of sigma \\nsquared is, I mean, sigma squared has to be  a positive number. It ’s a variance of a \\nGaussian. So that no matter what sigma squared is since it’s a positive number the value of theta we end up with will be the same, right? So because minimizing this you get the \\nsame value of theta no matter what sigma squared is. So it’s as if in this model the value \\nof sigma squared doesn’t really  matter. Just remember that for the next lecture. We’ll \\ncome back to this again. Any questions a bout this? Actually, let me clean up another \\ncouple of boards and then I’ll see what questions you have.  \\nOkay. Any questions? Yeah?  \\nStudent: You are, I think here you try to measure the likelihood of your nice of theta by a \\nfraction of error, but I think it’s that you measure because it depends on the family of \\ntheta too, for example. If you have a lot of  parameters [inaudible] or fitting in?', metadata={'source': '/content/drive/MyDrive/MachineLearning-Lecture03.pdf', 'page': 9}), Document(page_content='Instructor (Andrew Ng) :Yeah, yeah. I mean, you’re asking about overfitting, whether \\nthis is a good model. I thi nk let’s – the thing’s you’re mentioning are maybe deeper \\nquestions about learning algorithms  that we’ll just come back to later, so don’t really \\nwant to get into that right now. Any more questions? Okay.  \\nSo this endows linear regression with a proba bilistic interpretati on. I’m actually going to \\nuse this probabil – use this, sort of, probabilist ic interpretation in order to derive our next \\nlearning algorithm, which will be our first classification algorithm. Okay? So you’ll recall \\nthat I said that regression problems are where the variable Y that you’re trying to predict \\nis continuous values. Now I’m actually gonna ta lk about our first cl assification problem, \\nwhere the value Y you’re trying to predict will be discreet value. You can take on only a \\nsmall number of discrete values and in th is case I’ll talk about binding classification \\nwhere Y takes on only two values, right? So you  come up with classi fication problems if \\nyou’re trying to do, say, a medical diagnosis and try to decide based on some features that \\nthe patient has a disease or does not have a di sease. Or if in the housing example, maybe \\nyou’re trying to decide will this house sell in the next six months or not and the answer is \\neither yes or no. It’ll either be  sold in the next six months or it won’t be. Other standing \\nexamples, if you want to build a spam filter. Is this e-mail spam or not? It’s yes or no. Or if you, you know, some of my colleagues sit in  whether predicting whether a computer \\nsystem will crash. So you have a learning algo rithm to predict will this computing cluster \\ncrash over the next 24 hours? And, again, it’s a yes or no answer.  \\nSo there’s X, there’s Y. And in a classifi cation problem Y takes on two values, zero and \\none. That’s it in binding the classification. So what can you do? Well, one thing you \\ncould do is take linear regre ssion, as we’ve described it so far, and apply it to this \\nproblem, right? So you, you know, given this data  set you can fit a st raight line to it. \\nMaybe you get that straight line, right? But th is data set I’ve draw n, right? This is an \\namazingly easy classification probl em. It’s pretty obvious to all of us that, right? The \\nrelationship between X and Y is – well, you ju st look at a value around here and it’s the \\nright is one, it’s the left and Y is zero. So you apply linear regr essions to this data set and \\nyou get a reasonable fit and you can then maybe  take your linear regr ession hypothesis to \\nthis straight line and thres hold it at 0.5. If you do that you ’ll certainly get the right \\nanswer. You predict that if X is to the right of, sort of, the mid-point here then Y is one \\nand then next to the left of that mid-point then Y is zero.  \\nSo some people actually do this. Apply linear  regression to classi fication problems and \\nsometimes it’ll work okay, but in general it’s actually a pretty bad idea to apply linear \\nregression to classification problems like thes e and here’s why. Let’s say I change my \\ntraining set by giving you just one more tr aining example all the way up there, right? \\nImagine if given this training set is actually  still entirely obvious  what the relationship \\nbetween X and Y is, right? It’s ju st – take this value as greate r than Y is one and it’s less \\nthen Y is zero. By giving you this additiona l training example it really shouldn’t change \\nanything. I mean, I didn’t really convey much  new information. There’s no surprise that \\nthis corresponds to Y equals one. But if you now  fit linear regression to this data set you \\nend up with a line that, I don’t know, maybe  looks like that, right? And now the', metadata={'source': '/content/drive/MyDrive/MachineLearning-Lecture03.pdf', 'page': 10}), Document(page_content='predictions of your hypothesis have change d completely if your threshold – your \\nhypothesis at Y equal both 0.5. Okay? So –  \\nStudent: In between there might be an interval wh ere it’s zero, right? For that far off \\npoint?  \\nInstructor (Andrew Ng) :Oh, you mean, like that?  \\nStudent: Right.  \\nInstructor (Andrew Ng) :Yeah, yeah, fine. Yeah, sure. A theta set like that so. So, I \\nguess, these just – yes, you’re right, but this is an example and this example works. This \\n–  \\nStudent: [Inaudible] that will change it even more if you gave it all –  \\nInstructor (Andrew Ng) :Yeah. Then I think this actually  would make it even worse. \\nYou would actually get a lin e that pulls out even further, ri ght? So this is my example. I \\nget to make it whatever I want, right? But th e point of this is that there’s not a deep \\nmeaning to this. The point of this is just that it could be a really bad idea to apply linear \\nregression to classification algorithm. Someti mes it work fine, but usually I wouldn’t do \\nit. So a couple of problems with this. One is that, well – so what do you want to do for \\nclassification? If you know the value of Y lie s between zero and one then to kind of fix \\nthis problem let’s just start by changing the form of our hypothesis so that my hypothesis \\nalways lies in the unit interval between zero a nd one. Okay? So if I know Y is either zero \\nor one then let’s at least not have my hypothe sis predict values much  larger than one and \\nmuch smaller than zero. And so I’m going to – instead of choosing a linear function for \\nmy hypothesis I’m going to choose something s lightly different. And, in particular, I’m \\ngoing to choose this function, H subscript th eta of X is going to equal to G of theta \\ntranspose X where G is going to be this func tion and so this becomes more than one plus \\ntheta X of theta transpose X. And G of Z is called the sigmoi d function and it is often also \\ncalled the logistic function. It goe s by either of these names.  \\nAnd what G of Z looks like is the followi ng. So when you have your  horizontal axis I’m \\ngoing to plot Z and so G of Z will look like this. Okay? I didn’t draw that very well. \\nOkay. So G of Z tends towards zero as Z becomes very small and G of Z will ascend towards one as Z becomes large and it crosses the vertical axis at 0.5. So this is what \\nsigmoid function, also called the logi stic function of. Yeah? Question?  \\nStudent: What sort of sigmoid in other step five?  \\nInstructor (Andrew Ng) :Say that again.  \\nStudent: Why we cannot chose this at five for so me reason, like, that’s better binary.', metadata={'source': '/content/drive/MyDrive/MachineLearning-Lecture03.pdf', 'page': 11}), Document(page_content='Instructor (Andrew Ng) :Yeah. Let me come back to that later. So it turns out that Y – \\nwhere did I get this function fr om, right? I just wrote down th is function. It actually turns \\nout that there are two reasons for using this  function that we’ll come to. One is – we \\ntalked about generalized linear m odels. We’ll see that this falls out naturally as part of the \\nbroader class of models. And another reason th at we’ll talk about ne xt week, it turns out \\nthere are a couple of, I think, ve ry beautiful reasons for why we choose logistic functions. \\nWe’ll see that in a little bit. But for now let me just define it  and just take my word for it \\nfor now that this is a reasonable choice. Okay? But notice now th at my – the values \\noutput by my hypothesis will always be between  zero and one. Furthermore, just like we \\ndid for linear regression, I’m going to e ndow the outputs and my hypothesis with a \\nprobabilistic interpretati on, right? So I’m going to assume that the probability that Y is \\nequal to one given X and parameterized by theta that’s equal to H subscript theta of X, all \\nright? So in other words I’m going to imagin e that my hypothesis is outputting all these \\nnumbers that lie between zero and one. I’m going to think of my hypothesis as trying to \\nestimate the probability that Y is equal to one . Okay? And because Y has to be either zero \\nor one then the probability of Y equals zero is  going to be that. All right? So more simply \\nit turns out – actually, take th ese two equations and write them more compactly. Write P \\nof Y given X parameterized by theta. This is going to be H subscript theta of X to the \\npower of Y times one minus H of X to  the power of one minus Y. Okay?  \\nSo I know this looks somewhat bizarre, but th is actually makes the variation much nicer. \\nSo Y is equal to one then this equation is H of X to the power of one times something to \\nthe power of zero. So anything to the power of zero is just one, righ t? So Y equals one \\nthen this is something to the pow er of zero and so this is just one. So if Y equals one this \\nis just saying P of Y equals one is equal to H subscript theta of X. Okay? And in the same \\nway, if Y is equal to zero then this is P of Y equals zero equals this thing to the power of \\nzero and so this disappears. This is just one times this thing power of one. Okay? So this \\nis a compact way of writing both of these equatio ns to gather them to one line. So let’s \\nhope our parameter fitting, right? And, again, you can ask – well, given this model by \\ndata, how do I fit the parameters theta of my  model? So the likelihood of the parameters \\nis, as before, it’s just the pr obability of theta, right? Which is product over I, PFYI given \\nXI parameterized by theta. Which is – just plugging those in. Okay? I dropped this theta \\nsubscript just so you can write a little bit less. Oh, excuse me. These should be XI’s and \\nYI’s. Okay?  \\nSo, as before, let’s say we want to find a maximum likelihood estimate of the parameters \\ntheta. So we want to find the – setting the parameters theta that maximizes the likelihood \\nL of theta. It turns out that very often – ju st when you work with th e derivations, it turns \\nout that it is often much easier to maximize the log of the likelihood rather than maximize \\nthe likelihood. So the log likelihood L of theta is just log of capital L. This will, therefore, \\nbe sum of this. Okay? And so to fit the para meters theta of our model we’ll find the value \\nof theta that maximizes this log likelihood. Yeah?  \\nStudent: [Inaudible]  \\nInstructor (Andrew Ng) :Say that again.', metadata={'source': '/content/drive/MyDrive/MachineLearning-Lecture03.pdf', 'page': 12}), Document(page_content='Student: YI is [inaudible].  \\nInstructor (Andrew Ng) :Oh, yes. Thanks. So having maximized this function – well, it \\nturns out we can actually apply the same gradient descent algo rithm that we learned. That \\nwas the first algorithm we used to minimize the quadratic function. And you remember, when we talked about least squares, the first algorithm we used to minimize the quadratic \\nerror function was great in descent. So can actually use exactly the same algorithm to \\nmaximize the log likelihood. And you remember, that algorithm was just repeatedly take \\nthe value of theta and you repla ce it with the previous value of theta plus a learning rate \\nalpha times the gradient of the cos functi on. The log likelihood w ill respect the theta. \\nOkay? One small change is that because pr eviously we were trying to minimize the \\nquadratic error term. Today we’re trying to maximize rather than minimize. So rather \\nthan having a minus sign we have a plus sign. So this is just great in ascents, but for the \\nmaximization rather than the minimization. So we actually call this gradient ascent and \\nit’s really the same algorithm.  \\nSo to figure out what this grad ient – so in order to derive gradient descent, what you need \\nto do is compute the partial de rivatives of your objective func tion with respect to each of \\nyour parameters theta I, right? It turns out  that if you actually compute this partial \\nderivative – so you take this formula, this L of theta, which is – oh, got that wrong too. If \\nyou take this lower case l theta,  if you take the log likelihood of  theta, and if you take it’s \\npartial derivative with respect to theta I you find that this is  equal to – let’s see. Okay? \\nAnd, I don’t know, the derivation isn’t terribly co mplicated, but in the interest of saving \\nyou watching me write down a couple of blackbo ards full of math I’ll just write down the \\nfinal answer. But the way you get this is you ju st take those, plug in the definition for F \\nsubscript theta as function of XI, and take derivatives, and work through the algebra it \\nturns out it’ll simplify down to this formula. Okay?  \\nAnd so what that gives you is that gradie nt ascent is the following rule. Theta J gets \\nupdated as theta J plus alpha gives this. Ok ay? Does this look familiar to anyone? Did \\nyou remember seeing this formula at the la st lecture? Right. So when I worked up \\nBastrian descent for least squares regressi on I, actually, wrote down exactly the same \\nthing, or maybe there’s a minus sign and this is  also fit. But I, actually, had exactly the \\nsame learning rule last time for least squares regression, right ? Is this the same learning \\nalgorithm then? So what’s different? How come  I was making all that noise earlier about \\nleast squares regression being a bad idea for classification problems and then I did a \\nbunch of math and I skipped some steps, but I’m, sort of, claiming at the end they’re \\nreally the same learning algorithm?  \\nStudent: [Inaudible] constants?  \\nInstructor (Andrew Ng) :Say that again.  \\nStudent: [Inaudible]  \\nInstructor (Andrew Ng) :Oh, right. Okay, cool.', metadata={'source': '/content/drive/MyDrive/MachineLearning-Lecture03.pdf', 'page': 13}), Document(page_content='Student: It’s the lowest it –  \\nInstructor (Andrew Ng) :No, exactly. Right. So zero to the same, this is not the same, \\nright? And the reason is, in logi stic regression this is diffe rent from before, right? The \\ndefinition of this H subscript theta of XI is not the same as the definition I was using in \\nthe previous lecture. And in pa rticular this is no longer thet a transpose XI. This is not a \\nlinear function anymore. This is  a logistic function of theta transpose XI. Okay? So even \\nthough this looks cosmetically similar, even though this is similar on the surface, to the \\nBastrian descent rule I derive d last time for least squares regression this is actually a \\ntotally different learning algorithm. Okay? And it turns out that there’s actually no \\ncoincidence that you ended up with the same l earning rule. We’ll actually talk a bit more \\nabout this later when we talk about generalized linear models. But this is one of the most \\nelegant generalized learning models that we’l l see later. That even though we’re using a \\ndifferent model, you actually ended up with wh at looks like the sa me learning algorithm \\nand it’s actually no coincidence. Cool.  \\nOne last comment as part of a sort of l earning process, over here I said I take the \\nderivatives and I ended up with this line . I didn’t want to make you sit through a long \\nalgebraic derivation, but later t oday or later this week, pleas e, do go home and look at our \\nlecture notes, where I wrote out the entirety of  this derivation in full, and make sure you \\ncan follow every single step of how we take partial derivatives of this log likelihood to \\nget this formula over here. Okay? By the way, for those who are inte rested in seriously \\nmasking machine learning material, when you go home and look at the lecture notes it \\nwill actually be very easy for most of you to look through the lecture notes and read \\nthrough every line and go yep, that makes sense,  that makes sense, that makes sense, and, \\nsort of, say cool. I see how you get this line. You want to make sure you really \\nunderstand the material. My concrete suggesti on to you would be to you to go home, read \\nthrough the lecture notes, check every line, and then to cover up the derivation and see if \\nyou can derive this example, right? So in general, that’s usually good advice for studying \\ntechnical material like machine learning. Wh ich is if you work through a proof and you \\nthink you understood every line, the way to make sure you rea lly understood it is to cover \\nit up and see if you can rederive the entire th ing itself. This is actually a great way \\nbecause I did this a lot when I was trying to  study various pieces of machine learning \\ntheory and various proofs. And this is actua lly a great way to study because cover up the \\nderivations and see if you can do it yourself without looking at the origin al derivation. All \\nright.  \\nI probably won’t get to Newton’s Method toda y. I just want to say – take one quick \\ndigression to talk about one more algorithm, which was the discussion sort of alluding to \\nthis earlier, which is the perceptron algorithm, right? So I’m not gonna say a whole lot \\nabout the perceptron algorithm, but this is some thing that we’ll come back to later. Later \\nthis quarter we’ll talk about le arning theory. So in logistic re gression we said that G of Z \\nare, sort of, my hypothesis output values th at were low numbers between zero and one. \\nThe question is what if you want to force G of  Z to up the value to either zero one? So the \\nperceptron algorithm defines G of Z to be this. So the picture is – or  the cartoon is, rather \\nthan this sigmoid function. E of Z now looks like this step function that you were asking', metadata={'source': '/content/drive/MyDrive/MachineLearning-Lecture03.pdf', 'page': 14}), Document(page_content='about earlier. In saying this before, we can use H subscript theta of X equals G of theta \\ntranspose X. Okay? So this is actually – ever ything is exactly the same as before, except \\nthat G of Z is now the step f unction. It turns out there’s this  learning called the perceptron \\nlearning rule that’s actually even the same as the classic gradient ascent for logistic \\nregression. And the learning rule is given by th is. Okay? So it looks just like the classic \\ngradient ascent rule for logist ic regression. So this is very  different flavor of algorithm \\nthan least squares regression and logistic regr ession, and, in particular, because it outputs \\nonly values are either zero or one it turns out  it’s very difficult to  endow this algorithm \\nwith probabilistic semantics. And this is , again, even though – oh, excuse me. Right \\nthere. Okay. And even though this learning ru le looks, again, looks  cosmetically very \\nsimilar to what we have in l ogistics regression this is actual ly a very different type of \\nlearning rule than the others that were seen in this class. So because this is such a simple \\nlearning algorithm, right? It ju st computes theta transpose X and then you threshold and \\nthen your output is zero or one . This is – right. So thes e are a simpler algorithm than \\nlogistic regression, I think. When  we talk about learning theory  later in this class, the \\nsimplicity of this algorithm will let us come back and use it as a building block. Okay? \\nBut that’s all I want to say about this algorithm for now.  \\nJust for fun, the last thing I’l l do today is show you a histor ical video with – that talks \\nabout the perceptron algorithm. This particular  video comes from a video series titled The \\nMachine that Changed The World and was produced WGBH Television in cooperation \\nwith the BBC, British Broadcasting Corporati on, and it aired on PBS a few years ago. \\nThis shows you what machine learning used to  be like. It’s a f un clip on perceptron \\nalgorithm.  \\nIn the 1950’s and 60’s scientists built a few work ing perceptrons, as these artificial brains \\nwere called. He’s using it to explore the myster ious problem of how the brain learns. This \\nperceptron is being trained to recognize the difference between males and females. It is \\nsomething that all of us can do easily, but fe w of us can explain how. To get a computer \\nto do this it would involve working out ma ny complex rules about faces and writing a \\ncomputer program, but this perceptron was si mply given lots and lots of examples, \\nincluding some with unus ual hairstyles. But when it comes to a beetle the computer looks \\nat facial features and hair out line and takes longer to learn wh at it’s told by Dr. Taylor. \\nAndrew puts on his wig also causes a little part searching. After training on lots of \\nexamples, it’s given new faces it has never se en and is able to successfully distinguish \\nmale from female. It has learned.  \\nAll right. Isn’t that gr eat? Okay. That’s it for today. I’ll see you guys at the next lecture.  \\n[End of Audio]  \\nDuration: 75 minutes', metadata={'source': '/content/drive/MyDrive/MachineLearning-Lecture03.pdf', 'page': 15})]\n"
          ]
        }
      ]
    },
    {
      "cell_type": "markdown",
      "source": [
        "### Embeddings"
      ],
      "metadata": {
        "id": "lMKZHm9k1_pN"
      }
    },
    {
      "cell_type": "code",
      "source": [
        "from langchain.embeddings import HuggingFaceEmbeddings\n",
        "embeddings = HuggingFaceEmbeddings()"
      ],
      "metadata": {
        "id": "kn17w_ko2Rl-",
        "colab": {
          "base_uri": "https://localhost:8080/",
          "height": 528,
          "referenced_widgets": [
            "6e1590da7ba349c3bf1c7c3860ebaf1b",
            "6131835cac544ff98069f650310aeba7",
            "95b0e5ab1e0746df982347494621b0e7",
            "c52e6b1592c3477a94d696e589f10aee",
            "3bf6aac5cb14486eb28ec5d8b36f333c",
            "21468e6c9cc44abe88e8bac54b933e0b",
            "74a8b57776f74367a3187620868749db",
            "c9050d3383c04707b6fe6d2cbe3f5cbf",
            "8e2b0a51d9524275b4d254cfb1b45f2f",
            "daaf4cade57d4c04abaed15838a24219",
            "2341ab650ccb40c4a3b103bddb9690a5",
            "33751feaf96a43e2a3a461b838bf5d26",
            "58e050a6d3c9485da6a3395bc0180de8",
            "00b5656a96bb43258d31e33eafaf840a",
            "20d4de43b5b248af94f656b94b84e417",
            "4da3172de58c4101a825ad5f9f09448c",
            "3a6259290c4a445898ab71b7e4f85e55",
            "5ae7b7f91767480488b2fccdea58de13",
            "22d804661a4f40ac9e5de3eef6925a88",
            "a8bf5caf79a849ad90ab1ca4af25265a",
            "bd95583b6c254edab7d3d63714a4c31b",
            "ddaec781328f4063a95e8563b272466b",
            "179ad61e471d4f008a5a110e065f9a4d",
            "882a7090a81746878b8fac33aff29a26",
            "04a5608c678a47f6b541997fff239803",
            "769a6c59664245c7a312a23a3e78e98a",
            "6f6a98b2ccfe418d95ced8ccf522117a",
            "4a17bf32a332463a8ac599becb788db2",
            "e7a914f0f86b41da9af6862c97c76098",
            "16cbe7e139d642c8bf82ce30e3a3c1c1",
            "4561d2fb7b7243e483592b40c51db718",
            "cb3a727c97484b3c8e053f92b5bc9e27",
            "16047ce2408a49f2ba6f99047aa0da6f",
            "9080a407552e48f08ecb4fd66933499c",
            "c625224d67e649749626c3f2f75aa07a",
            "4210aea2365e43b4bd2d5894cf2e7eef",
            "09f10e3eb6854c59a695221aa5adb794",
            "23986fad078b4fbd886085f7df9de1df",
            "90bb2daaed4c4405878b6faa865bc1d5",
            "9d0fa8251342452b85fa166b8ede4968",
            "3399c0c627ac4c5eba9b42bca4b19745",
            "5398b72ac8d74c21b6350a6d61de6300",
            "581c454e8e444a6296e3cc18ac70eb96",
            "74255edcad3d43a590d0e1c6abc3a88b",
            "2d4a09f159d4411788ae25ca5df18eb4",
            "76e0ef67256a4e26beb7a37e751584b1",
            "5aee8191ca7d476ea4788fd5e0d154ba",
            "a05c2177a82a48a4b952b384c6ffb177",
            "1dfcf08f8ae142619c2a536410c1d671",
            "95b5d89acb15462fa82ed53d9eea9ccc",
            "dc3f30d58b7a4222bd8a3ea6c1f8360d",
            "365ff246ae9f41d89e93ba9e17d2dfab",
            "e38da23089dd4e138a6bdfb86168f2e5",
            "b94f606150454792a2c2531b3badd843",
            "5ffc218d40214934939c493284389f4d",
            "cf703a0b44154ef3921d6155b67a3891",
            "91ad87eca92942758451e0993dbf9e0e",
            "d5b8742260624757887e3eef3a0cfa51",
            "86fcdbc59941464cbdadb39ae5187bd8",
            "18884a8a2e68475785c77ad6a993da01",
            "59d7ea8f4dab4bf69a5f6ea3f67a0ad4",
            "e814915450a144868f7dc5d83c8c9a24",
            "8d29cae35ecd4861bda62d7851526abe",
            "ed42d2d68671470f9467b3f8bf257388",
            "8d34678ccc96443fa385dc58d9998f57",
            "e9d0a20e7bd945b190fa2a13885e2d4a",
            "2b027c9153ae4aac95e2e6f0dfa31d27",
            "edd5c2b3fd98451696a0e79b2eb839d3",
            "e991adeee8864a76af0febdea714104a",
            "a6faafd7914c491a8c27eb86956ec95f",
            "53f7c9bf710e46c2b7c5aca7601a2d49",
            "6738f8c4dbe54ca4943000bc53a738d1",
            "0be69fb5aa4e4cd99c04a1d14dc338ca",
            "3f9508f9fae24f21959c665e622a5c7a",
            "d8bd90d2ee6a4db19880d831e9370396",
            "ea1aa598856940359374ff77ff2500fb",
            "561a1c7805ca481f9d3727b7ff5c003a",
            "6c3273abe3a04c1ab436ad9c7b1b213b",
            "dcb65f84d1c940018494960860b7d061",
            "769c37e5dd9d413e9304959a59e50384",
            "21d896b5264b4c16be94f49003ff1b98",
            "8c366b9f47094d699e8e76fcf48b6128",
            "40f8103c7f074a808abbc50cc18ae510",
            "b3c94fc3b016478783689d17ded1f8ba",
            "e65447faeadb4fb3a185afb257394ea7",
            "74349b7356534539adb30f799f94d28b",
            "044f78ad53114b5c81f859685328ab83",
            "a81e0d2e0cb24b8ebbe5d53c505a1865",
            "803e216d25b0417d9ceebfa364f1c6f7",
            "7fb9f6a5d27847b8b523acc6cccdc3fc",
            "132ff9b3c51b415c8f8a958b9b486214",
            "5752ae2d2bb54154b438d1a0871760eb",
            "d8116a48a2e94ea0b05dd14595b9c5da",
            "83c28173b2064f81816598a006964eea",
            "6aa7a40bd3504e3abd360aae34bc3627",
            "8dbed8a319914a1fbfe3d0b4c386a4cc",
            "ac4c3dd4340d487192a856b30bad03bd",
            "1f5ed9e2c9b240ac9925efc8ecf3f5f2",
            "fe09d424101f466496a89405e5faa089",
            "3b5a25662d464dde9e730c0bfc51473c",
            "53830014df74443ea226c9f51d943d4c",
            "795bb62daaf449e2910b9ee0c0d43c1a",
            "3361e54bcb624268a847fd2995c0eb2d",
            "f7d7bf85d7174e3c835224cabf053023",
            "860affeaa2e6475595867a8138032a0b",
            "9b97a3ab64e34aeab3ed594fffd7b19c",
            "a408b97d2b204b49ab8941297641e6af",
            "cb56547587d74005896353ebd722f0b2",
            "a7fe369f1d76441ab53875a5215b0d88",
            "47fd461641b3437aa80ed2610add16db",
            "56c0eda9f0eb4d79921230d4a0fd5392",
            "6405513ea572429a9cf37c5376eb151f",
            "5c75e0c90f29416e9143895b6c746164",
            "d37f8c3e118c4c48894e72205d14c5d3",
            "c663015e6a7b4b1c8080945eb8e47b2c",
            "6f70f9058b2844c5be0e582f908e59c8",
            "171e18666a2347eeae03a4c243e7db97",
            "8c74632384664c82b7a090691c5482eb",
            "b2ef766a1e754cd084aa8f5c2d254a1b",
            "2791e71b7e194990aa12c5b4a6842789",
            "d739252f90844fdeb5619ce2527bd0d2"
          ]
        },
        "outputId": "9b8a0910-5311-4229-e1ac-6fb7310ee4aa"
      },
      "execution_count": 17,
      "outputs": [
        {
          "output_type": "stream",
          "name": "stderr",
          "text": [
            "/usr/local/lib/python3.10/dist-packages/huggingface_hub/utils/_token.py:89: UserWarning: \n",
            "The secret `HF_TOKEN` does not exist in your Colab secrets.\n",
            "To authenticate with the Hugging Face Hub, create a token in your settings tab (https://huggingface.co/settings/tokens), set it as secret in your Google Colab and restart your session.\n",
            "You will be able to reuse this secret in all of your notebooks.\n",
            "Please note that authentication is recommended but still optional to access public models or datasets.\n",
            "  warnings.warn(\n"
          ]
        },
        {
          "output_type": "display_data",
          "data": {
            "text/plain": [
              "modules.json:   0%|          | 0.00/349 [00:00<?, ?B/s]"
            ],
            "application/vnd.jupyter.widget-view+json": {
              "version_major": 2,
              "version_minor": 0,
              "model_id": "6e1590da7ba349c3bf1c7c3860ebaf1b"
            }
          },
          "metadata": {}
        },
        {
          "output_type": "display_data",
          "data": {
            "text/plain": [
              "config_sentence_transformers.json:   0%|          | 0.00/116 [00:00<?, ?B/s]"
            ],
            "application/vnd.jupyter.widget-view+json": {
              "version_major": 2,
              "version_minor": 0,
              "model_id": "33751feaf96a43e2a3a461b838bf5d26"
            }
          },
          "metadata": {}
        },
        {
          "output_type": "display_data",
          "data": {
            "text/plain": [
              "README.md:   0%|          | 0.00/10.6k [00:00<?, ?B/s]"
            ],
            "application/vnd.jupyter.widget-view+json": {
              "version_major": 2,
              "version_minor": 0,
              "model_id": "179ad61e471d4f008a5a110e065f9a4d"
            }
          },
          "metadata": {}
        },
        {
          "output_type": "display_data",
          "data": {
            "text/plain": [
              "sentence_bert_config.json:   0%|          | 0.00/53.0 [00:00<?, ?B/s]"
            ],
            "application/vnd.jupyter.widget-view+json": {
              "version_major": 2,
              "version_minor": 0,
              "model_id": "9080a407552e48f08ecb4fd66933499c"
            }
          },
          "metadata": {}
        },
        {
          "output_type": "stream",
          "name": "stderr",
          "text": [
            "/usr/local/lib/python3.10/dist-packages/huggingface_hub/file_download.py:1132: FutureWarning: `resume_download` is deprecated and will be removed in version 1.0.0. Downloads always resume when possible. If you want to force a new download, use `force_download=True`.\n",
            "  warnings.warn(\n"
          ]
        },
        {
          "output_type": "display_data",
          "data": {
            "text/plain": [
              "config.json:   0%|          | 0.00/571 [00:00<?, ?B/s]"
            ],
            "application/vnd.jupyter.widget-view+json": {
              "version_major": 2,
              "version_minor": 0,
              "model_id": "2d4a09f159d4411788ae25ca5df18eb4"
            }
          },
          "metadata": {}
        },
        {
          "output_type": "display_data",
          "data": {
            "text/plain": [
              "model.safetensors:   0%|          | 0.00/438M [00:00<?, ?B/s]"
            ],
            "application/vnd.jupyter.widget-view+json": {
              "version_major": 2,
              "version_minor": 0,
              "model_id": "cf703a0b44154ef3921d6155b67a3891"
            }
          },
          "metadata": {}
        },
        {
          "output_type": "display_data",
          "data": {
            "text/plain": [
              "tokenizer_config.json:   0%|          | 0.00/363 [00:00<?, ?B/s]"
            ],
            "application/vnd.jupyter.widget-view+json": {
              "version_major": 2,
              "version_minor": 0,
              "model_id": "2b027c9153ae4aac95e2e6f0dfa31d27"
            }
          },
          "metadata": {}
        },
        {
          "output_type": "display_data",
          "data": {
            "text/plain": [
              "vocab.txt:   0%|          | 0.00/232k [00:00<?, ?B/s]"
            ],
            "application/vnd.jupyter.widget-view+json": {
              "version_major": 2,
              "version_minor": 0,
              "model_id": "6c3273abe3a04c1ab436ad9c7b1b213b"
            }
          },
          "metadata": {}
        },
        {
          "output_type": "display_data",
          "data": {
            "text/plain": [
              "tokenizer.json:   0%|          | 0.00/466k [00:00<?, ?B/s]"
            ],
            "application/vnd.jupyter.widget-view+json": {
              "version_major": 2,
              "version_minor": 0,
              "model_id": "803e216d25b0417d9ceebfa364f1c6f7"
            }
          },
          "metadata": {}
        },
        {
          "output_type": "display_data",
          "data": {
            "text/plain": [
              "special_tokens_map.json:   0%|          | 0.00/239 [00:00<?, ?B/s]"
            ],
            "application/vnd.jupyter.widget-view+json": {
              "version_major": 2,
              "version_minor": 0,
              "model_id": "3b5a25662d464dde9e730c0bfc51473c"
            }
          },
          "metadata": {}
        },
        {
          "output_type": "display_data",
          "data": {
            "text/plain": [
              "1_Pooling/config.json:   0%|          | 0.00/190 [00:00<?, ?B/s]"
            ],
            "application/vnd.jupyter.widget-view+json": {
              "version_major": 2,
              "version_minor": 0,
              "model_id": "56c0eda9f0eb4d79921230d4a0fd5392"
            }
          },
          "metadata": {}
        }
      ]
    },
    {
      "cell_type": "code",
      "source": [
        "sentence1 = \"i like dogs\"\n",
        "sentence2 = \"i like canines\"\n",
        "sentence3 = \"the weather is ugly outside\""
      ],
      "metadata": {
        "id": "HvQS5kovtGsJ"
      },
      "execution_count": 18,
      "outputs": []
    },
    {
      "cell_type": "code",
      "source": [
        "embedding1 = embeddings.embed_query(sentence1)\n",
        "embedding2 = embeddings.embed_query(sentence2)\n",
        "embedding3 = embeddings.embed_query(sentence3)"
      ],
      "metadata": {
        "id": "8VsXm-SmtINP"
      },
      "execution_count": 19,
      "outputs": []
    },
    {
      "cell_type": "code",
      "source": [
        "import numpy as np\n",
        "\n",
        "print(np.dot(embedding1, embedding2))\n",
        "print(np.dot(embedding1, embedding3))\n",
        "print(np.dot(embedding2, embedding3))"
      ],
      "metadata": {
        "colab": {
          "base_uri": "https://localhost:8080/"
        },
        "id": "HFJYQsaVtLtc",
        "outputId": "a1334e1c-c6e3-48aa-e7b5-456e8273ec5b"
      },
      "execution_count": 20,
      "outputs": [
        {
          "output_type": "stream",
          "name": "stdout",
          "text": [
            "0.8981181816990957\n",
            "0.03641025635282673\n",
            "0.00584762507929802\n"
          ]
        }
      ]
    },
    {
      "cell_type": "code",
      "source": [
        "result = genai.embed_content(\n",
        "    model=\"models/embedding-001\",\n",
        "    content=[sentence1, sentence2, sentence3],\n",
        "    task_type=\"semantic_similarity\")\n",
        "\n",
        "# A list of inputs > A list of vectors output\n",
        "for v in result['embedding']:\n",
        "  print(str(v)[:50], '... TRIMMED ...')"
      ],
      "metadata": {
        "id": "Lb6Y9sq67PZE",
        "outputId": "56346b98-1a8b-4b09-d944-e94f5263f547",
        "colab": {
          "base_uri": "https://localhost:8080/",
          "height": 69
        }
      },
      "execution_count": 21,
      "outputs": [
        {
          "output_type": "stream",
          "name": "stdout",
          "text": [
            "[0.017999394, 0.011761852, -0.03111037, -0.0452407 ... TRIMMED ...\n",
            "[0.00987721, 0.008453568, -0.045304492, -0.0309509 ... TRIMMED ...\n",
            "[0.044654254, -0.032029092, -0.025949165, -0.02246 ... TRIMMED ...\n"
          ]
        }
      ]
    },
    {
      "cell_type": "code",
      "source": [
        "print(np.dot(result['embedding'][0], result['embedding'][1]))\n",
        "print(np.dot(result['embedding'][0], result['embedding'][2]))\n",
        "print(np.dot(result['embedding'][1], result['embedding'][2]))"
      ],
      "metadata": {
        "id": "RR76FfSi7y7H",
        "outputId": "b8ed7785-8cce-4553-b798-81683ce8261a",
        "colab": {
          "base_uri": "https://localhost:8080/"
        }
      },
      "execution_count": 22,
      "outputs": [
        {
          "output_type": "stream",
          "name": "stdout",
          "text": [
            "0.9297800855673788\n",
            "0.617038314793968\n",
            "0.6009906828187863\n"
          ]
        }
      ]
    },
    {
      "cell_type": "markdown",
      "source": [
        "**Hugging face performs better.**"
      ],
      "metadata": {
        "id": "SujpQmFA8xmE"
      }
    },
    {
      "cell_type": "markdown",
      "source": [
        "## Vectorstores"
      ],
      "metadata": {
        "id": "mXe78GEdt_17"
      }
    },
    {
      "cell_type": "code",
      "source": [
        "!pip install chromadb"
      ],
      "metadata": {
        "id": "S52g3jCstoxB",
        "outputId": "c4f15484-6f1e-461d-d665-ad8203111062",
        "colab": {
          "base_uri": "https://localhost:8080/"
        }
      },
      "execution_count": 23,
      "outputs": [
        {
          "output_type": "stream",
          "name": "stdout",
          "text": [
            "Collecting chromadb\n",
            "  Downloading chromadb-0.5.0-py3-none-any.whl (526 kB)\n",
            "\u001b[2K     \u001b[90m━━━━━━━━━━━━━━━━━━━━━━━━━━━━━━━━━━━━━━━━\u001b[0m \u001b[32m526.8/526.8 kB\u001b[0m \u001b[31m7.1 MB/s\u001b[0m eta \u001b[36m0:00:00\u001b[0m\n",
            "\u001b[?25hRequirement already satisfied: build>=1.0.3 in /usr/local/lib/python3.10/dist-packages (from chromadb) (1.2.1)\n",
            "Requirement already satisfied: requests>=2.28 in /usr/local/lib/python3.10/dist-packages (from chromadb) (2.31.0)\n",
            "Requirement already satisfied: pydantic>=1.9 in /usr/local/lib/python3.10/dist-packages (from chromadb) (2.7.1)\n",
            "Collecting chroma-hnswlib==0.7.3 (from chromadb)\n",
            "  Downloading chroma_hnswlib-0.7.3-cp310-cp310-manylinux_2_17_x86_64.manylinux2014_x86_64.whl (2.4 MB)\n",
            "\u001b[2K     \u001b[90m━━━━━━━━━━━━━━━━━━━━━━━━━━━━━━━━━━━━━━━━\u001b[0m \u001b[32m2.4/2.4 MB\u001b[0m \u001b[31m20.8 MB/s\u001b[0m eta \u001b[36m0:00:00\u001b[0m\n",
            "\u001b[?25hCollecting fastapi>=0.95.2 (from chromadb)\n",
            "  Downloading fastapi-0.111.0-py3-none-any.whl (91 kB)\n",
            "\u001b[2K     \u001b[90m━━━━━━━━━━━━━━━━━━━━━━━━━━━━━━━━━━━━━━━━\u001b[0m \u001b[32m92.0/92.0 kB\u001b[0m \u001b[31m9.4 MB/s\u001b[0m eta \u001b[36m0:00:00\u001b[0m\n",
            "\u001b[?25hCollecting uvicorn[standard]>=0.18.3 (from chromadb)\n",
            "  Downloading uvicorn-0.30.1-py3-none-any.whl (62 kB)\n",
            "\u001b[2K     \u001b[90m━━━━━━━━━━━━━━━━━━━━━━━━━━━━━━━━━━━━━━━━\u001b[0m \u001b[32m62.4/62.4 kB\u001b[0m \u001b[31m6.9 MB/s\u001b[0m eta \u001b[36m0:00:00\u001b[0m\n",
            "\u001b[?25hRequirement already satisfied: numpy>=1.22.5 in /usr/local/lib/python3.10/dist-packages (from chromadb) (1.25.2)\n",
            "Collecting posthog>=2.4.0 (from chromadb)\n",
            "  Downloading posthog-3.5.0-py2.py3-none-any.whl (41 kB)\n",
            "\u001b[2K     \u001b[90m━━━━━━━━━━━━━━━━━━━━━━━━━━━━━━━━━━━━━━━━\u001b[0m \u001b[32m41.3/41.3 kB\u001b[0m \u001b[31m4.0 MB/s\u001b[0m eta \u001b[36m0:00:00\u001b[0m\n",
            "\u001b[?25hRequirement already satisfied: typing-extensions>=4.5.0 in /usr/local/lib/python3.10/dist-packages (from chromadb) (4.11.0)\n",
            "Collecting onnxruntime>=1.14.1 (from chromadb)\n",
            "  Downloading onnxruntime-1.18.0-cp310-cp310-manylinux_2_27_x86_64.manylinux_2_28_x86_64.whl (6.8 MB)\n",
            "\u001b[2K     \u001b[90m━━━━━━━━━━━━━━━━━━━━━━━━━━━━━━━━━━━━━━━━\u001b[0m \u001b[32m6.8/6.8 MB\u001b[0m \u001b[31m42.6 MB/s\u001b[0m eta \u001b[36m0:00:00\u001b[0m\n",
            "\u001b[?25hCollecting opentelemetry-api>=1.2.0 (from chromadb)\n",
            "  Downloading opentelemetry_api-1.25.0-py3-none-any.whl (59 kB)\n",
            "\u001b[2K     \u001b[90m━━━━━━━━━━━━━━━━━━━━━━━━━━━━━━━━━━━━━━━━\u001b[0m \u001b[32m59.9/59.9 kB\u001b[0m \u001b[31m6.7 MB/s\u001b[0m eta \u001b[36m0:00:00\u001b[0m\n",
            "\u001b[?25hCollecting opentelemetry-exporter-otlp-proto-grpc>=1.2.0 (from chromadb)\n",
            "  Downloading opentelemetry_exporter_otlp_proto_grpc-1.25.0-py3-none-any.whl (18 kB)\n",
            "Collecting opentelemetry-instrumentation-fastapi>=0.41b0 (from chromadb)\n",
            "  Downloading opentelemetry_instrumentation_fastapi-0.46b0-py3-none-any.whl (11 kB)\n",
            "Collecting opentelemetry-sdk>=1.2.0 (from chromadb)\n",
            "  Downloading opentelemetry_sdk-1.25.0-py3-none-any.whl (107 kB)\n",
            "\u001b[2K     \u001b[90m━━━━━━━━━━━━━━━━━━━━━━━━━━━━━━━━━━━━━━━━\u001b[0m \u001b[32m107.0/107.0 kB\u001b[0m \u001b[31m9.5 MB/s\u001b[0m eta \u001b[36m0:00:00\u001b[0m\n",
            "\u001b[?25hRequirement already satisfied: tokenizers>=0.13.2 in /usr/local/lib/python3.10/dist-packages (from chromadb) (0.19.1)\n",
            "Collecting pypika>=0.48.9 (from chromadb)\n",
            "  Downloading PyPika-0.48.9.tar.gz (67 kB)\n",
            "\u001b[2K     \u001b[90m━━━━━━━━━━━━━━━━━━━━━━━━━━━━━━━━━━━━━━━━\u001b[0m \u001b[32m67.3/67.3 kB\u001b[0m \u001b[31m7.3 MB/s\u001b[0m eta \u001b[36m0:00:00\u001b[0m\n",
            "\u001b[?25h  Installing build dependencies ... \u001b[?25l\u001b[?25hdone\n",
            "  Getting requirements to build wheel ... \u001b[?25l\u001b[?25hdone\n",
            "  Preparing metadata (pyproject.toml) ... \u001b[?25l\u001b[?25hdone\n",
            "Requirement already satisfied: tqdm>=4.65.0 in /usr/local/lib/python3.10/dist-packages (from chromadb) (4.66.4)\n",
            "Collecting overrides>=7.3.1 (from chromadb)\n",
            "  Downloading overrides-7.7.0-py3-none-any.whl (17 kB)\n",
            "Requirement already satisfied: importlib-resources in /usr/local/lib/python3.10/dist-packages (from chromadb) (6.4.0)\n",
            "Requirement already satisfied: grpcio>=1.58.0 in /usr/local/lib/python3.10/dist-packages (from chromadb) (1.64.0)\n",
            "Collecting bcrypt>=4.0.1 (from chromadb)\n",
            "  Downloading bcrypt-4.1.3-cp39-abi3-manylinux_2_28_x86_64.whl (283 kB)\n",
            "\u001b[2K     \u001b[90m━━━━━━━━━━━━━━━━━━━━━━━━━━━━━━━━━━━━━━━━\u001b[0m \u001b[32m283.7/283.7 kB\u001b[0m \u001b[31m23.7 MB/s\u001b[0m eta \u001b[36m0:00:00\u001b[0m\n",
            "\u001b[?25hRequirement already satisfied: typer>=0.9.0 in /usr/local/lib/python3.10/dist-packages (from chromadb) (0.9.4)\n",
            "Collecting kubernetes>=28.1.0 (from chromadb)\n",
            "  Downloading kubernetes-29.0.0-py2.py3-none-any.whl (1.6 MB)\n",
            "\u001b[2K     \u001b[90m━━━━━━━━━━━━━━━━━━━━━━━━━━━━━━━━━━━━━━━━\u001b[0m \u001b[32m1.6/1.6 MB\u001b[0m \u001b[31m53.7 MB/s\u001b[0m eta \u001b[36m0:00:00\u001b[0m\n",
            "\u001b[?25hRequirement already satisfied: tenacity>=8.2.3 in /usr/local/lib/python3.10/dist-packages (from chromadb) (8.3.0)\n",
            "Requirement already satisfied: PyYAML>=6.0.0 in /usr/local/lib/python3.10/dist-packages (from chromadb) (6.0.1)\n",
            "Collecting mmh3>=4.0.1 (from chromadb)\n",
            "  Downloading mmh3-4.1.0-cp310-cp310-manylinux_2_5_x86_64.manylinux1_x86_64.manylinux_2_17_x86_64.manylinux2014_x86_64.whl (67 kB)\n",
            "\u001b[2K     \u001b[90m━━━━━━━━━━━━━━━━━━━━━━━━━━━━━━━━━━━━━━━━\u001b[0m \u001b[32m67.6/67.6 kB\u001b[0m \u001b[31m5.2 MB/s\u001b[0m eta \u001b[36m0:00:00\u001b[0m\n",
            "\u001b[?25hRequirement already satisfied: orjson>=3.9.12 in /usr/local/lib/python3.10/dist-packages (from chromadb) (3.10.3)\n",
            "Requirement already satisfied: packaging>=19.1 in /usr/local/lib/python3.10/dist-packages (from build>=1.0.3->chromadb) (23.2)\n",
            "Requirement already satisfied: pyproject_hooks in /usr/local/lib/python3.10/dist-packages (from build>=1.0.3->chromadb) (1.1.0)\n",
            "Requirement already satisfied: tomli>=1.1.0 in /usr/local/lib/python3.10/dist-packages (from build>=1.0.3->chromadb) (2.0.1)\n",
            "Collecting starlette<0.38.0,>=0.37.2 (from fastapi>=0.95.2->chromadb)\n",
            "  Downloading starlette-0.37.2-py3-none-any.whl (71 kB)\n",
            "\u001b[2K     \u001b[90m━━━━━━━━━━━━━━━━━━━━━━━━━━━━━━━━━━━━━━━━\u001b[0m \u001b[32m71.9/71.9 kB\u001b[0m \u001b[31m6.3 MB/s\u001b[0m eta \u001b[36m0:00:00\u001b[0m\n",
            "\u001b[?25hCollecting fastapi-cli>=0.0.2 (from fastapi>=0.95.2->chromadb)\n",
            "  Downloading fastapi_cli-0.0.4-py3-none-any.whl (9.5 kB)\n",
            "Collecting httpx>=0.23.0 (from fastapi>=0.95.2->chromadb)\n",
            "  Downloading httpx-0.27.0-py3-none-any.whl (75 kB)\n",
            "\u001b[2K     \u001b[90m━━━━━━━━━━━━━━━━━━━━━━━━━━━━━━━━━━━━━━━━\u001b[0m \u001b[32m75.6/75.6 kB\u001b[0m \u001b[31m7.2 MB/s\u001b[0m eta \u001b[36m0:00:00\u001b[0m\n",
            "\u001b[?25hRequirement already satisfied: jinja2>=2.11.2 in /usr/local/lib/python3.10/dist-packages (from fastapi>=0.95.2->chromadb) (3.1.4)\n",
            "Collecting python-multipart>=0.0.7 (from fastapi>=0.95.2->chromadb)\n",
            "  Downloading python_multipart-0.0.9-py3-none-any.whl (22 kB)\n",
            "Collecting ujson!=4.0.2,!=4.1.0,!=4.2.0,!=4.3.0,!=5.0.0,!=5.1.0,>=4.0.1 (from fastapi>=0.95.2->chromadb)\n",
            "  Downloading ujson-5.10.0-cp310-cp310-manylinux_2_17_x86_64.manylinux2014_x86_64.whl (53 kB)\n",
            "\u001b[2K     \u001b[90m━━━━━━━━━━━━━━━━━━━━━━━━━━━━━━━━━━━━━━━━\u001b[0m \u001b[32m53.6/53.6 kB\u001b[0m \u001b[31m6.3 MB/s\u001b[0m eta \u001b[36m0:00:00\u001b[0m\n",
            "\u001b[?25hCollecting email_validator>=2.0.0 (from fastapi>=0.95.2->chromadb)\n",
            "  Downloading email_validator-2.1.1-py3-none-any.whl (30 kB)\n",
            "Requirement already satisfied: certifi>=14.05.14 in /usr/local/lib/python3.10/dist-packages (from kubernetes>=28.1.0->chromadb) (2024.2.2)\n",
            "Requirement already satisfied: six>=1.9.0 in /usr/local/lib/python3.10/dist-packages (from kubernetes>=28.1.0->chromadb) (1.16.0)\n",
            "Requirement already satisfied: python-dateutil>=2.5.3 in /usr/local/lib/python3.10/dist-packages (from kubernetes>=28.1.0->chromadb) (2.8.2)\n",
            "Requirement already satisfied: google-auth>=1.0.1 in /usr/local/lib/python3.10/dist-packages (from kubernetes>=28.1.0->chromadb) (2.27.0)\n",
            "Requirement already satisfied: websocket-client!=0.40.0,!=0.41.*,!=0.42.*,>=0.32.0 in /usr/local/lib/python3.10/dist-packages (from kubernetes>=28.1.0->chromadb) (1.8.0)\n",
            "Requirement already satisfied: requests-oauthlib in /usr/local/lib/python3.10/dist-packages (from kubernetes>=28.1.0->chromadb) (1.3.1)\n",
            "Requirement already satisfied: oauthlib>=3.2.2 in /usr/local/lib/python3.10/dist-packages (from kubernetes>=28.1.0->chromadb) (3.2.2)\n",
            "Requirement already satisfied: urllib3>=1.24.2 in /usr/local/lib/python3.10/dist-packages (from kubernetes>=28.1.0->chromadb) (2.0.7)\n",
            "Collecting coloredlogs (from onnxruntime>=1.14.1->chromadb)\n",
            "  Downloading coloredlogs-15.0.1-py2.py3-none-any.whl (46 kB)\n",
            "\u001b[2K     \u001b[90m━━━━━━━━━━━━━━━━━━━━━━━━━━━━━━━━━━━━━━━━\u001b[0m \u001b[32m46.0/46.0 kB\u001b[0m \u001b[31m4.8 MB/s\u001b[0m eta \u001b[36m0:00:00\u001b[0m\n",
            "\u001b[?25hRequirement already satisfied: flatbuffers in /usr/local/lib/python3.10/dist-packages (from onnxruntime>=1.14.1->chromadb) (24.3.25)\n",
            "Requirement already satisfied: protobuf in /usr/local/lib/python3.10/dist-packages (from onnxruntime>=1.14.1->chromadb) (3.20.3)\n",
            "Requirement already satisfied: sympy in /usr/local/lib/python3.10/dist-packages (from onnxruntime>=1.14.1->chromadb) (1.12)\n",
            "Collecting deprecated>=1.2.6 (from opentelemetry-api>=1.2.0->chromadb)\n",
            "  Downloading Deprecated-1.2.14-py2.py3-none-any.whl (9.6 kB)\n",
            "Requirement already satisfied: importlib-metadata<=7.1,>=6.0 in /usr/local/lib/python3.10/dist-packages (from opentelemetry-api>=1.2.0->chromadb) (7.1.0)\n",
            "Requirement already satisfied: googleapis-common-protos~=1.52 in /usr/local/lib/python3.10/dist-packages (from opentelemetry-exporter-otlp-proto-grpc>=1.2.0->chromadb) (1.63.0)\n",
            "Collecting opentelemetry-exporter-otlp-proto-common==1.25.0 (from opentelemetry-exporter-otlp-proto-grpc>=1.2.0->chromadb)\n",
            "  Downloading opentelemetry_exporter_otlp_proto_common-1.25.0-py3-none-any.whl (17 kB)\n",
            "Collecting opentelemetry-proto==1.25.0 (from opentelemetry-exporter-otlp-proto-grpc>=1.2.0->chromadb)\n",
            "  Downloading opentelemetry_proto-1.25.0-py3-none-any.whl (52 kB)\n",
            "\u001b[2K     \u001b[90m━━━━━━━━━━━━━━━━━━━━━━━━━━━━━━━━━━━━━━━━\u001b[0m \u001b[32m52.5/52.5 kB\u001b[0m \u001b[31m6.2 MB/s\u001b[0m eta \u001b[36m0:00:00\u001b[0m\n",
            "\u001b[?25hCollecting opentelemetry-instrumentation-asgi==0.46b0 (from opentelemetry-instrumentation-fastapi>=0.41b0->chromadb)\n",
            "  Downloading opentelemetry_instrumentation_asgi-0.46b0-py3-none-any.whl (14 kB)\n",
            "Collecting opentelemetry-instrumentation==0.46b0 (from opentelemetry-instrumentation-fastapi>=0.41b0->chromadb)\n",
            "  Downloading opentelemetry_instrumentation-0.46b0-py3-none-any.whl (29 kB)\n",
            "Collecting opentelemetry-semantic-conventions==0.46b0 (from opentelemetry-instrumentation-fastapi>=0.41b0->chromadb)\n",
            "  Downloading opentelemetry_semantic_conventions-0.46b0-py3-none-any.whl (130 kB)\n",
            "\u001b[2K     \u001b[90m━━━━━━━━━━━━━━━━━━━━━━━━━━━━━━━━━━━━━━━━\u001b[0m \u001b[32m130.5/130.5 kB\u001b[0m \u001b[31m15.0 MB/s\u001b[0m eta \u001b[36m0:00:00\u001b[0m\n",
            "\u001b[?25hCollecting opentelemetry-util-http==0.46b0 (from opentelemetry-instrumentation-fastapi>=0.41b0->chromadb)\n",
            "  Downloading opentelemetry_util_http-0.46b0-py3-none-any.whl (6.9 kB)\n",
            "Requirement already satisfied: setuptools>=16.0 in /usr/local/lib/python3.10/dist-packages (from opentelemetry-instrumentation==0.46b0->opentelemetry-instrumentation-fastapi>=0.41b0->chromadb) (67.7.2)\n",
            "Requirement already satisfied: wrapt<2.0.0,>=1.0.0 in /usr/local/lib/python3.10/dist-packages (from opentelemetry-instrumentation==0.46b0->opentelemetry-instrumentation-fastapi>=0.41b0->chromadb) (1.14.1)\n",
            "Collecting asgiref~=3.0 (from opentelemetry-instrumentation-asgi==0.46b0->opentelemetry-instrumentation-fastapi>=0.41b0->chromadb)\n",
            "  Downloading asgiref-3.8.1-py3-none-any.whl (23 kB)\n",
            "Collecting monotonic>=1.5 (from posthog>=2.4.0->chromadb)\n",
            "  Downloading monotonic-1.6-py2.py3-none-any.whl (8.2 kB)\n",
            "Collecting backoff>=1.10.0 (from posthog>=2.4.0->chromadb)\n",
            "  Downloading backoff-2.2.1-py3-none-any.whl (15 kB)\n",
            "Requirement already satisfied: annotated-types>=0.4.0 in /usr/local/lib/python3.10/dist-packages (from pydantic>=1.9->chromadb) (0.7.0)\n",
            "Requirement already satisfied: pydantic-core==2.18.2 in /usr/local/lib/python3.10/dist-packages (from pydantic>=1.9->chromadb) (2.18.2)\n",
            "Requirement already satisfied: charset-normalizer<4,>=2 in /usr/local/lib/python3.10/dist-packages (from requests>=2.28->chromadb) (3.3.2)\n",
            "Requirement already satisfied: idna<4,>=2.5 in /usr/local/lib/python3.10/dist-packages (from requests>=2.28->chromadb) (3.7)\n",
            "Requirement already satisfied: huggingface-hub<1.0,>=0.16.4 in /usr/local/lib/python3.10/dist-packages (from tokenizers>=0.13.2->chromadb) (0.23.1)\n",
            "Requirement already satisfied: click<9.0.0,>=7.1.1 in /usr/local/lib/python3.10/dist-packages (from typer>=0.9.0->chromadb) (8.1.7)\n",
            "Collecting h11>=0.8 (from uvicorn[standard]>=0.18.3->chromadb)\n",
            "  Downloading h11-0.14.0-py3-none-any.whl (58 kB)\n",
            "\u001b[2K     \u001b[90m━━━━━━━━━━━━━━━━━━━━━━━━━━━━━━━━━━━━━━━━\u001b[0m \u001b[32m58.3/58.3 kB\u001b[0m \u001b[31m5.6 MB/s\u001b[0m eta \u001b[36m0:00:00\u001b[0m\n",
            "\u001b[?25hCollecting httptools>=0.5.0 (from uvicorn[standard]>=0.18.3->chromadb)\n",
            "  Downloading httptools-0.6.1-cp310-cp310-manylinux_2_5_x86_64.manylinux1_x86_64.manylinux_2_17_x86_64.manylinux2014_x86_64.whl (341 kB)\n",
            "\u001b[2K     \u001b[90m━━━━━━━━━━━━━━━━━━━━━━━━━━━━━━━━━━━━━━━━\u001b[0m \u001b[32m341.4/341.4 kB\u001b[0m \u001b[31m29.2 MB/s\u001b[0m eta \u001b[36m0:00:00\u001b[0m\n",
            "\u001b[?25hCollecting python-dotenv>=0.13 (from uvicorn[standard]>=0.18.3->chromadb)\n",
            "  Downloading python_dotenv-1.0.1-py3-none-any.whl (19 kB)\n",
            "Collecting uvloop!=0.15.0,!=0.15.1,>=0.14.0 (from uvicorn[standard]>=0.18.3->chromadb)\n",
            "  Downloading uvloop-0.19.0-cp310-cp310-manylinux_2_17_x86_64.manylinux2014_x86_64.whl (3.4 MB)\n",
            "\u001b[2K     \u001b[90m━━━━━━━━━━━━━━━━━━━━━━━━━━━━━━━━━━━━━━━━\u001b[0m \u001b[32m3.4/3.4 MB\u001b[0m \u001b[31m61.3 MB/s\u001b[0m eta \u001b[36m0:00:00\u001b[0m\n",
            "\u001b[?25hCollecting watchfiles>=0.13 (from uvicorn[standard]>=0.18.3->chromadb)\n",
            "  Downloading watchfiles-0.22.0-cp310-cp310-manylinux_2_17_x86_64.manylinux2014_x86_64.whl (1.2 MB)\n",
            "\u001b[2K     \u001b[90m━━━━━━━━━━━━━━━━━━━━━━━━━━━━━━━━━━━━━━━━\u001b[0m \u001b[32m1.2/1.2 MB\u001b[0m \u001b[31m49.9 MB/s\u001b[0m eta \u001b[36m0:00:00\u001b[0m\n",
            "\u001b[?25hCollecting websockets>=10.4 (from uvicorn[standard]>=0.18.3->chromadb)\n",
            "  Downloading websockets-12.0-cp310-cp310-manylinux_2_5_x86_64.manylinux1_x86_64.manylinux_2_17_x86_64.manylinux2014_x86_64.whl (130 kB)\n",
            "\u001b[2K     \u001b[90m━━━━━━━━━━━━━━━━━━━━━━━━━━━━━━━━━━━━━━━━\u001b[0m \u001b[32m130.2/130.2 kB\u001b[0m \u001b[31m13.1 MB/s\u001b[0m eta \u001b[36m0:00:00\u001b[0m\n",
            "\u001b[?25hCollecting dnspython>=2.0.0 (from email_validator>=2.0.0->fastapi>=0.95.2->chromadb)\n",
            "  Downloading dnspython-2.6.1-py3-none-any.whl (307 kB)\n",
            "\u001b[2K     \u001b[90m━━━━━━━━━━━━━━━━━━━━━━━━━━━━━━━━━━━━━━━━\u001b[0m \u001b[32m307.7/307.7 kB\u001b[0m \u001b[31m28.0 MB/s\u001b[0m eta \u001b[36m0:00:00\u001b[0m\n",
            "\u001b[?25hCollecting typer>=0.9.0 (from chromadb)\n",
            "  Downloading typer-0.12.3-py3-none-any.whl (47 kB)\n",
            "\u001b[2K     \u001b[90m━━━━━━━━━━━━━━━━━━━━━━━━━━━━━━━━━━━━━━━━\u001b[0m \u001b[32m47.2/47.2 kB\u001b[0m \u001b[31m5.4 MB/s\u001b[0m eta \u001b[36m0:00:00\u001b[0m\n",
            "\u001b[?25hCollecting shellingham>=1.3.0 (from typer>=0.9.0->chromadb)\n",
            "  Downloading shellingham-1.5.4-py2.py3-none-any.whl (9.8 kB)\n",
            "Requirement already satisfied: rich>=10.11.0 in /usr/local/lib/python3.10/dist-packages (from typer>=0.9.0->chromadb) (13.7.1)\n",
            "Requirement already satisfied: cachetools<6.0,>=2.0.0 in /usr/local/lib/python3.10/dist-packages (from google-auth>=1.0.1->kubernetes>=28.1.0->chromadb) (5.3.3)\n",
            "Requirement already satisfied: pyasn1-modules>=0.2.1 in /usr/local/lib/python3.10/dist-packages (from google-auth>=1.0.1->kubernetes>=28.1.0->chromadb) (0.4.0)\n",
            "Requirement already satisfied: rsa<5,>=3.1.4 in /usr/local/lib/python3.10/dist-packages (from google-auth>=1.0.1->kubernetes>=28.1.0->chromadb) (4.9)\n",
            "Requirement already satisfied: anyio in /usr/local/lib/python3.10/dist-packages (from httpx>=0.23.0->fastapi>=0.95.2->chromadb) (3.7.1)\n",
            "Collecting httpcore==1.* (from httpx>=0.23.0->fastapi>=0.95.2->chromadb)\n",
            "  Downloading httpcore-1.0.5-py3-none-any.whl (77 kB)\n",
            "\u001b[2K     \u001b[90m━━━━━━━━━━━━━━━━━━━━━━━━━━━━━━━━━━━━━━━━\u001b[0m \u001b[32m77.9/77.9 kB\u001b[0m \u001b[31m8.6 MB/s\u001b[0m eta \u001b[36m0:00:00\u001b[0m\n",
            "\u001b[?25hRequirement already satisfied: sniffio in /usr/local/lib/python3.10/dist-packages (from httpx>=0.23.0->fastapi>=0.95.2->chromadb) (1.3.1)\n",
            "Requirement already satisfied: filelock in /usr/local/lib/python3.10/dist-packages (from huggingface-hub<1.0,>=0.16.4->tokenizers>=0.13.2->chromadb) (3.14.0)\n",
            "Requirement already satisfied: fsspec>=2023.5.0 in /usr/local/lib/python3.10/dist-packages (from huggingface-hub<1.0,>=0.16.4->tokenizers>=0.13.2->chromadb) (2023.6.0)\n",
            "Requirement already satisfied: zipp>=0.5 in /usr/local/lib/python3.10/dist-packages (from importlib-metadata<=7.1,>=6.0->opentelemetry-api>=1.2.0->chromadb) (3.18.2)\n",
            "Requirement already satisfied: MarkupSafe>=2.0 in /usr/local/lib/python3.10/dist-packages (from jinja2>=2.11.2->fastapi>=0.95.2->chromadb) (2.1.5)\n",
            "Requirement already satisfied: markdown-it-py>=2.2.0 in /usr/local/lib/python3.10/dist-packages (from rich>=10.11.0->typer>=0.9.0->chromadb) (3.0.0)\n",
            "Requirement already satisfied: pygments<3.0.0,>=2.13.0 in /usr/local/lib/python3.10/dist-packages (from rich>=10.11.0->typer>=0.9.0->chromadb) (2.16.1)\n",
            "Collecting humanfriendly>=9.1 (from coloredlogs->onnxruntime>=1.14.1->chromadb)\n",
            "  Downloading humanfriendly-10.0-py2.py3-none-any.whl (86 kB)\n",
            "\u001b[2K     \u001b[90m━━━━━━━━━━━━━━━━━━━━━━━━━━━━━━━━━━━━━━━━\u001b[0m \u001b[32m86.8/86.8 kB\u001b[0m \u001b[31m9.2 MB/s\u001b[0m eta \u001b[36m0:00:00\u001b[0m\n",
            "\u001b[?25hRequirement already satisfied: mpmath>=0.19 in /usr/local/lib/python3.10/dist-packages (from sympy->onnxruntime>=1.14.1->chromadb) (1.3.0)\n",
            "Requirement already satisfied: exceptiongroup in /usr/local/lib/python3.10/dist-packages (from anyio->httpx>=0.23.0->fastapi>=0.95.2->chromadb) (1.2.1)\n",
            "Requirement already satisfied: mdurl~=0.1 in /usr/local/lib/python3.10/dist-packages (from markdown-it-py>=2.2.0->rich>=10.11.0->typer>=0.9.0->chromadb) (0.1.2)\n",
            "Requirement already satisfied: pyasn1<0.7.0,>=0.4.6 in /usr/local/lib/python3.10/dist-packages (from pyasn1-modules>=0.2.1->google-auth>=1.0.1->kubernetes>=28.1.0->chromadb) (0.6.0)\n",
            "Building wheels for collected packages: pypika\n",
            "  Building wheel for pypika (pyproject.toml) ... \u001b[?25l\u001b[?25hdone\n",
            "  Created wheel for pypika: filename=PyPika-0.48.9-py2.py3-none-any.whl size=53724 sha256=3c8843702424a7a4c0c8f84613f8c2ae96781add2b49f28efbb611433f7eb92c\n",
            "  Stored in directory: /root/.cache/pip/wheels/e1/26/51/d0bffb3d2fd82256676d7ad3003faea3bd6dddc9577af665f4\n",
            "Successfully built pypika\n",
            "Installing collected packages: pypika, monotonic, mmh3, websockets, uvloop, ujson, shellingham, python-multipart, python-dotenv, overrides, opentelemetry-util-http, opentelemetry-proto, humanfriendly, httptools, h11, dnspython, deprecated, chroma-hnswlib, bcrypt, backoff, asgiref, watchfiles, uvicorn, starlette, posthog, opentelemetry-exporter-otlp-proto-common, opentelemetry-api, httpcore, email_validator, coloredlogs, typer, opentelemetry-semantic-conventions, opentelemetry-instrumentation, onnxruntime, kubernetes, httpx, opentelemetry-sdk, opentelemetry-instrumentation-asgi, fastapi-cli, opentelemetry-instrumentation-fastapi, opentelemetry-exporter-otlp-proto-grpc, fastapi, chromadb\n",
            "  Attempting uninstall: typer\n",
            "    Found existing installation: typer 0.9.4\n",
            "    Uninstalling typer-0.9.4:\n",
            "      Successfully uninstalled typer-0.9.4\n",
            "\u001b[31mERROR: pip's dependency resolver does not currently take into account all the packages that are installed. This behaviour is the source of the following dependency conflicts.\n",
            "spacy 3.7.4 requires typer<0.10.0,>=0.3.0, but you have typer 0.12.3 which is incompatible.\n",
            "weasel 0.3.4 requires typer<0.10.0,>=0.3.0, but you have typer 0.12.3 which is incompatible.\u001b[0m\u001b[31m\n",
            "\u001b[0mSuccessfully installed asgiref-3.8.1 backoff-2.2.1 bcrypt-4.1.3 chroma-hnswlib-0.7.3 chromadb-0.5.0 coloredlogs-15.0.1 deprecated-1.2.14 dnspython-2.6.1 email_validator-2.1.1 fastapi-0.111.0 fastapi-cli-0.0.4 h11-0.14.0 httpcore-1.0.5 httptools-0.6.1 httpx-0.27.0 humanfriendly-10.0 kubernetes-29.0.0 mmh3-4.1.0 monotonic-1.6 onnxruntime-1.18.0 opentelemetry-api-1.25.0 opentelemetry-exporter-otlp-proto-common-1.25.0 opentelemetry-exporter-otlp-proto-grpc-1.25.0 opentelemetry-instrumentation-0.46b0 opentelemetry-instrumentation-asgi-0.46b0 opentelemetry-instrumentation-fastapi-0.46b0 opentelemetry-proto-1.25.0 opentelemetry-sdk-1.25.0 opentelemetry-semantic-conventions-0.46b0 opentelemetry-util-http-0.46b0 overrides-7.7.0 posthog-3.5.0 pypika-0.48.9 python-dotenv-1.0.1 python-multipart-0.0.9 shellingham-1.5.4 starlette-0.37.2 typer-0.12.3 ujson-5.10.0 uvicorn-0.30.1 uvloop-0.19.0 watchfiles-0.22.0 websockets-12.0\n"
          ]
        }
      ]
    },
    {
      "cell_type": "code",
      "source": [
        "from langchain.vectorstores import Chroma"
      ],
      "metadata": {
        "id": "UKotHinj9L4Q"
      },
      "execution_count": 24,
      "outputs": []
    },
    {
      "cell_type": "code",
      "source": [
        "persist_directory = '/content/docs/chroma/'"
      ],
      "metadata": {
        "id": "ihbF126J9fsL"
      },
      "execution_count": 25,
      "outputs": []
    },
    {
      "cell_type": "code",
      "source": [
        "# CAUTION\n",
        "# remove old database files if any\n",
        "# !rm -rf ./content/docs/chroma"
      ],
      "metadata": {
        "id": "kSg4NWZf9zH3"
      },
      "execution_count": 26,
      "outputs": []
    },
    {
      "cell_type": "code",
      "source": [
        "vectordb = Chroma.from_documents(\n",
        "    documents=docs,\n",
        "    embedding=embeddings,\n",
        "    persist_directory=persist_directory\n",
        ")\n",
        "print(vectordb._collection.count())"
      ],
      "metadata": {
        "id": "tCSoUMYw-Axj",
        "outputId": "b0e77ebf-05da-4614-9ced-78d27d6bb4ee",
        "colab": {
          "base_uri": "https://localhost:8080/"
        }
      },
      "execution_count": 27,
      "outputs": [
        {
          "output_type": "stream",
          "name": "stdout",
          "text": [
            "78\n"
          ]
        }
      ]
    },
    {
      "cell_type": "markdown",
      "source": [
        "## Similarity Search"
      ],
      "metadata": {
        "id": "b15e94_M_Jqe"
      }
    },
    {
      "cell_type": "code",
      "source": [
        "question = \"is there an email i can ask for help\""
      ],
      "metadata": {
        "id": "vx4IZdA3-fsX"
      },
      "execution_count": 28,
      "outputs": []
    },
    {
      "cell_type": "code",
      "source": [
        "ans = vectordb.similarity_search(question,k=3)"
      ],
      "metadata": {
        "id": "Ux369Drw_n6K"
      },
      "execution_count": 29,
      "outputs": []
    },
    {
      "cell_type": "code",
      "source": [
        "len(ans)"
      ],
      "metadata": {
        "id": "Ap0j3t-u_viZ",
        "outputId": "e269fa00-1514-4607-893a-fd879287d948",
        "colab": {
          "base_uri": "https://localhost:8080/"
        }
      },
      "execution_count": 30,
      "outputs": [
        {
          "output_type": "execute_result",
          "data": {
            "text/plain": [
              "3"
            ]
          },
          "metadata": {},
          "execution_count": 30
        }
      ]
    },
    {
      "cell_type": "code",
      "source": [
        "ans[0].page_content"
      ],
      "metadata": {
        "id": "rfHc1lFb_yHP",
        "outputId": "8604b90d-e086-42f2-bff7-860035db22ae",
        "colab": {
          "base_uri": "https://localhost:8080/",
          "height": 140
        }
      },
      "execution_count": 31,
      "outputs": [
        {
          "output_type": "execute_result",
          "data": {
            "text/plain": [
              "\"So all right, online resources. The class has a home page, so it's in on the handouts. I \\nwon't write on the chalkboard — http:// cs229.stanford.edu. And so when there are \\nhomework assignments or things like that, we  usually won't sort of — in the mission of \\nsaving trees, we will usually not give out many handouts in class. So homework \\nassignments, homework solutions will be posted online at the course home page.  \\nAs far as this class, I've also written, a nd I guess I've also revised every year a set of \\nfairly detailed lecture notes that cover the te chnical content of this  class. And so if you \\nvisit the course homepage, you'll also find the detailed lecture notes that go over in detail \\nall the math and equations and so on  that I'll be doing in class.  \\nThere's also a newsgroup, su.class.cs229, also written on the handout. This is a \\nnewsgroup that's sort of a forum for people in  the class to get to  know each other and \\nhave whatever discussions you want to ha ve amongst yourselves. So the class newsgroup \\nwill not be monitored by the TAs and me. But this is a place for you to form study groups \\nor find project partners or discuss homework problems and so on, and it's not monitored \\nby the TAs and me. So feel free to ta lk trash about this class there.  \\nIf you want to contact the teaching staff, pl ease use the email address written down here, \\ncs229-qa@cs.stanford.edu. This goes to an acc ount that's read by all the TAs and me. So \\nrather than sending us email individually, if you send email to this account, it will \\nactually let us get back to you maximally quickly with answers to your questions.  \\nIf you're asking questions about homework probl ems, please say in the subject line which \\nassignment and which question the email refers to, since that will also help us to route \\nyour question to the appropriate TA or to me  appropriately and get the response back to \\nyou quickly.  \\nLet's see. Skipping ahead — let's see — for homework, one midterm, one open and term \\nproject. Notice on the honor code. So one thi ng that I think will help you to succeed and \\ndo well in this class and even help you to enjoy this cla ss more is if you form a study \\ngroup.  \\nSo start looking around where you' re sitting now or at the end of class today, mingle a \\nlittle bit and get to know your classmates. I strongly encourage you to form study groups \\nand sort of have a group of people to study with and have a group of your fellow students \\nto talk over these concepts with. You can also  post on the class news group if you want to \\nuse that to try to form a study group.  \\nBut some of the problems sets in this cla ss are reasonably difficult.  People that have \\ntaken the class before may tell you they were very difficult. And just I bet it would be \\nmore fun for you, and you'd probably have a be tter learning experience if you form a \\nstudy group of people to work with. So I definitely encourage you to do that.  \\nAnd just to say a word on the honor code, whic h is I definitely en courage you to form a \\nstudy group and work together, discuss homew ork problems together. But if you discuss\""
            ],
            "application/vnd.google.colaboratory.intrinsic+json": {
              "type": "string"
            }
          },
          "metadata": {},
          "execution_count": 31
        }
      ]
    },
    {
      "cell_type": "code",
      "source": [
        "for doc in ans:\n",
        "    print(doc.page_content)\n",
        "    print(\"=\"*20)"
      ],
      "metadata": {
        "id": "Ecn9mNuY_57o",
        "outputId": "47989fb9-0bc1-4850-d993-36b2b8bb6e48",
        "colab": {
          "base_uri": "https://localhost:8080/"
        }
      },
      "execution_count": 32,
      "outputs": [
        {
          "output_type": "stream",
          "name": "stdout",
          "text": [
            "So all right, online resources. The class has a home page, so it's in on the handouts. I \n",
            "won't write on the chalkboard — http:// cs229.stanford.edu. And so when there are \n",
            "homework assignments or things like that, we  usually won't sort of — in the mission of \n",
            "saving trees, we will usually not give out many handouts in class. So homework \n",
            "assignments, homework solutions will be posted online at the course home page.  \n",
            "As far as this class, I've also written, a nd I guess I've also revised every year a set of \n",
            "fairly detailed lecture notes that cover the te chnical content of this  class. And so if you \n",
            "visit the course homepage, you'll also find the detailed lecture notes that go over in detail \n",
            "all the math and equations and so on  that I'll be doing in class.  \n",
            "There's also a newsgroup, su.class.cs229, also written on the handout. This is a \n",
            "newsgroup that's sort of a forum for people in  the class to get to  know each other and \n",
            "have whatever discussions you want to ha ve amongst yourselves. So the class newsgroup \n",
            "will not be monitored by the TAs and me. But this is a place for you to form study groups \n",
            "or find project partners or discuss homework problems and so on, and it's not monitored \n",
            "by the TAs and me. So feel free to ta lk trash about this class there.  \n",
            "If you want to contact the teaching staff, pl ease use the email address written down here, \n",
            "cs229-qa@cs.stanford.edu. This goes to an acc ount that's read by all the TAs and me. So \n",
            "rather than sending us email individually, if you send email to this account, it will \n",
            "actually let us get back to you maximally quickly with answers to your questions.  \n",
            "If you're asking questions about homework probl ems, please say in the subject line which \n",
            "assignment and which question the email refers to, since that will also help us to route \n",
            "your question to the appropriate TA or to me  appropriately and get the response back to \n",
            "you quickly.  \n",
            "Let's see. Skipping ahead — let's see — for homework, one midterm, one open and term \n",
            "project. Notice on the honor code. So one thi ng that I think will help you to succeed and \n",
            "do well in this class and even help you to enjoy this cla ss more is if you form a study \n",
            "group.  \n",
            "So start looking around where you' re sitting now or at the end of class today, mingle a \n",
            "little bit and get to know your classmates. I strongly encourage you to form study groups \n",
            "and sort of have a group of people to study with and have a group of your fellow students \n",
            "to talk over these concepts with. You can also  post on the class news group if you want to \n",
            "use that to try to form a study group.  \n",
            "But some of the problems sets in this cla ss are reasonably difficult.  People that have \n",
            "taken the class before may tell you they were very difficult. And just I bet it would be \n",
            "more fun for you, and you'd probably have a be tter learning experience if you form a \n",
            "study group of people to work with. So I definitely encourage you to do that.  \n",
            "And just to say a word on the honor code, whic h is I definitely en courage you to form a \n",
            "study group and work together, discuss homew ork problems together. But if you discuss\n",
            "====================\n",
            "So all right, online resources. The class has a home page, so it's in on the handouts. I \n",
            "won't write on the chalkboard — http:// cs229.stanford.edu. And so when there are \n",
            "homework assignments or things like that, we  usually won't sort of — in the mission of \n",
            "saving trees, we will usually not give out many handouts in class. So homework \n",
            "assignments, homework solutions will be posted online at the course home page.  \n",
            "As far as this class, I've also written, a nd I guess I've also revised every year a set of \n",
            "fairly detailed lecture notes that cover the te chnical content of this  class. And so if you \n",
            "visit the course homepage, you'll also find the detailed lecture notes that go over in detail \n",
            "all the math and equations and so on  that I'll be doing in class.  \n",
            "There's also a newsgroup, su.class.cs229, also written on the handout. This is a \n",
            "newsgroup that's sort of a forum for people in  the class to get to  know each other and \n",
            "have whatever discussions you want to ha ve amongst yourselves. So the class newsgroup \n",
            "will not be monitored by the TAs and me. But this is a place for you to form study groups \n",
            "or find project partners or discuss homework problems and so on, and it's not monitored \n",
            "by the TAs and me. So feel free to ta lk trash about this class there.  \n",
            "If you want to contact the teaching staff, pl ease use the email address written down here, \n",
            "cs229-qa@cs.stanford.edu. This goes to an acc ount that's read by all the TAs and me. So \n",
            "rather than sending us email individually, if you send email to this account, it will \n",
            "actually let us get back to you maximally quickly with answers to your questions.  \n",
            "If you're asking questions about homework probl ems, please say in the subject line which \n",
            "assignment and which question the email refers to, since that will also help us to route \n",
            "your question to the appropriate TA or to me  appropriately and get the response back to \n",
            "you quickly.  \n",
            "Let's see. Skipping ahead — let's see — for homework, one midterm, one open and term \n",
            "project. Notice on the honor code. So one thi ng that I think will help you to succeed and \n",
            "do well in this class and even help you to enjoy this cla ss more is if you form a study \n",
            "group.  \n",
            "So start looking around where you' re sitting now or at the end of class today, mingle a \n",
            "little bit and get to know your classmates. I strongly encourage you to form study groups \n",
            "and sort of have a group of people to study with and have a group of your fellow students \n",
            "to talk over these concepts with. You can also  post on the class news group if you want to \n",
            "use that to try to form a study group.  \n",
            "But some of the problems sets in this cla ss are reasonably difficult.  People that have \n",
            "taken the class before may tell you they were very difficult. And just I bet it would be \n",
            "more fun for you, and you'd probably have a be tter learning experience if you form a \n",
            "study group of people to work with. So I definitely encourage you to do that.  \n",
            "And just to say a word on the honor code, whic h is I definitely en courage you to form a \n",
            "study group and work together, discuss homew ork problems together. But if you discuss\n",
            "====================\n",
            "those homeworks will be done in either MATLA B or in Octave, which is sort of — I \n",
            "know some people call it a free ve rsion of MATLAB, which it sort  of is, sort of isn't.  \n",
            "So I guess for those of you that haven't s een MATLAB before, and I know most of you \n",
            "have, MATLAB is I guess part of the programming language that makes it very easy to write codes using matrices, to write code for numerical routines, to move data around, to \n",
            "plot data. And it's sort of an extremely easy to  learn tool to use for implementing a lot of \n",
            "learning algorithms.  \n",
            "And in case some of you want to work on your  own home computer or something if you \n",
            "don't have a MATLAB license, for the purposes of  this class, there's also — [inaudible] \n",
            "write that down [inaudible] MATLAB — there' s also a software package called Octave \n",
            "that you can download for free off the Internet. And it has somewhat fewer features than MATLAB, but it's free, and for the purposes of  this class, it will work for just about \n",
            "everything.  \n",
            "So actually I, well, so yeah, just a side comment for those of you that haven't seen \n",
            "MATLAB before I guess, once a colleague of mine at a different university, not at \n",
            "Stanford, actually teaches another machine l earning course. He's taught it for many years. \n",
            "So one day, he was in his office, and an old student of his from, lik e, ten years ago came \n",
            "into his office and he said, \"Oh, professo r, professor, thank you so much for your \n",
            "machine learning class. I learned so much from it. There's this stuff that I learned in your \n",
            "class, and I now use every day. And it's help ed me make lots of money, and here's a \n",
            "picture of my big house.\"  \n",
            "So my friend was very excited. He said, \"W ow. That's great. I'm glad to hear this \n",
            "machine learning stuff was actually useful. So what was it that you learned? Was it \n",
            "logistic regression? Was it the PCA? Was it the data ne tworks? What was it that you \n",
            "learned that was so helpful?\" And the student said, \"Oh, it was the MATLAB.\"  \n",
            "So for those of you that don't know MATLAB yet, I hope you do learn it. It's not hard, \n",
            "and we'll actually have a short MATLAB tutori al in one of the discussion sections for \n",
            "those of you that don't know it.  \n",
            "Okay. The very last piece of logistical th ing is the discussion s ections. So discussion \n",
            "sections will be taught by the TAs, and atte ndance at discussion sections is optional, \n",
            "although they'll also be recorded and televi sed. And we'll use the discussion sections \n",
            "mainly for two things. For the next two or th ree weeks, we'll use the discussion sections \n",
            "to go over the prerequisites to this class or if some of you haven't seen probability or \n",
            "statistics for a while or maybe algebra, we'll go over those in the discussion sections as a \n",
            "refresher for those of you that want one.  \n",
            "Later in this quarter, we'll also use the disc ussion sections to go over extensions for the \n",
            "material that I'm teaching in the main lectur es. So machine learning is a huge field, and \n",
            "there are a few extensions that we really want  to teach but didn't have time in the main \n",
            "lectures for.\n",
            "====================\n"
          ]
        }
      ]
    },
    {
      "cell_type": "code",
      "source": [
        "# Let's save this so we can use it later!\n",
        "vectordb.persist()"
      ],
      "metadata": {
        "id": "eX0N8gBVAVu6",
        "colab": {
          "base_uri": "https://localhost:8080/"
        },
        "outputId": "8fcec2e5-73c2-4533-dd1f-ae3d1c3cc66b"
      },
      "execution_count": 33,
      "outputs": [
        {
          "output_type": "stream",
          "name": "stderr",
          "text": [
            "/usr/local/lib/python3.10/dist-packages/langchain_core/_api/deprecation.py:119: LangChainDeprecationWarning: Since Chroma 0.4.x the manual persistence method is no longer supported as docs are automatically persisted.\n",
            "  warn_deprecated(\n"
          ]
        }
      ]
    },
    {
      "cell_type": "markdown",
      "source": [
        "## Retrieval"
      ],
      "metadata": {
        "id": "P5wELn42oAlE"
      }
    },
    {
      "cell_type": "markdown",
      "source": [
        "To enforce diversity in the search results.\n",
        "\n",
        "Maximum marginal relevance strives to achieve both relevance to the query and diversity among the results."
      ],
      "metadata": {
        "id": "P4QetJLAoZp-"
      }
    },
    {
      "cell_type": "code",
      "source": [
        "question = \"what did they say about matlab?\"\n",
        "docs_ss = vectordb.similarity_search(question,k=3)"
      ],
      "metadata": {
        "id": "znO9j6sUAZzC"
      },
      "execution_count": 34,
      "outputs": []
    },
    {
      "cell_type": "code",
      "source": [
        "docs_ss[0].page_content[:500]"
      ],
      "metadata": {
        "id": "0NinEXSDovxZ",
        "outputId": "c4b64eb5-6b35-42b4-a6ba-8c15bd45c9f3",
        "colab": {
          "base_uri": "https://localhost:8080/",
          "height": 88
        }
      },
      "execution_count": 35,
      "outputs": [
        {
          "output_type": "execute_result",
          "data": {
            "text/plain": [
              "\"So later this quarter, we'll use the discussion sections to talk about things like convex \\noptimization, to talk a little bit about hidde n Markov models, which is a type of machine \\nlearning algorithm for modeling time series and a few other things, so  extensions to the \\nmaterials that I'll be covering in the main  lectures. And attend ance at the discussion \\nsections is optional, okay?  \\nSo that was all I had from l ogistics. Before we move on to start talking a bit about \\nmachine learning, l\""
            ],
            "application/vnd.google.colaboratory.intrinsic+json": {
              "type": "string"
            }
          },
          "metadata": {},
          "execution_count": 35
        }
      ]
    },
    {
      "cell_type": "code",
      "source": [
        "docs_ss[1].page_content[:500]"
      ],
      "metadata": {
        "id": "-9C8WqmBoyOW",
        "outputId": "444c7d35-0e49-4d20-b8d3-b6dbaa3cfb1b",
        "colab": {
          "base_uri": "https://localhost:8080/",
          "height": 88
        }
      },
      "execution_count": 36,
      "outputs": [
        {
          "output_type": "execute_result",
          "data": {
            "text/plain": [
              "\"So later this quarter, we'll use the discussion sections to talk about things like convex \\noptimization, to talk a little bit about hidde n Markov models, which is a type of machine \\nlearning algorithm for modeling time series and a few other things, so  extensions to the \\nmaterials that I'll be covering in the main  lectures. And attend ance at the discussion \\nsections is optional, okay?  \\nSo that was all I had from l ogistics. Before we move on to start talking a bit about \\nmachine learning, l\""
            ],
            "application/vnd.google.colaboratory.intrinsic+json": {
              "type": "string"
            }
          },
          "metadata": {},
          "execution_count": 36
        }
      ]
    },
    {
      "cell_type": "code",
      "source": [
        "docs_mmr = vectordb.max_marginal_relevance_search(question,k=3)"
      ],
      "metadata": {
        "id": "5ZHh0_GNpbR8"
      },
      "execution_count": 37,
      "outputs": []
    },
    {
      "cell_type": "code",
      "source": [
        "docs_mmr[0].page_content[:100]"
      ],
      "metadata": {
        "id": "nkKqUxmwufi_",
        "outputId": "cb3d657b-2280-4327-b7cd-b23476452e15",
        "colab": {
          "base_uri": "https://localhost:8080/",
          "height": 36
        }
      },
      "execution_count": 38,
      "outputs": [
        {
          "output_type": "execute_result",
          "data": {
            "text/plain": [
              "\"So later this quarter, we'll use the discussion sections to talk about things like convex \\noptimizat\""
            ],
            "application/vnd.google.colaboratory.intrinsic+json": {
              "type": "string"
            }
          },
          "metadata": {},
          "execution_count": 38
        }
      ]
    },
    {
      "cell_type": "code",
      "source": [
        "docs_mmr[1].page_content[:100]"
      ],
      "metadata": {
        "id": "TDSuBg0euh7n",
        "outputId": "b984dd16-ccc8-4113-c64a-fbfbe21f6ab2",
        "colab": {
          "base_uri": "https://localhost:8080/",
          "height": 36
        }
      },
      "execution_count": 39,
      "outputs": [
        {
          "output_type": "execute_result",
          "data": {
            "text/plain": [
              "\"many biologers are there here? Wow, just a few, not many. I'm surprised. Anyone from \\nstatistics? Ok\""
            ],
            "application/vnd.google.colaboratory.intrinsic+json": {
              "type": "string"
            }
          },
          "metadata": {},
          "execution_count": 39
        }
      ]
    },
    {
      "cell_type": "markdown",
      "source": [
        "A question about the third lecture can include results from other lectures as well.\n",
        "\n",
        "To address this, many vectorstores support operations on metadata.\n",
        "\n",
        "metadata provides context for each embedded chunk."
      ],
      "metadata": {
        "id": "jmCfCtYFvmKC"
      }
    },
    {
      "cell_type": "code",
      "source": [
        "question = \"what did they say about regression in the third lecture?\""
      ],
      "metadata": {
        "id": "U8tPyCQsuj6H"
      },
      "execution_count": 40,
      "outputs": []
    },
    {
      "cell_type": "code",
      "source": [
        "docs = vectordb.similarity_search(\n",
        "    question,\n",
        "    k=3,\n",
        "    filter={\"source\":\"/content/drive/MyDrive/MachineLearning-Lecture03.pdf\"}\n",
        ")"
      ],
      "metadata": {
        "id": "77oHBtCXvrku"
      },
      "execution_count": 41,
      "outputs": []
    },
    {
      "cell_type": "code",
      "source": [
        "for d in docs:\n",
        "    print(d.metadata)"
      ],
      "metadata": {
        "id": "GhnzK5TZvw6Z",
        "outputId": "9193d46c-81ea-4c78-84e6-4c7769495f98",
        "colab": {
          "base_uri": "https://localhost:8080/"
        }
      },
      "execution_count": 42,
      "outputs": [
        {
          "output_type": "stream",
          "name": "stdout",
          "text": [
            "{'page': 0, 'source': '/content/drive/MyDrive/MachineLearning-Lecture03.pdf'}\n",
            "{'page': 5, 'source': '/content/drive/MyDrive/MachineLearning-Lecture03.pdf'}\n",
            "{'page': 14, 'source': '/content/drive/MyDrive/MachineLearning-Lecture03.pdf'}\n"
          ]
        }
      ]
    },
    {
      "cell_type": "markdown",
      "source": [
        "Addressing Specificity: working with metadata using self-query retriever\n",
        "We often want to infer the metadata from the query itself.\n",
        "\n",
        "To address this, we can use SelfQueryRetriever, which uses an LLM to extract:\n",
        "\n",
        "The query string to use for vector search\n",
        "A metadata filter to pass in as well\n",
        "Most vector databases support metadata filters, so this doesn't require any new databases or indexes."
      ],
      "metadata": {
        "id": "A42G0qwkw4-y"
      }
    },
    {
      "cell_type": "code",
      "source": [
        "from langchain.retrievers.self_query.base import SelfQueryRetriever\n",
        "from langchain.chains.query_constructor.base import AttributeInfo"
      ],
      "metadata": {
        "id": "TFIOT8TBv6dx"
      },
      "execution_count": 52,
      "outputs": []
    },
    {
      "cell_type": "code",
      "source": [
        "metadata_field_info = [\n",
        "    AttributeInfo(\n",
        "        name=\"source\",\n",
        "        description=\"The lecture the chunk is from, should be one of `docs/cs229_lectures/MachineLearning-Lecture01.pdf`, `docs/cs229_lectures/MachineLearning-Lecture02.pdf`, or `docs/cs229_lectures/MachineLearning-Lecture03.pdf`\",\n",
        "        type=\"string\",\n",
        "    ),\n",
        "    AttributeInfo(\n",
        "        name=\"page\",\n",
        "        description=\"The page from the lecture\",\n",
        "        type=\"integer\",\n",
        "    ),\n",
        "]"
      ],
      "metadata": {
        "id": "K6E-f_McJgLQ"
      },
      "execution_count": 44,
      "outputs": []
    },
    {
      "cell_type": "code",
      "source": [
        "for m in genai.list_models():\n",
        "    print(m.name)"
      ],
      "metadata": {
        "colab": {
          "base_uri": "https://localhost:8080/",
          "height": 329
        },
        "id": "w3weyArFKoCa",
        "outputId": "d7db439c-1972-4475-82c1-37b71010301c"
      },
      "execution_count": 45,
      "outputs": [
        {
          "output_type": "stream",
          "name": "stdout",
          "text": [
            "models/chat-bison-001\n",
            "models/text-bison-001\n",
            "models/embedding-gecko-001\n",
            "models/gemini-1.0-pro\n",
            "models/gemini-1.0-pro-001\n",
            "models/gemini-1.0-pro-latest\n",
            "models/gemini-1.0-pro-vision-latest\n",
            "models/gemini-1.5-flash\n",
            "models/gemini-1.5-flash-001\n",
            "models/gemini-1.5-flash-latest\n",
            "models/gemini-1.5-pro\n",
            "models/gemini-1.5-pro-001\n",
            "models/gemini-1.5-pro-latest\n",
            "models/gemini-pro\n",
            "models/gemini-pro-vision\n",
            "models/embedding-001\n",
            "models/text-embedding-004\n",
            "models/aqa\n"
          ]
        }
      ]
    },
    {
      "cell_type": "code",
      "source": [
        "for m in genai.list_models():\n",
        "  if 'generateContent' in m.supported_generation_methods:\n",
        "    print(m.name)"
      ],
      "metadata": {
        "colab": {
          "base_uri": "https://localhost:8080/",
          "height": 225
        },
        "id": "EEmdgtvsK1Eq",
        "outputId": "12b72a34-206d-41b1-abe6-cab4efccac6a"
      },
      "execution_count": 46,
      "outputs": [
        {
          "output_type": "stream",
          "name": "stdout",
          "text": [
            "models/gemini-1.0-pro\n",
            "models/gemini-1.0-pro-001\n",
            "models/gemini-1.0-pro-latest\n",
            "models/gemini-1.0-pro-vision-latest\n",
            "models/gemini-1.5-flash\n",
            "models/gemini-1.5-flash-001\n",
            "models/gemini-1.5-flash-latest\n",
            "models/gemini-1.5-pro\n",
            "models/gemini-1.5-pro-001\n",
            "models/gemini-1.5-pro-latest\n",
            "models/gemini-pro\n",
            "models/gemini-pro-vision\n"
          ]
        }
      ]
    },
    {
      "cell_type": "code",
      "source": [
        "document_content_description = \"Lecture notes\"\n",
        "llm = genai.GenerativeModel('gemini-pro', generation_config={\"temperature\":0})\n",
        "retriever = SelfQueryRetriever.from_llm(\n",
        "    llm,\n",
        "    vectordb,\n",
        "    document_content_description,\n",
        "    metadata_field_info,\n",
        "    verbose=True\n",
        ")"
      ],
      "metadata": {
        "colab": {
          "base_uri": "https://localhost:8080/",
          "height": 546
        },
        "id": "0WmD3rIgJtXy",
        "outputId": "97f11535-05b3-4c63-9df4-42b2ac266dfd"
      },
      "execution_count": 53,
      "outputs": [
        {
          "output_type": "error",
          "ename": "ImportError",
          "evalue": "Cannot import lark, please install it with 'pip install lark'.",
          "traceback": [
            "\u001b[0;31m---------------------------------------------------------------------------\u001b[0m",
            "\u001b[0;31mImportError\u001b[0m                               Traceback (most recent call last)",
            "\u001b[0;32m<ipython-input-53-54e54055ba15>\u001b[0m in \u001b[0;36m<cell line: 3>\u001b[0;34m()\u001b[0m\n\u001b[1;32m      1\u001b[0m \u001b[0mdocument_content_description\u001b[0m \u001b[0;34m=\u001b[0m \u001b[0;34m\"Lecture notes\"\u001b[0m\u001b[0;34m\u001b[0m\u001b[0;34m\u001b[0m\u001b[0m\n\u001b[1;32m      2\u001b[0m \u001b[0mllm\u001b[0m \u001b[0;34m=\u001b[0m \u001b[0mgenai\u001b[0m\u001b[0;34m.\u001b[0m\u001b[0mGenerativeModel\u001b[0m\u001b[0;34m(\u001b[0m\u001b[0;34m'gemini-pro'\u001b[0m\u001b[0;34m,\u001b[0m \u001b[0mgeneration_config\u001b[0m\u001b[0;34m=\u001b[0m\u001b[0;34m{\u001b[0m\u001b[0;34m\"temperature\"\u001b[0m\u001b[0;34m:\u001b[0m\u001b[0;36m0\u001b[0m\u001b[0;34m}\u001b[0m\u001b[0;34m)\u001b[0m\u001b[0;34m\u001b[0m\u001b[0;34m\u001b[0m\u001b[0m\n\u001b[0;32m----> 3\u001b[0;31m retriever = SelfQueryRetriever.from_llm(\n\u001b[0m\u001b[1;32m      4\u001b[0m     \u001b[0mllm\u001b[0m\u001b[0;34m,\u001b[0m\u001b[0;34m\u001b[0m\u001b[0;34m\u001b[0m\u001b[0m\n\u001b[1;32m      5\u001b[0m     \u001b[0mvectordb\u001b[0m\u001b[0;34m,\u001b[0m\u001b[0;34m\u001b[0m\u001b[0;34m\u001b[0m\u001b[0m\n",
            "\u001b[0;32m/usr/local/lib/python3.10/dist-packages/langchain/retrievers/self_query/base.py\u001b[0m in \u001b[0;36mfrom_llm\u001b[0;34m(cls, llm, vectorstore, document_contents, metadata_field_info, structured_query_translator, chain_kwargs, enable_limit, use_original_query, **kwargs)\u001b[0m\n\u001b[1;32m    292\u001b[0m                 \u001b[0;34m\"allowed_operators\"\u001b[0m\u001b[0;34m\u001b[0m\u001b[0;34m\u001b[0m\u001b[0m\n\u001b[1;32m    293\u001b[0m             ] = structured_query_translator.allowed_operators\n\u001b[0;32m--> 294\u001b[0;31m         query_constructor = load_query_constructor_runnable(\n\u001b[0m\u001b[1;32m    295\u001b[0m             \u001b[0mllm\u001b[0m\u001b[0;34m,\u001b[0m\u001b[0;34m\u001b[0m\u001b[0;34m\u001b[0m\u001b[0m\n\u001b[1;32m    296\u001b[0m             \u001b[0mdocument_contents\u001b[0m\u001b[0;34m,\u001b[0m\u001b[0;34m\u001b[0m\u001b[0;34m\u001b[0m\u001b[0m\n",
            "\u001b[0;32m/usr/local/lib/python3.10/dist-packages/langchain/chains/query_constructor/base.py\u001b[0m in \u001b[0;36mload_query_constructor_runnable\u001b[0;34m(llm, document_contents, attribute_info, examples, allowed_comparators, allowed_operators, enable_limit, schema_prompt, fix_invalid, **kwargs)\u001b[0m\n\u001b[1;32m    359\u001b[0m             \u001b[0mainfo\u001b[0m\u001b[0;34m.\u001b[0m\u001b[0mname\u001b[0m \u001b[0;32mif\u001b[0m \u001b[0misinstance\u001b[0m\u001b[0;34m(\u001b[0m\u001b[0mainfo\u001b[0m\u001b[0;34m,\u001b[0m \u001b[0mAttributeInfo\u001b[0m\u001b[0;34m)\u001b[0m \u001b[0;32melse\u001b[0m \u001b[0mainfo\u001b[0m\u001b[0;34m[\u001b[0m\u001b[0;34m\"name\"\u001b[0m\u001b[0;34m]\u001b[0m\u001b[0;34m\u001b[0m\u001b[0;34m\u001b[0m\u001b[0m\n\u001b[1;32m    360\u001b[0m         )\n\u001b[0;32m--> 361\u001b[0;31m     output_parser = StructuredQueryOutputParser.from_components(\n\u001b[0m\u001b[1;32m    362\u001b[0m         \u001b[0mallowed_comparators\u001b[0m\u001b[0;34m=\u001b[0m\u001b[0mallowed_comparators\u001b[0m\u001b[0;34m,\u001b[0m\u001b[0;34m\u001b[0m\u001b[0;34m\u001b[0m\u001b[0m\n\u001b[1;32m    363\u001b[0m         \u001b[0mallowed_operators\u001b[0m\u001b[0;34m=\u001b[0m\u001b[0mallowed_operators\u001b[0m\u001b[0;34m,\u001b[0m\u001b[0;34m\u001b[0m\u001b[0;34m\u001b[0m\u001b[0m\n",
            "\u001b[0;32m/usr/local/lib/python3.10/dist-packages/langchain/chains/query_constructor/base.py\u001b[0m in \u001b[0;36mfrom_components\u001b[0;34m(cls, allowed_comparators, allowed_operators, allowed_attributes, fix_invalid)\u001b[0m\n\u001b[1;32m     97\u001b[0m \u001b[0;34m\u001b[0m\u001b[0m\n\u001b[1;32m     98\u001b[0m         \u001b[0;32melse\u001b[0m\u001b[0;34m:\u001b[0m\u001b[0;34m\u001b[0m\u001b[0;34m\u001b[0m\u001b[0m\n\u001b[0;32m---> 99\u001b[0;31m             ast_parse = get_parser(\n\u001b[0m\u001b[1;32m    100\u001b[0m                 \u001b[0mallowed_comparators\u001b[0m\u001b[0;34m=\u001b[0m\u001b[0mallowed_comparators\u001b[0m\u001b[0;34m,\u001b[0m\u001b[0;34m\u001b[0m\u001b[0;34m\u001b[0m\u001b[0m\n\u001b[1;32m    101\u001b[0m                 \u001b[0mallowed_operators\u001b[0m\u001b[0;34m=\u001b[0m\u001b[0mallowed_operators\u001b[0m\u001b[0;34m,\u001b[0m\u001b[0;34m\u001b[0m\u001b[0;34m\u001b[0m\u001b[0m\n",
            "\u001b[0;32m/usr/local/lib/python3.10/dist-packages/langchain/chains/query_constructor/parser.py\u001b[0m in \u001b[0;36mget_parser\u001b[0;34m(allowed_comparators, allowed_operators, allowed_attributes)\u001b[0m\n\u001b[1;32m    171\u001b[0m     \u001b[0;31m# QueryTransformer is None when Lark cannot be imported.\u001b[0m\u001b[0;34m\u001b[0m\u001b[0;34m\u001b[0m\u001b[0m\n\u001b[1;32m    172\u001b[0m     \u001b[0;32mif\u001b[0m \u001b[0mQueryTransformer\u001b[0m \u001b[0;32mis\u001b[0m \u001b[0;32mNone\u001b[0m\u001b[0;34m:\u001b[0m\u001b[0;34m\u001b[0m\u001b[0;34m\u001b[0m\u001b[0m\n\u001b[0;32m--> 173\u001b[0;31m         raise ImportError(\n\u001b[0m\u001b[1;32m    174\u001b[0m             \u001b[0;34m\"Cannot import lark, please install it with 'pip install lark'.\"\u001b[0m\u001b[0;34m\u001b[0m\u001b[0;34m\u001b[0m\u001b[0m\n\u001b[1;32m    175\u001b[0m         )\n",
            "\u001b[0;31mImportError\u001b[0m: Cannot import lark, please install it with 'pip install lark'.",
            "",
            "\u001b[0;31m---------------------------------------------------------------------------\u001b[0;32m\nNOTE: If your import is failing due to a missing package, you can\nmanually install dependencies using either !pip or !apt.\n\nTo view examples of installing some common dependencies, click the\n\"Open Examples\" button below.\n\u001b[0;31m---------------------------------------------------------------------------\u001b[0m\n"
          ],
          "errorDetails": {
            "actions": [
              {
                "action": "open_url",
                "actionText": "Open Examples",
                "url": "/notebooks/snippets/importing_libraries.ipynb"
              }
            ]
          }
        }
      ]
    }
  ]
}